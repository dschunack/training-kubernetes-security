{
 "cells": [
  {
   "cell_type": "markdown",
   "metadata": {},
   "source": [
    "**This notebook covered by the following [license](License.ipynb)  This note must not be removed**"
   ]
  },
  {
   "cell_type": "markdown",
   "metadata": {},
   "source": [
    "# Outside we must switch on ingress\n",
    "\n",
    "`minikube addons enable ingress`"
   ]
  },
  {
   "cell_type": "code",
   "execution_count": 1,
   "metadata": {},
   "outputs": [
    {
     "name": "stdout",
     "output_type": "stream",
     "text": [
      "NAMESPACE       NAME                                        READY   STATUS      RESTARTS      AGE\n",
      "\u001b[01;31m\u001b[Kingress\u001b[m\u001b[K-nginx   \u001b[01;31m\u001b[Kingress\u001b[m\u001b[K-nginx-admission-create--1-hh8g4     0/1     Completed   0             47s\n",
      "\u001b[01;31m\u001b[Kingress\u001b[m\u001b[K-nginx   \u001b[01;31m\u001b[Kingress\u001b[m\u001b[K-nginx-admission-patch--1-jvcx5      0/1     Completed   0             47s\n",
      "\u001b[01;31m\u001b[Kingress\u001b[m\u001b[K-nginx   \u001b[01;31m\u001b[Kingress\u001b[m\u001b[K-nginx-controller-69bdbc4d57-zcn4l   1/1     Running     0             47s\n",
      "kube-system     coredns-78fcd69978-n2jxz                    1/1     Running     0             93m\n",
      "kube-system     etcd-minikube                               1/1     Running     0             93m\n",
      "kube-system     kube-apiserver-minikube                     1/1     Running     0             94m\n",
      "kube-system     kube-controller-manager-minikube            1/1     Running     0             94m\n",
      "kube-system     kube-proxy-rcwrr                            1/1     Running     0             93m\n",
      "kube-system     kube-scheduler-minikube                     1/1     Running     0             93m\n",
      "kube-system     storage-provisioner                         1/1     Running     1 (93m ago)   93m\n"
     ]
    }
   ],
   "source": [
    "kubectl get pods -A | grep --color=always -E '$|ingress'"
   ]
  },
  {
   "cell_type": "code",
   "execution_count": null,
   "metadata": {},
   "outputs": [],
   "source": [
    "kubectl delete deployment nginx-strict\n",
    "kubectl delete svc nginx-strict\n"
   ]
  },
  {
   "cell_type": "code",
   "execution_count": 2,
   "metadata": {},
   "outputs": [
    {
     "name": "stdout",
     "output_type": "stream",
     "text": [
      "NAMESPACE       NAME                                 TYPE        CLUSTER-IP      EXTERNAL-IP   PORT(S)                      AGE\n",
      "default         kubernetes                           ClusterIP   10.96.0.1       <none>        443/TCP                      95m\n",
      "ingress-nginx   ingress-nginx-controller             NodePort    10.99.217.223   <none>        80:31838/TCP,443:32604/TCP   2m15s\n",
      "ingress-nginx   ingress-nginx-controller-admission   ClusterIP   10.108.145.96   <none>        443/TCP                      2m15s\n",
      "kube-system     kube-dns                             ClusterIP   10.96.0.10      <none>        53/UDP,53/TCP,9153/TCP       95m\n"
     ]
    }
   ],
   "source": [
    "kubectl get svc -A"
   ]
  },
  {
   "cell_type": "code",
   "execution_count": 3,
   "metadata": {},
   "outputs": [
    {
     "name": "stdout",
     "output_type": "stream",
     "text": [
      "deployment.apps/nginx-deployment created\n"
     ]
    }
   ],
   "source": [
    "kubectl create -f - <<EOF\n",
    "apiVersion: apps/v1 \n",
    "kind: Deployment\n",
    "metadata:\n",
    "  name: nginx-deployment\n",
    "  labels:\n",
    "    app: nginx\n",
    "spec:\n",
    "  replicas: 1\n",
    "  selector:\n",
    "    matchLabels:\n",
    "      app: nginx\n",
    "  template:\n",
    "    metadata:\n",
    "      labels:\n",
    "        app: nginx\n",
    "    spec:\n",
    "      containers:\n",
    "      - name: nginx\n",
    "        image: nginx\n",
    "        ports:\n",
    "        - containerPort: 80\n",
    "EOF"
   ]
  },
  {
   "cell_type": "code",
   "execution_count": 4,
   "metadata": {},
   "outputs": [
    {
     "name": "stdout",
     "output_type": "stream",
     "text": [
      "NAME                                    READY   STATUS    RESTARTS   AGE\n",
      "pod/nginx-deployment-7848d4b86f-btn6m   1/1     Running   0          15s\n",
      "\n",
      "NAME                 TYPE        CLUSTER-IP   EXTERNAL-IP   PORT(S)   AGE\n",
      "service/kubernetes   ClusterIP   10.96.0.1    <none>        443/TCP   96m\n",
      "\n",
      "NAME                               READY   UP-TO-DATE   AVAILABLE   AGE\n",
      "deployment.apps/nginx-deployment   1/1     1            1           15s\n",
      "\n",
      "NAME                                          DESIRED   CURRENT   READY   AGE\n",
      "replicaset.apps/nginx-deployment-7848d4b86f   1         1         1       15s\n"
     ]
    }
   ],
   "source": [
    "kubectl get all"
   ]
  },
  {
   "cell_type": "code",
   "execution_count": 5,
   "metadata": {},
   "outputs": [
    {
     "name": "stdout",
     "output_type": "stream",
     "text": [
      "service/nginx created\n"
     ]
    }
   ],
   "source": [
    "kubectl create -f - <<EOF\n",
    "kind: Service\n",
    "apiVersion: v1\n",
    "metadata:\n",
    "  name: \"nginx\"\n",
    "spec:\n",
    "  selector:\n",
    "    app: \"nginx\"\n",
    "  ports:\n",
    "    - protocol: \"TCP\"\n",
    "      port: 80\n",
    "      targetPort: 80\n",
    "  type: LoadBalancer\n",
    "EOF"
   ]
  },
  {
   "cell_type": "code",
   "execution_count": 7,
   "metadata": {},
   "outputs": [
    {
     "name": "stdout",
     "output_type": "stream",
     "text": [
      "NAME         TYPE           CLUSTER-IP       EXTERNAL-IP      PORT(S)        AGE\n",
      "kubernetes   ClusterIP      10.96.0.1        <none>           443/TCP        98m\n",
      "nginx        LoadBalancer   10.102.252.206   10.102.252.206   80:30405/TCP   46s\n"
     ]
    }
   ],
   "source": [
    "kubectl get svc"
   ]
  },
  {
   "cell_type": "code",
   "execution_count": 8,
   "metadata": {},
   "outputs": [
    {
     "name": "stdout",
     "output_type": "stream",
     "text": [
      "Name:                     nginx\n",
      "Namespace:                default\n",
      "Labels:                   <none>\n",
      "Annotations:              <none>\n",
      "Selector:                 app=nginx\n",
      "Type:                     LoadBalancer\n",
      "IP Family Policy:         SingleStack\n",
      "IP Families:              IPv4\n",
      "IP:                       10.102.252.206\n",
      "IPs:                      10.102.252.206\n",
      "LoadBalancer Ingress:     10.102.252.206\n",
      "Port:                     <unset>  80/TCP\n",
      "TargetPort:               80/TCP\n",
      "NodePort:                 <unset>  30405/TCP\n",
      "Endpoints:                172.17.0.3:80\n",
      "Session Affinity:         None\n",
      "External Traffic Policy:  Cluster\n",
      "Events:                   <none>\n"
     ]
    }
   ],
   "source": [
    "kubectl describe service nginx"
   ]
  },
  {
   "cell_type": "code",
   "execution_count": 9,
   "metadata": {},
   "outputs": [
    {
     "name": "stdout",
     "output_type": "stream",
     "text": [
      "NAMESPACE       NAME                                        READY   STATUS      RESTARTS      AGE\n",
      "default         nginx-deployment-7848d4b86f-btn6m           1/1     Running     0             2m7s\n",
      "ingress-nginx   ingress-nginx-admission-create--1-hh8g4     0/1     Completed   0             5m34s\n",
      "ingress-nginx   ingress-nginx-admission-patch--1-jvcx5      0/1     Completed   0             5m34s\n",
      "ingress-nginx   ingress-nginx-controller-69bdbc4d57-zcn4l   1/1     Running     0             5m34s\n",
      "kube-system     coredns-78fcd69978-n2jxz                    1/1     Running     0             98m\n",
      "kube-system     etcd-minikube                               1/1     Running     0             98m\n",
      "kube-system     kube-apiserver-minikube                     1/1     Running     0             98m\n",
      "kube-system     kube-controller-manager-minikube            1/1     Running     0             98m\n",
      "kube-system     kube-proxy-rcwrr                            1/1     Running     0             98m\n",
      "kube-system     kube-scheduler-minikube                     1/1     Running     0             98m\n",
      "kube-system     storage-provisioner                         1/1     Running     1 (98m ago)   98m\n"
     ]
    }
   ],
   "source": [
    "kubectl get pods --all-namespaces"
   ]
  },
  {
   "cell_type": "code",
   "execution_count": 10,
   "metadata": {},
   "outputs": [
    {
     "name": "stdout",
     "output_type": "stream",
     "text": [
      "NAMESPACE       NAME                                 TYPE           CLUSTER-IP       EXTERNAL-IP      PORT(S)                      AGE\n",
      "default         kubernetes                           ClusterIP      10.96.0.1        <none>           443/TCP                      98m\n",
      "default         nginx                                LoadBalancer   10.102.252.206   10.102.252.206   80:30405/TCP                 104s\n",
      "ingress-nginx   ingress-nginx-controller             NodePort       10.99.217.223    <none>           80:31838/TCP,443:32604/TCP   5m45s\n",
      "ingress-nginx   ingress-nginx-controller-admission   ClusterIP      10.108.145.96    <none>           443/TCP                      5m45s\n",
      "kube-system     kube-dns                             ClusterIP      10.96.0.10       <none>           53/UDP,53/TCP,9153/TCP       98m\n"
     ]
    }
   ],
   "source": [
    "kubectl get svc --all-namespaces"
   ]
  },
  {
   "cell_type": "code",
   "execution_count": 11,
   "metadata": {},
   "outputs": [
    {
     "name": "stdout",
     "output_type": "stream",
     "text": [
      "NAME                        DATA   AGE\n",
      "ingress-controller-leader   0      5m51s\n",
      "ingress-nginx-controller    1      6m4s\n",
      "kube-root-ca.crt            1      6m4s\n",
      "tcp-services                0      6m4s\n",
      "udp-services                0      6m4s\n"
     ]
    }
   ],
   "source": [
    "kubectl get configmap -n ingress-nginx"
   ]
  },
  {
   "cell_type": "code",
   "execution_count": 12,
   "metadata": {},
   "outputs": [
    {
     "name": "stdout",
     "output_type": "stream",
     "text": [
      "apiVersion: v1\n",
      "kind: ConfigMap\n",
      "metadata:\n",
      "  annotations:\n",
      "    control-plane.alpha.kubernetes.io/leader: '{\"holderIdentity\":\"ingress-nginx-controller-69bdbc4d57-zcn4l\",\"leaseDurationSeconds\":30,\"acquireTime\":\"2022-03-29T10:52:00Z\",\"renewTime\":\"2022-03-29T10:58:01Z\",\"leaderTransitions\":0}'\n",
      "  creationTimestamp: \"2022-03-29T10:52:00Z\"\n",
      "  name: ingress-controller-leader\n",
      "  namespace: ingress-nginx\n",
      "  resourceVersion: \"4798\"\n",
      "  uid: 206c2dbe-e1fc-4b65-a15a-067a5471af9a\n"
     ]
    }
   ],
   "source": [
    "kubectl get configmap -n  ingress-nginx  ingress-controller-leader -o yaml"
   ]
  },
  {
   "cell_type": "code",
   "execution_count": 13,
   "metadata": {},
   "outputs": [
    {
     "name": "stdout",
     "output_type": "stream",
     "text": [
      "apiVersion: v1\n",
      "data:\n",
      "  hsts: \"false\"\n",
      "kind: ConfigMap\n",
      "metadata:\n",
      "  annotations:\n",
      "    kubectl.kubernetes.io/last-applied-configuration: |\n",
      "      {\"apiVersion\":\"v1\",\"data\":{\"hsts\":\"false\"},\"kind\":\"ConfigMap\",\"metadata\":{\"annotations\":{},\"labels\":{\"app.kubernetes.io/component\":\"controller\",\"app.kubernetes.io/instance\":\"ingress-nginx\",\"app.kubernetes.io/name\":\"ingress-nginx\"},\"name\":\"ingress-nginx-controller\",\"namespace\":\"ingress-nginx\"}}\n",
      "  creationTimestamp: \"2022-03-29T10:51:47Z\"\n",
      "  labels:\n",
      "    app.kubernetes.io/component: controller\n",
      "    app.kubernetes.io/instance: ingress-nginx\n",
      "    app.kubernetes.io/name: ingress-nginx\n",
      "  name: ingress-nginx-controller\n",
      "  namespace: ingress-nginx\n",
      "  resourceVersion: \"4363\"\n",
      "  uid: c8a6879f-a0e1-4891-ba17-b75c9a1d99a8\n"
     ]
    }
   ],
   "source": [
    "kubectl get configmap -n  ingress-nginx ingress-nginx-controller -o yaml"
   ]
  },
  {
   "cell_type": "code",
   "execution_count": null,
   "metadata": {},
   "outputs": [],
   "source": []
  }
 ],
 "metadata": {
  "kernelspec": {
   "display_name": "Bash",
   "language": "bash",
   "name": "bash"
  },
  "language_info": {
   "codemirror_mode": "shell",
   "file_extension": ".sh",
   "mimetype": "text/x-sh",
   "name": "bash"
  }
 },
 "nbformat": 4,
 "nbformat_minor": 4
}
