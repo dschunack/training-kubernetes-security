{
 "cells": [
  {
   "cell_type": "markdown",
   "metadata": {},
   "source": [
    "**This notebook covered by the following [license](License.ipynb)  This note must not be removed**"
   ]
  },
  {
   "cell_type": "markdown",
   "metadata": {},
   "source": [
    "# Outside we must switch on ingress\n",
    "\n",
    "`minikube addons enable ingress`"
   ]
  },
  {
   "cell_type": "code",
   "execution_count": 1,
   "metadata": {},
   "outputs": [
    {
     "name": "stdout",
     "output_type": "stream",
     "text": [
      "NAMESPACE              NAME                                         READY   STATUS      RESTARTS      AGE\n",
      "default                kube-bench--1-cqzmb                          0/1     Completed   0             92m\n",
      "default                nginx-strict-5cdc48cf55-jmjhj                1/1     Running     0             18h\n",
      "default                nginx-strict-5cdc48cf55-rr4kc                1/1     Running     0             18h\n",
      "default                nginx-strict-5cdc48cf55-vz7ds                1/1     Running     0             18h\n",
      "\u001b[01;31m\u001b[Kingress\u001b[m\u001b[K-nginx          \u001b[01;31m\u001b[Kingress\u001b[m\u001b[K-nginx-admission-create--1-spxt9      0/1     Completed   0             49s\n",
      "\u001b[01;31m\u001b[Kingress\u001b[m\u001b[K-nginx          \u001b[01;31m\u001b[Kingress\u001b[m\u001b[K-nginx-admission-patch--1-xc9zd       0/1     Completed   1             49s\n",
      "\u001b[01;31m\u001b[Kingress\u001b[m\u001b[K-nginx          \u001b[01;31m\u001b[Kingress\u001b[m\u001b[K-nginx-controller-69bdbc4d57-zmr7p    1/1     Running     0             49s\n",
      "kube-system            coredns-bcc9dbffc-nxcjt                      1/1     Running     0             21h\n",
      "kube-system            etcd-minikube                                1/1     Running     0             24h\n",
      "kube-system            kube-apiserver-minikube                      1/1     Running     0             24h\n",
      "kube-system            kube-controller-manager-minikube             1/1     Running     0             24h\n",
      "kube-system            kube-proxy-bffmk                             1/1     Running     0             24h\n",
      "kube-system            kube-scheduler-minikube                      1/1     Running     0             24h\n",
      "kube-system            storage-provisioner                          1/1     Running     1 (24h ago)   24h\n",
      "kubernetes-dashboard   dashboard-metrics-scraper-5594458c94-crv56   1/1     Running     0             21h\n",
      "kubernetes-dashboard   kubernetes-dashboard-654cf69797-g5q9d        1/1     Running     0             21h\n"
     ]
    }
   ],
   "source": [
    "kubectl get pods -A | grep --color=always -E '$|ingress'"
   ]
  },
  {
   "cell_type": "code",
   "execution_count": 3,
   "metadata": {},
   "outputs": [
    {
     "name": "stdout",
     "output_type": "stream",
     "text": [
      "deployment.apps \"nginx-strict\" deleted\n",
      "service \"nginx-strict\" deleted\n"
     ]
    }
   ],
   "source": [
    "kubectl delete deployment nginx-strict\n",
    "kubectl delete svc nginx-strict\n"
   ]
  },
  {
   "cell_type": "code",
   "execution_count": 4,
   "metadata": {},
   "outputs": [
    {
     "name": "stdout",
     "output_type": "stream",
     "text": [
      "NAMESPACE              NAME                                 TYPE        CLUSTER-IP      EXTERNAL-IP   PORT(S)                      AGE\n",
      "default                kubernetes                           ClusterIP   10.96.0.1       <none>        443/TCP                      24h\n",
      "ingress-nginx          ingress-nginx-controller             NodePort    10.105.83.255   <none>        80:31216/TCP,443:30274/TCP   3m28s\n",
      "ingress-nginx          ingress-nginx-controller-admission   ClusterIP   10.98.125.104   <none>        443/TCP                      3m28s\n",
      "kube-system            kube-dns                             ClusterIP   10.96.0.10      <none>        53/UDP,53/TCP,9153/TCP       24h\n",
      "kubernetes-dashboard   dashboard-metrics-scraper            ClusterIP   10.107.147.22   <none>        8000/TCP                     21h\n",
      "kubernetes-dashboard   kubernetes-dashboard                 ClusterIP   10.107.251.36   <none>        80/TCP                       21h\n"
     ]
    }
   ],
   "source": [
    "kubectl get svc -A"
   ]
  },
  {
   "cell_type": "code",
   "execution_count": 5,
   "metadata": {},
   "outputs": [
    {
     "name": "stdout",
     "output_type": "stream",
     "text": [
      "deployment.apps/nginx-deployment created\n"
     ]
    }
   ],
   "source": [
    "kubectl create -f - <<EOF\n",
    "apiVersion: apps/v1 \n",
    "kind: Deployment\n",
    "metadata:\n",
    "  name: nginx-deployment\n",
    "  labels:\n",
    "    app: nginx\n",
    "spec:\n",
    "  replicas: 1\n",
    "  selector:\n",
    "    matchLabels:\n",
    "      app: nginx\n",
    "  template:\n",
    "    metadata:\n",
    "      labels:\n",
    "        app: nginx\n",
    "    spec:\n",
    "      containers:\n",
    "      - name: nginx\n",
    "        image: nginx\n",
    "        ports:\n",
    "        - containerPort: 80\n",
    "EOF"
   ]
  },
  {
   "cell_type": "code",
   "execution_count": 6,
   "metadata": {},
   "outputs": [
    {
     "name": "stdout",
     "output_type": "stream",
     "text": [
      "NAME                                    READY   STATUS              RESTARTS   AGE\n",
      "pod/kube-bench--1-cqzmb                 0/1     Completed           0          95m\n",
      "pod/nginx-deployment-7848d4b86f-chjjb   0/1     ContainerCreating   0          3s\n",
      "\n",
      "NAME                 TYPE        CLUSTER-IP   EXTERNAL-IP   PORT(S)   AGE\n",
      "service/kubernetes   ClusterIP   10.96.0.1    <none>        443/TCP   24h\n",
      "\n",
      "NAME                               READY   UP-TO-DATE   AVAILABLE   AGE\n",
      "deployment.apps/nginx-deployment   0/1     1            0           3s\n",
      "\n",
      "NAME                                          DESIRED   CURRENT   READY   AGE\n",
      "replicaset.apps/nginx-deployment-7848d4b86f   1         1         0       3s\n",
      "\n",
      "NAME                   COMPLETIONS   DURATION   AGE\n",
      "job.batch/kube-bench   1/1           8s         95m\n"
     ]
    }
   ],
   "source": [
    "kubectl get all"
   ]
  },
  {
   "cell_type": "code",
   "execution_count": 7,
   "metadata": {},
   "outputs": [
    {
     "name": "stdout",
     "output_type": "stream",
     "text": [
      "service/nginx created\n"
     ]
    }
   ],
   "source": [
    "kubectl create -f - <<EOF\n",
    "kind: Service\n",
    "apiVersion: v1\n",
    "metadata:\n",
    "  name: \"nginx\"\n",
    "spec:\n",
    "  selector:\n",
    "    app: \"nginx\"\n",
    "  ports:\n",
    "    - protocol: \"TCP\"\n",
    "      port: 80\n",
    "      targetPort: 80\n",
    "  type: LoadBalancer\n",
    "EOF"
   ]
  },
  {
   "cell_type": "code",
   "execution_count": 8,
   "metadata": {},
   "outputs": [
    {
     "name": "stdout",
     "output_type": "stream",
     "text": [
      "NAME         TYPE           CLUSTER-IP     EXTERNAL-IP    PORT(S)        AGE\n",
      "kubernetes   ClusterIP      10.96.0.1      <none>         443/TCP        24h\n",
      "nginx        LoadBalancer   10.110.37.38   10.110.37.38   80:32314/TCP   41s\n"
     ]
    }
   ],
   "source": [
    "kubectl get svc"
   ]
  },
  {
   "cell_type": "code",
   "execution_count": 9,
   "metadata": {},
   "outputs": [
    {
     "name": "stdout",
     "output_type": "stream",
     "text": [
      "Name:                     nginx\n",
      "Namespace:                default\n",
      "Labels:                   <none>\n",
      "Annotations:              <none>\n",
      "Selector:                 app=nginx\n",
      "Type:                     LoadBalancer\n",
      "IP Family Policy:         SingleStack\n",
      "IP Families:              IPv4\n",
      "IP:                       10.110.37.38\n",
      "IPs:                      10.110.37.38\n",
      "LoadBalancer Ingress:     10.110.37.38\n",
      "Port:                     <unset>  80/TCP\n",
      "TargetPort:               80/TCP\n",
      "NodePort:                 <unset>  32314/TCP\n",
      "Endpoints:                172.17.0.2:80\n",
      "Session Affinity:         None\n",
      "External Traffic Policy:  Cluster\n",
      "Events:                   <none>\n"
     ]
    }
   ],
   "source": [
    "kubectl describe service nginx"
   ]
  },
  {
   "cell_type": "code",
   "execution_count": 10,
   "metadata": {},
   "outputs": [
    {
     "name": "stdout",
     "output_type": "stream",
     "text": [
      "NAMESPACE              NAME                                         READY   STATUS      RESTARTS      AGE\n",
      "default                kube-bench--1-cqzmb                          0/1     Completed   0             96m\n",
      "default                nginx-deployment-7848d4b86f-chjjb            1/1     Running     0             112s\n",
      "ingress-nginx          ingress-nginx-admission-create--1-spxt9      0/1     Completed   0             5m34s\n",
      "ingress-nginx          ingress-nginx-admission-patch--1-xc9zd       0/1     Completed   1             5m34s\n",
      "ingress-nginx          ingress-nginx-controller-69bdbc4d57-zmr7p    1/1     Running     0             5m34s\n",
      "kube-system            coredns-bcc9dbffc-nxcjt                      1/1     Running     0             21h\n",
      "kube-system            etcd-minikube                                1/1     Running     0             25h\n",
      "kube-system            kube-apiserver-minikube                      1/1     Running     0             25h\n",
      "kube-system            kube-controller-manager-minikube             1/1     Running     0             25h\n",
      "kube-system            kube-proxy-bffmk                             1/1     Running     0             25h\n",
      "kube-system            kube-scheduler-minikube                      1/1     Running     0             25h\n",
      "kube-system            storage-provisioner                          1/1     Running     1 (25h ago)   25h\n",
      "kubernetes-dashboard   dashboard-metrics-scraper-5594458c94-crv56   1/1     Running     0             21h\n",
      "kubernetes-dashboard   kubernetes-dashboard-654cf69797-g5q9d        1/1     Running     0             21h\n"
     ]
    }
   ],
   "source": [
    "kubectl get pods --all-namespaces"
   ]
  },
  {
   "cell_type": "code",
   "execution_count": 11,
   "metadata": {},
   "outputs": [
    {
     "name": "stdout",
     "output_type": "stream",
     "text": [
      "NAMESPACE              NAME                                 TYPE           CLUSTER-IP      EXTERNAL-IP    PORT(S)                      AGE\n",
      "default                kubernetes                           ClusterIP      10.96.0.1       <none>         443/TCP                      25h\n",
      "default                nginx                                LoadBalancer   10.110.37.38    10.110.37.38   80:32314/TCP                 108s\n",
      "ingress-nginx          ingress-nginx-controller             NodePort       10.105.83.255   <none>         80:31216/TCP,443:30274/TCP   5m43s\n",
      "ingress-nginx          ingress-nginx-controller-admission   ClusterIP      10.98.125.104   <none>         443/TCP                      5m43s\n",
      "kube-system            kube-dns                             ClusterIP      10.96.0.10      <none>         53/UDP,53/TCP,9153/TCP       25h\n",
      "kubernetes-dashboard   dashboard-metrics-scraper            ClusterIP      10.107.147.22   <none>         8000/TCP                     21h\n",
      "kubernetes-dashboard   kubernetes-dashboard                 ClusterIP      10.107.251.36   <none>         80/TCP                       21h\n"
     ]
    }
   ],
   "source": [
    "kubectl get svc --all-namespaces"
   ]
  },
  {
   "cell_type": "code",
   "execution_count": 13,
   "metadata": {},
   "outputs": [
    {
     "name": "stdout",
     "output_type": "stream",
     "text": [
      "NAME                        DATA   AGE\n",
      "ingress-controller-leader   0      5m53s\n",
      "ingress-nginx-controller    1      6m11s\n",
      "kube-root-ca.crt            1      6m11s\n",
      "tcp-services                0      6m11s\n",
      "udp-services                0      6m11s\n"
     ]
    }
   ],
   "source": [
    "kubectl get configmap -n ingress-nginx"
   ]
  },
  {
   "cell_type": "code",
   "execution_count": 15,
   "metadata": {},
   "outputs": [
    {
     "name": "stdout",
     "output_type": "stream",
     "text": [
      "apiVersion: v1\n",
      "kind: ConfigMap\n",
      "metadata:\n",
      "  annotations:\n",
      "    control-plane.alpha.kubernetes.io/leader: '{\"holderIdentity\":\"ingress-nginx-controller-69bdbc4d57-zmr7p\",\"leaseDurationSeconds\":30,\"acquireTime\":\"2022-01-19T10:20:55Z\",\"renewTime\":\"2022-01-19T10:27:11Z\",\"leaderTransitions\":0}'\n",
      "  creationTimestamp: \"2022-01-19T10:20:55Z\"\n",
      "  name: ingress-controller-leader\n",
      "  namespace: ingress-nginx\n",
      "  resourceVersion: \"64397\"\n",
      "  uid: 52e6007c-d9c3-4d07-9d2f-cfbd7f9831a9\n"
     ]
    }
   ],
   "source": [
    "kubectl get configmap -n  ingress-nginx  ingress-controller-leader -o yaml"
   ]
  },
  {
   "cell_type": "code",
   "execution_count": 16,
   "metadata": {},
   "outputs": [
    {
     "name": "stdout",
     "output_type": "stream",
     "text": [
      "apiVersion: v1\n",
      "data:\n",
      "  hsts: \"false\"\n",
      "kind: ConfigMap\n",
      "metadata:\n",
      "  annotations:\n",
      "    kubectl.kubernetes.io/last-applied-configuration: |\n",
      "      {\"apiVersion\":\"v1\",\"data\":{\"hsts\":\"false\"},\"kind\":\"ConfigMap\",\"metadata\":{\"annotations\":{},\"labels\":{\"app.kubernetes.io/component\":\"controller\",\"app.kubernetes.io/instance\":\"ingress-nginx\",\"app.kubernetes.io/name\":\"ingress-nginx\"},\"name\":\"ingress-nginx-controller\",\"namespace\":\"ingress-nginx\"}}\n",
      "  creationTimestamp: \"2022-01-19T10:20:37Z\"\n",
      "  labels:\n",
      "    app.kubernetes.io/component: controller\n",
      "    app.kubernetes.io/instance: ingress-nginx\n",
      "    app.kubernetes.io/name: ingress-nginx\n",
      "  name: ingress-nginx-controller\n",
      "  namespace: ingress-nginx\n",
      "  resourceVersion: \"63908\"\n",
      "  uid: b167c150-8204-44f1-a3cd-ae9ee287e3fd\n"
     ]
    }
   ],
   "source": [
    "kubectl get configmap -n  ingress-nginx ingress-nginx-controller -o yaml"
   ]
  },
  {
   "cell_type": "code",
   "execution_count": null,
   "metadata": {},
   "outputs": [],
   "source": []
  }
 ],
 "metadata": {
  "kernelspec": {
   "display_name": "Bash",
   "language": "bash",
   "name": "bash"
  },
  "language_info": {
   "codemirror_mode": "shell",
   "file_extension": ".sh",
   "mimetype": "text/x-sh",
   "name": "bash"
  }
 },
 "nbformat": 4,
 "nbformat_minor": 4
}
