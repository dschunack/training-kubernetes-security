{
 "cells": [
  {
   "cell_type": "markdown",
   "metadata": {},
   "source": [
    "**This notebook covered by the following [license](License.ipynb)  This note must not be removed**"
   ]
  },
  {
   "cell_type": "markdown",
   "metadata": {},
   "source": [
    "# Istio Canary\n",
    "\n",
    "## Hello Istio\n",
    "\n",
    "Very basic traffic management\n",
    "https://istio.io/blog/2018/incremental-traffic-management/\n",
    "\n"
   ]
  },
  {
   "cell_type": "code",
   "execution_count": null,
   "metadata": {},
   "outputs": [],
   "source": [
    "kubectl label namespace default istio-injection=enabled"
   ]
  },
  {
   "cell_type": "markdown",
   "metadata": {},
   "source": [
    "## Create a test pod"
   ]
  },
  {
   "cell_type": "code",
   "execution_count": null,
   "metadata": {},
   "outputs": [],
   "source": [
    "kubectl apply -f - <<EOF\n",
    "apiVersion: v1\n",
    "kind: Service\n",
    "metadata:\n",
    "  name: sleep\n",
    "  labels:\n",
    "    app: sleep\n",
    "spec:\n",
    "  ports:\n",
    "  - port: 80\n",
    "    name: http\n",
    "  selector:\n",
    "    app: sleep\n",
    "---\n",
    "apiVersion: apps/v1\n",
    "kind: Deployment\n",
    "metadata:\n",
    "  name: sleep\n",
    "spec:\n",
    "  replicas: 1\n",
    "  selector:\n",
    "    matchLabels:\n",
    "      app: sleep\n",
    "  template:\n",
    "    metadata:\n",
    "      labels:\n",
    "        app: sleep\n",
    "    spec:\n",
    "      containers:\n",
    "      - name: sleep\n",
    "        image: pstauffer/curl\n",
    "        command: [\"/bin/sleep\", \"3650d\"]\n",
    "        imagePullPolicy: IfNotPresent\n",
    "---\n",
    "EOF"
   ]
  },
  {
   "cell_type": "code",
   "execution_count": null,
   "metadata": {},
   "outputs": [],
   "source": [
    "export SLEEP_POD=$(kubectl get pod -l app=sleep \\\n",
    "  -o jsonpath={.items..metadata.name})\n",
    "echo $SLEEP_POD"
   ]
  },
  {
   "cell_type": "code",
   "execution_count": null,
   "metadata": {},
   "outputs": [],
   "source": [
    "kubectl get crd"
   ]
  },
  {
   "cell_type": "code",
   "execution_count": null,
   "metadata": {},
   "outputs": [],
   "source": [
    "kubectl get destinationrule "
   ]
  },
  {
   "cell_type": "code",
   "execution_count": null,
   "metadata": {},
   "outputs": [],
   "source": [
    "kubectl get virtualservice"
   ]
  },
  {
   "cell_type": "code",
   "execution_count": null,
   "metadata": {},
   "outputs": [],
   "source": [
    "kubectl get deployments"
   ]
  },
  {
   "cell_type": "code",
   "execution_count": null,
   "metadata": {},
   "outputs": [],
   "source": [
    "kubectl get pods"
   ]
  },
  {
   "cell_type": "code",
   "execution_count": null,
   "metadata": {
    "tags": []
   },
   "outputs": [],
   "source": [
    "kubectl get pod $SLEEP_POD -o yaml | grep --color=always  -E '$|.*image:.*'"
   ]
  },
  {
   "cell_type": "markdown",
   "metadata": {},
   "source": [
    "# Admission Controlers and Sidecars\n",
    "\n",
    "- Istio works as an [ Admission Controller](https://kubernetes.io/blog/2019/03/21/a-guide-to-kubernetes-admission-controllers/)\n",
    "- adding a [Sidecar Pattern](https://static.googleusercontent.com/media/research.google.com/en//pubs/archive/45406.pdf)\n",
    "- [Kubernetes Patterns](https://www.redhat.com/cms/managed-files/cm-oreilly-kubernetes-patterns-ebook-f19824-201910-en.pdf)\n",
    "- [Envoy Proxy](https://www.envoyproxy.io/)\n",
    "- [Patterns with Envoy Proxy](https://blog.christianposta.com/microservices/00-microservices-patterns-with-envoy-proxy-series/)"
   ]
  },
  {
   "cell_type": "code",
   "execution_count": 11,
   "metadata": {},
   "outputs": [
    {
     "name": "stdout",
     "output_type": "stream",
     "text": [
      "  % Total    % Received % Xferd  Average Speed   Time    Time     Time  Current\n",
      "                                 Dload  Upload   Total   Spent    Left  Speed\n",
      "  0     0    0     0    0     0      0      0 --:--:-- --:--:-- --:--:--     0<!DOCTYPE HTML PUBLIC \"-//IETF//DTD HTML 2.0//EN\">\n",
      "<html><head>\n",
      "<title>301 Moved Permanently</title>\n",
      "</head><body>\n",
      "<h1>Moved Permanently</h1>\n",
      "<p>The document has moved <a href=\"https://www.heise.de/\">here</a>.</p>\n",
      "</body></html>\n",
      "100   229  100   229    0     0   3693      0 --:--:-- --:--:-- --:--:--  3693\n"
     ]
    }
   ],
   "source": [
    "kubectl exec $SLEEP_POD -- curl  heise.de "
   ]
  },
  {
   "cell_type": "markdown",
   "metadata": {},
   "source": [
    "# Istio Sample Application"
   ]
  },
  {
   "cell_type": "code",
   "execution_count": 12,
   "metadata": {},
   "outputs": [
    {
     "name": "stdout",
     "output_type": "stream",
     "text": [
      " AccountWithRBAC.ipynb       OpenPolicyAgent.ipynb\n",
      " AuditLogs.ipynb             OpenShift\n",
      " Calico-Iptables.ipynb       Overview.ipynb\n",
      " ClusterOverview.ipynb       PodSecurityPolicyBasic.ipynb\n",
      " ContainerdCloudbomb.ipynb   PodSecurityPolicyPermissive.ipynb\n",
      " CrioBomb.ipynb              PodSecurityPolicyStrict.ipynb\n",
      " Harbor.ipynb               'Postgres Zalando.ipynb'\n",
      " Hardening-NGinx.ipynb       README.md\n",
      " Helm.ipynb                  ServiceAccountToken.ipynb\n",
      " Ingress.ipynb               Unprivileged.ipynb\n",
      " IngressKong.ipynb           default-rbac.png\n",
      " IngressKongStart.ipynb      defaut-rbac.dot\n",
      " IngressStart.ipynb          docker-hypervisor.png\n",
      " Istio-Traffic-Mgmt.ipynb    istio-1.12.2\n",
      " Istio1.8.2.ipynb            kube-bench\n",
      " IstioHack.ipynb             kube-bench.ipynb\n",
      " Keycloak.ipynb              kubernetes-client.png\n",
      " Kube-Scan-Cloudbomb.ipynb   minikube.dot\n",
      " KubeLogin.ipynb             minikube.png\n",
      " KubernetesBasics.ipynb      my-namespace-rbac.dot\n",
      " License.ipynb               my-namespace-rbac.png\n",
      "'Linux Namespaces.ipynb'     namespaces.dot\n",
      " MKCert.ipynb                namespaces.png\n",
      " Makefile                    openssl\n",
      " NetworkPolicy.ipynb         realm.png\n",
      " OPA.ipynb\n"
     ]
    }
   ],
   "source": [
    "ls "
   ]
  },
  {
   "cell_type": "code",
   "execution_count": 13,
   "metadata": {},
   "outputs": [],
   "source": [
    "cd istio-1.12.2"
   ]
  },
  {
   "cell_type": "code",
   "execution_count": 14,
   "metadata": {},
   "outputs": [
    {
     "name": "stdout",
     "output_type": "stream",
     "text": [
      "/minikube-host/notebooks/training-kubernetes-security/istio-1.12.2\n"
     ]
    }
   ],
   "source": [
    "pwd"
   ]
  },
  {
   "cell_type": "code",
   "execution_count": 15,
   "metadata": {},
   "outputs": [
    {
     "name": "stdout",
     "output_type": "stream",
     "text": [
      "service/details created\n",
      "serviceaccount/bookinfo-details created\n",
      "deployment.apps/details-v1 created\n",
      "service/ratings created\n",
      "serviceaccount/bookinfo-ratings created\n",
      "deployment.apps/ratings-v1 created\n",
      "service/reviews created\n",
      "serviceaccount/bookinfo-reviews created\n",
      "deployment.apps/reviews-v1 created\n",
      "deployment.apps/reviews-v2 created\n",
      "deployment.apps/reviews-v3 created\n",
      "service/productpage created\n",
      "serviceaccount/bookinfo-productpage created\n",
      "deployment.apps/productpage-v1 created\n"
     ]
    }
   ],
   "source": [
    "kubectl apply -f samples/bookinfo/platform/kube/bookinfo.yaml"
   ]
  },
  {
   "cell_type": "code",
   "execution_count": 22,
   "metadata": {},
   "outputs": [
    {
     "name": "stdout",
     "output_type": "stream",
     "text": [
      "NAME                              READY   STATUS    RESTARTS   AGE\n",
      "details-v1-79f774bdb9-8ntdr       2/2     Running   0          64s\n",
      "productpage-v1-6b746f74dc-7h84n   2/2     Running   0          64s\n",
      "ratings-v1-b6994bb9-brnkv         2/2     Running   0          64s\n",
      "reviews-v1-545db77b95-lzpkt       2/2     Running   0          64s\n",
      "reviews-v2-7bf8c9648f-g7859       2/2     Running   0          64s\n",
      "reviews-v3-84779c7bbc-qh6gb       2/2     Running   0          64s\n",
      "sleep-56bc8d768-trznv             2/2     Running   0          10m\n"
     ]
    }
   ],
   "source": [
    "kubectl get pods "
   ]
  },
  {
   "cell_type": "code",
   "execution_count": 23,
   "metadata": {},
   "outputs": [
    {
     "name": "stdout",
     "output_type": "stream",
     "text": [
      "NAME          TYPE        CLUSTER-IP       EXTERNAL-IP   PORT(S)    AGE\n",
      "details       ClusterIP   10.103.164.205   <none>        9080/TCP   3m36s\n",
      "kubernetes    ClusterIP   10.96.0.1        <none>        443/TCP    41m\n",
      "productpage   ClusterIP   10.106.238.118   <none>        9080/TCP   3m36s\n",
      "ratings       ClusterIP   10.104.234.149   <none>        9080/TCP   3m36s\n",
      "reviews       ClusterIP   10.102.199.58    <none>        9080/TCP   3m36s\n",
      "sleep         ClusterIP   10.110.217.22    <none>        80/TCP     12m\n"
     ]
    }
   ],
   "source": [
    "kubectl get services"
   ]
  },
  {
   "cell_type": "code",
   "execution_count": 24,
   "metadata": {
    "collapsed": true,
    "jupyter": {
     "outputs_hidden": true
    },
    "tags": []
   },
   "outputs": [
    {
     "name": "stdout",
     "output_type": "stream",
     "text": [
      "<!DOCTYPE html>\n",
      "<html>\n",
      "  <head>\n",
      "    \u001b[01;31m\u001b[K<title>Simple Bookstore App</title>\u001b[m\u001b[K\n",
      "<meta charset=\"utf-8\">\n",
      "<meta http-equiv=\"X-UA-Compatible\" content=\"IE=edge\">\n",
      "<meta name=\"viewport\" content=\"width=device-width, initial-scale=1.0\">\n",
      "\n",
      "<!-- Latest compiled and minified CSS -->\n",
      "<link rel=\"stylesheet\" href=\"static/bootstrap/css/bootstrap.min.css\">\n",
      "\n",
      "<!-- Optional theme -->\n",
      "<link rel=\"stylesheet\" href=\"static/bootstrap/css/bootstrap-theme.min.css\">\n",
      "\n",
      "  </head>\n",
      "  <body>\n",
      "    \n",
      "    \n",
      "\n",
      "<nav class=\"navbar navbar-inverse navbar-static-top\">\n",
      "  <div class=\"container\">\n",
      "    <div class=\"navbar-header\">\n",
      "      <a class=\"navbar-brand\" href=\"#\">BookInfo Sample</a>\n",
      "    </div>\n",
      "    \n",
      "    <button type=\"button\" class=\"btn btn-default navbar-btn navbar-right\" data-toggle=\"modal\" href=\"#login-modal\">Sign\n",
      "      in</button>\n",
      "    \n",
      "  </div>\n",
      "</nav>\n",
      "\n",
      "<!---\n",
      "<div class=\"navbar navbar-inverse navbar-fixed-top\">\n",
      "  <div class=\"container\">\n",
      "    <div class=\"navbar-header pull-left\">\n",
      "      <a class=\"navbar-brand\" href=\"#\">Microservices Fabric BookInfo Demo</a>\n",
      "    </div>\n",
      "    <div class=\"navbar-header pull-right\">\n",
      "      <button type=\"button\" class=\"navbar-toggle\" data-toggle=\"collapse\" data-target=\".navbar-collapse\">\n",
      "        <span class=\"icon-bar\"></span>\n",
      "        <span class=\"icon-bar\"></span>\n",
      "        <span class=\"icon-bar\"></span>\n",
      "      </button>\n",
      "    </div>\n",
      "    <div class=\"navbar-collapse collapse\">\n",
      "\n",
      "      <button type=\"button\" class=\"btn btn-default navbar-btn pull-right\" data-toggle=\"modal\" data-target=\"#login-modal\">Sign in</button>\n",
      "\n",
      "    </div>\n",
      "  </div>\n",
      "</div>\n",
      "-->\n",
      "\n",
      "<div id=\"login-modal\" class=\"modal fade\" role=\"dialog\">\n",
      "  <div class=\"modal-dialog\">\n",
      "    <div class=\"modal-content\">\n",
      "      <div class=\"modal-header\">\n",
      "        <button type=\"button\" class=\"close\" data-dismiss=\"modal\">&times;</button>\n",
      "        <h4 class=\"modal-title\">Please sign in</h4>\n",
      "      </div>\n",
      "      <div class=\"modal-body\">\n",
      "        <form method=\"post\" action='login' name=\"login_form\">\n",
      "          <p><input type=\"text\" class=\"form-control\" name=\"username\" id=\"username\" placeholder=\"User Name\"></p>\n",
      "          <p><input type=\"password\" class=\"form-control\" name=\"passwd\" placeholder=\"Password\"></p>\n",
      "          <p>\n",
      "            <button type=\"submit\" class=\"btn btn-primary\">Sign in</button>\n",
      "            <button type=\"button\" class=\"btn btn-default\" data-dismiss=\"modal\">Cancel</button>\n",
      "          </p>\n",
      "        </form>\n",
      "      </div>\n",
      "    </div>\n",
      "\n",
      "  </div>\n",
      "</div>\n",
      "\n",
      "<div class=\"container-fluid\">\n",
      "  <div class=\"row\">\n",
      "    <div class=\"col-md-12\">\n",
      "      <h3 class=\"text-center text-primary\">The Comedy of Errors</h3>\n",
      "      \n",
      "      <p>Summary: <a href=\"https://en.wikipedia.org/wiki/The_Comedy_of_Errors\">Wikipedia Summary</a>: The Comedy of Errors is one of <b>William Shakespeare's</b> early plays. It is his shortest and one of his most farcical comedies, with a major part of the humour coming from slapstick and mistaken identity, in addition to puns and word play.</p>\n",
      "      \n",
      "    </div>\n",
      "  </div>\n",
      "\n",
      "  <div class=\"row\">\n",
      "    <div class=\"col-md-6\">\n",
      "      \n",
      "      <h4 class=\"text-center text-primary\">Book Details</h4>\n",
      "      <dl>\n",
      "        <dt>Type:</dt>paperback\n",
      "        <dt>Pages:</dt>200\n",
      "        <dt>Publisher:</dt>PublisherA\n",
      "        <dt>Language:</dt>English\n",
      "        <dt>ISBN-10:</dt>1234567890\n",
      "        <dt>ISBN-13:</dt>123-1234567890\n",
      "      </dl>\n",
      "      \n",
      "    </div>\n",
      "\n",
      "    <div class=\"col-md-6\">\n",
      "      \n",
      "      <h4 class=\"text-center text-primary\">Book Reviews</h4>\n",
      "      \n",
      "      <blockquote>\n",
      "        <p>An extremely entertaining play by Shakespeare. The slapstick humour is refreshing!</p>\n",
      "        <small>Reviewer1</small>\n",
      "        \n",
      "        \n",
      "        <font color=\"black\">\n",
      "          <!-- full stars: -->\n",
      "          \n",
      "          <span class=\"glyphicon glyphicon-star\"></span>\n",
      "          \n",
      "          <span class=\"glyphicon glyphicon-star\"></span>\n",
      "          \n",
      "          <span class=\"glyphicon glyphicon-star\"></span>\n",
      "          \n",
      "          <span class=\"glyphicon glyphicon-star\"></span>\n",
      "          \n",
      "          <span class=\"glyphicon glyphicon-star\"></span>\n",
      "          \n",
      "          <!-- empty stars: -->\n",
      "          \n",
      "        </font>\n",
      "        \n",
      "        \n",
      "      </blockquote>\n",
      "      \n",
      "      <blockquote>\n",
      "        <p>Absolutely fun and entertaining. The play lacks thematic depth when compared to other plays by Shakespeare.</p>\n",
      "        <small>Reviewer2</small>\n",
      "        \n",
      "        \n",
      "        <font color=\"black\">\n",
      "          <!-- full stars: -->\n",
      "          \n",
      "          <span class=\"glyphicon glyphicon-star\"></span>\n",
      "          \n",
      "          <span class=\"glyphicon glyphicon-star\"></span>\n",
      "          \n",
      "          <span class=\"glyphicon glyphicon-star\"></span>\n",
      "          \n",
      "          <span class=\"glyphicon glyphicon-star\"></span>\n",
      "          \n",
      "          <!-- empty stars: -->\n",
      "          \n",
      "          <span class=\"glyphicon glyphicon-star-empty\"></span>\n",
      "          \n",
      "        </font>\n",
      "        \n",
      "        \n",
      "      </blockquote>\n",
      "      \n",
      "      \n",
      "    </div>\n",
      "  </div>\n",
      "</div>\n",
      "\n",
      "\n",
      "    \n",
      "<!-- Latest compiled and minified JavaScript -->\n",
      "<script src=\"static/jquery.min.js\"></script>\n",
      "\n",
      "<!-- Latest compiled and minified JavaScript -->\n",
      "<script src=\"static/bootstrap/js/bootstrap.min.js\"></script>\n",
      "\n",
      "<script type=\"text/javascript\">\n",
      "  $('#login-modal').on('shown.bs.modal', function () {\n",
      "    $('#username').focus();\n",
      "  });\n",
      "</script>\n",
      "\n",
      "  </body>\n",
      "</html>\n"
     ]
    }
   ],
   "source": [
    "kubectl exec \"$(kubectl get pod -l app=ratings -o jsonpath='{.items[0].metadata.name}')\" \\\n",
    "  -c ratings -- curl -s productpage:9080/productpage | grep --color=always -E \"$|<title>.*</title>\""
   ]
  },
  {
   "cell_type": "code",
   "execution_count": 25,
   "metadata": {},
   "outputs": [
    {
     "name": "stdout",
     "output_type": "stream",
     "text": [
      "apiVersion: networking.istio.io/v1alpha3\n",
      "kind: Gateway\n",
      "metadata:\n",
      "  name: bookinfo-gateway\n",
      "spec:\n",
      "  selector:\n",
      "    istio: ingressgateway # use istio default controller\n",
      "  servers:\n",
      "  - port:\n",
      "      number: 80\n",
      "      name: http\n",
      "      protocol: HTTP\n",
      "    hosts:\n",
      "    - \"*\"\n",
      "---\n",
      "apiVersion: networking.istio.io/v1alpha3\n",
      "kind: VirtualService\n",
      "metadata:\n",
      "  name: bookinfo\n",
      "spec:\n",
      "  hosts:\n",
      "  - \"*\"\n",
      "  gateways:\n",
      "  - bookinfo-gateway\n",
      "  http:\n",
      "  - match:\n",
      "    - uri:\n",
      "        exact: /productpage\n",
      "    - uri:\n",
      "        prefix: /static\n",
      "    - uri:\n",
      "        exact: /login\n",
      "    - uri:\n",
      "        exact: /logout\n",
      "    - uri:\n",
      "        prefix: /api/v1/products\n",
      "    route:\n",
      "    - destination:\n",
      "        host: productpage\n",
      "        port:\n",
      "          number: 9080\n"
     ]
    }
   ],
   "source": [
    "cat samples/bookinfo/networking/bookinfo-gateway.yaml"
   ]
  },
  {
   "cell_type": "code",
   "execution_count": 26,
   "metadata": {},
   "outputs": [
    {
     "name": "stdout",
     "output_type": "stream",
     "text": [
      "gateway.networking.istio.io/bookinfo-gateway created\n",
      "virtualservice.networking.istio.io/bookinfo created\n"
     ]
    }
   ],
   "source": [
    "kubectl apply -f samples/bookinfo/networking/bookinfo-gateway.yaml"
   ]
  },
  {
   "cell_type": "code",
   "execution_count": 27,
   "metadata": {},
   "outputs": [],
   "source": [
    "export PATH=$PATH:$(pwd)/bin"
   ]
  },
  {
   "cell_type": "code",
   "execution_count": 28,
   "metadata": {},
   "outputs": [
    {
     "name": "stdout",
     "output_type": "stream",
     "text": [
      "\n",
      "✔ No validation issues found when analyzing namespace: default.\n"
     ]
    }
   ],
   "source": [
    "istioctl analyze"
   ]
  },
  {
   "cell_type": "code",
   "execution_count": 29,
   "metadata": {},
   "outputs": [
    {
     "name": "stdout",
     "output_type": "stream",
     "text": [
      "INGRESS_PORT=30844\n",
      "SECURE_INGRESS_PORT=31783\n",
      "INGRESS_HOST=192.168.49.2\n"
     ]
    }
   ],
   "source": [
    "export INGRESS_PORT=$(kubectl -n istio-system get service istio-ingressgateway -o jsonpath='{.spec.ports[?(@.name==\"http2\")].nodePort}')\n",
    "export SECURE_INGRESS_PORT=$(kubectl -n istio-system get service istio-ingressgateway -o jsonpath='{.spec.ports[?(@.name==\"https\")].nodePort}')\n",
    "export INGRESS_HOST=$(hostname -i)\n",
    "echo INGRESS_PORT=$INGRESS_PORT\n",
    "echo SECURE_INGRESS_PORT=$SECURE_INGRESS_PORT\n",
    "echo INGRESS_HOST=$INGRESS_HOST"
   ]
  },
  {
   "cell_type": "code",
   "execution_count": 30,
   "metadata": {},
   "outputs": [
    {
     "name": "stdout",
     "output_type": "stream",
     "text": [
      "http://192.168.49.2:30844/productpage\n"
     ]
    }
   ],
   "source": [
    "export GATEWAY_URL=$INGRESS_HOST:$INGRESS_PORT\n",
    "echo \"http://$GATEWAY_URL/productpage\""
   ]
  },
  {
   "cell_type": "code",
   "execution_count": 31,
   "metadata": {
    "tags": []
   },
   "outputs": [
    {
     "name": "stdout",
     "output_type": "stream",
     "text": [
      "serviceaccount/grafana created\n",
      "configmap/grafana created\n",
      "service/grafana created\n",
      "deployment.apps/grafana created\n",
      "configmap/istio-grafana-dashboards created\n",
      "configmap/istio-services-grafana-dashboards created\n",
      "deployment.apps/jaeger created\n",
      "service/tracing created\n",
      "service/zipkin created\n",
      "service/jaeger-collector created\n",
      "serviceaccount/kiali created\n",
      "configmap/kiali created\n",
      "clusterrole.rbac.authorization.k8s.io/kiali-viewer created\n",
      "clusterrole.rbac.authorization.k8s.io/kiali created\n",
      "clusterrolebinding.rbac.authorization.k8s.io/kiali created\n",
      "role.rbac.authorization.k8s.io/kiali-controlplane created\n",
      "rolebinding.rbac.authorization.k8s.io/kiali-controlplane created\n",
      "service/kiali created\n",
      "deployment.apps/kiali created\n",
      "serviceaccount/prometheus created\n",
      "configmap/prometheus created\n",
      "clusterrole.rbac.authorization.k8s.io/prometheus created\n",
      "clusterrolebinding.rbac.authorization.k8s.io/prometheus created\n",
      "service/prometheus created\n",
      "deployment.apps/prometheus created\n"
     ]
    }
   ],
   "source": [
    "kubectl apply -f samples/addons"
   ]
  },
  {
   "cell_type": "code",
   "execution_count": 36,
   "metadata": {
    "tags": []
   },
   "outputs": [
    {
     "name": "stdout",
     "output_type": "stream",
     "text": [
      "NAME                                    READY   STATUS    RESTARTS   AGE\n",
      "grafana-6ccd56f4b6-8s9qf                1/1     Running   0          100s\n",
      "istio-egressgateway-c9cbbd99f-rzckb     1/1     Running   0          39m\n",
      "istio-ingressgateway-7c8bc47b49-mq4d8   1/1     Running   0          39m\n",
      "istiod-765596f7ff-m9f8l                 1/1     Running   0          39m\n",
      "jaeger-5d44bc5c5d-f2jss                 1/1     Running   0          100s\n",
      "kiali-79b86ff5bc-cszx6                  1/1     Running   0          99s\n",
      "prometheus-64fd8ccd65-4wgmz             2/2     Running   0          99s\n"
     ]
    }
   ],
   "source": [
    "kubectl get pods -n istio-system"
   ]
  },
  {
   "cell_type": "code",
   "execution_count": 37,
   "metadata": {},
   "outputs": [
    {
     "name": "stdout",
     "output_type": "stream",
     "text": [
      "NAME                                        READY   STATUS    RESTARTS   AGE\n",
      "pod/grafana-6ccd56f4b6-8s9qf                1/1     Running   0          3m14s\n",
      "pod/istio-egressgateway-c9cbbd99f-rzckb     1/1     Running   0          40m\n",
      "pod/istio-ingressgateway-7c8bc47b49-mq4d8   1/1     Running   0          40m\n",
      "pod/istiod-765596f7ff-m9f8l                 1/1     Running   0          41m\n",
      "pod/jaeger-5d44bc5c5d-f2jss                 1/1     Running   0          3m14s\n",
      "pod/kiali-79b86ff5bc-cszx6                  1/1     Running   0          3m13s\n",
      "pod/prometheus-64fd8ccd65-4wgmz             2/2     Running   0          3m13s\n",
      "\n",
      "NAME                           TYPE           CLUSTER-IP       EXTERNAL-IP     PORT(S)                                                                      AGE\n",
      "service/grafana                ClusterIP      10.110.160.59    <none>          3000/TCP                                                                     3m14s\n",
      "service/istio-egressgateway    ClusterIP      10.102.94.47     <none>          80/TCP,443/TCP                                                               40m\n",
      "service/istio-ingressgateway   LoadBalancer   10.109.214.73    10.109.214.73   15021:30128/TCP,80:30844/TCP,443:31783/TCP,31400:31611/TCP,15443:31020/TCP   40m\n",
      "service/istiod                 ClusterIP      10.102.206.115   <none>          15010/TCP,15012/TCP,443/TCP,15014/TCP                                        41m\n",
      "service/jaeger-collector       ClusterIP      10.111.245.129   <none>          14268/TCP,14250/TCP,9411/TCP                                                 3m14s\n",
      "service/kiali                  ClusterIP      10.104.169.244   <none>          20001/TCP,9090/TCP                                                           3m13s\n",
      "service/prometheus             ClusterIP      10.104.79.32     <none>          9090/TCP                                                                     3m13s\n",
      "service/tracing                ClusterIP      10.105.127.167   <none>          80/TCP,16685/TCP                                                             3m14s\n",
      "service/zipkin                 ClusterIP      10.96.74.93      <none>          9411/TCP                                                                     3m14s\n",
      "\n",
      "NAME                                   READY   UP-TO-DATE   AVAILABLE   AGE\n",
      "deployment.apps/grafana                1/1     1            1           3m14s\n",
      "deployment.apps/istio-egressgateway    1/1     1            1           40m\n",
      "deployment.apps/istio-ingressgateway   1/1     1            1           40m\n",
      "deployment.apps/istiod                 1/1     1            1           41m\n",
      "deployment.apps/jaeger                 1/1     1            1           3m14s\n",
      "deployment.apps/kiali                  1/1     1            1           3m13s\n",
      "deployment.apps/prometheus             1/1     1            1           3m13s\n",
      "\n",
      "NAME                                              DESIRED   CURRENT   READY   AGE\n",
      "replicaset.apps/grafana-6ccd56f4b6                1         1         1       3m14s\n",
      "replicaset.apps/istio-egressgateway-c9cbbd99f     1         1         1       40m\n",
      "replicaset.apps/istio-ingressgateway-7c8bc47b49   1         1         1       40m\n",
      "replicaset.apps/istiod-765596f7ff                 1         1         1       41m\n",
      "replicaset.apps/jaeger-5d44bc5c5d                 1         1         1       3m14s\n",
      "replicaset.apps/kiali-79b86ff5bc                  1         1         1       3m13s\n",
      "replicaset.apps/prometheus-64fd8ccd65             1         1         1       3m13s\n"
     ]
    }
   ],
   "source": [
    "kubectl get all -n istio-system"
   ]
  },
  {
   "cell_type": "code",
   "execution_count": 38,
   "metadata": {
    "tags": []
   },
   "outputs": [
    {
     "name": "stdout",
     "output_type": "stream",
     "text": [
      "http://192.168.49.2:20001/kiali\n",
      "Failed to open browser; open http://192.168.49.2:20001/kiali in your browser.\n",
      "\n"
     ]
    }
   ],
   "source": [
    "istioctl dashboard kiali --address $(hostname -i) | sed s/localhost/$(hostname -i)/"
   ]
  },
  {
   "cell_type": "markdown",
   "metadata": {},
   "source": [
    "## Cleanup"
   ]
  },
  {
   "cell_type": "code",
   "execution_count": 39,
   "metadata": {},
   "outputs": [
    {
     "name": "stdout",
     "output_type": "stream",
     "text": [
      "serviceaccount \"grafana\" deleted\n",
      "configmap \"grafana\" deleted\n",
      "service \"grafana\" deleted\n",
      "deployment.apps \"grafana\" deleted\n",
      "configmap \"istio-grafana-dashboards\" deleted\n",
      "configmap \"istio-services-grafana-dashboards\" deleted\n",
      "deployment.apps \"jaeger\" deleted\n",
      "service \"tracing\" deleted\n",
      "service \"zipkin\" deleted\n",
      "service \"jaeger-collector\" deleted\n",
      "serviceaccount \"kiali\" deleted\n",
      "configmap \"kiali\" deleted\n",
      "clusterrole.rbac.authorization.k8s.io \"kiali-viewer\" deleted\n",
      "clusterrole.rbac.authorization.k8s.io \"kiali\" deleted\n",
      "clusterrolebinding.rbac.authorization.k8s.io \"kiali\" deleted\n",
      "role.rbac.authorization.k8s.io \"kiali-controlplane\" deleted\n",
      "rolebinding.rbac.authorization.k8s.io \"kiali-controlplane\" deleted\n",
      "service \"kiali\" deleted\n",
      "deployment.apps \"kiali\" deleted\n",
      "serviceaccount \"prometheus\" deleted\n",
      "configmap \"prometheus\" deleted\n",
      "clusterrole.rbac.authorization.k8s.io \"prometheus\" deleted\n",
      "clusterrolebinding.rbac.authorization.k8s.io \"prometheus\" deleted\n",
      "service \"prometheus\" deleted\n",
      "deployment.apps \"prometheus\" deleted\n",
      "service \"details\" deleted\n",
      "serviceaccount \"bookinfo-details\" deleted\n",
      "deployment.apps \"details-v1\" deleted\n",
      "service \"ratings\" deleted\n",
      "serviceaccount \"bookinfo-ratings\" deleted\n",
      "deployment.apps \"ratings-v1\" deleted\n",
      "service \"reviews\" deleted\n",
      "serviceaccount \"bookinfo-reviews\" deleted\n",
      "deployment.apps \"reviews-v1\" deleted\n",
      "deployment.apps \"reviews-v2\" deleted\n",
      "deployment.apps \"reviews-v3\" deleted\n",
      "service \"productpage\" deleted\n",
      "serviceaccount \"bookinfo-productpage\" deleted\n",
      "deployment.apps \"productpage-v1\" deleted\n"
     ]
    }
   ],
   "source": [
    "kubectl delete -f samples/addons -f samples/bookinfo/platform/kube/bookinfo.yaml"
   ]
  },
  {
   "cell_type": "code",
   "execution_count": 40,
   "metadata": {},
   "outputs": [
    {
     "name": "stdout",
     "output_type": "stream",
     "text": [
      "NAME                            READY   STATUS        RESTARTS   AGE\n",
      "pod/ratings-v1-b6994bb9-brnkv   2/2     Terminating   0          50m\n",
      "pod/sleep-56bc8d768-trznv       2/2     Running       0          59m\n",
      "\n",
      "NAME                 TYPE        CLUSTER-IP      EXTERNAL-IP   PORT(S)   AGE\n",
      "service/kubernetes   ClusterIP   10.96.0.1       <none>        443/TCP   87m\n",
      "service/sleep        ClusterIP   10.110.217.22   <none>        80/TCP    59m\n",
      "\n",
      "NAME                    READY   UP-TO-DATE   AVAILABLE   AGE\n",
      "deployment.apps/sleep   1/1     1            1           59m\n",
      "\n",
      "NAME                              DESIRED   CURRENT   READY   AGE\n",
      "replicaset.apps/sleep-56bc8d768   1         1         1       59m\n"
     ]
    }
   ],
   "source": [
    "kubectl get all"
   ]
  },
  {
   "cell_type": "code",
   "execution_count": null,
   "metadata": {},
   "outputs": [],
   "source": []
  }
 ],
 "metadata": {
  "kernelspec": {
   "display_name": "Bash",
   "language": "bash",
   "name": "bash"
  },
  "language_info": {
   "codemirror_mode": "shell",
   "file_extension": ".sh",
   "mimetype": "text/x-sh",
   "name": "bash"
  }
 },
 "nbformat": 4,
 "nbformat_minor": 4
}
