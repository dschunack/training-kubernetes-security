{
 "cells": [
  {
   "cell_type": "markdown",
   "metadata": {},
   "source": [
    "**This notebook covered by the following [license](License.ipynb)  This note must not be removed**"
   ]
  },
  {
   "cell_type": "markdown",
   "metadata": {},
   "source": [
    "# Istio Canary\n",
    "\n",
    "## Hello Istio\n",
    "\n",
    "Very basic traffic management\n",
    "https://istio.io/blog/2018/incremental-traffic-management/\n",
    "\n"
   ]
  },
  {
   "cell_type": "code",
   "execution_count": 1,
   "metadata": {},
   "outputs": [
    {
     "name": "stdout",
     "output_type": "stream",
     "text": [
      "namespace/default labeled\n"
     ]
    }
   ],
   "source": [
    "kubectl label namespace default istio-injection=enabled"
   ]
  },
  {
   "cell_type": "markdown",
   "metadata": {},
   "source": [
    "## Create a test pod"
   ]
  },
  {
   "cell_type": "code",
   "execution_count": 2,
   "metadata": {},
   "outputs": [
    {
     "name": "stdout",
     "output_type": "stream",
     "text": [
      "service/sleep created\n",
      "deployment.apps/sleep created\n"
     ]
    }
   ],
   "source": [
    "kubectl apply -f - <<EOF\n",
    "apiVersion: v1\n",
    "kind: Service\n",
    "metadata:\n",
    "  name: sleep\n",
    "  labels:\n",
    "    app: sleep\n",
    "spec:\n",
    "  ports:\n",
    "  - port: 80\n",
    "    name: http\n",
    "  selector:\n",
    "    app: sleep\n",
    "---\n",
    "apiVersion: apps/v1\n",
    "kind: Deployment\n",
    "metadata:\n",
    "  name: sleep\n",
    "spec:\n",
    "  replicas: 1\n",
    "  selector:\n",
    "    matchLabels:\n",
    "      app: sleep\n",
    "  template:\n",
    "    metadata:\n",
    "      labels:\n",
    "        app: sleep\n",
    "    spec:\n",
    "      containers:\n",
    "      - name: sleep\n",
    "        image: pstauffer/curl\n",
    "        command: [\"/bin/sleep\", \"3650d\"]\n",
    "        imagePullPolicy: IfNotPresent\n",
    "---\n",
    "EOF"
   ]
  },
  {
   "cell_type": "code",
   "execution_count": 3,
   "metadata": {},
   "outputs": [
    {
     "name": "stdout",
     "output_type": "stream",
     "text": [
      "sleep-56bc8d768-56qrd\n"
     ]
    }
   ],
   "source": [
    "export SLEEP_POD=$(kubectl get pod -l app=sleep \\\n",
    "  -o jsonpath={.items..metadata.name})\n",
    "echo $SLEEP_POD"
   ]
  },
  {
   "cell_type": "code",
   "execution_count": 4,
   "metadata": {},
   "outputs": [
    {
     "name": "stdout",
     "output_type": "stream",
     "text": [
      "NAME                                       CREATED AT\n",
      "authorizationpolicies.security.istio.io    2022-03-29T13:02:44Z\n",
      "destinationrules.networking.istio.io       2022-03-29T13:02:44Z\n",
      "envoyfilters.networking.istio.io           2022-03-29T13:02:44Z\n",
      "gateways.networking.istio.io               2022-03-29T13:02:44Z\n",
      "istiooperators.install.istio.io            2022-03-29T13:02:44Z\n",
      "peerauthentications.security.istio.io      2022-03-29T13:02:44Z\n",
      "proxyconfigs.networking.istio.io           2022-03-29T13:02:44Z\n",
      "requestauthentications.security.istio.io   2022-03-29T13:02:44Z\n",
      "serviceentries.networking.istio.io         2022-03-29T13:02:44Z\n",
      "sidecars.networking.istio.io               2022-03-29T13:02:44Z\n",
      "telemetries.telemetry.istio.io             2022-03-29T13:02:44Z\n",
      "virtualservices.networking.istio.io        2022-03-29T13:02:44Z\n",
      "wasmplugins.extensions.istio.io            2022-03-29T13:02:44Z\n",
      "workloadentries.networking.istio.io        2022-03-29T13:02:44Z\n",
      "workloadgroups.networking.istio.io         2022-03-29T13:02:44Z\n"
     ]
    }
   ],
   "source": [
    "kubectl get crd"
   ]
  },
  {
   "cell_type": "code",
   "execution_count": 5,
   "metadata": {},
   "outputs": [
    {
     "name": "stdout",
     "output_type": "stream",
     "text": [
      "No resources found in default namespace.\n"
     ]
    }
   ],
   "source": [
    "kubectl get destinationrule "
   ]
  },
  {
   "cell_type": "code",
   "execution_count": 6,
   "metadata": {},
   "outputs": [
    {
     "name": "stdout",
     "output_type": "stream",
     "text": [
      "No resources found in default namespace.\n"
     ]
    }
   ],
   "source": [
    "kubectl get virtualservice"
   ]
  },
  {
   "cell_type": "code",
   "execution_count": 7,
   "metadata": {},
   "outputs": [
    {
     "name": "stdout",
     "output_type": "stream",
     "text": [
      "NAME    READY   UP-TO-DATE   AVAILABLE   AGE\n",
      "sleep   1/1     1            1           46s\n"
     ]
    }
   ],
   "source": [
    "kubectl get deployments"
   ]
  },
  {
   "cell_type": "code",
   "execution_count": 8,
   "metadata": {},
   "outputs": [
    {
     "name": "stdout",
     "output_type": "stream",
     "text": [
      "NAME                    READY   STATUS    RESTARTS   AGE\n",
      "sleep-56bc8d768-56qrd   2/2     Running   0          51s\n"
     ]
    }
   ],
   "source": [
    "kubectl get pods"
   ]
  },
  {
   "cell_type": "code",
   "execution_count": 9,
   "metadata": {
    "tags": []
   },
   "outputs": [
    {
     "name": "stdout",
     "output_type": "stream",
     "text": [
      "apiVersion: v1\n",
      "kind: Pod\n",
      "metadata:\n",
      "  annotations:\n",
      "    kubectl.kubernetes.io/default-container: sleep\n",
      "    kubectl.kubernetes.io/default-logs-container: sleep\n",
      "    prometheus.io/path: /stats/prometheus\n",
      "    prometheus.io/port: \"15020\"\n",
      "    prometheus.io/scrape: \"true\"\n",
      "    sidecar.istio.io/status: '{\"initContainers\":[\"istio-init\"],\"containers\":[\"istio-proxy\"],\"volumes\":[\"istio-envoy\",\"istio-data\",\"istio-podinfo\",\"istio-token\",\"istiod-ca-cert\"],\"imagePullSecrets\":null,\"revision\":\"default\"}'\n",
      "  creationTimestamp: \"2022-03-29T13:42:52Z\"\n",
      "  generateName: sleep-56bc8d768-\n",
      "  labels:\n",
      "    app: sleep\n",
      "    pod-template-hash: 56bc8d768\n",
      "    security.istio.io/tlsMode: istio\n",
      "    service.istio.io/canonical-name: sleep\n",
      "    service.istio.io/canonical-revision: latest\n",
      "  name: sleep-56bc8d768-56qrd\n",
      "  namespace: default\n",
      "  ownerReferences:\n",
      "  - apiVersion: apps/v1\n",
      "    blockOwnerDeletion: true\n",
      "    controller: true\n",
      "    kind: ReplicaSet\n",
      "    name: sleep-56bc8d768\n",
      "    uid: 51f89ac5-fc55-4a0d-97d4-4b5f901dd350\n",
      "  resourceVersion: \"14729\"\n",
      "  uid: de0606e9-6e7b-45a8-901b-9884ba38e605\n",
      "spec:\n",
      "  containers:\n",
      "  - command:\n",
      "    - /bin/sleep\n",
      "    - 3650d\n",
      "\u001b[01;31m\u001b[K    image: pstauffer/curl\u001b[m\u001b[K\n",
      "    imagePullPolicy: IfNotPresent\n",
      "    name: sleep\n",
      "    resources: {}\n",
      "    terminationMessagePath: /dev/termination-log\n",
      "    terminationMessagePolicy: File\n",
      "    volumeMounts:\n",
      "    - mountPath: /var/run/secrets/kubernetes.io/serviceaccount\n",
      "      name: kube-api-access-qdctx\n",
      "      readOnly: true\n",
      "  - args:\n",
      "    - proxy\n",
      "    - sidecar\n",
      "    - --domain\n",
      "    - $(POD_NAMESPACE).svc.cluster.local\n",
      "    - --proxyLogLevel=warning\n",
      "    - --proxyComponentLogLevel=misc:error\n",
      "    - --log_output_level=default:info\n",
      "    - --concurrency\n",
      "    - \"2\"\n",
      "    env:\n",
      "    - name: JWT_POLICY\n",
      "      value: third-party-jwt\n",
      "    - name: PILOT_CERT_PROVIDER\n",
      "      value: istiod\n",
      "    - name: CA_ADDR\n",
      "      value: istiod.istio-system.svc:15012\n",
      "    - name: POD_NAME\n",
      "      valueFrom:\n",
      "        fieldRef:\n",
      "          apiVersion: v1\n",
      "          fieldPath: metadata.name\n",
      "    - name: POD_NAMESPACE\n",
      "      valueFrom:\n",
      "        fieldRef:\n",
      "          apiVersion: v1\n",
      "          fieldPath: metadata.namespace\n",
      "    - name: INSTANCE_IP\n",
      "      valueFrom:\n",
      "        fieldRef:\n",
      "          apiVersion: v1\n",
      "          fieldPath: status.podIP\n",
      "    - name: SERVICE_ACCOUNT\n",
      "      valueFrom:\n",
      "        fieldRef:\n",
      "          apiVersion: v1\n",
      "          fieldPath: spec.serviceAccountName\n",
      "    - name: HOST_IP\n",
      "      valueFrom:\n",
      "        fieldRef:\n",
      "          apiVersion: v1\n",
      "          fieldPath: status.hostIP\n",
      "    - name: PROXY_CONFIG\n",
      "      value: |\n",
      "        {}\n",
      "    - name: ISTIO_META_POD_PORTS\n",
      "      value: |-\n",
      "        [\n",
      "        ]\n",
      "    - name: ISTIO_META_APP_CONTAINERS\n",
      "      value: sleep\n",
      "    - name: ISTIO_META_CLUSTER_ID\n",
      "      value: Kubernetes\n",
      "    - name: ISTIO_META_INTERCEPTION_MODE\n",
      "      value: REDIRECT\n",
      "    - name: ISTIO_META_WORKLOAD_NAME\n",
      "      value: sleep\n",
      "    - name: ISTIO_META_OWNER\n",
      "      value: kubernetes://apis/apps/v1/namespaces/default/deployments/sleep\n",
      "    - name: ISTIO_META_MESH_ID\n",
      "      value: cluster.local\n",
      "    - name: TRUST_DOMAIN\n",
      "      value: cluster.local\n",
      "\u001b[01;31m\u001b[K    image: docker.io/istio/proxyv2:1.13.2\u001b[m\u001b[K\n",
      "    imagePullPolicy: IfNotPresent\n",
      "    name: istio-proxy\n",
      "    ports:\n",
      "    - containerPort: 15090\n",
      "      name: http-envoy-prom\n",
      "      protocol: TCP\n",
      "    readinessProbe:\n",
      "      failureThreshold: 30\n",
      "      httpGet:\n",
      "        path: /healthz/ready\n",
      "        port: 15021\n",
      "        scheme: HTTP\n",
      "      initialDelaySeconds: 1\n",
      "      periodSeconds: 2\n",
      "      successThreshold: 1\n",
      "      timeoutSeconds: 3\n",
      "    resources:\n",
      "      limits:\n",
      "        cpu: \"2\"\n",
      "        memory: 1Gi\n",
      "      requests:\n",
      "        cpu: 10m\n",
      "        memory: 40Mi\n",
      "    securityContext:\n",
      "      allowPrivilegeEscalation: false\n",
      "      capabilities:\n",
      "        drop:\n",
      "        - ALL\n",
      "      privileged: false\n",
      "      readOnlyRootFilesystem: true\n",
      "      runAsGroup: 1337\n",
      "      runAsNonRoot: true\n",
      "      runAsUser: 1337\n",
      "    terminationMessagePath: /dev/termination-log\n",
      "    terminationMessagePolicy: File\n",
      "    volumeMounts:\n",
      "    - mountPath: /var/run/secrets/istio\n",
      "      name: istiod-ca-cert\n",
      "    - mountPath: /var/lib/istio/data\n",
      "      name: istio-data\n",
      "    - mountPath: /etc/istio/proxy\n",
      "      name: istio-envoy\n",
      "    - mountPath: /var/run/secrets/tokens\n",
      "      name: istio-token\n",
      "    - mountPath: /etc/istio/pod\n",
      "      name: istio-podinfo\n",
      "    - mountPath: /var/run/secrets/kubernetes.io/serviceaccount\n",
      "      name: kube-api-access-qdctx\n",
      "      readOnly: true\n",
      "  dnsPolicy: ClusterFirst\n",
      "  enableServiceLinks: true\n",
      "  initContainers:\n",
      "  - args:\n",
      "    - istio-iptables\n",
      "    - -p\n",
      "    - \"15001\"\n",
      "    - -z\n",
      "    - \"15006\"\n",
      "    - -u\n",
      "    - \"1337\"\n",
      "    - -m\n",
      "    - REDIRECT\n",
      "    - -i\n",
      "    - '*'\n",
      "    - -x\n",
      "    - \"\"\n",
      "    - -b\n",
      "    - '*'\n",
      "    - -d\n",
      "    - 15090,15021,15020\n",
      "\u001b[01;31m\u001b[K    image: docker.io/istio/proxyv2:1.13.2\u001b[m\u001b[K\n",
      "    imagePullPolicy: IfNotPresent\n",
      "    name: istio-init\n",
      "    resources:\n",
      "      limits:\n",
      "        cpu: \"2\"\n",
      "        memory: 1Gi\n",
      "      requests:\n",
      "        cpu: 10m\n",
      "        memory: 40Mi\n",
      "    securityContext:\n",
      "      allowPrivilegeEscalation: false\n",
      "      capabilities:\n",
      "        add:\n",
      "        - NET_ADMIN\n",
      "        - NET_RAW\n",
      "        drop:\n",
      "        - ALL\n",
      "      privileged: false\n",
      "      readOnlyRootFilesystem: false\n",
      "      runAsGroup: 0\n",
      "      runAsNonRoot: false\n",
      "      runAsUser: 0\n",
      "    terminationMessagePath: /dev/termination-log\n",
      "    terminationMessagePolicy: File\n",
      "    volumeMounts:\n",
      "    - mountPath: /var/run/secrets/kubernetes.io/serviceaccount\n",
      "      name: kube-api-access-qdctx\n",
      "      readOnly: true\n",
      "  nodeName: minikube\n",
      "  preemptionPolicy: PreemptLowerPriority\n",
      "  priority: 0\n",
      "  restartPolicy: Always\n",
      "  schedulerName: default-scheduler\n",
      "  securityContext: {}\n",
      "  serviceAccount: default\n",
      "  serviceAccountName: default\n",
      "  terminationGracePeriodSeconds: 30\n",
      "  tolerations:\n",
      "  - effect: NoExecute\n",
      "    key: node.kubernetes.io/not-ready\n",
      "    operator: Exists\n",
      "    tolerationSeconds: 300\n",
      "  - effect: NoExecute\n",
      "    key: node.kubernetes.io/unreachable\n",
      "    operator: Exists\n",
      "    tolerationSeconds: 300\n",
      "  volumes:\n",
      "  - emptyDir:\n",
      "      medium: Memory\n",
      "    name: istio-envoy\n",
      "  - emptyDir: {}\n",
      "    name: istio-data\n",
      "  - downwardAPI:\n",
      "      defaultMode: 420\n",
      "      items:\n",
      "      - fieldRef:\n",
      "          apiVersion: v1\n",
      "          fieldPath: metadata.labels\n",
      "        path: labels\n",
      "      - fieldRef:\n",
      "          apiVersion: v1\n",
      "          fieldPath: metadata.annotations\n",
      "        path: annotations\n",
      "    name: istio-podinfo\n",
      "  - name: istio-token\n",
      "    projected:\n",
      "      defaultMode: 420\n",
      "      sources:\n",
      "      - serviceAccountToken:\n",
      "          audience: istio-ca\n",
      "          expirationSeconds: 43200\n",
      "          path: istio-token\n",
      "  - configMap:\n",
      "      defaultMode: 420\n",
      "      name: istio-ca-root-cert\n",
      "    name: istiod-ca-cert\n",
      "  - name: kube-api-access-qdctx\n",
      "    projected:\n",
      "      defaultMode: 420\n",
      "      sources:\n",
      "      - serviceAccountToken:\n",
      "          expirationSeconds: 3607\n",
      "          path: token\n",
      "      - configMap:\n",
      "          items:\n",
      "          - key: ca.crt\n",
      "            path: ca.crt\n",
      "          name: kube-root-ca.crt\n",
      "      - downwardAPI:\n",
      "          items:\n",
      "          - fieldRef:\n",
      "              apiVersion: v1\n",
      "              fieldPath: metadata.namespace\n",
      "            path: namespace\n",
      "status:\n",
      "  conditions:\n",
      "  - lastProbeTime: null\n",
      "    lastTransitionTime: \"2022-03-29T13:42:54Z\"\n",
      "    status: \"True\"\n",
      "    type: Initialized\n",
      "  - lastProbeTime: null\n",
      "    lastTransitionTime: \"2022-03-29T13:43:04Z\"\n",
      "    status: \"True\"\n",
      "    type: Ready\n",
      "  - lastProbeTime: null\n",
      "    lastTransitionTime: \"2022-03-29T13:43:04Z\"\n",
      "    status: \"True\"\n",
      "    type: ContainersReady\n",
      "  - lastProbeTime: null\n",
      "    lastTransitionTime: \"2022-03-29T13:42:52Z\"\n",
      "    status: \"True\"\n",
      "    type: PodScheduled\n",
      "  containerStatuses:\n",
      "  - containerID: docker://fc7f0b5ca14b0f799a26c3872177c8d67ee1d9c7317e19a7c070015e8fcfe3af\n",
      "\u001b[01;31m\u001b[K    image: istio/proxyv2:1.13.2\u001b[m\u001b[K\n",
      "    imageID: docker-pullable://istio/proxyv2@sha256:fa15cda114bff2dd9bc0f98e988e65f5f43d77dcea652313d77b5bdfa0faf1b8\n",
      "    lastState: {}\n",
      "    name: istio-proxy\n",
      "    ready: true\n",
      "    restartCount: 0\n",
      "    started: true\n",
      "    state:\n",
      "      running:\n",
      "        startedAt: \"2022-03-29T13:42:57Z\"\n",
      "  - containerID: docker://e751cc61bb4f631ff59a9461c4e4bf413c1f99382390abbd268ca4b39c5b6e69\n",
      "\u001b[01;31m\u001b[K    image: pstauffer/curl:latest\u001b[m\u001b[K\n",
      "    imageID: docker-pullable://pstauffer/curl@sha256:2663156457abb72d269eb19fe53c2d49e2e4a9fdcb9fa8f082d0282d82eb8e42\n",
      "    lastState: {}\n",
      "    name: sleep\n",
      "    ready: true\n",
      "    restartCount: 0\n",
      "    started: true\n",
      "    state:\n",
      "      running:\n",
      "        startedAt: \"2022-03-29T13:42:57Z\"\n",
      "  hostIP: 192.168.49.2\n",
      "  initContainerStatuses:\n",
      "  - containerID: docker://47269e8992e29335b2d10f5ac958e43a0905e75de0fdc098788672cc56f83555\n",
      "\u001b[01;31m\u001b[K    image: istio/proxyv2:1.13.2\u001b[m\u001b[K\n",
      "    imageID: docker-pullable://istio/proxyv2@sha256:fa15cda114bff2dd9bc0f98e988e65f5f43d77dcea652313d77b5bdfa0faf1b8\n",
      "    lastState: {}\n",
      "    name: istio-init\n",
      "    ready: true\n",
      "    restartCount: 0\n",
      "    state:\n",
      "      terminated:\n",
      "        containerID: docker://47269e8992e29335b2d10f5ac958e43a0905e75de0fdc098788672cc56f83555\n",
      "        exitCode: 0\n",
      "        finishedAt: \"2022-03-29T13:42:53Z\"\n",
      "        reason: Completed\n",
      "        startedAt: \"2022-03-29T13:42:53Z\"\n",
      "  phase: Running\n",
      "  podIP: 172.17.0.3\n",
      "  podIPs:\n",
      "  - ip: 172.17.0.3\n",
      "  qosClass: Burstable\n",
      "  startTime: \"2022-03-29T13:42:52Z\"\n"
     ]
    }
   ],
   "source": [
    "kubectl get pod $SLEEP_POD -o yaml | grep --color=always  -E '$|.*image:.*'"
   ]
  },
  {
   "cell_type": "markdown",
   "metadata": {},
   "source": [
    "# Admission Controlers and Sidecars\n",
    "\n",
    "- Istio works as an [ Admission Controller](https://kubernetes.io/blog/2019/03/21/a-guide-to-kubernetes-admission-controllers/)\n",
    "- adding a [Sidecar Pattern](https://static.googleusercontent.com/media/research.google.com/en//pubs/archive/45406.pdf)\n",
    "- [Kubernetes Patterns](https://www.redhat.com/cms/managed-files/cm-oreilly-kubernetes-patterns-ebook-f19824-201910-en.pdf)\n",
    "- [Envoy Proxy](https://www.envoyproxy.io/)\n",
    "- [Patterns with Envoy Proxy](https://blog.christianposta.com/microservices/00-microservices-patterns-with-envoy-proxy-series/)"
   ]
  },
  {
   "cell_type": "code",
   "execution_count": 10,
   "metadata": {
    "collapsed": true,
    "jupyter": {
     "outputs_hidden": true
    },
    "tags": []
   },
   "outputs": [
    {
     "name": "stdout",
     "output_type": "stream",
     "text": [
      "  % Total    % Received % Xferd  Average Speed   Time    Time     Time  Current\n",
      "                                 Dload  Upload   Total   Spent    Left  Speed\n",
      "100   229  100   229    0     0   1205      0 --:--:-- --:--:-- --:--:--  1198\n",
      "<!DOCTYPE HTML PUBLIC \"-//IETF//DTD HTML 2.0//EN\">\n",
      "<html><head>\n",
      "<title>301 Moved Permanently</title>\n",
      "</head><body>\n",
      "<h1>Moved Permanently</h1>\n",
      "<p>The document has moved <a href=\"https://www.heise.de/\">here</a>.</p>\n",
      "</body></html>\n"
     ]
    }
   ],
   "source": [
    "kubectl exec $SLEEP_POD -- curl  heise.de "
   ]
  },
  {
   "cell_type": "markdown",
   "metadata": {},
   "source": [
    "# Istio Sample Application"
   ]
  },
  {
   "cell_type": "code",
   "execution_count": 11,
   "metadata": {},
   "outputs": [
    {
     "name": "stdout",
     "output_type": "stream",
     "text": [
      " AccountWithRBAC.ipynb       OPA.ipynb\n",
      " AuditLogs.ipynb             OpenPolicyAgent.ipynb\n",
      " Calico-Iptables.ipynb       OpenShift\n",
      " ClusterOverview.ipynb       Overview.ipynb\n",
      " ContainerdCloudbomb.ipynb   PodSecurityPolicyBasic.ipynb\n",
      " CrioBomb.ipynb              PodSecurityPolicyPermissive.ipynb\n",
      " Harbor.ipynb                PodSecurityPolicyStrict.ipynb\n",
      " Hardening-NGinx.ipynb      'Postgres Zalando.ipynb'\n",
      " Helm.ipynb                  README.md\n",
      " Ingress.ipynb               ServiceAccountToken.ipynb\n",
      " IngressKong.ipynb           Unprivileged.ipynb\n",
      " IngressKongStart.ipynb      default-rbac.png\n",
      " IngressStart.ipynb          defaut-rbac.dot\n",
      " Istio-Traffic-Mgmt.ipynb    docker-hypervisor.png\n",
      " Istio1.8.2.ipynb            istio-1.13.2\n",
      " IstioHack.ipynb             kube-bench.ipynb\n",
      " Keycloak.ipynb              kubernetes-client.png\n",
      " Kube-Scan-Cloudbomb.ipynb   minikube.dot\n",
      " KubeLogin.ipynb             minikube.png\n",
      " KubernetesBasics.ipynb      my-namespace-rbac.dot\n",
      " License.ipynb               my-namespace-rbac.png\n",
      "'Linux Namespaces.ipynb'     namespaces.dot\n",
      " MKCert.ipynb                namespaces.png\n",
      " Makefile                    openssl\n",
      " NetworkPolicy.ipynb         realm.png\n"
     ]
    }
   ],
   "source": [
    "ls "
   ]
  },
  {
   "cell_type": "code",
   "execution_count": 12,
   "metadata": {},
   "outputs": [],
   "source": [
    "cd istio-*"
   ]
  },
  {
   "cell_type": "code",
   "execution_count": 13,
   "metadata": {},
   "outputs": [
    {
     "name": "stdout",
     "output_type": "stream",
     "text": [
      "/minikube-host/notebooks/training-kubernetes-security/istio-1.13.2\n"
     ]
    }
   ],
   "source": [
    "pwd"
   ]
  },
  {
   "cell_type": "code",
   "execution_count": 14,
   "metadata": {},
   "outputs": [
    {
     "name": "stdout",
     "output_type": "stream",
     "text": [
      "service/details created\n",
      "serviceaccount/bookinfo-details created\n",
      "deployment.apps/details-v1 created\n",
      "service/ratings created\n",
      "serviceaccount/bookinfo-ratings created\n",
      "deployment.apps/ratings-v1 created\n",
      "service/reviews created\n",
      "serviceaccount/bookinfo-reviews created\n",
      "deployment.apps/reviews-v1 created\n",
      "deployment.apps/reviews-v2 created\n",
      "deployment.apps/reviews-v3 created\n",
      "service/productpage created\n",
      "serviceaccount/bookinfo-productpage created\n",
      "deployment.apps/productpage-v1 created\n"
     ]
    }
   ],
   "source": [
    "kubectl apply -f samples/bookinfo/platform/kube/bookinfo.yaml"
   ]
  },
  {
   "cell_type": "code",
   "execution_count": 26,
   "metadata": {},
   "outputs": [
    {
     "name": "stdout",
     "output_type": "stream",
     "text": [
      "NAME                              READY   STATUS    RESTARTS   AGE\n",
      "details-v1-79f774bdb9-x47gc       2/2     Running   0          68s\n",
      "productpage-v1-6b746f74dc-hhdph   2/2     Running   0          67s\n",
      "ratings-v1-b6994bb9-k6m24         2/2     Running   0          68s\n",
      "reviews-v1-545db77b95-wz4p6       2/2     Running   0          67s\n",
      "reviews-v2-7bf8c9648f-vxp66       2/2     Running   0          67s\n",
      "reviews-v3-84779c7bbc-8bqnh       2/2     Running   0          68s\n",
      "sleep-56bc8d768-56qrd             2/2     Running   0          26m\n"
     ]
    }
   ],
   "source": [
    "kubectl get pods "
   ]
  },
  {
   "cell_type": "code",
   "execution_count": 18,
   "metadata": {},
   "outputs": [
    {
     "name": "stdout",
     "output_type": "stream",
     "text": [
      "NAME          TYPE        CLUSTER-IP       EXTERNAL-IP   PORT(S)    AGE\n",
      "details       ClusterIP   10.102.106.185   <none>        9080/TCP   28s\n",
      "kubernetes    ClusterIP   10.96.0.1        <none>        443/TCP    4h50m\n",
      "productpage   ClusterIP   10.105.74.171    <none>        9080/TCP   27s\n",
      "ratings       ClusterIP   10.104.89.129    <none>        9080/TCP   28s\n",
      "reviews       ClusterIP   10.107.186.66    <none>        9080/TCP   27s\n",
      "sleep         ClusterIP   10.101.82.199    <none>        80/TCP     25m\n"
     ]
    }
   ],
   "source": [
    "kubectl get services"
   ]
  },
  {
   "cell_type": "code",
   "execution_count": 28,
   "metadata": {
    "collapsed": true,
    "jupyter": {
     "outputs_hidden": true
    },
    "tags": []
   },
   "outputs": [
    {
     "name": "stdout",
     "output_type": "stream",
     "text": [
      "<!DOCTYPE html>\n",
      "<html>\n",
      "  <head>\n",
      "    \u001b[01;31m\u001b[K<title>Simple Bookstore App</title>\u001b[m\u001b[K\n",
      "<meta charset=\"utf-8\">\n",
      "<meta http-equiv=\"X-UA-Compatible\" content=\"IE=edge\">\n",
      "<meta name=\"viewport\" content=\"width=device-width, initial-scale=1.0\">\n",
      "\n",
      "<!-- Latest compiled and minified CSS -->\n",
      "<link rel=\"stylesheet\" href=\"static/bootstrap/css/bootstrap.min.css\">\n",
      "\n",
      "<!-- Optional theme -->\n",
      "<link rel=\"stylesheet\" href=\"static/bootstrap/css/bootstrap-theme.min.css\">\n",
      "\n",
      "  </head>\n",
      "  <body>\n",
      "    \n",
      "    \n",
      "\n",
      "<nav class=\"navbar navbar-inverse navbar-static-top\">\n",
      "  <div class=\"container\">\n",
      "    <div class=\"navbar-header\">\n",
      "      <a class=\"navbar-brand\" href=\"#\">BookInfo Sample</a>\n",
      "    </div>\n",
      "    \n",
      "    <button type=\"button\" class=\"btn btn-default navbar-btn navbar-right\" data-toggle=\"modal\" href=\"#login-modal\">Sign\n",
      "      in</button>\n",
      "    \n",
      "  </div>\n",
      "</nav>\n",
      "\n",
      "<!---\n",
      "<div class=\"navbar navbar-inverse navbar-fixed-top\">\n",
      "  <div class=\"container\">\n",
      "    <div class=\"navbar-header pull-left\">\n",
      "      <a class=\"navbar-brand\" href=\"#\">Microservices Fabric BookInfo Demo</a>\n",
      "    </div>\n",
      "    <div class=\"navbar-header pull-right\">\n",
      "      <button type=\"button\" class=\"navbar-toggle\" data-toggle=\"collapse\" data-target=\".navbar-collapse\">\n",
      "        <span class=\"icon-bar\"></span>\n",
      "        <span class=\"icon-bar\"></span>\n",
      "        <span class=\"icon-bar\"></span>\n",
      "      </button>\n",
      "    </div>\n",
      "    <div class=\"navbar-collapse collapse\">\n",
      "\n",
      "      <button type=\"button\" class=\"btn btn-default navbar-btn pull-right\" data-toggle=\"modal\" data-target=\"#login-modal\">Sign in</button>\n",
      "\n",
      "    </div>\n",
      "  </div>\n",
      "</div>\n",
      "-->\n",
      "\n",
      "<div id=\"login-modal\" class=\"modal fade\" role=\"dialog\">\n",
      "  <div class=\"modal-dialog\">\n",
      "    <div class=\"modal-content\">\n",
      "      <div class=\"modal-header\">\n",
      "        <button type=\"button\" class=\"close\" data-dismiss=\"modal\">&times;</button>\n",
      "        <h4 class=\"modal-title\">Please sign in</h4>\n",
      "      </div>\n",
      "      <div class=\"modal-body\">\n",
      "        <form method=\"post\" action='login' name=\"login_form\">\n",
      "          <p><input type=\"text\" class=\"form-control\" name=\"username\" id=\"username\" placeholder=\"User Name\"></p>\n",
      "          <p><input type=\"password\" class=\"form-control\" name=\"passwd\" placeholder=\"Password\"></p>\n",
      "          <p>\n",
      "            <button type=\"submit\" class=\"btn btn-primary\">Sign in</button>\n",
      "            <button type=\"button\" class=\"btn btn-default\" data-dismiss=\"modal\">Cancel</button>\n",
      "          </p>\n",
      "        </form>\n",
      "      </div>\n",
      "    </div>\n",
      "\n",
      "  </div>\n",
      "</div>\n",
      "\n",
      "<div class=\"container-fluid\">\n",
      "  <div class=\"row\">\n",
      "    <div class=\"col-md-12\">\n",
      "      <h3 class=\"text-center text-primary\">The Comedy of Errors</h3>\n",
      "      \n",
      "      <p>Summary: <a href=\"https://en.wikipedia.org/wiki/The_Comedy_of_Errors\">Wikipedia Summary</a>: The Comedy of Errors is one of <b>William Shakespeare's</b> early plays. It is his shortest and one of his most farcical comedies, with a major part of the humour coming from slapstick and mistaken identity, in addition to puns and word play.</p>\n",
      "      \n",
      "    </div>\n",
      "  </div>\n",
      "\n",
      "  <div class=\"row\">\n",
      "    <div class=\"col-md-6\">\n",
      "      \n",
      "      <h4 class=\"text-center text-primary\">Book Details</h4>\n",
      "      <dl>\n",
      "        <dt>Type:</dt>paperback\n",
      "        <dt>Pages:</dt>200\n",
      "        <dt>Publisher:</dt>PublisherA\n",
      "        <dt>Language:</dt>English\n",
      "        <dt>ISBN-10:</dt>1234567890\n",
      "        <dt>ISBN-13:</dt>123-1234567890\n",
      "      </dl>\n",
      "      \n",
      "    </div>\n",
      "\n",
      "    <div class=\"col-md-6\">\n",
      "      \n",
      "      <h4 class=\"text-center text-primary\">Book Reviews</h4>\n",
      "      \n",
      "      <blockquote>\n",
      "        <p>An extremely entertaining play by Shakespeare. The slapstick humour is refreshing!</p>\n",
      "        <small>Reviewer1</small>\n",
      "        \n",
      "        \n",
      "        <font color=\"red\">\n",
      "          <!-- full stars: -->\n",
      "          \n",
      "          <span class=\"glyphicon glyphicon-star\"></span>\n",
      "          \n",
      "          <span class=\"glyphicon glyphicon-star\"></span>\n",
      "          \n",
      "          <span class=\"glyphicon glyphicon-star\"></span>\n",
      "          \n",
      "          <span class=\"glyphicon glyphicon-star\"></span>\n",
      "          \n",
      "          <span class=\"glyphicon glyphicon-star\"></span>\n",
      "          \n",
      "          <!-- empty stars: -->\n",
      "          \n",
      "        </font>\n",
      "        \n",
      "        \n",
      "      </blockquote>\n",
      "      \n",
      "      <blockquote>\n",
      "        <p>Absolutely fun and entertaining. The play lacks thematic depth when compared to other plays by Shakespeare.</p>\n",
      "        <small>Reviewer2</small>\n",
      "        \n",
      "        \n",
      "        <font color=\"red\">\n",
      "          <!-- full stars: -->\n",
      "          \n",
      "          <span class=\"glyphicon glyphicon-star\"></span>\n",
      "          \n",
      "          <span class=\"glyphicon glyphicon-star\"></span>\n",
      "          \n",
      "          <span class=\"glyphicon glyphicon-star\"></span>\n",
      "          \n",
      "          <span class=\"glyphicon glyphicon-star\"></span>\n",
      "          \n",
      "          <!-- empty stars: -->\n",
      "          \n",
      "          <span class=\"glyphicon glyphicon-star-empty\"></span>\n",
      "          \n",
      "        </font>\n",
      "        \n",
      "        \n",
      "      </blockquote>\n",
      "      \n",
      "      \n",
      "    </div>\n",
      "  </div>\n",
      "</div>\n",
      "\n",
      "\n",
      "    \n",
      "<!-- Latest compiled and minified JavaScript -->\n",
      "<script src=\"static/jquery.min.js\"></script>\n",
      "\n",
      "<!-- Latest compiled and minified JavaScript -->\n",
      "<script src=\"static/bootstrap/js/bootstrap.min.js\"></script>\n",
      "\n",
      "<script type=\"text/javascript\">\n",
      "  $('#login-modal').on('shown.bs.modal', function () {\n",
      "    $('#username').focus();\n",
      "  });\n",
      "</script>\n",
      "\n",
      "  </body>\n",
      "</html>\n"
     ]
    }
   ],
   "source": [
    "kubectl exec \"$(kubectl get pod -l app=ratings -o jsonpath='{.items[0].metadata.name}')\" \\\n",
    "  -c ratings -- curl -s productpage:9080/productpage | grep --color=always -E \"$|<title>.*</title>\""
   ]
  },
  {
   "cell_type": "code",
   "execution_count": 29,
   "metadata": {},
   "outputs": [
    {
     "name": "stdout",
     "output_type": "stream",
     "text": [
      "apiVersion: networking.istio.io/v1alpha3\n",
      "kind: Gateway\n",
      "metadata:\n",
      "  name: bookinfo-gateway\n",
      "spec:\n",
      "  selector:\n",
      "    istio: ingressgateway # use istio default controller\n",
      "  servers:\n",
      "  - port:\n",
      "      number: 80\n",
      "      name: http\n",
      "      protocol: HTTP\n",
      "    hosts:\n",
      "    - \"*\"\n",
      "---\n",
      "apiVersion: networking.istio.io/v1alpha3\n",
      "kind: VirtualService\n",
      "metadata:\n",
      "  name: bookinfo\n",
      "spec:\n",
      "  hosts:\n",
      "  - \"*\"\n",
      "  gateways:\n",
      "  - bookinfo-gateway\n",
      "  http:\n",
      "  - match:\n",
      "    - uri:\n",
      "        exact: /productpage\n",
      "    - uri:\n",
      "        prefix: /static\n",
      "    - uri:\n",
      "        exact: /login\n",
      "    - uri:\n",
      "        exact: /logout\n",
      "    - uri:\n",
      "        prefix: /api/v1/products\n",
      "    route:\n",
      "    - destination:\n",
      "        host: productpage\n",
      "        port:\n",
      "          number: 9080\n"
     ]
    }
   ],
   "source": [
    "cat samples/bookinfo/networking/bookinfo-gateway.yaml"
   ]
  },
  {
   "cell_type": "code",
   "execution_count": 30,
   "metadata": {},
   "outputs": [
    {
     "name": "stdout",
     "output_type": "stream",
     "text": [
      "gateway.networking.istio.io/bookinfo-gateway created\n",
      "virtualservice.networking.istio.io/bookinfo created\n"
     ]
    }
   ],
   "source": [
    "kubectl apply -f samples/bookinfo/networking/bookinfo-gateway.yaml"
   ]
  },
  {
   "cell_type": "code",
   "execution_count": 32,
   "metadata": {},
   "outputs": [],
   "source": [
    "export PATH=$PATH:$(pwd)/bin"
   ]
  },
  {
   "cell_type": "code",
   "execution_count": 33,
   "metadata": {},
   "outputs": [
    {
     "name": "stdout",
     "output_type": "stream",
     "text": [
      "\n",
      "✔ No validation issues found when analyzing namespace: default.\n"
     ]
    }
   ],
   "source": [
    "istioctl analyze"
   ]
  },
  {
   "cell_type": "code",
   "execution_count": 34,
   "metadata": {},
   "outputs": [
    {
     "name": "stdout",
     "output_type": "stream",
     "text": [
      "INGRESS_PORT=31121\n",
      "SECURE_INGRESS_PORT=31089\n",
      "INGRESS_HOST=192.168.49.2\n"
     ]
    }
   ],
   "source": [
    "export INGRESS_PORT=$(kubectl -n istio-system get service istio-ingressgateway -o jsonpath='{.spec.ports[?(@.name==\"http2\")].nodePort}')\n",
    "export SECURE_INGRESS_PORT=$(kubectl -n istio-system get service istio-ingressgateway -o jsonpath='{.spec.ports[?(@.name==\"https\")].nodePort}')\n",
    "export INGRESS_HOST=$(hostname -i)\n",
    "echo INGRESS_PORT=$INGRESS_PORT\n",
    "echo SECURE_INGRESS_PORT=$SECURE_INGRESS_PORT\n",
    "echo INGRESS_HOST=$INGRESS_HOST"
   ]
  },
  {
   "cell_type": "code",
   "execution_count": 35,
   "metadata": {},
   "outputs": [
    {
     "name": "stdout",
     "output_type": "stream",
     "text": [
      "http://192.168.49.2:31121/productpage\n"
     ]
    }
   ],
   "source": [
    "export GATEWAY_URL=$INGRESS_HOST:$INGRESS_PORT\n",
    "echo \"http://$GATEWAY_URL/productpage\""
   ]
  },
  {
   "cell_type": "code",
   "execution_count": 36,
   "metadata": {
    "tags": []
   },
   "outputs": [
    {
     "name": "stdout",
     "output_type": "stream",
     "text": [
      "serviceaccount/grafana created\n",
      "configmap/grafana created\n",
      "service/grafana created\n",
      "deployment.apps/grafana created\n",
      "configmap/istio-grafana-dashboards created\n",
      "configmap/istio-services-grafana-dashboards created\n",
      "deployment.apps/jaeger created\n",
      "service/tracing created\n",
      "service/zipkin created\n",
      "service/jaeger-collector created\n",
      "serviceaccount/kiali created\n",
      "configmap/kiali created\n",
      "clusterrole.rbac.authorization.k8s.io/kiali-viewer created\n",
      "clusterrole.rbac.authorization.k8s.io/kiali created\n",
      "clusterrolebinding.rbac.authorization.k8s.io/kiali created\n",
      "role.rbac.authorization.k8s.io/kiali-controlplane created\n",
      "rolebinding.rbac.authorization.k8s.io/kiali-controlplane created\n",
      "service/kiali created\n",
      "deployment.apps/kiali created\n",
      "serviceaccount/prometheus created\n",
      "configmap/prometheus created\n",
      "clusterrole.rbac.authorization.k8s.io/prometheus created\n",
      "clusterrolebinding.rbac.authorization.k8s.io/prometheus created\n",
      "service/prometheus created\n",
      "deployment.apps/prometheus created\n"
     ]
    }
   ],
   "source": [
    "kubectl apply -f samples/addons"
   ]
  },
  {
   "cell_type": "code",
   "execution_count": 42,
   "metadata": {
    "tags": []
   },
   "outputs": [
    {
     "name": "stdout",
     "output_type": "stream",
     "text": [
      "NAME                                    READY   STATUS    RESTARTS   AGE\n",
      "grafana-6c5dc6df7c-5wj2p                1/1     Running   0          39s\n",
      "istio-egressgateway-66fdd867f4-fqcsp    1/1     Running   0          69m\n",
      "istio-ingressgateway-77968dbd74-nlkqf   1/1     Running   0          69m\n",
      "istiod-699b647f8b-ktvqq                 1/1     Running   0          69m\n",
      "jaeger-9dd685668-99cpx                  1/1     Running   0          38s\n",
      "kiali-699f98c497-dxhsf                  1/1     Running   0          38s\n",
      "prometheus-699b7cc575-wqs7s             2/2     Running   0          37s\n"
     ]
    }
   ],
   "source": [
    "kubectl get pods -n istio-system"
   ]
  },
  {
   "cell_type": "code",
   "execution_count": 43,
   "metadata": {},
   "outputs": [
    {
     "name": "stdout",
     "output_type": "stream",
     "text": [
      "NAME                                        READY   STATUS    RESTARTS   AGE\n",
      "pod/grafana-6c5dc6df7c-5wj2p                1/1     Running   0          44s\n",
      "pod/istio-egressgateway-66fdd867f4-fqcsp    1/1     Running   0          69m\n",
      "pod/istio-ingressgateway-77968dbd74-nlkqf   1/1     Running   0          69m\n",
      "pod/istiod-699b647f8b-ktvqq                 1/1     Running   0          70m\n",
      "pod/jaeger-9dd685668-99cpx                  1/1     Running   0          43s\n",
      "pod/kiali-699f98c497-dxhsf                  1/1     Running   0          43s\n",
      "pod/prometheus-699b7cc575-wqs7s             2/2     Running   0          42s\n",
      "\n",
      "NAME                           TYPE           CLUSTER-IP       EXTERNAL-IP     PORT(S)                                                                      AGE\n",
      "service/grafana                ClusterIP      10.104.184.197   <none>          3000/TCP                                                                     44s\n",
      "service/istio-egressgateway    ClusterIP      10.106.93.246    <none>          80/TCP,443/TCP                                                               69m\n",
      "service/istio-ingressgateway   LoadBalancer   10.108.149.68    10.108.149.68   15021:30225/TCP,80:31121/TCP,443:31089/TCP,31400:32462/TCP,15443:32375/TCP   69m\n",
      "service/istiod                 ClusterIP      10.108.6.25      <none>          15010/TCP,15012/TCP,443/TCP,15014/TCP                                        70m\n",
      "service/jaeger-collector       ClusterIP      10.96.14.75      <none>          14268/TCP,14250/TCP,9411/TCP                                                 43s\n",
      "service/kiali                  ClusterIP      10.99.62.237     <none>          20001/TCP,9090/TCP                                                           43s\n",
      "service/prometheus             ClusterIP      10.98.227.98     <none>          9090/TCP                                                                     43s\n",
      "service/tracing                ClusterIP      10.107.22.6      <none>          80/TCP,16685/TCP                                                             43s\n",
      "service/zipkin                 ClusterIP      10.99.37.188     <none>          9411/TCP                                                                     43s\n",
      "\n",
      "NAME                                   READY   UP-TO-DATE   AVAILABLE   AGE\n",
      "deployment.apps/grafana                1/1     1            1           44s\n",
      "deployment.apps/istio-egressgateway    1/1     1            1           69m\n",
      "deployment.apps/istio-ingressgateway   1/1     1            1           69m\n",
      "deployment.apps/istiod                 1/1     1            1           70m\n",
      "deployment.apps/jaeger                 1/1     1            1           43s\n",
      "deployment.apps/kiali                  1/1     1            1           43s\n",
      "deployment.apps/prometheus             1/1     1            1           42s\n",
      "\n",
      "NAME                                              DESIRED   CURRENT   READY   AGE\n",
      "replicaset.apps/grafana-6c5dc6df7c                1         1         1       44s\n",
      "replicaset.apps/istio-egressgateway-66fdd867f4    1         1         1       69m\n",
      "replicaset.apps/istio-ingressgateway-77968dbd74   1         1         1       69m\n",
      "replicaset.apps/istiod-699b647f8b                 1         1         1       70m\n",
      "replicaset.apps/jaeger-9dd685668                  1         1         1       43s\n",
      "replicaset.apps/kiali-699f98c497                  1         1         1       43s\n",
      "replicaset.apps/prometheus-699b7cc575             1         1         1       42s\n"
     ]
    }
   ],
   "source": [
    "kubectl get all -n istio-system"
   ]
  },
  {
   "cell_type": "code",
   "execution_count": 45,
   "metadata": {
    "tags": []
   },
   "outputs": [
    {
     "name": "stdout",
     "output_type": "stream",
     "text": [
      "[1] 86305\n"
     ]
    }
   ],
   "source": [
    "istioctl dashboard kiali --address $(hostname -i) | sed s/localhost/$(hostname -i)/&"
   ]
  },
  {
   "cell_type": "code",
   "execution_count": 46,
   "metadata": {},
   "outputs": [
    {
     "name": "stdout",
     "output_type": "stream",
     "text": [
      "http://192.168.49.2:20001/kiali\n",
      "Failed to open browser; open http://192.168.49.2:20001/kiali in your browser.\n",
      "istioctl dashboard kiali --address $(hostname -i) | sed s/localhost/$(hostname -i)/\n",
      "\n"
     ]
    }
   ],
   "source": [
    "fg"
   ]
  },
  {
   "cell_type": "markdown",
   "metadata": {},
   "source": [
    "## Cleanup"
   ]
  },
  {
   "cell_type": "code",
   "execution_count": 47,
   "metadata": {},
   "outputs": [
    {
     "name": "stdout",
     "output_type": "stream",
     "text": [
      "serviceaccount \"grafana\" deleted\n",
      "configmap \"grafana\" deleted\n",
      "service \"grafana\" deleted\n",
      "deployment.apps \"grafana\" deleted\n",
      "configmap \"istio-grafana-dashboards\" deleted\n",
      "configmap \"istio-services-grafana-dashboards\" deleted\n",
      "deployment.apps \"jaeger\" deleted\n",
      "service \"tracing\" deleted\n",
      "service \"zipkin\" deleted\n",
      "service \"jaeger-collector\" deleted\n",
      "serviceaccount \"kiali\" deleted\n",
      "configmap \"kiali\" deleted\n",
      "clusterrole.rbac.authorization.k8s.io \"kiali-viewer\" deleted\n",
      "clusterrole.rbac.authorization.k8s.io \"kiali\" deleted\n",
      "clusterrolebinding.rbac.authorization.k8s.io \"kiali\" deleted\n",
      "role.rbac.authorization.k8s.io \"kiali-controlplane\" deleted\n",
      "rolebinding.rbac.authorization.k8s.io \"kiali-controlplane\" deleted\n",
      "service \"kiali\" deleted\n",
      "deployment.apps \"kiali\" deleted\n",
      "serviceaccount \"prometheus\" deleted\n",
      "configmap \"prometheus\" deleted\n",
      "clusterrole.rbac.authorization.k8s.io \"prometheus\" deleted\n",
      "clusterrolebinding.rbac.authorization.k8s.io \"prometheus\" deleted\n",
      "service \"prometheus\" deleted\n",
      "deployment.apps \"prometheus\" deleted\n",
      "service \"details\" deleted\n",
      "serviceaccount \"bookinfo-details\" deleted\n",
      "deployment.apps \"details-v1\" deleted\n",
      "service \"ratings\" deleted\n",
      "serviceaccount \"bookinfo-ratings\" deleted\n",
      "deployment.apps \"ratings-v1\" deleted\n",
      "service \"reviews\" deleted\n",
      "serviceaccount \"bookinfo-reviews\" deleted\n",
      "deployment.apps \"reviews-v1\" deleted\n",
      "deployment.apps \"reviews-v2\" deleted\n",
      "deployment.apps \"reviews-v3\" deleted\n",
      "service \"productpage\" deleted\n",
      "serviceaccount \"bookinfo-productpage\" deleted\n",
      "deployment.apps \"productpage-v1\" deleted\n"
     ]
    }
   ],
   "source": [
    "kubectl delete -f samples/addons -f samples/bookinfo/platform/kube/bookinfo.yaml"
   ]
  },
  {
   "cell_type": "code",
   "execution_count": 49,
   "metadata": {},
   "outputs": [
    {
     "name": "stdout",
     "output_type": "stream",
     "text": [
      "NAME                            READY   STATUS        RESTARTS   AGE\n",
      "pod/ratings-v1-b6994bb9-k6m24   2/2     Terminating   0          23m\n",
      "pod/sleep-56bc8d768-56qrd       2/2     Running       0          48m\n",
      "\n",
      "NAME                 TYPE        CLUSTER-IP      EXTERNAL-IP   PORT(S)   AGE\n",
      "service/kubernetes   ClusterIP   10.96.0.1       <none>        443/TCP   5h13m\n",
      "service/sleep        ClusterIP   10.101.82.199   <none>        80/TCP    48m\n",
      "\n",
      "NAME                    READY   UP-TO-DATE   AVAILABLE   AGE\n",
      "deployment.apps/sleep   1/1     1            1           48m\n",
      "\n",
      "NAME                              DESIRED   CURRENT   READY   AGE\n",
      "replicaset.apps/sleep-56bc8d768   1         1         1       48m\n"
     ]
    }
   ],
   "source": [
    "kubectl get all"
   ]
  },
  {
   "cell_type": "code",
   "execution_count": null,
   "metadata": {},
   "outputs": [],
   "source": []
  }
 ],
 "metadata": {
  "kernelspec": {
   "display_name": "Bash",
   "language": "bash",
   "name": "bash"
  },
  "language_info": {
   "codemirror_mode": "shell",
   "file_extension": ".sh",
   "mimetype": "text/x-sh",
   "name": "bash"
  }
 },
 "nbformat": 4,
 "nbformat_minor": 4
}
