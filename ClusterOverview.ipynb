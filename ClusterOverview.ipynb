{
 "cells": [
  {
   "cell_type": "markdown",
   "id": "7cf71b50",
   "metadata": {},
   "source": [
    "**This notebook is covered by the following [license](License.ipynb)  This note must not be removed**"
   ]
  },
  {
   "cell_type": "markdown",
   "id": "9382391f",
   "metadata": {},
   "source": [
    "## Cluster Overview"
   ]
  },
  {
   "cell_type": "markdown",
   "id": "8aaeafbd",
   "metadata": {},
   "source": [
    "Outside the notebook type `minikube dashboard`"
   ]
  },
  {
   "cell_type": "code",
   "execution_count": null,
   "id": "1e1c6e68",
   "metadata": {},
   "outputs": [],
   "source": [
    "kubectl get all -A"
   ]
  },
  {
   "cell_type": "code",
   "execution_count": null,
   "id": "9bf6c151",
   "metadata": {},
   "outputs": [],
   "source": [
    "kubectl get events -A"
   ]
  },
  {
   "cell_type": "code",
   "execution_count": null,
   "id": "878f7495",
   "metadata": {},
   "outputs": [],
   "source": [
    "kubectl describe pod "
   ]
  },
  {
   "cell_type": "code",
   "execution_count": null,
   "id": "16717d72",
   "metadata": {},
   "outputs": [],
   "source": [
    "kubectl describe pods"
   ]
  },
  {
   "cell_type": "code",
   "execution_count": null,
   "id": "f75f0f39",
   "metadata": {},
   "outputs": [],
   "source": [
    "kubectl get pods -A -o jsonpath='{.items[*].metadata.name}'"
   ]
  },
  {
   "cell_type": "markdown",
   "id": "8959c429",
   "metadata": {},
   "source": [
    "More examples https://kubernetes.io/docs/reference/kubectl/jsonpath/"
   ]
  },
  {
   "cell_type": "code",
   "execution_count": null,
   "id": "431d1b08-e156-44c3-86ca-fc9db5897749",
   "metadata": {},
   "outputs": [],
   "source": [
    "kubectl get pods -o=jsonpath='{range .items[*]}{.metadata.name}{\"\\t\"}{.status.startTime}{\"\\n\"}{end}'"
   ]
  },
  {
   "cell_type": "code",
   "execution_count": null,
   "id": "84c0b735",
   "metadata": {
    "tags": []
   },
   "outputs": [],
   "source": [
    "kubectl get pods -o json | jq"
   ]
  },
  {
   "cell_type": "code",
   "execution_count": null,
   "id": "bc20d122",
   "metadata": {
    "tags": []
   },
   "outputs": [],
   "source": [
    "kubectl get pods -o=jsonpath='{@}'"
   ]
  },
  {
   "cell_type": "code",
   "execution_count": null,
   "id": "6e526b3a",
   "metadata": {
    "tags": []
   },
   "outputs": [],
   "source": [
    "kubectl get pods -o=jsonpath='{.items[0]}' | jq"
   ]
  },
  {
   "cell_type": "code",
   "execution_count": null,
   "id": "62a671cc",
   "metadata": {},
   "outputs": [],
   "source": [
    "kubectl get pods -o=jsonpath='{.items[0].metadata.name}'"
   ]
  },
  {
   "cell_type": "code",
   "execution_count": null,
   "id": "8879002a",
   "metadata": {
    "jupyter": {
     "source_hidden": true
    }
   },
   "outputs": [],
   "source": [
    "kubectl get pods -o=jsonpath=\"{.items[*]['metadata.name', 'status.capacity']}\""
   ]
  },
  {
   "cell_type": "code",
   "execution_count": null,
   "id": "09fe7314",
   "metadata": {},
   "outputs": [],
   "source": [
    "kubectl get pods -A -o=jsonpath='{range .items[*]}{.metadata.name}{\"\\t\"}{.status.startTime}{\"\\n\"}{end}'"
   ]
  },
  {
   "cell_type": "markdown",
   "id": "3f87c701",
   "metadata": {},
   "source": [
    "List all images\n",
    "\n",
    "https://kubernetes.io/docs/tasks/access-application-cluster/list-all-running-container-images/\n",
    "\n",
    "Explanation Security Context\n",
    "\n",
    "https://kubernetes.io/docs/tasks/configure-pod-container/security-context/"
   ]
  },
  {
   "cell_type": "code",
   "execution_count": null,
   "id": "67f1f995",
   "metadata": {},
   "outputs": [],
   "source": [
    "kubectl get pods --all-namespaces -o go-template \\\n",
    "--template=\"{{range .items}}{{.metadata.namespace}}/{{.metadata.name}}:{{println}}{{range .spec.containers}}  {{.image}}:{{.securityContext}}\n",
    "{{end}}{{end}}\"\n"
   ]
  },
  {
   "cell_type": "code",
   "execution_count": null,
   "id": "cf828df8",
   "metadata": {},
   "outputs": [],
   "source": [
    "kubectl get pods --all-namespaces -o go-template \\\n",
    "--template=\"{{range .items}}{{.metadata.namespace}}/{{.metadata.name}}:{{println}}{{range .spec.initContainers}}  {{.image}}:{{.securityContext}}\n",
    "{{end}}{{end}}\""
   ]
  },
  {
   "cell_type": "code",
   "execution_count": null,
   "id": "ac1b7ce3",
   "metadata": {},
   "outputs": [],
   "source": [
    "kubectl get svc"
   ]
  },
  {
   "cell_type": "code",
   "execution_count": null,
   "id": "7026782e",
   "metadata": {},
   "outputs": [],
   "source": [
    "docker ps"
   ]
  },
  {
   "cell_type": "code",
   "execution_count": null,
   "id": "6484e842-b570-4da2-ba50-3654e1155ad2",
   "metadata": {},
   "outputs": [],
   "source": [
    "crictl ps"
   ]
  },
  {
   "cell_type": "code",
   "execution_count": null,
   "id": "10c68f67-782e-4954-8ebb-d9c45c2cc958",
   "metadata": {},
   "outputs": [],
   "source": [
    "kubectl get pods"
   ]
  },
  {
   "cell_type": "code",
   "execution_count": null,
   "id": "6bfcbfe8-1b36-4730-ae76-758d94a81180",
   "metadata": {},
   "outputs": [],
   "source": []
  }
 ],
 "metadata": {
  "kernelspec": {
   "display_name": "Bash",
   "language": "bash",
   "name": "bash"
  },
  "language_info": {
   "codemirror_mode": "shell",
   "file_extension": ".sh",
   "mimetype": "text/x-sh",
   "name": "bash"
  }
 },
 "nbformat": 4,
 "nbformat_minor": 5
}
