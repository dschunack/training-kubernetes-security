{
 "cells": [
  {
   "cell_type": "markdown",
   "id": "7cf71b50",
   "metadata": {},
   "source": [
    "**This notebook is covered by the following [license](License.ipynb)  This note must not be removed**"
   ]
  },
  {
   "cell_type": "markdown",
   "id": "9382391f",
   "metadata": {},
   "source": [
    "## Cluster Overview"
   ]
  },
  {
   "cell_type": "markdown",
   "id": "8aaeafbd",
   "metadata": {},
   "source": [
    "Outside the notebook type `minikube dashboard`"
   ]
  },
  {
   "cell_type": "code",
   "execution_count": null,
   "id": "1e1c6e68",
   "metadata": {},
   "outputs": [],
   "source": [
    "kubectl get all -A"
   ]
  },
  {
   "cell_type": "code",
   "execution_count": null,
   "id": "9bf6c151",
   "metadata": {},
   "outputs": [],
   "source": [
    "kubectl get events -A"
   ]
  },
  {
   "cell_type": "code",
   "execution_count": null,
   "id": "878f7495",
   "metadata": {},
   "outputs": [],
   "source": [
    "kubectl describe pod "
   ]
  },
  {
   "cell_type": "code",
   "execution_count": null,
   "id": "16717d72",
   "metadata": {},
   "outputs": [],
   "source": [
    "kubectl describe pods"
   ]
  },
  {
   "cell_type": "code",
   "execution_count": null,
   "id": "f75f0f39",
   "metadata": {},
   "outputs": [],
   "source": [
    "kubectl get pods -A -o jsonpath='{.items[*].metadata.name}'"
   ]
  },
  {
   "cell_type": "markdown",
   "id": "8959c429",
   "metadata": {},
   "source": [
    "More examples https://kubernetes.io/docs/reference/kubectl/jsonpath/"
   ]
  },
  {
   "cell_type": "code",
   "execution_count": null,
   "id": "431d1b08-e156-44c3-86ca-fc9db5897749",
   "metadata": {},
   "outputs": [],
   "source": [
    "kubectl get pods -o=jsonpath='{range .items[*]}{.metadata.name}{\"\\t\"}{.status.startTime}{\"\\n\"}{end}'"
   ]
  },
  {
   "cell_type": "code",
   "execution_count": null,
   "id": "84c0b735",
   "metadata": {
    "tags": []
   },
   "outputs": [],
   "source": [
    "kubectl get pods -o json | jq"
   ]
  },
  {
   "cell_type": "code",
   "execution_count": null,
   "id": "bc20d122",
   "metadata": {
    "tags": []
   },
   "outputs": [],
   "source": [
    "kubectl get pods -o=jsonpath='{@}'"
   ]
  },
  {
   "cell_type": "code",
   "execution_count": null,
   "id": "6e526b3a",
   "metadata": {
    "tags": []
   },
   "outputs": [],
   "source": [
    "kubectl get pods -o=jsonpath='{.items[0]}' | jq"
   ]
  },
  {
   "cell_type": "code",
   "execution_count": null,
   "id": "62a671cc",
   "metadata": {},
   "outputs": [],
   "source": [
    "kubectl get pods -o=jsonpath='{.items[0].metadata.name}'"
   ]
  },
  {
   "cell_type": "code",
   "execution_count": null,
   "id": "8879002a",
   "metadata": {
    "jupyter": {
     "source_hidden": true
    }
   },
   "outputs": [],
   "source": [
    "kubectl get pods -o=jsonpath=\"{.items[*]['metadata.name', 'status.capacity']}\""
   ]
  },
  {
   "cell_type": "code",
   "execution_count": null,
   "id": "09fe7314",
   "metadata": {},
   "outputs": [],
   "source": [
    "kubectl get pods -A -o=jsonpath='{range .items[*]}{.metadata.name}{\"\\t\"}{.status.startTime}{\"\\n\"}{end}'"
   ]
  },
  {
   "cell_type": "markdown",
   "id": "3f87c701",
   "metadata": {},
   "source": [
    "List all images\n",
    "\n",
    "https://kubernetes.io/docs/tasks/access-application-cluster/list-all-running-container-images/\n",
    "\n",
    "Explanation Security Context\n",
    "\n",
    "https://kubernetes.io/docs/tasks/configure-pod-container/security-context/"
   ]
  },
  {
   "cell_type": "code",
   "execution_count": 3,
   "id": "67f1f995",
   "metadata": {},
   "outputs": [
    {
     "name": "stdout",
     "output_type": "stream",
     "text": [
      "default/escape:\n",
      "  pstauffer/curl:<no value>\n",
      "  docker.io/istio/proxyv2:1.13.2:map[capabilities:map[add:[NET_ADMIN]] privileged:true]\n",
      "  docker.io/istio/proxyv2:1.13.2:map[allowPrivilegeEscalation:false capabilities:map[drop:[ALL]] privileged:false readOnlyRootFilesystem:true runAsGroup:1337 runAsNonRoot:true runAsUser:1337]\n",
      "default/sleep-56bc8d768-56qrd:\n",
      "  pstauffer/curl:<no value>\n",
      "  docker.io/istio/proxyv2:1.13.2:map[allowPrivilegeEscalation:false capabilities:map[drop:[ALL]] privileged:false readOnlyRootFilesystem:true runAsGroup:1337 runAsNonRoot:true runAsUser:1337]\n",
      "ingress-nginx/ingress-nginx-admission-create--1-hh8g4:\n",
      "  k8s.gcr.io/ingress-nginx/kube-webhook-certgen:v1.0@sha256:f3b6b39a6062328c095337b4cadcefd1612348fdd5190b1dcbcb9b9e90bd8068:<no value>\n",
      "ingress-nginx/ingress-nginx-admission-patch--1-jvcx5:\n",
      "  k8s.gcr.io/ingress-nginx/kube-webhook-certgen:v1.0@sha256:f3b6b39a6062328c095337b4cadcefd1612348fdd5190b1dcbcb9b9e90bd8068:<no value>\n",
      "ingress-nginx/ingress-nginx-controller-69bdbc4d57-zcn4l:\n",
      "  k8s.gcr.io/ingress-nginx/controller:v1.0.0-beta.3@sha256:44a7a06b71187a4529b0a9edee5cc22bdf71b414470eff696c3869ea8d90a695:map[allowPrivilegeEscalation:true capabilities:map[add:[NET_BIND_SERVICE] drop:[ALL]] runAsUser:101]\n",
      "istio-system/istio-egressgateway-66fdd867f4-fqcsp:\n",
      "  docker.io/istio/proxyv2:1.13.2:map[allowPrivilegeEscalation:false capabilities:map[drop:[ALL]] privileged:false readOnlyRootFilesystem:true]\n",
      "istio-system/istio-ingressgateway-77968dbd74-nlkqf:\n",
      "  docker.io/istio/proxyv2:1.13.2:map[allowPrivilegeEscalation:false capabilities:map[drop:[ALL]] privileged:false readOnlyRootFilesystem:true]\n",
      "istio-system/istiod-699b647f8b-ktvqq:\n",
      "  docker.io/istio/pilot:1.13.2:map[allowPrivilegeEscalation:false capabilities:map[drop:[ALL]] readOnlyRootFilesystem:true runAsGroup:1337 runAsNonRoot:true runAsUser:1337]\n",
      "kube-system/coredns-78fcd69978-n2jxz:\n",
      "  k8s.gcr.io/coredns/coredns:v1.8.4:map[allowPrivilegeEscalation:false capabilities:map[add:[NET_BIND_SERVICE] drop:[all]] readOnlyRootFilesystem:true]\n",
      "kube-system/etcd-minikube:\n",
      "  k8s.gcr.io/etcd:3.5.0-0:<no value>\n",
      "kube-system/kube-apiserver-minikube:\n",
      "  k8s.gcr.io/kube-apiserver:v1.22.2:<no value>\n",
      "kube-system/kube-controller-manager-minikube:\n",
      "  k8s.gcr.io/kube-controller-manager:v1.22.2:<no value>\n",
      "kube-system/kube-proxy-rcwrr:\n",
      "  k8s.gcr.io/kube-proxy:v1.22.2:map[privileged:true]\n",
      "kube-system/kube-scheduler-minikube:\n",
      "  k8s.gcr.io/kube-scheduler:v1.22.2:<no value>\n",
      "kube-system/storage-provisioner:\n",
      "  gcr.io/k8s-minikube/storage-provisioner:v5:<no value>\n"
     ]
    }
   ],
   "source": [
    "kubectl get pods --all-namespaces -o go-template \\\n",
    "--template=\"{{range .items}}{{.metadata.namespace}}/{{.metadata.name}}:{{println}}{{range .spec.containers}}  {{.image}}:{{.securityContext}}\n",
    "{{end}}{{end}}\"\n"
   ]
  },
  {
   "cell_type": "code",
   "execution_count": 2,
   "id": "cf828df8",
   "metadata": {},
   "outputs": [
    {
     "name": "stdout",
     "output_type": "stream",
     "text": [
      "default/sleep-56bc8d768-56qrd:\n",
      "  docker.io/istio/proxyv2:1.13.2:map[allowPrivilegeEscalation:false capabilities:map[add:[NET_ADMIN NET_RAW] drop:[ALL]] privileged:false readOnlyRootFilesystem:false runAsGroup:0 runAsNonRoot:false runAsUser:0]\n",
      "ingress-nginx/ingress-nginx-admission-create--1-hh8g4:\n",
      "ingress-nginx/ingress-nginx-admission-patch--1-jvcx5:\n",
      "ingress-nginx/ingress-nginx-controller-69bdbc4d57-zcn4l:\n",
      "istio-system/istio-egressgateway-66fdd867f4-fqcsp:\n",
      "istio-system/istio-ingressgateway-77968dbd74-nlkqf:\n",
      "istio-system/istiod-699b647f8b-ktvqq:\n",
      "kube-system/coredns-78fcd69978-n2jxz:\n",
      "kube-system/etcd-minikube:\n",
      "kube-system/kube-apiserver-minikube:\n",
      "kube-system/kube-controller-manager-minikube:\n",
      "kube-system/kube-proxy-rcwrr:\n",
      "kube-system/kube-scheduler-minikube:\n",
      "kube-system/storage-provisioner:\n"
     ]
    }
   ],
   "source": [
    "kubectl get pods --all-namespaces -o go-template \\\n",
    "--template=\"{{range .items}}{{.metadata.namespace}}/{{.metadata.name}}:{{println}}{{range .spec.initContainers}}  {{.image}}:{{.securityContext}}\n",
    "{{end}}{{end}}\""
   ]
  },
  {
   "cell_type": "code",
   "execution_count": null,
   "id": "ac1b7ce3",
   "metadata": {},
   "outputs": [],
   "source": [
    "kubectl get svc"
   ]
  },
  {
   "cell_type": "code",
   "execution_count": null,
   "id": "7026782e",
   "metadata": {},
   "outputs": [],
   "source": [
    "docker ps"
   ]
  },
  {
   "cell_type": "code",
   "execution_count": null,
   "id": "6484e842-b570-4da2-ba50-3654e1155ad2",
   "metadata": {},
   "outputs": [],
   "source": [
    "crictl ps"
   ]
  },
  {
   "cell_type": "code",
   "execution_count": null,
   "id": "10c68f67-782e-4954-8ebb-d9c45c2cc958",
   "metadata": {},
   "outputs": [],
   "source": [
    "kubectl get pods"
   ]
  },
  {
   "cell_type": "code",
   "execution_count": null,
   "id": "6bfcbfe8-1b36-4730-ae76-758d94a81180",
   "metadata": {},
   "outputs": [],
   "source": []
  }
 ],
 "metadata": {
  "kernelspec": {
   "display_name": "Bash",
   "language": "bash",
   "name": "bash"
  },
  "language_info": {
   "codemirror_mode": "shell",
   "file_extension": ".sh",
   "mimetype": "text/x-sh",
   "name": "bash"
  }
 },
 "nbformat": 4,
 "nbformat_minor": 5
}
