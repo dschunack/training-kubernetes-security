{
 "cells": [
  {
   "cell_type": "markdown",
   "id": "9034b3a4",
   "metadata": {},
   "source": [
    "**This notebook covered by the following [license](License.ipynb)  This note must not be removed**"
   ]
  },
  {
   "cell_type": "markdown",
   "id": "bc67af31-89bb-4d07-8e68-cd6d94847764",
   "metadata": {},
   "source": [
    "# Start\n",
    "\n",
    "Deployment and Service\n",
    "\n",
    "https://kubernetes.io/docs/concepts/services-networking/connect-applications-service/"
   ]
  },
  {
   "cell_type": "code",
   "execution_count": 1,
   "id": "018a03ff",
   "metadata": {},
   "outputs": [
    {
     "name": "stdout",
     "output_type": "stream",
     "text": [
      "NAMESPACE     NAME                               READY   STATUS    RESTARTS      AGE\n",
      "kube-system   coredns-78fcd69978-n5jfj           1/1     Running   0             71m\n",
      "kube-system   etcd-minikube                      1/1     Running   0             71m\n",
      "kube-system   kube-apiserver-minikube            1/1     Running   0             71m\n",
      "kube-system   kube-controller-manager-minikube   1/1     Running   0             71m\n",
      "kube-system   kube-proxy-bffmk                   1/1     Running   0             71m\n",
      "kube-system   kube-scheduler-minikube            1/1     Running   0             71m\n",
      "kube-system   storage-provisioner                1/1     Running   1 (70m ago)   71m\n"
     ]
    }
   ],
   "source": [
    "kubectl get pods -A"
   ]
  },
  {
   "cell_type": "markdown",
   "id": "c86730d5",
   "metadata": {},
   "source": [
    "# Warning\n",
    "\n",
    "**we install software from an unknown source**"
   ]
  },
  {
   "cell_type": "code",
   "execution_count": 2,
   "id": "7a0c3b81",
   "metadata": {
    "tags": []
   },
   "outputs": [
    {
     "name": "stdout",
     "output_type": "stream",
     "text": [
      "deployment.apps/my-nginx created\n"
     ]
    }
   ],
   "source": [
    "kubectl create -f https://raw.githubusercontent.com/kubernetes/website/master/content/en/examples/service/networking/run-my-nginx.yaml"
   ]
  },
  {
   "cell_type": "code",
   "execution_count": 3,
   "id": "3a801665",
   "metadata": {
    "tags": []
   },
   "outputs": [
    {
     "name": "stdout",
     "output_type": "stream",
     "text": [
      "service/my-nginx created\n"
     ]
    }
   ],
   "source": [
    "kubectl create -f https://raw.githubusercontent.com/kubernetes/website/master/content/en/examples/service/networking/nginx-svc.yaml"
   ]
  },
  {
   "cell_type": "code",
   "execution_count": 4,
   "id": "d9eeb27e",
   "metadata": {
    "tags": []
   },
   "outputs": [
    {
     "name": "stdout",
     "output_type": "stream",
     "text": [
      "NAME                            READY   STATUS    RESTARTS   AGE\n",
      "pod/my-nginx-5b56ccd65f-97g4w   1/1     Running   0          23s\n",
      "pod/my-nginx-5b56ccd65f-mhqpf   1/1     Running   0          23s\n",
      "\n",
      "NAME                 TYPE        CLUSTER-IP      EXTERNAL-IP   PORT(S)   AGE\n",
      "service/kubernetes   ClusterIP   10.96.0.1       <none>        443/TCP   75m\n",
      "service/my-nginx     ClusterIP   10.109.82.109   <none>        80/TCP    11s\n",
      "\n",
      "NAME                       READY   UP-TO-DATE   AVAILABLE   AGE\n",
      "deployment.apps/my-nginx   2/2     2            2           23s\n",
      "\n",
      "NAME                                  DESIRED   CURRENT   READY   AGE\n",
      "replicaset.apps/my-nginx-5b56ccd65f   2         2         2       23s\n"
     ]
    }
   ],
   "source": [
    "kubectl get all"
   ]
  },
  {
   "cell_type": "code",
   "execution_count": 5,
   "id": "ac89c10b",
   "metadata": {
    "tags": []
   },
   "outputs": [
    {
     "name": "stdout",
     "output_type": "stream",
     "text": [
      "apiVersion: v1\n",
      "kind: Service\n",
      "metadata:\n",
      "  name: my-nginx\n",
      "  labels:\n",
      "    run: my-nginx\n",
      "spec:\n",
      "  ports:\n",
      "  - port: 80\n",
      "    protocol: TCP\n",
      "  selector:\n",
      "    run: my-nginx\n"
     ]
    }
   ],
   "source": [
    "curl https://raw.githubusercontent.com/kubernetes/website/master/content/en/examples/service/networking/nginx-svc.yaml"
   ]
  },
  {
   "cell_type": "code",
   "execution_count": 6,
   "id": "b876892d",
   "metadata": {
    "tags": []
   },
   "outputs": [
    {
     "name": "stdout",
     "output_type": "stream",
     "text": [
      "apiVersion: apps/v1\n",
      "kind: Deployment\n",
      "metadata:\n",
      "  name: my-nginx\n",
      "spec:\n",
      "  selector:\n",
      "    matchLabels:\n",
      "      run: my-nginx\n",
      "  replicas: 2\n",
      "  template:\n",
      "    metadata:\n",
      "      labels:\n",
      "        run: my-nginx\n",
      "    spec:\n",
      "      containers:\n",
      "      - name: my-nginx\n",
      "        image: nginx\n",
      "        ports:\n",
      "        - containerPort: 80\n",
      "\n"
     ]
    }
   ],
   "source": [
    "curl https://raw.githubusercontent.com/kubernetes/website/master/content/en/examples/service/networking/run-my-nginx.yaml"
   ]
  },
  {
   "cell_type": "code",
   "execution_count": 7,
   "id": "8d768310",
   "metadata": {
    "tags": []
   },
   "outputs": [
    {
     "name": "stdout",
     "output_type": "stream",
     "text": [
      "NAME       TYPE        CLUSTER-IP      EXTERNAL-IP   PORT(S)   AGE\n",
      "my-nginx   ClusterIP   10.109.82.109   <none>        80/TCP    3m18s\n"
     ]
    }
   ],
   "source": [
    "kubectl get service my-nginx"
   ]
  },
  {
   "cell_type": "code",
   "execution_count": 8,
   "id": "c27d28cc",
   "metadata": {
    "tags": []
   },
   "outputs": [
    {
     "name": "stdout",
     "output_type": "stream",
     "text": [
      "apiVersion: v1\n",
      "kind: Service\n",
      "metadata:\n",
      "  creationTimestamp: \"2022-01-18T10:41:07Z\"\n",
      "  labels:\n",
      "    run: my-nginx\n",
      "  name: my-nginx\n",
      "  namespace: default\n",
      "  resourceVersion: \"3651\"\n",
      "  uid: fabd50ab-d4f7-43ce-92d3-dc6ab613ef0b\n",
      "spec:\n",
      "  clusterIP: 10.109.82.109\n",
      "  clusterIPs:\n",
      "  - 10.109.82.109\n",
      "  internalTrafficPolicy: Cluster\n",
      "  ipFamilies:\n",
      "  - IPv4\n",
      "  ipFamilyPolicy: SingleStack\n",
      "  ports:\n",
      "  - port: 80\n",
      "    protocol: TCP\n",
      "    targetPort: 80\n",
      "  selector:\n",
      "    run: my-nginx\n",
      "  sessionAffinity: None\n",
      "  type: ClusterIP\n",
      "status:\n",
      "  loadBalancer: {}\n"
     ]
    }
   ],
   "source": [
    "kubectl get service my-nginx -o yaml"
   ]
  },
  {
   "cell_type": "code",
   "execution_count": 10,
   "id": "aec48c2f",
   "metadata": {},
   "outputs": [
    {
     "name": "stdout",
     "output_type": "stream",
     "text": [
      "10.109.82.109"
     ]
    }
   ],
   "source": [
    "kubectl get service my-nginx -o jsonpath='{.spec.clusterIP}'"
   ]
  },
  {
   "cell_type": "code",
   "execution_count": 11,
   "id": "e6838056",
   "metadata": {
    "tags": []
   },
   "outputs": [
    {
     "name": "stdout",
     "output_type": "stream",
     "text": [
      "<!DOCTYPE html>\n",
      "<html>\n",
      "<head>\n",
      "<title>Welcome to nginx!</title>\n",
      "<style>\n",
      "html { color-scheme: light dark; }\n",
      "body { width: 35em; margin: 0 auto;\n",
      "font-family: Tahoma, Verdana, Arial, sans-serif; }\n",
      "</style>\n",
      "</head>\n",
      "<body>\n",
      "<h1>Welcome to nginx!</h1>\n",
      "<p>If you see this page, the nginx web server is successfully installed and\n",
      "working. Further configuration is required.</p>\n",
      "\n",
      "<p>For online documentation and support please refer to\n",
      "<a href=\"http://nginx.org/\">nginx.org</a>.<br/>\n",
      "Commercial support is available at\n",
      "<a href=\"http://nginx.com/\">nginx.com</a>.</p>\n",
      "\n",
      "<p><em>Thank you for using nginx.</em></p>\n",
      "</body>\n",
      "</html>\n"
     ]
    }
   ],
   "source": [
    "IP=$(kubectl get service my-nginx -o jsonpath='{.spec.clusterIP}')\n",
    "curl $IP"
   ]
  },
  {
   "cell_type": "code",
   "execution_count": 12,
   "id": "3da90f58",
   "metadata": {
    "tags": []
   },
   "outputs": [
    {
     "name": "stdout",
     "output_type": "stream",
     "text": [
      "http://10.109.82.109\n"
     ]
    }
   ],
   "source": [
    "echo http://$IP"
   ]
  },
  {
   "cell_type": "code",
   "execution_count": 13,
   "id": "d4141c97",
   "metadata": {
    "tags": []
   },
   "outputs": [
    {
     "name": "stdout",
     "output_type": "stream",
     "text": [
      "10.96.0.1 10.109.82.109 10.96.0.10"
     ]
    }
   ],
   "source": [
    "kubectl get service -A -o jsonpath='{.items[*].spec.clusterIP}'"
   ]
  },
  {
   "cell_type": "code",
   "execution_count": 16,
   "id": "048206fd-bbdc-426c-9d58-556679c60183",
   "metadata": {},
   "outputs": [
    {
     "name": "stdout",
     "output_type": "stream",
     "text": [
      "default/my-nginx-5b56ccd65f-97g4w:\n",
      "  nginx:<no value>\n",
      "default/my-nginx-5b56ccd65f-mhqpf:\n",
      "  nginx:<no value>\n",
      "kube-system/coredns-78fcd69978-n5jfj:\n",
      "  k8s.gcr.io/coredns/coredns:v1.8.4:map[allowPrivilegeEscalation:false capabilities:map[add:[\u001b[01;31m\u001b[KNET_BIND_SERVICE\u001b[m\u001b[K] drop:[all]] readOnlyRootFilesystem:true]\n",
      "kube-system/etcd-minikube:\n",
      "  k8s.gcr.io/etcd:3.5.0-0:<no value>\n",
      "kube-system/kube-apiserver-minikube:\n",
      "  k8s.gcr.io/kube-apiserver:v1.22.2:<no value>\n",
      "kube-system/kube-controller-manager-minikube:\n",
      "  k8s.gcr.io/kube-controller-manager:v1.22.2:<no value>\n",
      "kube-system/kube-proxy-bffmk:\n",
      "  k8s.gcr.io/kube-proxy:v1.22.2:map[\u001b[01;31m\u001b[Kprivileged\u001b[m\u001b[K:true]\n",
      "kube-system/kube-scheduler-minikube:\n",
      "  k8s.gcr.io/kube-scheduler:v1.22.2:<no value>\n",
      "kube-system/storage-provisioner:\n",
      "  gcr.io/k8s-minikube/storage-provisioner:v5:<no value>\n"
     ]
    }
   ],
   "source": [
    "kubectl get pods --all-namespaces -o go-template \\\n",
    "--template=\"{{range .items}}{{.metadata.namespace}}/{{.metadata.name}}:{{println}}{{range .spec.containers}}  {{.image}}:{{.securityContext}}\n",
    "{{end}}{{end}}\" | grep --color=always -E '(^|privileged|NET_BIND_SERVICE)'\n"
   ]
  },
  {
   "cell_type": "code",
   "execution_count": 17,
   "id": "5abbfcb7-5ecc-4349-b5e3-b7db1654d149",
   "metadata": {},
   "outputs": [
    {
     "name": "stdout",
     "output_type": "stream",
     "text": [
      "    - image: nginx\n",
      "      image: nginx:latest\n",
      "    - image: nginx\n",
      "      image: nginx:latest\n"
     ]
    }
   ],
   "source": [
    "kubectl get pods -o yaml | grep image:"
   ]
  },
  {
   "cell_type": "code",
   "execution_count": 18,
   "id": "8431d12e-c4b5-400b-b9f0-105b95c4f9b5",
   "metadata": {},
   "outputs": [
    {
     "name": "stdout",
     "output_type": "stream",
     "text": [
      "    - image: nginx\n",
      "      image: nginx:latest\n",
      "    - image: nginx\n",
      "      image: nginx:latest\n",
      "      image: k8s.gcr.io/coredns/coredns:v1.8.4\n",
      "      image: k8s.gcr.io/coredns/coredns:v1.8.4\n",
      "      image: k8s.gcr.io/etcd:3.5.0-0\n",
      "      image: k8s.gcr.io/etcd:3.5.0-0\n",
      "      image: k8s.gcr.io/kube-apiserver:v1.22.2\n",
      "      image: k8s.gcr.io/kube-apiserver:v1.22.2\n",
      "      image: k8s.gcr.io/kube-controller-manager:v1.22.2\n",
      "      image: k8s.gcr.io/kube-controller-manager:v1.22.2\n",
      "      image: k8s.gcr.io/kube-proxy:v1.22.2\n",
      "      image: k8s.gcr.io/kube-proxy:v1.22.2\n",
      "      image: k8s.gcr.io/kube-scheduler:v1.22.2\n",
      "      image: k8s.gcr.io/kube-scheduler:v1.22.2\n",
      "      image: gcr.io/k8s-minikube/storage-provisioner:v5\n",
      "      image: gcr.io/k8s-minikube/storage-provisioner:v5\n"
     ]
    }
   ],
   "source": [
    "kubectl get pods -A -o yaml | grep image:"
   ]
  },
  {
   "cell_type": "code",
   "execution_count": 19,
   "id": "9bf7e593-343e-430c-8d72-68f22ab5a6e9",
   "metadata": {},
   "outputs": [
    {
     "name": "stdout",
     "output_type": "stream",
     "text": [
      "root         221  0.2  0.1 489804 83160 ?        Ssl  09:25   0:34 /usr/bin/python3 /usr/local/bin/jupyter-lab --ip 192.168.49.2 --allow-root --log-level=INFO\n",
      "root        6920  0.0  0.0 698028 55496 ?        Ssl  09:41   0:01 /usr/bin/python3 -m bash_kernel -f /root/.local/share/jupyter/runtime/kernel-4e617b21-ef6b-484c-ab07-8adf1cf24f6b.json\n",
      "root        6934  0.0  0.0   6004  3000 pts/1    Ss+  09:41   0:00 /usr/bin/bash --rcfile /usr/local/lib/python3.8/dist-packages/pexpect/bashrc.sh\n",
      "root       14193  0.0  0.0 698028 55492 ?        Ssl  10:13   0:01 /usr/bin/python3 -m bash_kernel -f /root/.local/share/jupyter/runtime/kernel-d887ea8e-2664-4248-9037-14b00bf978fd.json\n",
      "root       14207  0.0  0.0   6000  3212 pts/3    Ss+  10:13   0:00 /usr/bin/bash --rcfile /usr/local/lib/python3.8/dist-packages/pexpect/bashrc.sh\n",
      "root       14500  0.0  0.0 698012 55392 ?        Ssl  10:14   0:00 /usr/bin/python3 -m bash_kernel -f /root/.local/share/jupyter/runtime/kernel-5ad7218f-4f56-44d2-854c-07870d3b3cb3.json\n",
      "root       14512  0.0  0.0   6000  3080 pts/4    Ss+  10:14   0:00 /usr/bin/bash --rcfile /usr/local/lib/python3.8/dist-packages/pexpect/bashrc.sh\n",
      "root       18741  0.0  0.0 698012 55816 ?        Rsl  10:33   0:01 /usr/bin/python3 -m bash_kernel -f /root/.local/share/jupyter/runtime/kernel-3720f79d-c0cc-46db-acc0-3e0ed5ebc8ca.json\n",
      "root       18753  0.0  0.0   6000  3692 pts/5    Ss   10:33   0:00 /usr/bin/bash --rcfile /usr/local/lib/python3.8/dist-packages/pexpect/bashrc.sh\n",
      "root       37668  0.0  0.0 698012 55952 ?        Ssl  11:31   0:00 /usr/bin/python3 -m bash_kernel -f /root/.local/share/jupyter/runtime/kernel-d0fdffa1-5bc6-4ef2-94c7-a7afd3eab653.json\n",
      "root       37680  0.0  0.0   6000  3712 pts/8    Ss+  11:31   0:00 /usr/bin/bash --rcfile /usr/local/lib/python3.8/dist-packages/pexpect/bashrc.sh\n",
      "root       53592  0.0  0.0   5196   732 pts/5    S+   12:39   0:00 grep --color=auto python\n"
     ]
    }
   ],
   "source": [
    "ps aux |grep python"
   ]
  },
  {
   "cell_type": "code",
   "execution_count": 21,
   "id": "b1bb1370-ead0-4847-a6f3-14bb845644b8",
   "metadata": {},
   "outputs": [
    {
     "name": "stdout",
     "output_type": "stream",
     "text": [
      "apiVersion: v1\n",
      "kind: Pod\n",
      "metadata:\n",
      "  creationTimestamp: \"2022-01-18T09:25:40Z\"\n",
      "  generateName: coredns-78fcd69978-\n",
      "  labels:\n",
      "    k8s-app: kube-dns\n",
      "    pod-template-hash: 78fcd69978\n",
      "  name: coredns-78fcd69978-n5jfj\n",
      "  namespace: kube-system\n",
      "  ownerReferences:\n",
      "  - apiVersion: apps/v1\n",
      "    blockOwnerDeletion: true\n",
      "    controller: true\n",
      "    kind: ReplicaSet\n",
      "    name: coredns-78fcd69978\n",
      "    uid: 22c45d16-a872-43b5-8d47-4aa714446424\n",
      "  resourceVersion: \"459\"\n",
      "  uid: 618a81e6-1cba-41e6-a8ea-758a11af7b74\n",
      "spec:\n",
      "  containers:\n",
      "  - args:\n",
      "    - -conf\n",
      "    - /etc/coredns/Corefile\n",
      "    image: k8s.gcr.io/coredns/coredns:v1.8.4\n",
      "    imagePullPolicy: IfNotPresent\n",
      "    livenessProbe:\n",
      "      failureThreshold: 5\n",
      "      httpGet:\n",
      "        path: /health\n",
      "        port: 8080\n",
      "        scheme: HTTP\n",
      "      initialDelaySeconds: 60\n",
      "      periodSeconds: 10\n",
      "      successThreshold: 1\n",
      "      timeoutSeconds: 5\n",
      "    name: coredns\n",
      "    ports:\n",
      "    - containerPort: 53\n",
      "      name: dns\n",
      "      protocol: UDP\n",
      "    - containerPort: 53\n",
      "      name: dns-tcp\n",
      "      protocol: TCP\n",
      "    - containerPort: 9153\n",
      "      name: metrics\n",
      "      protocol: TCP\n",
      "    readinessProbe:\n",
      "      failureThreshold: 3\n",
      "      httpGet:\n",
      "        path: /ready\n",
      "        port: 8181\n",
      "        scheme: HTTP\n",
      "      periodSeconds: 10\n",
      "      successThreshold: 1\n",
      "      timeoutSeconds: 1\n",
      "    resources:\n",
      "      limits:\n",
      "        memory: 170Mi\n",
      "      requests:\n",
      "        cpu: 100m\n",
      "        memory: 70Mi\n",
      "    securityContext:\n",
      "      allowPrivilegeEscalation: false\n",
      "      capabilities:\n",
      "        add:\n",
      "        - NET_BIND_SERVICE\n",
      "        drop:\n",
      "        - all\n",
      "      readOnlyRootFilesystem: true\n",
      "    terminationMessagePath: /dev/termination-log\n",
      "    terminationMessagePolicy: File\n",
      "    volumeMounts:\n",
      "    - mountPath: /etc/coredns\n",
      "      name: config-volume\n",
      "      readOnly: true\n",
      "    - mountPath: /var/run/secrets/kubernetes.io/serviceaccount\n",
      "      name: kube-api-access-n8gc8\n",
      "      readOnly: true\n",
      "  dnsPolicy: Default\n",
      "  enableServiceLinks: true\n",
      "  nodeName: minikube\n",
      "  nodeSelector:\n",
      "    kubernetes.io/os: linux\n",
      "  preemptionPolicy: PreemptLowerPriority\n",
      "  priority: 2000000000\n",
      "  priorityClassName: system-cluster-critical\n",
      "  restartPolicy: Always\n",
      "  schedulerName: default-scheduler\n",
      "  securityContext: {}\n",
      "  serviceAccount: coredns\n",
      "  serviceAccountName: coredns\n",
      "  terminationGracePeriodSeconds: 30\n",
      "  tolerations:\n",
      "  - key: CriticalAddonsOnly\n",
      "    operator: Exists\n",
      "  - effect: NoSchedule\n",
      "    key: node-role.kubernetes.io/master\n",
      "  - effect: NoSchedule\n",
      "    key: node-role.kubernetes.io/control-plane\n",
      "  - effect: NoExecute\n",
      "    key: node.kubernetes.io/not-ready\n",
      "    operator: Exists\n",
      "    tolerationSeconds: 300\n",
      "  - effect: NoExecute\n",
      "    key: node.kubernetes.io/unreachable\n",
      "    operator: Exists\n",
      "    tolerationSeconds: 300\n",
      "  volumes:\n",
      "  - configMap:\n",
      "      defaultMode: 420\n",
      "      items:\n",
      "      - key: Corefile\n",
      "        path: Corefile\n",
      "      name: coredns\n",
      "    name: config-volume\n",
      "  - name: kube-api-access-n8gc8\n",
      "    projected:\n",
      "      defaultMode: 420\n",
      "      sources:\n",
      "      - serviceAccountToken:\n",
      "          expirationSeconds: 3607\n",
      "          path: token\n",
      "      - configMap:\n",
      "          items:\n",
      "          - key: ca.crt\n",
      "            path: ca.crt\n",
      "          name: kube-root-ca.crt\n",
      "      - downwardAPI:\n",
      "          items:\n",
      "          - fieldRef:\n",
      "              apiVersion: v1\n",
      "              fieldPath: metadata.namespace\n",
      "            path: namespace\n",
      "status:\n",
      "  conditions:\n",
      "  - lastProbeTime: null\n",
      "    lastTransitionTime: \"2022-01-18T09:25:40Z\"\n",
      "    status: \"True\"\n",
      "    type: Initialized\n",
      "  - lastProbeTime: null\n",
      "    lastTransitionTime: \"2022-01-18T09:25:44Z\"\n",
      "    status: \"True\"\n",
      "    type: Ready\n",
      "  - lastProbeTime: null\n",
      "    lastTransitionTime: \"2022-01-18T09:25:44Z\"\n",
      "    status: \"True\"\n",
      "    type: ContainersReady\n",
      "  - lastProbeTime: null\n",
      "    lastTransitionTime: \"2022-01-18T09:25:40Z\"\n",
      "    status: \"True\"\n",
      "    type: PodScheduled\n",
      "  containerStatuses:\n",
      "  - containerID: docker://b35a78a8b5b0190ecd237b8e2ca4cd738e3fff00c1f37dd9b8e2883c21b061b3\n",
      "    image: k8s.gcr.io/coredns/coredns:v1.8.4\n",
      "    imageID: docker-pullable://k8s.gcr.io/coredns/coredns@sha256:6e5a02c21641597998b4be7cb5eb1e7b02c0d8d23cce4dd09f4682d463798890\n",
      "    lastState: {}\n",
      "    name: coredns\n",
      "    ready: true\n",
      "    restartCount: 0\n",
      "    started: true\n",
      "    state:\n",
      "      running:\n",
      "        startedAt: \"2022-01-18T09:25:41Z\"\n",
      "  hostIP: 192.168.49.2\n",
      "  phase: Running\n",
      "  podIP: 172.17.0.2\n",
      "  podIPs:\n",
      "  - ip: 172.17.0.2\n",
      "  qosClass: Burstable\n",
      "  startTime: \"2022-01-18T09:25:40Z\"\n"
     ]
    }
   ],
   "source": [
    "kubectl get pod -n kube-system coredns-78fcd69978-n5jfj -o yaml"
   ]
  },
  {
   "cell_type": "code",
   "execution_count": null,
   "id": "2de3ce95-01f1-467d-b508-db1c6316c48f",
   "metadata": {},
   "outputs": [],
   "source": []
  }
 ],
 "metadata": {
  "kernelspec": {
   "display_name": "Bash",
   "language": "bash",
   "name": "bash"
  },
  "language_info": {
   "codemirror_mode": "shell",
   "file_extension": ".sh",
   "mimetype": "text/x-sh",
   "name": "bash"
  }
 },
 "nbformat": 4,
 "nbformat_minor": 5
}
