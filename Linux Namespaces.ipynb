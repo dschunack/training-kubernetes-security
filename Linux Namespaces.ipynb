{
 "cells": [
  {
   "cell_type": "markdown",
   "id": "1b161567",
   "metadata": {},
   "source": [
    "**This notebook covered by the following [license](License.ipynb)  This note must not be removed**"
   ]
  },
  {
   "cell_type": "markdown",
   "id": "57cd78e0",
   "metadata": {},
   "source": [
    "# Linux namespaces\n",
    "\n",
    "![Namespaces](namespaces.png)"
   ]
  },
  {
   "cell_type": "markdown",
   "id": "34a3f342",
   "metadata": {},
   "source": [
    "![container vs hypervisor](docker-hypervisor.png)"
   ]
  },
  {
   "cell_type": "code",
   "execution_count": 1,
   "id": "9ab9f74c",
   "metadata": {},
   "outputs": [
    {
     "name": "stdout",
     "output_type": "stream",
     "text": [
      "CONTAINER ID   IMAGE                        COMMAND                  CREATED          STATUS          PORTS     NAMES\n",
      "955d63c80410   k8s.gcr.io/coredns/coredns   \"/coredns -conf /etc…\"   4 minutes ago    Up 4 minutes              k8s_coredns_coredns-bcc9dbffc-nxcjt_kube-system_4c378bdc-4281-4ac9-9782-31be48c4fb57_0\n",
      "f425fa4798e7   k8s.gcr.io/pause:3.5         \"/pause\"                 4 minutes ago    Up 4 minutes              k8s_POD_coredns-bcc9dbffc-nxcjt_kube-system_4c378bdc-4281-4ac9-9782-31be48c4fb57_0\n",
      "e4c493783c4e   7801cfc6d5c0                 \"/metrics-sidecar\"       16 minutes ago   Up 16 minutes             k8s_dashboard-metrics-scraper_dashboard-metrics-scraper-5594458c94-crv56_kubernetes-dashboard_66271be3-b2fc-425f-a72e-816771868b32_0\n",
      "ace8cb8de851   e1482a24335a                 \"/dashboard --insecu…\"   16 minutes ago   Up 16 minutes             k8s_kubernetes-dashboard_kubernetes-dashboard-654cf69797-g5q9d_kubernetes-dashboard_42b3655a-56be-41bb-9bc3-f603c4cd5797_0\n",
      "5e4ed1855647   k8s.gcr.io/pause:3.5         \"/pause\"                 16 minutes ago   Up 16 minutes             k8s_POD_dashboard-metrics-scraper-5594458c94-crv56_kubernetes-dashboard_66271be3-b2fc-425f-a72e-816771868b32_0\n",
      "86a48a78ce47   k8s.gcr.io/pause:3.5         \"/pause\"                 16 minutes ago   Up 16 minutes             k8s_POD_kubernetes-dashboard-654cf69797-g5q9d_kubernetes-dashboard_42b3655a-56be-41bb-9bc3-f603c4cd5797_0\n",
      "14a397866710   nginx                        \"/docker-entrypoint.…\"   2 hours ago      Up 2 hours                k8s_my-nginx_my-nginx-5b56ccd65f-4xxg2_default_f1bf0c5d-ad9f-4a28-beeb-5123ec8057a2_0\n",
      "1b5b03665c5e   k8s.gcr.io/pause:3.5         \"/pause\"                 2 hours ago      Up 2 hours                k8s_POD_my-nginx-5b56ccd65f-4xxg2_default_f1bf0c5d-ad9f-4a28-beeb-5123ec8057a2_0\n",
      "6fd43cef7cb1   nginx                        \"/docker-entrypoint.…\"   3 hours ago      Up 3 hours                k8s_my-nginx_my-nginx-5b56ccd65f-mhqpf_default_fdc9bad5-ec0c-4fb0-8cea-2f3027a92f7e_0\n",
      "0468ae30546f   k8s.gcr.io/pause:3.5         \"/pause\"                 3 hours ago      Up 3 hours                k8s_POD_my-nginx-5b56ccd65f-mhqpf_default_fdc9bad5-ec0c-4fb0-8cea-2f3027a92f7e_0\n",
      "31b4343496e2   6e38f40d628d                 \"/storage-provisioner\"   4 hours ago      Up 4 hours                k8s_storage-provisioner_storage-provisioner_kube-system_e2f9acc4-4400-48f1-94e1-8f1f11d47c11_1\n",
      "d11b74ad0480   873127efbc8a                 \"/usr/local/bin/kube…\"   4 hours ago      Up 4 hours                k8s_kube-proxy_kube-proxy-bffmk_kube-system_25297b01-a3f4-4a9c-b8c4-aecabb8e1df0_0\n",
      "cd8ea15c7db0   k8s.gcr.io/pause:3.5         \"/pause\"                 4 hours ago      Up 4 hours                k8s_POD_kube-proxy-bffmk_kube-system_25297b01-a3f4-4a9c-b8c4-aecabb8e1df0_0\n",
      "4afb2692e342   k8s.gcr.io/pause:3.5         \"/pause\"                 4 hours ago      Up 4 hours                k8s_POD_storage-provisioner_kube-system_e2f9acc4-4400-48f1-94e1-8f1f11d47c11_0\n",
      "312ce723fbd3   e64579b7d886                 \"kube-apiserver --ad…\"   4 hours ago      Up 4 hours                k8s_kube-apiserver_kube-apiserver-minikube_kube-system_fe49842e48a1ca6bac988e8ba88ecc53_0\n",
      "e2dc90d1d57c   5425bcbd23c5                 \"kube-controller-man…\"   4 hours ago      Up 4 hours                k8s_kube-controller-manager_kube-controller-manager-minikube_kube-system_4787f37e041fd890d5499a8863561e5f_0\n",
      "ec70e3c3a1ea   004811815584                 \"etcd --advertise-cl…\"   4 hours ago      Up 4 hours                k8s_etcd_etcd-minikube_kube-system_08a3871e1baa241b73e5af01a6d01393_0\n",
      "8f846d9d0441   b51ddc1014b0                 \"kube-scheduler --au…\"   4 hours ago      Up 4 hours                k8s_kube-scheduler_kube-scheduler-minikube_kube-system_97bca4cd66281ad2157a6a68956c4fa5_0\n",
      "fd74eb3f8ee5   k8s.gcr.io/pause:3.5         \"/pause\"                 4 hours ago      Up 4 hours                k8s_POD_kube-scheduler-minikube_kube-system_97bca4cd66281ad2157a6a68956c4fa5_0\n",
      "e47fb0f0c75c   k8s.gcr.io/pause:3.5         \"/pause\"                 4 hours ago      Up 4 hours                k8s_POD_kube-controller-manager-minikube_kube-system_4787f37e041fd890d5499a8863561e5f_0\n",
      "054189614fc4   k8s.gcr.io/pause:3.5         \"/pause\"                 4 hours ago      Up 4 hours                k8s_POD_kube-apiserver-minikube_kube-system_fe49842e48a1ca6bac988e8ba88ecc53_0\n",
      "62bbad79f3da   k8s.gcr.io/pause:3.5         \"/pause\"                 4 hours ago      Up 4 hours                k8s_POD_etcd-minikube_kube-system_08a3871e1baa241b73e5af01a6d01393_0\n"
     ]
    }
   ],
   "source": [
    "docker ps"
   ]
  },
  {
   "cell_type": "code",
   "execution_count": 2,
   "id": "152279a1",
   "metadata": {},
   "outputs": [
    {
     "name": "stdout",
     "output_type": "stream",
     "text": [
      "CONTAINER           IMAGE                                                                                                CREATED             STATE               NAME                        ATTEMPT             POD ID\n",
      "955d63c804109       k8s.gcr.io/coredns/coredns@sha256:43a9f52f5dce39bf1816afe6141724cc2d08811e466dd46e6628c925e2419bdc   5 minutes ago       Running             coredns                     0                   f425fa4798e72\n",
      "e4c493783c4ea       7801cfc6d5c07                                                                                        17 minutes ago      Running             dashboard-metrics-scraper   0                   5e4ed1855647f\n",
      "ace8cb8de8513       e1482a24335a6                                                                                        17 minutes ago      Running             kubernetes-dashboard        0                   86a48a78ce478\n",
      "14a3978667108       nginx@sha256:0d17b565c37bcbd895e9d92315a05c1c3c9a29f762b011a10c54a66cd53c9b31                        2 hours ago         Running             my-nginx                    0                   1b5b03665c5ee\n",
      "6fd43cef7cb1e       nginx@sha256:0d17b565c37bcbd895e9d92315a05c1c3c9a29f762b011a10c54a66cd53c9b31                        3 hours ago         Running             my-nginx                    0                   0468ae30546fb\n",
      "31b4343496e24       6e38f40d628db                                                                                        4 hours ago         Running             storage-provisioner         1                   4afb2692e342d\n",
      "d11b74ad0480e       873127efbc8a7                                                                                        4 hours ago         Running             kube-proxy                  0                   cd8ea15c7db0b\n",
      "312ce723fbd30       e64579b7d8862                                                                                        4 hours ago         Running             kube-apiserver              0                   054189614fc48\n",
      "e2dc90d1d57c1       5425bcbd23c54                                                                                        4 hours ago         Running             kube-controller-manager     0                   e47fb0f0c75ca\n",
      "ec70e3c3a1eac       0048118155842                                                                                        4 hours ago         Running             etcd                        0                   62bbad79f3daf\n",
      "8f846d9d04415       b51ddc1014b04                                                                                        4 hours ago         Running             kube-scheduler              0                   fd74eb3f8ee59\n"
     ]
    }
   ],
   "source": [
    "crictl ps"
   ]
  },
  {
   "cell_type": "code",
   "execution_count": null,
   "id": "eef0573d-a628-4411-a20c-d4e437740309",
   "metadata": {},
   "outputs": [],
   "source": [
    "kubectl create deployment nginx --image=nginx"
   ]
  },
  {
   "cell_type": "code",
   "execution_count": 3,
   "id": "403c0864-6985-4e38-9bc3-2417eac4206d",
   "metadata": {},
   "outputs": [
    {
     "name": "stdout",
     "output_type": "stream",
     "text": [
      "NAME                            READY   STATUS    RESTARTS   AGE\n",
      "pod/my-nginx-5b56ccd65f-4xxg2   1/1     Running   0          111m\n",
      "pod/my-nginx-5b56ccd65f-mhqpf   1/1     Running   0          154m\n",
      "\n",
      "NAME                 TYPE        CLUSTER-IP      EXTERNAL-IP   PORT(S)   AGE\n",
      "service/kubernetes   ClusterIP   10.96.0.1       <none>        443/TCP   3h49m\n",
      "service/my-nginx     ClusterIP   10.109.82.109   <none>        80/TCP    154m\n",
      "\n",
      "NAME                       READY   UP-TO-DATE   AVAILABLE   AGE\n",
      "deployment.apps/my-nginx   2/2     2            2           154m\n",
      "\n",
      "NAME                                  DESIRED   CURRENT   READY   AGE\n",
      "replicaset.apps/my-nginx-5b56ccd65f   2         2         2       154m\n"
     ]
    }
   ],
   "source": [
    "kubectl get all"
   ]
  },
  {
   "cell_type": "code",
   "execution_count": 5,
   "id": "b94b3c7f",
   "metadata": {},
   "outputs": [],
   "source": [
    "POD=k8s_my-nginx_my-nginx-5b56ccd65f-4xxg2_default_f1bf0c5d-ad9f-4a28-beeb-5123ec8057a2_0"
   ]
  },
  {
   "cell_type": "code",
   "execution_count": 6,
   "id": "71347b3c",
   "metadata": {},
   "outputs": [
    {
     "name": "stdout",
     "output_type": "stream",
     "text": [
      "Enter\n",
      "nsenter -t 35273 -n bash\n",
      "in a terminal\n"
     ]
    }
   ],
   "source": [
    "STATE_PID=$(docker inspect --format '{{.State.Pid}}' $POD)\n",
    "echo Enter\n",
    "echo nsenter -t $STATE_PID -n bash\n",
    "echo in a terminal  "
   ]
  },
  {
   "cell_type": "code",
   "execution_count": 7,
   "id": "8fc8e4f1",
   "metadata": {},
   "outputs": [
    {
     "name": "stdout",
     "output_type": "stream",
     "text": [
      "\n",
      "Usage:\n",
      " nsenter [options] [<program> [<argument>...]]\n",
      "\n",
      "Run a program with namespaces of other processes.\n",
      "\n",
      "Options:\n",
      " -a, --all              enter all namespaces\n",
      " -t, --target <pid>     target process to get namespaces from\n",
      " -m, --mount[=<file>]   enter mount namespace\n",
      " -u, --uts[=<file>]     enter UTS namespace (hostname etc)\n",
      " -i, --ipc[=<file>]     enter System V IPC namespace\n",
      " -n, --net[=<file>]     enter network namespace\n",
      " -p, --pid[=<file>]     enter pid namespace\n",
      " -C, --cgroup[=<file>]  enter cgroup namespace\n",
      " -U, --user[=<file>]    enter user namespace\n",
      " -S, --setuid <uid>     set uid in entered namespace\n",
      " -G, --setgid <gid>     set gid in entered namespace\n",
      "     --preserve-credentials do not touch uids or gids\n",
      " -r, --root[=<dir>]     set the root directory\n",
      " -w, --wd[=<dir>]       set the working directory\n",
      " -F, --no-fork          do not fork before exec'ing <program>\n",
      " -Z, --follow-context   set SELinux context according to --target PID\n",
      "\n",
      " -h, --help             display this help\n",
      " -V, --version          display version\n",
      "\n",
      "For more details see nsenter(1).\n"
     ]
    }
   ],
   "source": [
    "nsenter --help"
   ]
  },
  {
   "cell_type": "code",
   "execution_count": 8,
   "id": "26a6948e",
   "metadata": {},
   "outputs": [
    {
     "name": "stdout",
     "output_type": "stream",
     "text": [
      "1: lo: <LOOPBACK,UP,LOWER_UP> mtu 65536 qdisc noqueue state UNKNOWN group default qlen 1000\n",
      "    link/loopback 00:00:00:00:00:00 brd 00:00:00:00:00:00\n",
      "    inet 127.0.0.1/8 scope host lo\n",
      "       valid_lft forever preferred_lft forever\n",
      "41: eth0@if42: <BROADCAST,MULTICAST,UP,LOWER_UP> mtu 1500 qdisc noqueue state UP group default \n",
      "    link/ether 02:42:ac:11:00:15 brd ff:ff:ff:ff:ff:ff link-netnsid 0\n",
      "    inet 172.17.0.21/16 brd 172.17.255.255 scope global eth0\n",
      "       valid_lft forever preferred_lft forever\n"
     ]
    }
   ],
   "source": [
    "nsenter -t $STATE_PID -n ip a"
   ]
  },
  {
   "cell_type": "code",
   "execution_count": 9,
   "id": "274aad3c",
   "metadata": {},
   "outputs": [
    {
     "name": "stdout",
     "output_type": "stream",
     "text": [
      "1: lo: <LOOPBACK,UP,LOWER_UP> mtu 65536 qdisc noqueue state UNKNOWN group default qlen 1000\n",
      "    link/loopback 00:00:00:00:00:00 brd 00:00:00:00:00:00\n",
      "    inet 127.0.0.1/8 scope host lo\n",
      "       valid_lft forever preferred_lft forever\n",
      "2: docker0: <BROADCAST,MULTICAST,UP,LOWER_UP> mtu 1500 qdisc noqueue state UP group default \n",
      "    link/ether 02:42:a9:68:5f:49 brd ff:ff:ff:ff:ff:ff\n",
      "    inet 172.17.0.1/16 brd 172.17.255.255 scope global docker0\n",
      "       valid_lft forever preferred_lft forever\n",
      "8: veth8b87da2@if7: <BROADCAST,MULTICAST,UP,LOWER_UP> mtu 1500 qdisc noqueue master docker0 state UP group default \n",
      "    link/ether ae:15:15:14:ee:f0 brd ff:ff:ff:ff:ff:ff link-netnsid 3\n",
      "42: veth49566ff@if41: <BROADCAST,MULTICAST,UP,LOWER_UP> mtu 1500 qdisc noqueue master docker0 state UP group default \n",
      "    link/ether e6:f8:2e:06:ec:07 brd ff:ff:ff:ff:ff:ff link-netnsid 20\n",
      "48: vethaac5a96@if47: <BROADCAST,MULTICAST,UP,LOWER_UP> mtu 1500 qdisc noqueue master docker0 state UP group default \n",
      "    link/ether 7e:04:a7:ad:f4:15 brd ff:ff:ff:ff:ff:ff link-netnsid 2\n",
      "50: vethcc47c07@if49: <BROADCAST,MULTICAST,UP,LOWER_UP> mtu 1500 qdisc noqueue master docker0 state UP group default \n",
      "    link/ether 02:65:d7:a0:29:9a brd ff:ff:ff:ff:ff:ff link-netnsid 4\n",
      "52: veth01bcfbd@if51: <BROADCAST,MULTICAST,UP,LOWER_UP> mtu 1500 qdisc noqueue master docker0 state UP group default \n",
      "    link/ether 96:d6:c3:b9:b9:f1 brd ff:ff:ff:ff:ff:ff link-netnsid 5\n",
      "91: eth0@if92: <BROADCAST,MULTICAST,UP,LOWER_UP> mtu 1500 qdisc noqueue state UP group default \n",
      "    link/ether 02:42:c0:a8:31:02 brd ff:ff:ff:ff:ff:ff link-netnsid 0\n",
      "    inet 192.168.49.2/24 brd 192.168.49.255 scope global eth0\n",
      "       valid_lft forever preferred_lft forever\n"
     ]
    }
   ],
   "source": [
    "ip a"
   ]
  },
  {
   "cell_type": "markdown",
   "id": "a24b6735",
   "metadata": {},
   "source": [
    " # Danger!\n",
    " \n",
    " OpenVpn works and could be used as backdoor"
   ]
  },
  {
   "cell_type": "code",
   "execution_count": 10,
   "id": "ca9c6770",
   "metadata": {},
   "outputs": [
    {
     "name": "stdout",
     "output_type": "stream",
     "text": [
      "my-nginx-5b56ccd65f-4xxg2\n"
     ]
    }
   ],
   "source": [
    "nsenter -t $STATE_PID -a hostname"
   ]
  },
  {
   "cell_type": "code",
   "execution_count": 11,
   "id": "6302b06c",
   "metadata": {
    "tags": []
   },
   "outputs": [
    {
     "name": "stdout",
     "output_type": "stream",
     "text": [
      "nsenter: failed to execute ip: No such file or directory\n"
     ]
    },
    {
     "ename": "",
     "evalue": "127",
     "output_type": "error",
     "traceback": []
    }
   ],
   "source": [
    "nsenter -t $STATE_PID -a ip a"
   ]
  },
  {
   "cell_type": "code",
   "execution_count": 19,
   "id": "8bab88db-1ca3-4950-8743-7be8be777d4a",
   "metadata": {},
   "outputs": [
    {
     "name": "stdout",
     "output_type": "stream",
     "text": [
      "1: lo: <LOOPBACK,UP,LOWER_UP> mtu 65536 qdisc noqueue state UNKNOWN group default qlen 1000\n",
      "    link/loopback 00:00:00:00:00:00 brd 00:00:00:00:00:00\n",
      "    inet 127.0.0.1/8 scope host lo\n",
      "       valid_lft forever preferred_lft forever\n",
      "41: eth0@if42: <BROADCAST,MULTICAST,UP,LOWER_UP> mtu 1500 qdisc noqueue state UP group default \n",
      "    link/ether 02:42:ac:11:00:15 brd ff:ff:ff:ff:ff:ff link-netnsid 0\n",
      "    inet 172.17.0.21/16 brd 172.17.255.255 scope global eth0\n",
      "       valid_lft forever preferred_lft forever\n"
     ]
    }
   ],
   "source": [
    "nsenter -t $STATE_PID -n ip a"
   ]
  },
  {
   "cell_type": "code",
   "execution_count": 12,
   "id": "5c33c5e7",
   "metadata": {},
   "outputs": [
    {
     "name": "stdout",
     "output_type": "stream",
     "text": [
      "default via 172.17.0.1 dev eth0 \n",
      "172.17.0.0/16 dev eth0 proto kernel scope link src 172.17.0.21 \n"
     ]
    }
   ],
   "source": [
    "nsenter -t $STATE_PID -n ip route"
   ]
  },
  {
   "cell_type": "code",
   "execution_count": 13,
   "id": "1fd324b0",
   "metadata": {},
   "outputs": [
    {
     "name": "stdout",
     "output_type": "stream",
     "text": [
      "default via 192.168.49.1 dev eth0 \n",
      "172.17.0.0/16 dev docker0 proto kernel scope link src 172.17.0.1 \n",
      "192.168.49.0/24 dev eth0 proto kernel scope link src 192.168.49.2 \n"
     ]
    }
   ],
   "source": [
    "ip route"
   ]
  },
  {
   "cell_type": "code",
   "execution_count": 14,
   "id": "4cf72f2c",
   "metadata": {},
   "outputs": [
    {
     "name": "stdout",
     "output_type": "stream",
     "text": [
      "bin   docker-entrypoint.d   home   media  proc\tsbin  tmp\n",
      "boot  docker-entrypoint.sh  lib    mnt\t  root\tsrv   usr\n",
      "dev   etc\t\t    lib64  opt\t  run\tsys   var\n"
     ]
    }
   ],
   "source": [
    "nsenter -t $STATE_PID -a ls"
   ]
  },
  {
   "cell_type": "code",
   "execution_count": 15,
   "id": "b8e6704d",
   "metadata": {},
   "outputs": [
    {
     "name": "stdout",
     "output_type": "stream",
     "text": [
      " AccountWithRBAC.ipynb       NetworkPolicy.ipynb\n",
      " AuditLogs.ipynb             OPA.ipynb\n",
      " Calico-Iptables.ipynb       OpenPolicyAgent.ipynb\n",
      " ClusterOverview.ipynb       OpenShift\n",
      " ContainerdCloudbomb.ipynb   Overview.ipynb\n",
      " CrioBomb.ipynb              PodSecurityPolicyBasic.ipynb\n",
      " Harbor.ipynb                PodSecurityPolicyPermissive.ipynb\n",
      " Hardening-NGinx.ipynb       PodSecurityPolicyStrict.ipynb\n",
      " Helm.ipynb                 'Postgres Zalando.ipynb'\n",
      " Ingress.ipynb               README.md\n",
      " IngressKong.ipynb           ServiceAccountToken.ipynb\n",
      " IngressKongStart.ipynb      Unprivileged.ipynb\n",
      " IngressStart.ipynb          default-rbac.png\n",
      " Istio-Traffic-Mgmt.ipynb    defaut-rbac.dot\n",
      " Istio1.8.2.ipynb            docker-hypervisor.png\n",
      " IstioHack.ipynb             kube-bench.ipynb\n",
      " Keycloak.ipynb              kubernetes-client.png\n",
      " Kube-Scan-Cloudbomb.ipynb   minikube.dot\n",
      " KubeLogin.ipynb             minikube.png\n",
      " KubernetesBasics.ipynb      my-namespace-rbac.dot\n",
      " License.ipynb               my-namespace-rbac.png\n",
      "'Linux Namespaces.ipynb'     namespaces.dot\n",
      " MKCert.ipynb                namespaces.png\n",
      " Makefile                    realm.png\n"
     ]
    }
   ],
   "source": [
    "ls"
   ]
  },
  {
   "cell_type": "code",
   "execution_count": 16,
   "id": "113a7457",
   "metadata": {},
   "outputs": [
    {
     "name": "stdout",
     "output_type": "stream",
     "text": [
      "nsenter: failed to execute ps: No such file or directory\n"
     ]
    },
    {
     "ename": "",
     "evalue": "127",
     "output_type": "error",
     "traceback": []
    }
   ],
   "source": [
    "nsenter -t $STATE_PID -a ps auxwww"
   ]
  },
  {
   "cell_type": "code",
   "execution_count": 17,
   "id": "c888b6a3",
   "metadata": {
    "collapsed": true,
    "jupyter": {
     "outputs_hidden": true
    },
    "tags": []
   },
   "outputs": [
    {
     "name": "stdout",
     "output_type": "stream",
     "text": [
      "USER         PID %CPU %MEM    VSZ   RSS TTY      STAT START   TIME COMMAND\n",
      "root           1  0.0  0.0  22508 11136 ?        Ss   09:24   0:04 /sbin/init\n",
      "root         182  0.0  0.0  28932 12052 ?        S<s  09:25   0:00 /lib/systemd/systemd-journald\n",
      "message+     194  0.0  0.0   7008  3724 ?        Ss   09:25   0:00 /usr/bin/dbus-daemon --system --address=systemd: --nofork --nopidfile --systemd-activation --syslog-only\n",
      "root         201  0.1  0.0 2308680 50504 ?       Ssl  09:25   0:24 /usr/bin/containerd\n",
      "root         212  0.0  0.0  12184  5832 ?        Ss   09:25   0:00 sshd: /usr/sbin/sshd -D [listener] 0 of 10-100 startups\n",
      "root         221  0.3  0.1 490640 84572 ?        Ssl  09:25   0:48 /usr/bin/python3 /usr/local/bin/jupyter-lab --ip 192.168.49.2 --allow-root --log-level=INFO\n",
      "root         475  1.9  0.1 3747112 103240 ?      Ssl  09:25   4:43 /usr/bin/dockerd -H tcp://0.0.0.0:2376 -H unix:///var/run/docker.sock --default-ulimit=nofile=1048576:1048576 --tlsverify --tlscacert /etc/docker/ca.pem --tlscert /etc/docker/server.pem --tlskey /etc/docker/server-key.pem --label provider=docker --insecure-registry 10.96.0.0/12\n",
      "root        1713  0.0  0.0 712856  8508 ?        Sl   09:25   0:01 /usr/bin/containerd-shim-runc-v2 -namespace moby -id fd74eb3f8ee5917418c1f10f95111eb78d87685b8f04908ab885c31f2c932dbc -address /run/containerd/containerd.sock\n",
      "root        1714  0.0  0.0 712856  8472 ?        Sl   09:25   0:00 /usr/bin/containerd-shim-runc-v2 -namespace moby -id 054189614fc4876bb2016b0181b62595ecd4a21449d451bb49e50b41103c96b2 -address /run/containerd/containerd.sock\n",
      "root        1715  0.0  0.0 711448  9480 ?        Sl   09:25   0:01 /usr/bin/containerd-shim-runc-v2 -namespace moby -id 62bbad79f3daf5d9b68a4e6d71409436cf6895394e70fbccf73ae71271de60d2 -address /run/containerd/containerd.sock\n",
      "root        1716  0.0  0.0 712856  9356 ?        Sl   09:25   0:01 /usr/bin/containerd-shim-runc-v2 -namespace moby -id e47fb0f0c75ca9a4ff3cf6acc878ed2d4efaff0e7bd9ff8d88c9d8f1eaae71d9 -address /run/containerd/containerd.sock\n",
      "65535       1792  0.0  0.0    972     4 ?        Ss   09:25   0:00 /pause\n",
      "65535       1793  0.0  0.0    972     4 ?        Ss   09:25   0:00 /pause\n",
      "65535       1806  0.0  0.0    972     4 ?        Ss   09:25   0:00 /pause\n",
      "65535       1807  0.0  0.0    972     4 ?        Ss   09:25   0:00 /pause\n",
      "root        1881  0.0  0.0 711448  8520 ?        Sl   09:25   0:01 /usr/bin/containerd-shim-runc-v2 -namespace moby -id ec70e3c3a1eac7cfc48a7f11f0f57e22f580decb471d2fa4d6304feae48f5e9d -address /run/containerd/containerd.sock\n",
      "root        1901  0.0  0.0 712856  9324 ?        Sl   09:25   0:00 /usr/bin/containerd-shim-runc-v2 -namespace moby -id e2dc90d1d57c16460d230eae1eade8d41b05e50f46ff6dadc5576e6f259690cb -address /run/containerd/containerd.sock\n",
      "root        1942  0.0  0.0 712856  8248 ?        Sl   09:25   0:00 /usr/bin/containerd-shim-runc-v2 -namespace moby -id 312ce723fbd309ccbc210d67cb20e9d975b0256b0b8c29fb7395a238ff98d7b4 -address /run/containerd/containerd.sock\n",
      "root        1947  0.0  0.0 711448  8992 ?        Sl   09:25   0:00 /usr/bin/containerd-shim-runc-v2 -namespace moby -id 8f846d9d044155827866cd2b4224f8be411ca5e363819359e886c9c0039f07c9 -address /run/containerd/containerd.sock\n",
      "root        1988  8.1  0.4 1106884 303344 ?      Ssl  09:25  19:43 kube-apiserver --advertise-address=192.168.49.2 --allow-privileged=true --authorization-mode=Node,RBAC --client-ca-file=/var/lib/minikube/certs/ca.crt --enable-admission-plugins=NamespaceLifecycle,LimitRanger,ServiceAccount,DefaultStorageClass,DefaultTolerationSeconds,NodeRestriction,MutatingAdmissionWebhook,ValidatingAdmissionWebhook,ResourceQuota --enable-bootstrap-token-auth=true --etcd-cafile=/var/lib/minikube/certs/etcd/ca.crt --etcd-certfile=/var/lib/minikube/certs/apiserver-etcd-client.crt --etcd-keyfile=/var/lib/minikube/certs/apiserver-etcd-client.key --etcd-servers=https://127.0.0.1:2379 --kubelet-client-certificate=/var/lib/minikube/certs/apiserver-kubelet-client.crt --kubelet-client-key=/var/lib/minikube/certs/apiserver-kubelet-client.key --kubelet-preferred-address-types=InternalIP,ExternalIP,Hostname --proxy-client-cert-file=/var/lib/minikube/certs/front-proxy-client.crt --proxy-client-key-file=/var/lib/minikube/certs/front-proxy-client.key --requestheader-allowed-names=front-proxy-client --requestheader-client-ca-file=/var/lib/minikube/certs/front-proxy-ca.crt --requestheader-extra-headers-prefix=X-Remote-Extra- --requestheader-group-headers=X-Remote-Group --requestheader-username-headers=X-Remote-User --secure-port=8443 --service-account-issuer=https://kubernetes.default.svc.cluster.local --service-account-key-file=/var/lib/minikube/certs/sa.pub --service-account-signing-key-file=/var/lib/minikube/certs/sa.key --service-cluster-ip-range=10.96.0.0/12 --tls-cert-file=/var/lib/minikube/certs/apiserver.crt --tls-private-key-file=/var/lib/minikube/certs/apiserver.key\n",
      "root        1989  2.2  0.1 11217596 68536 ?      Ssl  09:25   5:28 etcd --advertise-client-urls=https://192.168.49.2:2379 --cert-file=/var/lib/minikube/certs/etcd/server.crt --client-cert-auth=true --data-dir=/var/lib/minikube/etcd --initial-advertise-peer-urls=https://192.168.49.2:2380 --initial-cluster=minikube=https://192.168.49.2:2380 --key-file=/var/lib/minikube/certs/etcd/server.key --listen-client-urls=https://127.0.0.1:2379,https://192.168.49.2:2379 --listen-metrics-urls=http://127.0.0.1:2381 --listen-peer-urls=https://192.168.49.2:2380 --name=minikube --peer-cert-file=/var/lib/minikube/certs/etcd/peer.crt --peer-client-cert-auth=true --peer-key-file=/var/lib/minikube/certs/etcd/peer.key --peer-trusted-ca-file=/var/lib/minikube/certs/etcd/ca.crt --proxy-refresh-interval=70000 --snapshot-count=10000 --trusted-ca-file=/var/lib/minikube/certs/etcd/ca.crt\n",
      "root        1990  0.3  0.0 756844 52752 ?        Ssl  09:25   0:53 kube-scheduler --authentication-kubeconfig=/etc/kubernetes/scheduler.conf --authorization-kubeconfig=/etc/kubernetes/scheduler.conf --bind-address=127.0.0.1 --kubeconfig=/etc/kubernetes/scheduler.conf --leader-elect=false --port=0\n",
      "root        1991  2.3  0.1 825280 113164 ?       Ssl  09:25   5:34 kube-controller-manager --allocate-node-cidrs=true --authentication-kubeconfig=/etc/kubernetes/controller-manager.conf --authorization-kubeconfig=/etc/kubernetes/controller-manager.conf --bind-address=127.0.0.1 --client-ca-file=/var/lib/minikube/certs/ca.crt --cluster-cidr=10.244.0.0/16 --cluster-name=mk --cluster-signing-cert-file=/var/lib/minikube/certs/ca.crt --cluster-signing-key-file=/var/lib/minikube/certs/ca.key --controllers=*,bootstrapsigner,tokencleaner --kubeconfig=/etc/kubernetes/controller-manager.conf --leader-elect=false --port=0 --requestheader-client-ca-file=/var/lib/minikube/certs/front-proxy-ca.crt --root-ca-file=/var/lib/minikube/certs/ca.crt --service-account-private-key-file=/var/lib/minikube/certs/sa.key --service-cluster-ip-range=10.96.0.0/12 --use-service-account-credentials=true\n",
      "root        2447  5.9  0.2 2779904 162592 ?      Ssl  09:25  14:11 /var/lib/minikube/binaries/v1.22.2/kubelet --bootstrap-kubeconfig=/etc/kubernetes/bootstrap-kubelet.conf --config=/var/lib/kubelet/config.yaml --container-runtime=docker --hostname-override=minikube --kubeconfig=/etc/kubernetes/kubelet.conf --node-ip=192.168.49.2\n",
      "root        2890  0.0  0.0 711448  8176 ?        Sl   09:25   0:01 /usr/bin/containerd-shim-runc-v2 -namespace moby -id 4afb2692e342d139a6d413c61eb09642781da615add2c01de6fa9955ae79af12 -address /run/containerd/containerd.sock\n",
      "65535       2911  0.0  0.0    972     4 ?        Ss   09:25   0:00 /pause\n",
      "root        2941  0.0  0.0 711448  8004 ?        Sl   09:25   0:00 /usr/bin/containerd-shim-runc-v2 -namespace moby -id cd8ea15c7db0bdf780d98f1344d3f8a35d54a2c35dd4db5ddbce035b82d7c754 -address /run/containerd/containerd.sock\n",
      "65535       2961  0.0  0.0    972     4 ?        Ss   09:25   0:00 /pause\n",
      "root        3046  0.0  0.0 713112  8568 ?        Sl   09:25   0:00 /usr/bin/containerd-shim-runc-v2 -namespace moby -id d11b74ad0480ef6d3b17d97e40b776935a74a18e12b3486e9d14d01a2068ab2b -address /run/containerd/containerd.sock\n",
      "root        3082  0.0  0.0 750780 40800 ?        Ssl  09:25   0:06 /usr/local/bin/kube-proxy --config=/var/lib/kube-proxy/config.conf --hostname-override=minikube\n",
      "root        3463  0.0  0.0 711448  8176 ?        Sl   09:26   0:00 /usr/bin/containerd-shim-runc-v2 -namespace moby -id 31b4343496e2409722f739a6cbba651ba5622d792e440c1a8a84aa9c297c198f -address /run/containerd/containerd.sock\n",
      "root        3486  0.2  0.0 738800 30020 ?        Ssl  09:26   0:36 /storage-provisioner\n",
      "root        6920  0.0  0.0 698028 55476 ?        Ssl  09:41   0:01 /usr/bin/python3 -m bash_kernel -f /root/.local/share/jupyter/runtime/kernel-4e617b21-ef6b-484c-ab07-8adf1cf24f6b.json\n",
      "root        6934  0.0  0.0   6004  2988 pts/1    Ss+  09:41   0:00 /usr/bin/bash --rcfile /usr/local/lib/python3.8/dist-packages/pexpect/bashrc.sh\n",
      "root       13232  0.0  0.0   6924  4164 pts/2    Ss+  10:09   0:00 /bin/bash -l\n",
      "root       14193  0.0  0.0 698028 55468 ?        Ssl  10:13   0:01 /usr/bin/python3 -m bash_kernel -f /root/.local/share/jupyter/runtime/kernel-d887ea8e-2664-4248-9037-14b00bf978fd.json\n",
      "root       14207  0.0  0.0   6000  3200 pts/3    Ss+  10:13   0:00 /usr/bin/bash --rcfile /usr/local/lib/python3.8/dist-packages/pexpect/bashrc.sh\n",
      "root       14500  0.0  0.0 698012 55604 ?        Ssl  10:14   0:01 /usr/bin/python3 -m bash_kernel -f /root/.local/share/jupyter/runtime/kernel-5ad7218f-4f56-44d2-854c-07870d3b3cb3.json\n",
      "root       14512  0.0  0.0   6000  3072 pts/4    Ss+  10:14   0:00 /usr/bin/bash --rcfile /usr/local/lib/python3.8/dist-packages/pexpect/bashrc.sh\n",
      "root       18741  0.0  0.0 698268 55872 ?        Ssl  10:33   0:01 /usr/bin/python3 -m bash_kernel -f /root/.local/share/jupyter/runtime/kernel-3720f79d-c0cc-46db-acc0-3e0ed5ebc8ca.json\n",
      "root       18753  0.0  0.0   6000  3684 pts/5    Ss+  10:33   0:00 /usr/bin/bash --rcfile /usr/local/lib/python3.8/dist-packages/pexpect/bashrc.sh\n",
      "root       19501  0.0  0.0  14620 12680 pts/6    Ss   10:37   0:01 /bin/bash -l\n",
      "root       20607  0.0  0.0 712856  9332 ?        Sl   10:40   0:00 /usr/bin/containerd-shim-runc-v2 -namespace moby -id 0468ae30546fb6ccd67cd5414d97549a223ad05eb1686dcd151c16b89b85e6e1 -address /run/containerd/containerd.sock\n",
      "65535      20651  0.0  0.0    972     4 ?        Ss   10:40   0:00 /pause\n",
      "root       20918  0.0  0.0 713176  9496 ?        Sl   10:41   0:00 /usr/bin/containerd-shim-runc-v2 -namespace moby -id 6fd43cef7cb1e157ff528965299cbafdc67dccb9f2f31635abb6b7636b83d2ee -address /run/containerd/containerd.sock\n",
      "root       20938  0.0  0.0   8856  6268 ?        Ss   10:41   0:00 nginx: master process nginx -g daemon off;\n",
      "_rpc       20975  0.0  0.0   9248  2512 ?        S    10:41   0:00 nginx: worker process\n",
      "_rpc       20976  0.0  0.0   9248  2512 ?        S    10:41   0:00 nginx: worker process\n",
      "_rpc       20977  0.0  0.0   9248  2512 ?        S    10:41   0:00 nginx: worker process\n",
      "_rpc       20978  0.0  0.0   9248  2512 ?        S    10:41   0:00 nginx: worker process\n",
      "_rpc       20979  0.0  0.0   9248  2512 ?        S    10:41   0:00 nginx: worker process\n",
      "_rpc       20980  0.0  0.0   9248  2512 ?        S    10:41   0:00 nginx: worker process\n",
      "_rpc       20981  0.0  0.0   9248  2512 ?        S    10:41   0:00 nginx: worker process\n",
      "_rpc       20982  0.0  0.0   9248  2512 ?        S    10:41   0:00 nginx: worker process\n",
      "_rpc       20983  0.0  0.0   9248  2512 ?        S    10:41   0:00 nginx: worker process\n",
      "_rpc       20984  0.0  0.0   9248  2512 ?        S    10:41   0:00 nginx: worker process\n",
      "_rpc       20985  0.0  0.0   9248  2512 ?        S    10:41   0:00 nginx: worker process\n",
      "_rpc       20986  0.0  0.0   9248  2512 ?        S    10:41   0:00 nginx: worker process\n",
      "_rpc       20987  0.0  0.0   9248  2512 ?        S    10:41   0:00 nginx: worker process\n",
      "_rpc       20988  0.0  0.0   9248  2512 ?        S    10:41   0:00 nginx: worker process\n",
      "_rpc       20989  0.0  0.0   9248  2512 ?        S    10:41   0:00 nginx: worker process\n",
      "_rpc       20990  0.0  0.0   9248  2512 ?        S    10:41   0:00 nginx: worker process\n",
      "root       33288  0.0  0.0 711448  8896 ?        Sl   11:23   0:00 /usr/bin/containerd-shim-runc-v2 -namespace moby -id 1b5b03665c5ee1dbd277f5eb93f990cc66e6eaaf5dabf1a8ea739c2e3452c104 -address /run/containerd/containerd.sock\n",
      "65535      33409  0.0  0.0    972     4 ?        Ss   11:23   0:00 /pause\n",
      "root       35251  0.0  0.0 713112  8172 ?        Sl   11:23   0:00 /usr/bin/containerd-shim-runc-v2 -namespace moby -id 14a3978667108030a6aef2bd0bc19a024a137752d77168c25062abc690629519 -address /run/containerd/containerd.sock\n",
      "root       35273  0.0  0.0   8856  6280 ?        Ss   11:23   0:00 nginx: master process nginx -g daemon off;\n",
      "_rpc       35311  0.0  0.0   9248  2676 ?        S    11:23   0:00 nginx: worker process\n",
      "_rpc       35312  0.0  0.0   9248  2676 ?        S    11:23   0:00 nginx: worker process\n",
      "_rpc       35313  0.0  0.0   9248  2676 ?        S    11:23   0:00 nginx: worker process\n",
      "_rpc       35314  0.0  0.0   9248  2676 ?        S    11:23   0:00 nginx: worker process\n",
      "_rpc       35315  0.0  0.0   9248  2676 ?        S    11:23   0:00 nginx: worker process\n",
      "_rpc       35316  0.0  0.0   9248  2676 ?        S    11:23   0:00 nginx: worker process\n",
      "_rpc       35317  0.0  0.0   9248  2676 ?        S    11:23   0:00 nginx: worker process\n",
      "_rpc       35318  0.0  0.0   9248  2676 ?        S    11:23   0:00 nginx: worker process\n",
      "_rpc       35319  0.0  0.0   9248  2676 ?        S    11:23   0:00 nginx: worker process\n",
      "_rpc       35320  0.0  0.0   9248  2676 ?        S    11:23   0:00 nginx: worker process\n",
      "_rpc       35321  0.0  0.0   9248  2676 ?        S    11:23   0:00 nginx: worker process\n",
      "_rpc       35322  0.0  0.0   9248  2676 ?        S    11:23   0:00 nginx: worker process\n",
      "_rpc       35323  0.0  0.0   9248  2676 ?        S    11:23   0:00 nginx: worker process\n",
      "_rpc       35324  0.0  0.0   9248  2676 ?        S    11:23   0:00 nginx: worker process\n",
      "_rpc       35325  0.0  0.0   9248  2676 ?        S    11:23   0:00 nginx: worker process\n",
      "_rpc       35326  0.0  0.0   9248  2676 ?        S    11:23   0:00 nginx: worker process\n",
      "root       37668  0.0  0.0 698012 55928 ?        Ssl  11:31   0:00 /usr/bin/python3 -m bash_kernel -f /root/.local/share/jupyter/runtime/kernel-d0fdffa1-5bc6-4ef2-94c7-a7afd3eab653.json\n",
      "root       37680  0.0  0.0   6000  3704 pts/8    Ss+  11:31   0:00 /usr/bin/bash --rcfile /usr/local/lib/python3.8/dist-packages/pexpect/bashrc.sh\n",
      "root       57773  0.0  0.0  12296  7452 ?        Ss   12:56   0:00 sshd: docker [priv]\n",
      "docker     57783  0.0  0.0  12296  4844 ?        S    12:56   0:00 sshd: docker@notty\n",
      "root       57790  0.0  0.0  12296  7636 ?        Ss   12:56   0:00 sshd: docker [priv]\n",
      "docker     57792  0.0  0.0  12296  5016 ?        S    12:56   0:00 sshd: docker@notty\n",
      "root       57924  0.0  0.0 711448  9384 ?        Sl   12:56   0:00 /usr/bin/containerd-shim-runc-v2 -namespace moby -id 5e4ed1855647ff15de8459a0ceebfbe2eda032df126c94d30ce646168a42af9b -address /run/containerd/containerd.sock\n",
      "root       57934  0.0  0.0 712856  7948 ?        Sl   12:56   0:00 /usr/bin/containerd-shim-runc-v2 -namespace moby -id 86a48a78ce478c5e6949198613f4787ef1902953a2261f5d6297e88da2054f40 -address /run/containerd/containerd.sock\n",
      "65535      57969  0.0  0.0    972     4 ?        Ss   12:56   0:00 /pause\n",
      "65535      57974  0.0  0.0    972     4 ?        Ss   12:56   0:00 /pause\n",
      "root       58073  0.0  0.0 711704  9104 ?        Sl   12:56   0:00 /usr/bin/containerd-shim-runc-v2 -namespace moby -id ace8cb8de8513757534e05d827968db634c1a038f4105cb8db308be134f31008 -address /run/containerd/containerd.sock\n",
      "root       58086  0.0  0.0 712856  8392 ?        Sl   12:56   0:00 /usr/bin/containerd-shim-runc-v2 -namespace moby -id e4c493783c4eaa4d38ad484dff51b7a9908b0d006e6e439c0aa8de44c7fe82f0 -address /run/containerd/containerd.sock\n",
      "1001       58115  0.3  0.1 745272 67100 ?        Ssl  12:56   0:05 /dashboard --insecure-bind-address=0.0.0.0 --bind-address=0.0.0.0 --namespace=kubernetes-dashboard --enable-skip-login --disable-settings-authorizer\n",
      "1001       58118  0.0  0.0 1120868 23736 ?       Ssl  12:56   0:01 /metrics-sidecar\n",
      "root       61122  0.0  0.0 712856  8532 ?        Sl   13:08   0:00 /usr/bin/containerd-shim-runc-v2 -namespace moby -id f425fa4798e72dce7319fbae4c4df9b485d17cb02bb3263bbebd1d10ea993b98 -address /run/containerd/containerd.sock\n",
      "65535      61143  0.0  0.0    972     4 ?        Ss   13:08   0:00 /pause\n",
      "root       61253  0.0  0.0 712600  8408 ?        Sl   13:08   0:00 /usr/bin/containerd-shim-runc-v2 -namespace moby -id 955d63c8041093b833df1a881ec338a1ba9f50cc2a93c56e5dc8bf15ba464bef -address /run/containerd/containerd.sock\n",
      "root       61273  0.2  0.0 753348 44052 ?        Ssl  13:08   0:02 /coredns -conf /etc/coredns/Corefile\n",
      "root       62087  0.0  0.0 698012 55928 ?        Rsl  13:11   0:00 /usr/bin/python3 -m bash_kernel -f /root/.local/share/jupyter/runtime/kernel-12a014d4-4210-488a-b501-8f390889abcc.json\n",
      "root       62099  0.0  0.0   6000  3816 pts/7    Ss   13:11   0:00 /usr/bin/bash --rcfile /usr/local/lib/python3.8/dist-packages/pexpect/bashrc.sh\n",
      "root       62239  0.0  0.0  16484  6312 ?        Ss   13:11   0:00 /lib/systemd/systemd-logind\n",
      "root       64602  0.0  0.0   5188   692 pts/6    S    13:19   0:00 nsenter -t 35273 -a bash\n",
      "root       64603  0.0  0.0   5992  3764 pts/6    S+   13:19   0:00 bash\n",
      "root       66040  0.0  0.0   7656  3284 pts/7    R+   13:25   0:00 ps auxww\n"
     ]
    }
   ],
   "source": [
    "ps auxww"
   ]
  },
  {
   "cell_type": "code",
   "execution_count": 18,
   "id": "bfeac698",
   "metadata": {
    "collapsed": true,
    "jupyter": {
     "outputs_hidden": true
    },
    "tags": []
   },
   "outputs": [
    {
     "name": "stdout",
     "output_type": "stream",
     "text": [
      "USER         PID %CPU %MEM    VSZ   RSS TTY      STAT START   TIME COMMAND\n",
      "root           1  0.0  0.0  22508 11136 ?        Ss   09:24   0:04 /sbin/init\n",
      "root         182  0.0  0.0  28932 12052 ?        S<s  09:25   0:00 /lib/systemd/systemd-journald\n",
      "message+     194  0.0  0.0   7008  3724 ?        Ss   09:25   0:00 /usr/bin/dbus-daemon --system --address=systemd: --nofork --nopidfile --systemd-activation --syslog-only\n",
      "root         201  0.1  0.0 2308680 50504 ?       Ssl  09:25   0:24 /usr/bin/containerd\n",
      "root         212  0.0  0.0  12184  5832 ?        Ss   09:25   0:00 sshd: /usr/sbin/sshd -D [listener] 0 of 10-100 startups\n",
      "root         221  0.3  0.1 490640 84592 ?        Rsl  09:25   0:48 /usr/bin/python3 /usr/local/bin/jupyter-lab --ip 192.168.49.2 --allow-root --log-level=INFO\n",
      "root         475  1.9  0.1 3747112 103240 ?      Ssl  09:25   4:43 /usr/bin/dockerd -H tcp://0.0.0.0:2376 -H unix:///var/run/docker.sock --default-ulimit=nofile=1048576:1048576 --tlsverify --tlscacert /etc/docker/ca.pem --tlscert /etc/docker/server.pem --tlskey /etc/docker/server-key.pem --label provider=docker --insecure-registry 10.96.0.0/12\n",
      "root        1713  0.0  0.0 712856  8508 ?        Sl   09:25   0:01 /usr/bin/containerd-shim-runc-v2 -namespace moby -id fd74eb3f8ee5917418c1f10f95111eb78d87685b8f04908ab885c31f2c932dbc -address /run/containerd/containerd.sock\n",
      "root        1714  0.0  0.0 712856  8472 ?        Sl   09:25   0:00 /usr/bin/containerd-shim-runc-v2 -namespace moby -id 054189614fc4876bb2016b0181b62595ecd4a21449d451bb49e50b41103c96b2 -address /run/containerd/containerd.sock\n",
      "root        1715  0.0  0.0 711448  9480 ?        Sl   09:25   0:01 /usr/bin/containerd-shim-runc-v2 -namespace moby -id 62bbad79f3daf5d9b68a4e6d71409436cf6895394e70fbccf73ae71271de60d2 -address /run/containerd/containerd.sock\n",
      "root        1716  0.0  0.0 712856  9356 ?        Sl   09:25   0:01 /usr/bin/containerd-shim-runc-v2 -namespace moby -id e47fb0f0c75ca9a4ff3cf6acc878ed2d4efaff0e7bd9ff8d88c9d8f1eaae71d9 -address /run/containerd/containerd.sock\n",
      "65535       1792  0.0  0.0    972     4 ?        Ss   09:25   0:00 /pause\n",
      "65535       1793  0.0  0.0    972     4 ?        Ss   09:25   0:00 /pause\n",
      "65535       1806  0.0  0.0    972     4 ?        Ss   09:25   0:00 /pause\n",
      "65535       1807  0.0  0.0    972     4 ?        Ss   09:25   0:00 /pause\n",
      "root        1881  0.0  0.0 711448  8520 ?        Sl   09:25   0:01 /usr/bin/containerd-shim-runc-v2 -namespace moby -id ec70e3c3a1eac7cfc48a7f11f0f57e22f580decb471d2fa4d6304feae48f5e9d -address /run/containerd/containerd.sock\n",
      "root        1901  0.0  0.0 712856  9324 ?        Sl   09:25   0:00 /usr/bin/containerd-shim-runc-v2 -namespace moby -id e2dc90d1d57c16460d230eae1eade8d41b05e50f46ff6dadc5576e6f259690cb -address /run/containerd/containerd.sock\n",
      "root        1942  0.0  0.0 712856  8248 ?        Sl   09:25   0:00 /usr/bin/containerd-shim-runc-v2 -namespace moby -id 312ce723fbd309ccbc210d67cb20e9d975b0256b0b8c29fb7395a238ff98d7b4 -address /run/containerd/containerd.sock\n",
      "root        1947  0.0  0.0 711448  8992 ?        Sl   09:25   0:00 /usr/bin/containerd-shim-runc-v2 -namespace moby -id 8f846d9d044155827866cd2b4224f8be411ca5e363819359e886c9c0039f07c9 -address /run/containerd/containerd.sock\n",
      "root        1988  8.1  0.4 1106884 303344 ?      Ssl  09:25  19:44 kube-apiserver --advertise-address=192.168.49.2 --allow-privileged=true --authorization-mode=Node,RBAC --client-ca-file=/var/lib/minikube/certs/ca.crt --enable-admission-plugins=NamespaceLifecycle,LimitRanger,ServiceAccount,DefaultStorageClass,DefaultTolerationSeconds,NodeRestriction,MutatingAdmissionWebhook,ValidatingAdmissionWebhook,ResourceQuota --enable-bootstrap-token-auth=true --etcd-cafile=/var/lib/minikube/certs/etcd/ca.crt --etcd-certfile=/var/lib/minikube/certs/apiserver-etcd-client.crt --etcd-keyfile=/var/lib/minikube/certs/apiserver-etcd-client.key --etcd-servers=https://127.0.0.1:2379 --kubelet-client-certificate=/var/lib/minikube/certs/apiserver-kubelet-client.crt --kubelet-client-key=/var/lib/minikube/certs/apiserver-kubelet-client.key --kubelet-preferred-address-types=InternalIP,ExternalIP,Hostname --proxy-client-cert-file=/var/lib/minikube/certs/front-proxy-client.crt --proxy-client-key-file=/var/lib/minikube/certs/front-proxy-client.key --requestheader-allowed-names=front-proxy-client --requestheader-client-ca-file=/var/lib/minikube/certs/front-proxy-ca.crt --requestheader-extra-headers-prefix=X-Remote-Extra- --requestheader-group-headers=X-Remote-Group --requestheader-username-headers=X-Remote-User --secure-port=8443 --service-account-issuer=https://kubernetes.default.svc.cluster.local --service-account-key-file=/var/lib/minikube/certs/sa.pub --service-account-signing-key-file=/var/lib/minikube/certs/sa.key --service-cluster-ip-range=10.96.0.0/12 --tls-cert-file=/var/lib/minikube/certs/apiserver.crt --tls-private-key-file=/var/lib/minikube/certs/apiserver.key\n",
      "root        1989  2.2  0.1 11217596 68536 ?      Ssl  09:25   5:28 etcd --advertise-client-urls=https://192.168.49.2:2379 --cert-file=/var/lib/minikube/certs/etcd/server.crt --client-cert-auth=true --data-dir=/var/lib/minikube/etcd --initial-advertise-peer-urls=https://192.168.49.2:2380 --initial-cluster=minikube=https://192.168.49.2:2380 --key-file=/var/lib/minikube/certs/etcd/server.key --listen-client-urls=https://127.0.0.1:2379,https://192.168.49.2:2379 --listen-metrics-urls=http://127.0.0.1:2381 --listen-peer-urls=https://192.168.49.2:2380 --name=minikube --peer-cert-file=/var/lib/minikube/certs/etcd/peer.crt --peer-client-cert-auth=true --peer-key-file=/var/lib/minikube/certs/etcd/peer.key --peer-trusted-ca-file=/var/lib/minikube/certs/etcd/ca.crt --proxy-refresh-interval=70000 --snapshot-count=10000 --trusted-ca-file=/var/lib/minikube/certs/etcd/ca.crt\n",
      "root        1990  0.3  0.0 756844 52752 ?        Ssl  09:25   0:53 kube-scheduler --authentication-kubeconfig=/etc/kubernetes/scheduler.conf --authorization-kubeconfig=/etc/kubernetes/scheduler.conf --bind-address=127.0.0.1 --kubeconfig=/etc/kubernetes/scheduler.conf --leader-elect=false --port=0\n",
      "root        1991  2.3  0.1 825280 113164 ?       Ssl  09:25   5:34 kube-controller-manager --allocate-node-cidrs=true --authentication-kubeconfig=/etc/kubernetes/controller-manager.conf --authorization-kubeconfig=/etc/kubernetes/controller-manager.conf --bind-address=127.0.0.1 --client-ca-file=/var/lib/minikube/certs/ca.crt --cluster-cidr=10.244.0.0/16 --cluster-name=mk --cluster-signing-cert-file=/var/lib/minikube/certs/ca.crt --cluster-signing-key-file=/var/lib/minikube/certs/ca.key --controllers=*,bootstrapsigner,tokencleaner --kubeconfig=/etc/kubernetes/controller-manager.conf --leader-elect=false --port=0 --requestheader-client-ca-file=/var/lib/minikube/certs/front-proxy-ca.crt --root-ca-file=/var/lib/minikube/certs/ca.crt --service-account-private-key-file=/var/lib/minikube/certs/sa.key --service-cluster-ip-range=10.96.0.0/12 --use-service-account-credentials=true\n",
      "root        2447  5.9  0.2 2779904 163108 ?      Ssl  09:25  14:12 /var/lib/minikube/binaries/v1.22.2/kubelet --bootstrap-kubeconfig=/etc/kubernetes/bootstrap-kubelet.conf --config=/var/lib/kubelet/config.yaml --container-runtime=docker --hostname-override=minikube --kubeconfig=/etc/kubernetes/kubelet.conf --node-ip=192.168.49.2\n",
      "root        2890  0.0  0.0 711448  8208 ?        Sl   09:25   0:01 /usr/bin/containerd-shim-runc-v2 -namespace moby -id 4afb2692e342d139a6d413c61eb09642781da615add2c01de6fa9955ae79af12 -address /run/containerd/containerd.sock\n",
      "65535       2911  0.0  0.0    972     4 ?        Ss   09:25   0:00 /pause\n",
      "root        2941  0.0  0.0 711448  8004 ?        Sl   09:25   0:00 /usr/bin/containerd-shim-runc-v2 -namespace moby -id cd8ea15c7db0bdf780d98f1344d3f8a35d54a2c35dd4db5ddbce035b82d7c754 -address /run/containerd/containerd.sock\n",
      "65535       2961  0.0  0.0    972     4 ?        Ss   09:25   0:00 /pause\n",
      "root        3046  0.0  0.0 713112  8504 ?        Sl   09:25   0:00 /usr/bin/containerd-shim-runc-v2 -namespace moby -id d11b74ad0480ef6d3b17d97e40b776935a74a18e12b3486e9d14d01a2068ab2b -address /run/containerd/containerd.sock\n",
      "root        3082  0.0  0.0 750780 40800 ?        Ssl  09:25   0:06 /usr/local/bin/kube-proxy --config=/var/lib/kube-proxy/config.conf --hostname-override=minikube\n",
      "root        3463  0.0  0.0 711448  8176 ?        Sl   09:26   0:00 /usr/bin/containerd-shim-runc-v2 -namespace moby -id 31b4343496e2409722f739a6cbba651ba5622d792e440c1a8a84aa9c297c198f -address /run/containerd/containerd.sock\n",
      "root        3486  0.2  0.0 738800 30020 ?        Ssl  09:26   0:36 /storage-provisioner\n",
      "root        6920  0.0  0.0 698028 55476 ?        Ssl  09:41   0:01 /usr/bin/python3 -m bash_kernel -f /root/.local/share/jupyter/runtime/kernel-4e617b21-ef6b-484c-ab07-8adf1cf24f6b.json\n",
      "root        6934  0.0  0.0   6004  2988 pts/1    Ss+  09:41   0:00 /usr/bin/bash --rcfile /usr/local/lib/python3.8/dist-packages/pexpect/bashrc.sh\n",
      "root       13232  0.0  0.0   6924  4164 pts/2    Ss+  10:09   0:00 /bin/bash -l\n",
      "root       14193  0.0  0.0 698028 55468 ?        Ssl  10:13   0:01 /usr/bin/python3 -m bash_kernel -f /root/.local/share/jupyter/runtime/kernel-d887ea8e-2664-4248-9037-14b00bf978fd.json\n",
      "root       14207  0.0  0.0   6000  3200 pts/3    Ss+  10:13   0:00 /usr/bin/bash --rcfile /usr/local/lib/python3.8/dist-packages/pexpect/bashrc.sh\n",
      "root       14500  0.0  0.0 698012 55604 ?        Ssl  10:14   0:01 /usr/bin/python3 -m bash_kernel -f /root/.local/share/jupyter/runtime/kernel-5ad7218f-4f56-44d2-854c-07870d3b3cb3.json\n",
      "root       14512  0.0  0.0   6000  3072 pts/4    Ss+  10:14   0:00 /usr/bin/bash --rcfile /usr/local/lib/python3.8/dist-packages/pexpect/bashrc.sh\n",
      "root       18741  0.0  0.0 698268 55872 ?        Ssl  10:33   0:01 /usr/bin/python3 -m bash_kernel -f /root/.local/share/jupyter/runtime/kernel-3720f79d-c0cc-46db-acc0-3e0ed5ebc8ca.json\n",
      "root       18753  0.0  0.0   6000  3684 pts/5    Ss+  10:33   0:00 /usr/bin/bash --rcfile /usr/local/lib/python3.8/dist-packages/pexpect/bashrc.sh\n",
      "root       19501  0.0  0.0  14620 12680 pts/6    Ss   10:37   0:01 /bin/bash -l\n",
      "root       20607  0.0  0.0 712856  9332 ?        Sl   10:40   0:00 /usr/bin/containerd-shim-runc-v2 -namespace moby -id 0468ae30546fb6ccd67cd5414d97549a223ad05eb1686dcd151c16b89b85e6e1 -address /run/containerd/containerd.sock\n",
      "65535      20651  0.0  0.0    972     4 ?        Ss   10:40   0:00 /pause\n",
      "root       20918  0.0  0.0 713176  9496 ?        Sl   10:41   0:00 /usr/bin/containerd-shim-runc-v2 -namespace moby -id 6fd43cef7cb1e157ff528965299cbafdc67dccb9f2f31635abb6b7636b83d2ee -address /run/containerd/containerd.sock\n",
      "root       20938  0.0  0.0   8856  6268 ?        Ss   10:41   0:00 nginx: master process nginx -g daemon off;\n",
      "_rpc       20975  0.0  0.0   9248  2512 ?        S    10:41   0:00 nginx: worker process\n",
      "_rpc       20976  0.0  0.0   9248  2512 ?        S    10:41   0:00 nginx: worker process\n",
      "_rpc       20977  0.0  0.0   9248  2512 ?        S    10:41   0:00 nginx: worker process\n",
      "_rpc       20978  0.0  0.0   9248  2512 ?        S    10:41   0:00 nginx: worker process\n",
      "_rpc       20979  0.0  0.0   9248  2512 ?        S    10:41   0:00 nginx: worker process\n",
      "_rpc       20980  0.0  0.0   9248  2512 ?        S    10:41   0:00 nginx: worker process\n",
      "_rpc       20981  0.0  0.0   9248  2512 ?        S    10:41   0:00 nginx: worker process\n",
      "_rpc       20982  0.0  0.0   9248  2512 ?        S    10:41   0:00 nginx: worker process\n",
      "_rpc       20983  0.0  0.0   9248  2512 ?        S    10:41   0:00 nginx: worker process\n",
      "_rpc       20984  0.0  0.0   9248  2512 ?        S    10:41   0:00 nginx: worker process\n",
      "_rpc       20985  0.0  0.0   9248  2512 ?        S    10:41   0:00 nginx: worker process\n",
      "_rpc       20986  0.0  0.0   9248  2512 ?        S    10:41   0:00 nginx: worker process\n",
      "_rpc       20987  0.0  0.0   9248  2512 ?        S    10:41   0:00 nginx: worker process\n",
      "_rpc       20988  0.0  0.0   9248  2512 ?        S    10:41   0:00 nginx: worker process\n",
      "_rpc       20989  0.0  0.0   9248  2512 ?        S    10:41   0:00 nginx: worker process\n",
      "_rpc       20990  0.0  0.0   9248  2512 ?        S    10:41   0:00 nginx: worker process\n",
      "root       33288  0.0  0.0 711448  8896 ?        Sl   11:23   0:00 /usr/bin/containerd-shim-runc-v2 -namespace moby -id 1b5b03665c5ee1dbd277f5eb93f990cc66e6eaaf5dabf1a8ea739c2e3452c104 -address /run/containerd/containerd.sock\n",
      "65535      33409  0.0  0.0    972     4 ?        Ss   11:23   0:00 /pause\n",
      "root       35251  0.0  0.0 713112  8172 ?        Sl   11:23   0:00 /usr/bin/containerd-shim-runc-v2 -namespace moby -id 14a3978667108030a6aef2bd0bc19a024a137752d77168c25062abc690629519 -address /run/containerd/containerd.sock\n",
      "root       35273  0.0  0.0   8856  6280 ?        Ss   11:23   0:00 nginx: master process nginx -g daemon off;\n",
      "_rpc       35311  0.0  0.0   9248  2676 ?        S    11:23   0:00 nginx: worker process\n",
      "_rpc       35312  0.0  0.0   9248  2676 ?        S    11:23   0:00 nginx: worker process\n",
      "_rpc       35313  0.0  0.0   9248  2676 ?        S    11:23   0:00 nginx: worker process\n",
      "_rpc       35314  0.0  0.0   9248  2676 ?        S    11:23   0:00 nginx: worker process\n",
      "_rpc       35315  0.0  0.0   9248  2676 ?        S    11:23   0:00 nginx: worker process\n",
      "_rpc       35316  0.0  0.0   9248  2676 ?        S    11:23   0:00 nginx: worker process\n",
      "_rpc       35317  0.0  0.0   9248  2676 ?        S    11:23   0:00 nginx: worker process\n",
      "_rpc       35318  0.0  0.0   9248  2676 ?        S    11:23   0:00 nginx: worker process\n",
      "_rpc       35319  0.0  0.0   9248  2676 ?        S    11:23   0:00 nginx: worker process\n",
      "_rpc       35320  0.0  0.0   9248  2676 ?        S    11:23   0:00 nginx: worker process\n",
      "_rpc       35321  0.0  0.0   9248  2676 ?        S    11:23   0:00 nginx: worker process\n",
      "_rpc       35322  0.0  0.0   9248  2676 ?        S    11:23   0:00 nginx: worker process\n",
      "_rpc       35323  0.0  0.0   9248  2676 ?        S    11:23   0:00 nginx: worker process\n",
      "_rpc       35324  0.0  0.0   9248  2676 ?        S    11:23   0:00 nginx: worker process\n",
      "_rpc       35325  0.0  0.0   9248  2676 ?        S    11:23   0:00 nginx: worker process\n",
      "_rpc       35326  0.0  0.0   9248  2676 ?        S    11:23   0:00 nginx: worker process\n",
      "root       37668  0.0  0.0 698012 55928 ?        Ssl  11:31   0:00 /usr/bin/python3 -m bash_kernel -f /root/.local/share/jupyter/runtime/kernel-d0fdffa1-5bc6-4ef2-94c7-a7afd3eab653.json\n",
      "root       37680  0.0  0.0   6000  3704 pts/8    Ss+  11:31   0:00 /usr/bin/bash --rcfile /usr/local/lib/python3.8/dist-packages/pexpect/bashrc.sh\n",
      "root       57773  0.0  0.0  12296  7452 ?        Ss   12:56   0:00 sshd: docker [priv]\n",
      "docker     57783  0.0  0.0  12296  4844 ?        S    12:56   0:00 sshd: docker@notty\n",
      "root       57790  0.0  0.0  12296  7636 ?        Ss   12:56   0:00 sshd: docker [priv]\n",
      "docker     57792  0.0  0.0  12296  5016 ?        S    12:56   0:00 sshd: docker@notty\n",
      "root       57924  0.0  0.0 711448  9352 ?        Sl   12:56   0:00 /usr/bin/containerd-shim-runc-v2 -namespace moby -id 5e4ed1855647ff15de8459a0ceebfbe2eda032df126c94d30ce646168a42af9b -address /run/containerd/containerd.sock\n",
      "root       57934  0.0  0.0 712856  7916 ?        Sl   12:56   0:00 /usr/bin/containerd-shim-runc-v2 -namespace moby -id 86a48a78ce478c5e6949198613f4787ef1902953a2261f5d6297e88da2054f40 -address /run/containerd/containerd.sock\n",
      "65535      57969  0.0  0.0    972     4 ?        Ss   12:56   0:00 /pause\n",
      "65535      57974  0.0  0.0    972     4 ?        Ss   12:56   0:00 /pause\n",
      "root       58073  0.0  0.0 711704  9072 ?        Sl   12:56   0:00 /usr/bin/containerd-shim-runc-v2 -namespace moby -id ace8cb8de8513757534e05d827968db634c1a038f4105cb8db308be134f31008 -address /run/containerd/containerd.sock\n",
      "root       58086  0.0  0.0 712856  8392 ?        Sl   12:56   0:00 /usr/bin/containerd-shim-runc-v2 -namespace moby -id e4c493783c4eaa4d38ad484dff51b7a9908b0d006e6e439c0aa8de44c7fe82f0 -address /run/containerd/containerd.sock\n",
      "1001       58115  0.3  0.1 745272 67100 ?        Ssl  12:56   0:05 /dashboard --insecure-bind-address=0.0.0.0 --bind-address=0.0.0.0 --namespace=kubernetes-dashboard --enable-skip-login --disable-settings-authorizer\n",
      "1001       58118  0.0  0.0 1120868 23736 ?       Ssl  12:56   0:01 /metrics-sidecar\n",
      "root       61122  0.0  0.0 712856  8532 ?        Sl   13:08   0:00 /usr/bin/containerd-shim-runc-v2 -namespace moby -id f425fa4798e72dce7319fbae4c4df9b485d17cb02bb3263bbebd1d10ea993b98 -address /run/containerd/containerd.sock\n",
      "65535      61143  0.0  0.0    972     4 ?        Ss   13:08   0:00 /pause\n",
      "root       61253  0.0  0.0 712600  8408 ?        Sl   13:08   0:00 /usr/bin/containerd-shim-runc-v2 -namespace moby -id 955d63c8041093b833df1a881ec338a1ba9f50cc2a93c56e5dc8bf15ba464bef -address /run/containerd/containerd.sock\n",
      "root       61273  0.2  0.0 753348 44052 ?        Ssl  13:08   0:02 /coredns -conf /etc/coredns/Corefile\n",
      "root       62087  0.1  0.0 698144 55976 ?        Ssl  13:11   0:00 /usr/bin/python3 -m bash_kernel -f /root/.local/share/jupyter/runtime/kernel-12a014d4-4210-488a-b501-8f390889abcc.json\n",
      "root       62099  0.0  0.0   6000  3816 pts/7    Ss   13:11   0:00 /usr/bin/bash --rcfile /usr/local/lib/python3.8/dist-packages/pexpect/bashrc.sh\n",
      "root       62239  0.0  0.0  16484  6312 ?        Ss   13:11   0:00 /lib/systemd/systemd-logind\n",
      "root       64602  0.0  0.0   5188   692 pts/6    S    13:19   0:00 nsenter -t 35273 -a bash\n",
      "root       64603  0.0  0.0   5992  3764 pts/6    S+   13:19   0:00 bash\n",
      "root       66107  0.0  0.0   5188   632 pts/7    S+   13:26   0:00 nsenter -t 35273 -p ps auxwww\n",
      "root       66108  0.0  0.0   7656  3192 pts/7    R+   13:26   0:00 ps auxwww\n"
     ]
    }
   ],
   "source": [
    "nsenter -t $STATE_PID -p ps auxwww"
   ]
  },
  {
   "cell_type": "code",
   "execution_count": null,
   "id": "5a0cda0d-a933-4a95-a2f4-e588eb2a339e",
   "metadata": {},
   "outputs": [],
   "source": [
    "ls /proc/$STATE_PID"
   ]
  },
  {
   "cell_type": "code",
   "execution_count": null,
   "id": "efe6704d-1b2d-476e-9e36-fb571292b53e",
   "metadata": {},
   "outputs": [],
   "source": []
  }
 ],
 "metadata": {
  "kernelspec": {
   "display_name": "Bash",
   "language": "bash",
   "name": "bash"
  },
  "language_info": {
   "codemirror_mode": "shell",
   "file_extension": ".sh",
   "mimetype": "text/x-sh",
   "name": "bash"
  }
 },
 "nbformat": 4,
 "nbformat_minor": 5
}
