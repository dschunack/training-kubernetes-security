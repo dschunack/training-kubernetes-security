{
 "cells": [
  {
   "cell_type": "markdown",
   "id": "26487dbb",
   "metadata": {},
   "source": [
    "**This notebook covered by the following [license](License.ipynb)  This note must not be removed**"
   ]
  },
  {
   "cell_type": "markdown",
   "id": "6f38f783",
   "metadata": {},
   "source": [
    "See [Configure Service Account](https://kubernetes.io/docs/tasks/configure-pod-container/configure-service-account/)"
   ]
  },
  {
   "cell_type": "code",
   "execution_count": 2,
   "id": "bcfffff3",
   "metadata": {},
   "outputs": [
    {
     "name": "stdout",
     "output_type": "stream",
     "text": [
      "apiVersion: v1\n",
      "kind: ServiceAccount\n",
      "metadata:\n",
      "  creationTimestamp: \"2022-01-20T15:16:42Z\"\n",
      "  name: default\n",
      "  namespace: default\n",
      "  resourceVersion: \"425\"\n",
      "  uid: 2b5f0b66-a485-40d5-a964-82756a140421\n",
      "secrets:\n",
      "- name: default-token-zsxxb\n"
     ]
    }
   ],
   "source": [
    "kubectl get serviceaccount default -o yaml"
   ]
  },
  {
   "cell_type": "code",
   "execution_count": 3,
   "id": "827da161",
   "metadata": {},
   "outputs": [
    {
     "name": "stdout",
     "output_type": "stream",
     "text": [
      "serviceaccount/default patched\n"
     ]
    }
   ],
   "source": [
    "kubectl patch serviceaccount default  --patch \"automountServiceAccountToken: false\""
   ]
  },
  {
   "cell_type": "code",
   "execution_count": 4,
   "id": "e3b006de",
   "metadata": {},
   "outputs": [
    {
     "name": "stdout",
     "output_type": "stream",
     "text": [
      "apiVersion: v1\n",
      "automountServiceAccountToken: false\n",
      "kind: ServiceAccount\n",
      "metadata:\n",
      "  creationTimestamp: \"2022-01-20T15:16:42Z\"\n",
      "  name: default\n",
      "  namespace: default\n",
      "  resourceVersion: \"1072\"\n",
      "  uid: 2b5f0b66-a485-40d5-a964-82756a140421\n",
      "secrets:\n",
      "- name: default-token-zsxxb\n"
     ]
    }
   ],
   "source": [
    "kubectl get serviceaccount default -o yaml | grep -E '(^|automountServiceAccountToken.*)'"
   ]
  },
  {
   "cell_type": "markdown",
   "id": "2eeba43a",
   "metadata": {},
   "source": [
    "# ☠️ **this can be overwritten** ☠️\n",
    "\n"
   ]
  },
  {
   "cell_type": "code",
   "execution_count": 14,
   "id": "68516630",
   "metadata": {},
   "outputs": [
    {
     "name": "stdout",
     "output_type": "stream",
     "text": [
      "deployment.apps/nginx-with-token-again configured\n"
     ]
    }
   ],
   "source": [
    "kubectl apply -f - <<EOF\n",
    "apiVersion: apps/v1\n",
    "kind: Deployment\n",
    "metadata:\n",
    "  name: nginx-with-token-again\n",
    "  labels:\n",
    "    app: nginx-with-token-again\n",
    "spec:\n",
    "  replicas: 1\n",
    "  selector:\n",
    "    matchLabels:\n",
    "      app: nginx-with-token-again\n",
    "  template:\n",
    "    metadata:\n",
    "      labels:\n",
    "        app: nginx-with-token-again\n",
    "    spec:\n",
    "      automountServiceAccountToken: true\n",
    "      containers:\n",
    "      - name: nginx\n",
    "        image: nginxinc/nginx-unprivileged\n",
    "        ports:\n",
    "        - containerPort: 8080\n",
    "EOF"
   ]
  },
  {
   "cell_type": "code",
   "execution_count": 10,
   "id": "b381d8dd",
   "metadata": {},
   "outputs": [
    {
     "name": "stdout",
     "output_type": "stream",
     "text": [
      "NAME                                     READY   STATUS    RESTARTS   AGE\n",
      "nginx-with-token-again-7d7cd958c-szlwq   1/1     Running   0          12s\n",
      "nginx-with-token-again-7d7cd958c-szlwq\n"
     ]
    }
   ],
   "source": [
    "kubectl get pods\n",
    "POD=$(kubectl get pods -o jsonpath='{.items[0].metadata.name}' )\n",
    "echo $POD"
   ]
  },
  {
   "cell_type": "code",
   "execution_count": 11,
   "id": "825f32d1",
   "metadata": {},
   "outputs": [
    {
     "name": "stdout",
     "output_type": "stream",
     "text": [
      "Filesystem             1K-blocks      Used Available Use% Mounted on\n",
      "overlay                308587328 234169208  58673096  80% /\n",
      "tmpfs                      65536         0     65536   0% /dev\n",
      "tmpfs                   32632360         0  32632360   0% /sys/fs/cgroup\n",
      "/dev/mapper/system-var 308587328 234169208  58673096  80% /etc/hosts\n",
      "shm                        65536         0     65536   0% /dev/shm\n",
      "tmpfs                   32632360         0  32632360   0% /proc/acpi\n",
      "tmpfs                   32632360         0  32632360   0% /proc/scsi\n",
      "tmpfs                   32632360         0  32632360   0% /sys/firmware\n"
     ]
    }
   ],
   "source": [
    "kubectl exec  $POD -- df"
   ]
  },
  {
   "cell_type": "code",
   "execution_count": 12,
   "id": "bb5fc157",
   "metadata": {},
   "outputs": [
    {
     "name": "stdout",
     "output_type": "stream",
     "text": [
      "    generateName: nginx-with-token-again-7d7cd958c-\n",
      "      app: nginx-with-token-again\n",
      "    name: nginx-with-token-again-7d7cd958c-szlwq\n",
      "      name: nginx-with-token-again-7d7cd958c\n"
     ]
    }
   ],
   "source": [
    "kubectl get pods  -o yaml | grep -i token"
   ]
  },
  {
   "cell_type": "code",
   "execution_count": 15,
   "id": "73b9f0d0",
   "metadata": {},
   "outputs": [
    {
     "name": "stdout",
     "output_type": "stream",
     "text": [
      "true"
     ]
    }
   ],
   "source": [
    "kubectl get pods -A -o jsonpath='{.items[*].spec.automountServiceAccountToken}'"
   ]
  },
  {
   "cell_type": "code",
   "execution_count": null,
   "id": "d7edcf60",
   "metadata": {},
   "outputs": [],
   "source": []
  }
 ],
 "metadata": {
  "kernelspec": {
   "display_name": "Bash",
   "language": "bash",
   "name": "bash"
  },
  "language_info": {
   "codemirror_mode": "shell",
   "file_extension": ".sh",
   "mimetype": "text/x-sh",
   "name": "bash"
  }
 },
 "nbformat": 4,
 "nbformat_minor": 5
}
