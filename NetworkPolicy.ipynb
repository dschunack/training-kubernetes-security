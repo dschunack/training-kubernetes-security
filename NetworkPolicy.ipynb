{
 "cells": [
  {
   "cell_type": "markdown",
   "metadata": {},
   "source": [
    "**This notebook covered by the following [license](License.ipynb)  This note must not be removed**"
   ]
  },
  {
   "cell_type": "markdown",
   "metadata": {},
   "source": [
    "# Documentation\n",
    "\n",
    "[Link to official NetworkPolicy documentation](https://kubernetes.io/docs/concepts/services-networking/network-policies/)\n",
    "\n",
    "## Activate Calico\n",
    "\n",
    "`minikube start --network-plugin=cni --cni=calico`\n",
    "\n",
    "Made by [Tigera](https://www.tigera.io/)\n"
   ]
  },
  {
   "cell_type": "markdown",
   "metadata": {},
   "source": [
    "## Alternativley Install Cilium in Minikube\n",
    "https://docs.cilium.io/en/stable/gettingstarted/minikube/\n",
    "\n",
    "**Warning** this might be highly version critical and needs testing if the minikube version is different from 1.3.1"
   ]
  },
  {
   "cell_type": "markdown",
   "metadata": {},
   "source": [
    "Activate Berkeley Packet Filters\n",
    "\n",
    "`minikube ssh -- sudo mount bpffs -t bpf /sys/fs/bpf`\n"
   ]
  },
  {
   "cell_type": "markdown",
   "metadata": {},
   "source": [
    "**This might take some 6 minutes**"
   ]
  },
  {
   "cell_type": "markdown",
   "metadata": {},
   "source": [
    "`kubectl create -f https://raw.githubusercontent.com/cilium/cilium/1.6.1/install/kubernetes/quick-install.yaml`\n"
   ]
  },
  {
   "cell_type": "code",
   "execution_count": 2,
   "metadata": {},
   "outputs": [
    {
     "name": "stdout",
     "output_type": "stream",
     "text": [
      "NAMESPACE     NAME                                       READY   STATUS    RESTARTS      AGE\n",
      "kube-system   calico-kube-controllers-58497c65d5-ld8bt   1/1     Running   0             45s\n",
      "kube-system   calico-node-j9h54                          1/1     Running   0             45s\n",
      "kube-system   coredns-78fcd69978-8hqqx                   1/1     Running   0             45s\n",
      "kube-system   etcd-minikube                              1/1     Running   0             57s\n",
      "kube-system   kube-apiserver-minikube                    1/1     Running   0             59s\n",
      "kube-system   kube-controller-manager-minikube           1/1     Running   0             57s\n",
      "kube-system   kube-proxy-k48tj                           1/1     Running   0             45s\n",
      "kube-system   kube-scheduler-minikube                    1/1     Running   0             57s\n",
      "kube-system   storage-provisioner                        1/1     Running   1 (13s ago)   53s\n"
     ]
    }
   ],
   "source": [
    "kubectl get pods -A "
   ]
  },
  {
   "cell_type": "code",
   "execution_count": 3,
   "metadata": {},
   "outputs": [
    {
     "name": "stdout",
     "output_type": "stream",
     "text": [
      "NAME                                           READY   STATUS    RESTARTS      AGE\n",
      "pod/calico-kube-controllers-58497c65d5-ld8bt   1/1     Running   0             47s\n",
      "pod/calico-node-j9h54                          1/1     Running   0             47s\n",
      "pod/coredns-78fcd69978-8hqqx                   1/1     Running   0             47s\n",
      "pod/etcd-minikube                              1/1     Running   0             59s\n",
      "pod/kube-apiserver-minikube                    1/1     Running   0             61s\n",
      "pod/kube-controller-manager-minikube           1/1     Running   0             59s\n",
      "pod/kube-proxy-k48tj                           1/1     Running   0             47s\n",
      "pod/kube-scheduler-minikube                    1/1     Running   0             59s\n",
      "pod/storage-provisioner                        1/1     Running   1 (15s ago)   55s\n",
      "\n",
      "NAME               TYPE        CLUSTER-IP   EXTERNAL-IP   PORT(S)                  AGE\n",
      "service/kube-dns   ClusterIP   10.96.0.10   <none>        53/UDP,53/TCP,9153/TCP   61s\n",
      "\n",
      "NAME                         DESIRED   CURRENT   READY   UP-TO-DATE   AVAILABLE   NODE SELECTOR            AGE\n",
      "daemonset.apps/calico-node   1         1         1       1            1           kubernetes.io/os=linux   59s\n",
      "daemonset.apps/kube-proxy    1         1         1       1            1           kubernetes.io/os=linux   61s\n",
      "\n",
      "NAME                                      READY   UP-TO-DATE   AVAILABLE   AGE\n",
      "deployment.apps/calico-kube-controllers   1/1     1            1           58s\n",
      "deployment.apps/coredns                   1/1     1            1           61s\n",
      "\n",
      "NAME                                                 DESIRED   CURRENT   READY   AGE\n",
      "replicaset.apps/calico-kube-controllers-58497c65d5   1         1         1       48s\n",
      "replicaset.apps/coredns-78fcd69978                   1         1         1       48s\n"
     ]
    }
   ],
   "source": [
    "kubectl get all -n kube-system"
   ]
  },
  {
   "cell_type": "markdown",
   "metadata": {},
   "source": [
    "## Create a test\n",
    "\n",
    "It will deploy a simple probe and echo server running with multiple replicas. The probe will only report readiness while it can successfully reach the echo server:"
   ]
  },
  {
   "cell_type": "code",
   "execution_count": 6,
   "metadata": {},
   "outputs": [
    {
     "name": "stdout",
     "output_type": "stream",
     "text": [
      "NAME                    READY   STATUS    RESTARTS   AGE\n",
      "sleep-56bc8d768-hfcpw   1/1     Running   0          3m44s\n"
     ]
    }
   ],
   "source": [
    "kubectl get pods"
   ]
  },
  {
   "cell_type": "markdown",
   "metadata": {},
   "source": [
    "The Apache example follows \n",
    "https://supergiant.io/blog/understanding-network-policies-in-kubernetes/\n",
    "with the updated versions of the Cilium installation above"
   ]
  },
  {
   "cell_type": "code",
   "execution_count": 5,
   "metadata": {},
   "outputs": [
    {
     "name": "stdout",
     "output_type": "stream",
     "text": [
      "deployment.apps/sleep created\n"
     ]
    }
   ],
   "source": [
    "kubectl apply -f - <<EOF\n",
    "apiVersion: apps/v1\n",
    "kind: Deployment\n",
    "metadata:\n",
    "  name: sleep\n",
    "spec:\n",
    "  replicas: 1\n",
    "  selector:\n",
    "    matchLabels:\n",
    "      app: sleep\n",
    "  template:\n",
    "    metadata:\n",
    "      labels:\n",
    "        app: sleep\n",
    "    spec:\n",
    "      containers:\n",
    "      - name: sleep\n",
    "        image: pstauffer/curl\n",
    "        command: [\"/bin/sleep\", \"3650d\"]\n",
    "        imagePullPolicy: IfNotPresent\n",
    "EOF"
   ]
  },
  {
   "cell_type": "code",
   "execution_count": 7,
   "metadata": {},
   "outputs": [
    {
     "name": "stdout",
     "output_type": "stream",
     "text": [
      "NAME                        READY   STATUS    RESTARTS   AGE\n",
      "pod/sleep-56bc8d768-hfcpw   1/1     Running   0          3m55s\n",
      "\n",
      "NAME                 TYPE        CLUSTER-IP   EXTERNAL-IP   PORT(S)   AGE\n",
      "service/kubernetes   ClusterIP   10.96.0.1    <none>        443/TCP   5m52s\n"
     ]
    }
   ],
   "source": [
    "kubectl get pods,svc"
   ]
  },
  {
   "cell_type": "code",
   "execution_count": 8,
   "metadata": {},
   "outputs": [
    {
     "name": "stdout",
     "output_type": "stream",
     "text": [
      "sleep-56bc8d768-hfcpw\n"
     ]
    }
   ],
   "source": [
    "SLEEP_POD=$(kubectl get pods | awk '/sleep-/{print $1}')\n",
    "echo $SLEEP_POD"
   ]
  },
  {
   "cell_type": "code",
   "execution_count": 9,
   "metadata": {},
   "outputs": [
    {
     "name": "stdout",
     "output_type": "stream",
     "text": [
      "<!DOCTYPE HTML PUBLIC \"-//IETF//DTD HTML 2.0//EN\">\n",
      "<html><head>\n",
      "<title>301 Moved Permanently</title>\n",
      "</head><body>\n",
      "<h1>Moved Permanently</h1>\n",
      "<p>The document has moved <a href=\"https://www.heise.de/\">here</a>.</p>\n",
      "</body></html>\n"
     ]
    }
   ],
   "source": [
    "kubectl exec $SLEEP_POD -- curl -m 5 -s heise.de"
   ]
  },
  {
   "cell_type": "code",
   "execution_count": 10,
   "metadata": {},
   "outputs": [
    {
     "name": "stdout",
     "output_type": "stream",
     "text": [
      "<HTML><HEAD><meta http-equiv=\"content-type\" content=\"text/html;charset=utf-8\">\n",
      "<TITLE>301 Moved</TITLE></HEAD><BODY>\n",
      "<H1>301 Moved</H1>\n",
      "The document has moved\n",
      "<A HREF=\"http://www.google.de/\">here</A>.\n",
      "</BODY></HTML>\n"
     ]
    }
   ],
   "source": [
    "kubectl exec $SLEEP_POD -- curl -m 5 -s google.de"
   ]
  },
  {
   "cell_type": "code",
   "execution_count": 11,
   "metadata": {},
   "outputs": [
    {
     "name": "stdout",
     "output_type": "stream",
     "text": [
      "\n",
      "; <<>> DiG 9.16.1-Ubuntu <<>> heise.de\n",
      ";; global options: +cmd\n",
      ";; Got answer:\n",
      ";; ->>HEADER<<- opcode: QUERY, status: NOERROR, id: 15421\n",
      ";; flags: qr rd ra; QUERY: 1, ANSWER: 1, AUTHORITY: 0, ADDITIONAL: 1\n",
      "\n",
      ";; OPT PSEUDOSECTION:\n",
      "; EDNS: version: 0, flags:; udp: 65494\n",
      ";; QUESTION SECTION:\n",
      ";heise.de.\t\t\tIN\tA\n",
      "\n",
      ";; ANSWER SECTION:\n",
      "heise.de.\t\t7187\tIN\tA\t193.99.144.80\n",
      "\n",
      ";; Query time: 4 msec\n",
      ";; SERVER: 192.168.49.1#53(192.168.49.1)\n",
      ";; WHEN: Wed Jan 19 15:54:17 UTC 2022\n",
      ";; MSG SIZE  rcvd: 53\n",
      "\n"
     ]
    }
   ],
   "source": [
    "dig heise.de"
   ]
  },
  {
   "cell_type": "markdown",
   "metadata": {},
   "source": [
    "## Networkpolicy\n"
   ]
  },
  {
   "cell_type": "code",
   "execution_count": 12,
   "metadata": {},
   "outputs": [
    {
     "name": "stdout",
     "output_type": "stream",
     "text": [
      "networkpolicy.networking.k8s.io/test-np created\n"
     ]
    }
   ],
   "source": [
    "kubectl apply -f - <<EOF\n",
    "apiVersion: networking.k8s.io/v1\n",
    "kind: NetworkPolicy\n",
    "metadata:\n",
    "  name: test-np\n",
    "  namespace: default\n",
    "spec:\n",
    "  podSelector:\n",
    "    matchLabels:\n",
    "      app: sleep\n",
    "  policyTypes:\n",
    "  - Ingress\n",
    "  - Egress\n",
    "  ingress:\n",
    "  - from:\n",
    "    - namespaceSelector:\n",
    "        matchLabels:\n",
    "          project: dev\n",
    "    - podSelector:\n",
    "        matchLabels:\n",
    "          role: frontend\n",
    "    ports:\n",
    "    - protocol: TCP\n",
    "      port: 80\n",
    "  egress:\n",
    "  - to:\n",
    "    - ipBlock:\n",
    "        cidr: 193.99.144.80/32\n",
    "    ports:\n",
    "    - protocol: TCP\n",
    "      port: 80\n",
    "EOF"
   ]
  },
  {
   "cell_type": "code",
   "execution_count": 14,
   "metadata": {},
   "outputs": [
    {
     "name": "stdout",
     "output_type": "stream",
     "text": [
      "command terminated with exit code 28\n",
      "28\n"
     ]
    }
   ],
   "source": [
    "kubectl exec $SLEEP_POD -- curl -m 5 -s heise.de\n",
    "echo $?"
   ]
  },
  {
   "cell_type": "code",
   "execution_count": 15,
   "metadata": {},
   "outputs": [
    {
     "name": "stdout",
     "output_type": "stream",
     "text": [
      "command terminated with exit code 28\n",
      "28\n"
     ]
    }
   ],
   "source": [
    "kubectl exec $SLEEP_POD -- curl -m 5  -s google.de\n",
    "echo $?"
   ]
  },
  {
   "cell_type": "code",
   "execution_count": 16,
   "metadata": {},
   "outputs": [
    {
     "name": "stdout",
     "output_type": "stream",
     "text": [
      "<!DOCTYPE HTML PUBLIC \"-//IETF//DTD HTML 2.0//EN\">\n",
      "<html><head>\n",
      "<title>301 Moved Permanently</title>\n",
      "</head><body>\n",
      "<h1>Moved Permanently</h1>\n",
      "<p>The document has moved <a href=\"https://www.heise.de/\">here</a>.</p>\n",
      "</body></html>\n",
      "0\n"
     ]
    }
   ],
   "source": [
    "kubectl exec $SLEEP_POD -- curl -m 5 -s 193.99.144.80\n",
    "echo $?"
   ]
  },
  {
   "cell_type": "code",
   "execution_count": 17,
   "metadata": {},
   "outputs": [
    {
     "name": "stdout",
     "output_type": "stream",
     "text": [
      "command terminated with exit code 28\n"
     ]
    },
    {
     "ename": "",
     "evalue": "28",
     "output_type": "error",
     "traceback": []
    }
   ],
   "source": [
    "kubectl exec $SLEEP_POD -- curl -m 5  -s 172.217.19.67"
   ]
  },
  {
   "cell_type": "markdown",
   "metadata": {},
   "source": [
    "# Include DNS"
   ]
  },
  {
   "cell_type": "code",
   "execution_count": 18,
   "metadata": {},
   "outputs": [
    {
     "name": "stdout",
     "output_type": "stream",
     "text": [
      "networkpolicy.networking.k8s.io/test-np configured\n"
     ]
    }
   ],
   "source": [
    "kubectl apply -f - <<EOF\n",
    "apiVersion: networking.k8s.io/v1\n",
    "kind: NetworkPolicy\n",
    "metadata:\n",
    "  name: test-np\n",
    "  namespace: default\n",
    "spec:\n",
    "  podSelector:\n",
    "    matchLabels:\n",
    "      app: sleep\n",
    "  policyTypes:\n",
    "  - Ingress\n",
    "  - Egress\n",
    "  ingress:\n",
    "  - from:\n",
    "    - namespaceSelector:\n",
    "        matchLabels:\n",
    "          project: dev\n",
    "    - podSelector:\n",
    "        matchLabels:\n",
    "          role: frontend\n",
    "    ports:\n",
    "    - protocol: TCP\n",
    "      port: 80\n",
    "  egress:\n",
    "  - to:\n",
    "    - ipBlock:\n",
    "        cidr: 193.99.144.80/32\n",
    "    ports:\n",
    "    - protocol: TCP\n",
    "      port: 80\n",
    "  - ports:\n",
    "    - port: 53\n",
    "      protocol: UDP\n",
    "    - port: 53\n",
    "      protocol: TCP\n",
    "EOF"
   ]
  },
  {
   "cell_type": "code",
   "execution_count": 19,
   "metadata": {},
   "outputs": [
    {
     "name": "stdout",
     "output_type": "stream",
     "text": [
      "<!DOCTYPE HTML PUBLIC \"-//IETF//DTD HTML 2.0//EN\">\n",
      "<html><head>\n",
      "<title>301 Moved Permanently</title>\n",
      "</head><body>\n",
      "<h1>Moved Permanently</h1>\n",
      "<p>The document has moved <a href=\"https://www.heise.de/\">here</a>.</p>\n",
      "</body></html>\n"
     ]
    }
   ],
   "source": [
    "kubectl exec $SLEEP_POD -- curl -m 5 -s heise.de"
   ]
  },
  {
   "cell_type": "code",
   "execution_count": 20,
   "metadata": {},
   "outputs": [
    {
     "name": "stdout",
     "output_type": "stream",
     "text": [
      "* Rebuilt URL to: google.de/\n",
      "*   Trying 142.250.184.195...\n",
      "* TCP_NODELAY set\n",
      "*   Trying 2a00:1450:4001:830::2003...\n",
      "* TCP_NODELAY set\n",
      "* Immediate connect fail for 2a00:1450:4001:830::2003: Address not available\n",
      "*   Trying 2a00:1450:4001:830::2003...\n",
      "* TCP_NODELAY set\n",
      "* Immediate connect fail for 2a00:1450:4001:830::2003: Address not available\n",
      "*   Trying 2a00:1450:4001:830::2003...\n",
      "* TCP_NODELAY set\n",
      "* Immediate connect fail for 2a00:1450:4001:830::2003: Address not available\n",
      "*   Trying 2a00:1450:4001:830::2003...\n",
      "* TCP_NODELAY set\n",
      "* Immediate connect fail for 2a00:1450:4001:830::2003: Address not available\n",
      "*   Trying 2a00:1450:4001:830::2003...\n",
      "* TCP_NODELAY set\n",
      "* Immediate connect fail for 2a00:1450:4001:830::2003: Address not available\n",
      "*   Trying 2a00:1450:4001:830::2003...\n",
      "* TCP_NODELAY set\n",
      "* Immediate connect fail for 2a00:1450:4001:830::2003: Address not available\n",
      "* Connection timed out after 5000 milliseconds\n",
      "* stopped the pause stream!\n",
      "* Closing connection 0\n",
      "command terminated with exit code 28\n",
      "no connection\n"
     ]
    }
   ],
   "source": [
    "if  kubectl exec $SLEEP_POD -- curl -v -m 5 -s google.de \n",
    "then\n",
    "  echo connection\n",
    "else\n",
    "  echo no connection\n",
    "fi"
   ]
  },
  {
   "cell_type": "code",
   "execution_count": 21,
   "metadata": {},
   "outputs": [
    {
     "name": "stdout",
     "output_type": "stream",
     "text": [
      "NAME                    READY   STATUS    RESTARTS   AGE\n",
      "sleep-56bc8d768-hfcpw   1/1     Running   0          9m13s\n"
     ]
    }
   ],
   "source": [
    "kubectl get pods "
   ]
  },
  {
   "cell_type": "markdown",
   "metadata": {},
   "source": [
    "# CNI"
   ]
  },
  {
   "cell_type": "code",
   "execution_count": 22,
   "metadata": {},
   "outputs": [
    {
     "name": "stdout",
     "output_type": "stream",
     "text": [
      "10-calico.conflist  100-crio-bridge.conf  200-loopback.conf  calico-kubeconfig\n"
     ]
    }
   ],
   "source": [
    "ls /etc/cni/net.d"
   ]
  },
  {
   "cell_type": "code",
   "execution_count": 23,
   "metadata": {},
   "outputs": [
    {
     "name": "stdout",
     "output_type": "stream",
     "text": [
      "{\n",
      "  \"name\": \"k8s-pod-network\",\n",
      "  \"cniVersion\": \"0.3.1\",\n",
      "  \"plugins\": [\n",
      "    {\n",
      "      \"type\": \"calico\",\n",
      "      \"log_level\": \"info\",\n",
      "      \"log_file_path\": \"/var/log/calico/cni/cni.log\",\n",
      "      \"datastore_type\": \"kubernetes\",\n",
      "      \"nodename\": \"minikube\",\n",
      "      \"mtu\": 0,\n",
      "      \"ipam\": {\n",
      "          \"type\": \"calico-ipam\"\n",
      "      },\n",
      "      \"policy\": {\n",
      "          \"type\": \"k8s\"\n",
      "      },\n",
      "      \"kubernetes\": {\n",
      "          \"kubeconfig\": \"/etc/cni/net.d/calico-kubeconfig\"\n",
      "      }\n",
      "    },\n",
      "    {\n",
      "      \"type\": \"portmap\",\n",
      "      \"snat\": true,\n",
      "      \"capabilities\": {\"portMappings\": true}\n",
      "    },\n",
      "    {\n",
      "      \"type\": \"bandwidth\",\n",
      "      \"capabilities\": {\"bandwidth\": true}\n",
      "    }\n",
      "  ]\n",
      "}"
     ]
    }
   ],
   "source": [
    "cat /etc/cni/net.d/10-calico.conflist"
   ]
  },
  {
   "cell_type": "code",
   "execution_count": 24,
   "metadata": {},
   "outputs": [
    {
     "name": "stdout",
     "output_type": "stream",
     "text": [
      "# Kubeconfig file for Calico CNI plugin.\n",
      "apiVersion: v1\n",
      "kind: Config\n",
      "clusters:\n",
      "- name: local\n",
      "  cluster:\n",
      "    server: https://[10.96.0.1]:443\n",
      "    certificate-authority-data: LS0tLS1CRUdJTiBDRVJUSUZJQ0FURS0tLS0tCk1JSURCakNDQWU2Z0F3SUJBZ0lCQVRBTkJna3Foa2lHOXcwQkFRc0ZBREFWTVJNd0VRWURWUVFERXdwdGFXNXAKYTNWaVpVTkJNQjRYRFRJeE1ETXdNVEE1TlRRMU1Gb1hEVE14TURJeU9EQTVOVFExTUZvd0ZURVRNQkVHQTFVRQpBeE1LYldsdWFXdDFZbVZEUVRDQ0FTSXdEUVlKS29aSWh2Y05BUUVCQlFBRGdnRVBBRENDQVFvQ2dnRUJBTkh5Cm1SRm1qaG0wdWpKRXd4ZXp2VWZvL0o2Q1Mvbkk3MS9rQlZxVEVTY3ZoZFpkYjdUazl3T1Bueng3VW9UQUIwZXoKZ3AxUjdnVFBnZnJSNGNyKy9Lc08vWExydk9CNEFoOXM0RE1lL1B5OTVyZE1iNmlDUytZMDV1VldkQ3R0bGhrSwpjM3lmblhPS29teXFaVUw0dzJLTFQza1I2clBHVXZ6M3RMYU9lYlpYc2RYNklqZXBaOHVROXZkYldXYVVVS25uCk5jUHdLc3VCNmNra1hibnBmaXRXSWovVnEwbFdZWU5OOXVJZjg0TWFqY2ZjS2twRUpoY2g4SHd2aWdtZGRiWHkKL2hnNXd0VGF3RCtUUWp5d09MVFpIMkg5bEVodGNQMS9PeE9nOU56WitaQW1CcDZFelFJbmFJMCt0YVM2WW1FbQppQ0RzUVlEYnV0bXpFWnliVEJjQ0F3RUFBYU5oTUY4d0RnWURWUjBQQVFIL0JBUURBZ0trTUIwR0ExVWRKUVFXCk1CUUdDQ3NHQVFVRkJ3TUNCZ2dyQmdFRkJRY0RBVEFQQmdOVkhSTUJBZjhFQlRBREFRSC9NQjBHQTFVZERnUVcKQkJRY004c25IMk10R1k3dU55UlZCQmdIY3hwd2hqQU5CZ2txaGtpRzl3MEJBUXNGQUFPQ0FRRUFQdXVINzlKbgpRSHZUNTAyVk1YKzM5WVkyNzI3TCtYU3NOekc0cVYyVjUvakh3by94SDNDQ0svN2EzTTlyVVp6TlpIZytsSG9GCnZiVzZ0K2VvNmJmeE9iSHlMcjVoY1JBSVYxNWpaY0RhTVh4Zys3SjFrWExsb1ZaL2VVcmRqT2lLSEtJOURzU0QKY05DdXdwODRHYXNzdjRVMTBMSmFjd1EvcVRENThDT0UwelFSY0hibjJrMUFRK01BOThHTmlMRHQxTml2UDB6aApOb1hLcURFT1ZkWVE5Mi81VkVkT1o0TVZIOHF6RWw2YUhjZE0zR210WGVtZGlBZFdQV1hJY2JGbzNDVUJzOExVCkk5dzZKUDZvaGhKZysvUUtMaGdhQ1M5dUxVdjlqVnBucVRqUnNvbUtrQ0cyNmNGWGZYeDd5cmJBZG5Kb1p6Z1IKczFVNThZSS9PMm50UXc9PQotLS0tLUVORCBDRVJUSUZJQ0FURS0tLS0tCg==\n",
      "users:\n",
      "- name: calico\n",
      "  user:\n",
      "    token: eyJhbGciOiJSUzI1NiIsImtpZCI6IlVCMnplMDE2TU1wTk1Sd0VjdW4tcU8tYUVLdk10RWptZGlSbkJjVGxFczgifQ.eyJhdWQiOlsiaHR0cHM6Ly9rdWJlcm5ldGVzLmRlZmF1bHQuc3ZjLmNsdXN0ZXIubG9jYWwiXSwiZXhwIjoxNjc0MTQzMzAzLCJpYXQiOjE2NDI2MDczMDMsImlzcyI6Imh0dHBzOi8va3ViZXJuZXRlcy5kZWZhdWx0LnN2Yy5jbHVzdGVyLmxvY2FsIiwia3ViZXJuZXRlcy5pbyI6eyJuYW1lc3BhY2UiOiJrdWJlLXN5c3RlbSIsInBvZCI6eyJuYW1lIjoiY2FsaWNvLW5vZGUtajloNTQiLCJ1aWQiOiI3ZWJmODRjOS1kZDFmLTQ3MDYtYTA0MC1jYmMzMDdjZDQ4MGMifSwic2VydmljZWFjY291bnQiOnsibmFtZSI6ImNhbGljby1ub2RlIiwidWlkIjoiNmEyYTgzZGEtZTdjNi00NWJkLThmZmYtMGI1Njg5ODlmYjUwIn0sIndhcm5hZnRlciI6MTY0MjYxMDkxMH0sIm5iZiI6MTY0MjYwNzMwMywic3ViIjoic3lzdGVtOnNlcnZpY2VhY2NvdW50Omt1YmUtc3lzdGVtOmNhbGljby1ub2RlIn0.FOZvvrJIXVNdxjokob8nrKRBSbcntm9kbwL7N9GhLTcs5tEEEBFt80DcuAAMgSD-FrI6dc0ChPnXo7_aIK3mAn9fE8A7Cc6arFyYHEdZhXf57vAb14U0w9WvnLXZYerVnnfuMKRI0sl2r-VXaY-MlHp3uD_Cd0vk5FLL0SbhxvUMpE4_N9EK0MCkeBczwP1zp00qq64xWw4OeKXp0CbUvR-U2kXdEB6AtpnB0gVoQoH5ayxbI7V3fCao_4HtmVMF9HvYokogmK8-BfDr841BLX91tJznmF6U24uKmxprmlu1bR2QIbIRfY5fqtEUeAiE8tmWxVLvE1hLurwDIw65zg\n",
      "contexts:\n",
      "- name: calico-context\n",
      "  context:\n",
      "    cluster: local\n",
      "    user: calico\n",
      "current-context: calico-context"
     ]
    }
   ],
   "source": [
    "cat /etc/cni/net.d/calico-kubeconfig"
   ]
  },
  {
   "cell_type": "code",
   "execution_count": 25,
   "metadata": {},
   "outputs": [
    {
     "name": "stdout",
     "output_type": "stream",
     "text": [
      "1: lo: <LOOPBACK,UP,LOWER_UP> mtu 65536 qdisc noqueue state UNKNOWN group default qlen 1000\n",
      "    link/loopback 00:00:00:00:00:00 brd 00:00:00:00:00:00\n",
      "    inet 127.0.0.1/8 scope host lo\n",
      "       valid_lft forever preferred_lft forever\n",
      "2: tunl0@NONE: <NOARP,UP,LOWER_UP> mtu 1480 qdisc noqueue state UNKNOWN group default qlen 1000\n",
      "    link/ipip 0.0.0.0 brd 0.0.0.0\n",
      "    inet 10.244.120.64/32 scope global tunl0\n",
      "       valid_lft forever preferred_lft forever\n",
      "3: docker0: <NO-CARRIER,BROADCAST,MULTICAST,UP> mtu 1500 qdisc noqueue state DOWN group default \n",
      "    link/ether 02:42:b9:ad:8f:db brd ff:ff:ff:ff:ff:ff\n",
      "    inet 172.17.0.1/16 brd 172.17.255.255 scope global docker0\n",
      "       valid_lft forever preferred_lft forever\n",
      "4: cni0: <NO-CARRIER,BROADCAST,MULTICAST,UP> mtu 1500 qdisc noqueue state DOWN group default qlen 1000\n",
      "    link/ether 3a:cc:8c:73:ec:9b brd ff:ff:ff:ff:ff:ff\n",
      "    inet 10.85.0.1/16 brd 10.85.255.255 scope global cni0\n",
      "       valid_lft forever preferred_lft forever\n",
      "13: cali190e67186ff@if4: <BROADCAST,MULTICAST,UP,LOWER_UP> mtu 1480 qdisc noqueue state UP group default \n",
      "    link/ether ee:ee:ee:ee:ee:ee brd ff:ff:ff:ff:ff:ff link-netnsid 1\n",
      "14: cali283d4d3adce@if4: <BROADCAST,MULTICAST,UP,LOWER_UP> mtu 1480 qdisc noqueue state UP group default \n",
      "    link/ether ee:ee:ee:ee:ee:ee brd ff:ff:ff:ff:ff:ff link-netnsid 2\n",
      "15: calid494481ed97@if4: <BROADCAST,MULTICAST,UP,LOWER_UP> mtu 1480 qdisc noqueue state UP group default \n",
      "    link/ether ee:ee:ee:ee:ee:ee brd ff:ff:ff:ff:ff:ff link-netnsid 3\n",
      "148: eth0@if149: <BROADCAST,MULTICAST,UP,LOWER_UP> mtu 1500 qdisc noqueue state UP group default \n",
      "    link/ether 02:42:c0:a8:31:02 brd ff:ff:ff:ff:ff:ff link-netnsid 0\n",
      "    inet 192.168.49.2/24 brd 192.168.49.255 scope global eth0\n",
      "       valid_lft forever preferred_lft forever\n"
     ]
    }
   ],
   "source": [
    "ip a"
   ]
  },
  {
   "cell_type": "code",
   "execution_count": 26,
   "metadata": {
    "tags": []
   },
   "outputs": [
    {
     "name": "stdout",
     "output_type": "stream",
     "text": [
      "# Generated by iptables-save v1.8.4 on Wed Jan 19 15:59:42 2022\n",
      "*raw\n",
      ":PREROUTING ACCEPT [118023:47336897]\n",
      ":OUTPUT ACCEPT [101551:18954675]\n",
      ":cali-OUTPUT - [0:0]\n",
      ":cali-PREROUTING - [0:0]\n",
      ":cali-from-host-endpoint - [0:0]\n",
      ":cali-to-host-endpoint - [0:0]\n",
      "-A PREROUTING -m comment --comment \"cali:6gwbT8clXdHdC1b1\" -j cali-PREROUTING\n",
      "-A OUTPUT -m comment --comment \"cali:tVnHkvAo15HuiPy0\" -j cali-OUTPUT\n",
      "-A cali-OUTPUT -m comment --comment \"cali:njdnLwYeGqBJyMxW\" -j MARK --set-xmark 0x0/0xf0000\n",
      "-A cali-OUTPUT -m comment --comment \"cali:rz86uTUcEZAfFsh7\" -j cali-to-host-endpoint\n",
      "-A cali-OUTPUT -m comment --comment \"cali:pN0F5zD0b8yf9W1Z\" -m mark --mark 0x10000/0x10000 -j ACCEPT\n",
      "-A cali-PREROUTING -m comment --comment \"cali:XFX5xbM8B9qR10JG\" -j MARK --set-xmark 0x0/0xf0000\n",
      "-A cali-PREROUTING -i cali+ -m comment --comment \"cali:EWMPb0zVROM-woQp\" -j MARK --set-xmark 0x40000/0x40000\n",
      "-A cali-PREROUTING -m comment --comment \"cali:mPIOOWmbH3iO0R90\" -m mark --mark 0x40000/0x40000 -m rpfilter --validmark --invert -j DROP\n",
      "-A cali-PREROUTING -m comment --comment \"cali:8eOxmFpkWr0RjKXR\" -m mark --mark 0x0/0x40000 -j cali-from-host-endpoint\n",
      "-A cali-PREROUTING -m comment --comment \"cali:F-nExspj_POyei0v\" -m mark --mark 0x10000/0x10000 -j ACCEPT\n",
      "COMMIT\n",
      "# Completed on Wed Jan 19 15:59:42 2022\n",
      "# Generated by iptables-save v1.8.4 on Wed Jan 19 15:59:42 2022\n",
      "*mangle\n",
      ":PREROUTING ACCEPT [1274:77051]\n",
      ":INPUT ACCEPT [117894:47335097]\n",
      ":FORWARD ACCEPT [141:14713]\n",
      ":OUTPUT ACCEPT [101565:18967187]\n",
      ":POSTROUTING ACCEPT [101688:18980576]\n",
      ":KUBE-KUBELET-CANARY - [0:0]\n",
      ":KUBE-PROXY-CANARY - [0:0]\n",
      ":cali-POSTROUTING - [0:0]\n",
      ":cali-PREROUTING - [0:0]\n",
      ":cali-from-host-endpoint - [0:0]\n",
      ":cali-to-host-endpoint - [0:0]\n",
      "-A PREROUTING -m comment --comment \"cali:6gwbT8clXdHdC1b1\" -j cali-PREROUTING\n",
      "-A POSTROUTING -m comment --comment \"cali:O3lYWMrLQYEMJtB5\" -j cali-POSTROUTING\n",
      "-A cali-POSTROUTING -m comment --comment \"cali:NX-7roTexQ3fGRfU\" -m mark --mark 0x10000/0x10000 -j RETURN\n",
      "-A cali-POSTROUTING -m comment --comment \"cali:nnqPh8lh2VOogSzX\" -j MARK --set-xmark 0x0/0xf0000\n",
      "-A cali-POSTROUTING -m comment --comment \"cali:nquN8Jw8Tz72pcBW\" -m conntrack --ctstate DNAT -j cali-to-host-endpoint\n",
      "-A cali-POSTROUTING -m comment --comment \"cali:jWrgvDQ0xEZHmta3\" -m comment --comment \"Host endpoint policy accepted packet.\" -m mark --mark 0x10000/0x10000 -j RETURN\n",
      "-A cali-PREROUTING -m comment --comment \"cali:6BJqBjBC7crtA-7-\" -m conntrack --ctstate RELATED,ESTABLISHED -j ACCEPT\n",
      "-A cali-PREROUTING -m comment --comment \"cali:KX7AGNd6rMcDUai6\" -m mark --mark 0x10000/0x10000 -j ACCEPT\n",
      "-A cali-PREROUTING -m comment --comment \"cali:wNH7KsA3ILKJBsY9\" -j cali-from-host-endpoint\n",
      "-A cali-PREROUTING -m comment --comment \"cali:Cg96MgVuoPm7UMRo\" -m comment --comment \"Host endpoint policy accepted packet.\" -m mark --mark 0x10000/0x10000 -j ACCEPT\n",
      "COMMIT\n",
      "# Completed on Wed Jan 19 15:59:42 2022\n",
      "# Generated by iptables-save v1.8.4 on Wed Jan 19 15:59:42 2022\n",
      "*filter\n",
      ":INPUT ACCEPT [14768:2555565]\n",
      ":FORWARD ACCEPT [0:0]\n",
      ":OUTPUT ACCEPT [14866:2909216]\n",
      ":DOCKER - [0:0]\n",
      ":DOCKER-ISOLATION-STAGE-1 - [0:0]\n",
      ":DOCKER-ISOLATION-STAGE-2 - [0:0]\n",
      ":DOCKER-USER - [0:0]\n",
      ":KUBE-EXTERNAL-SERVICES - [0:0]\n",
      ":KUBE-FIREWALL - [0:0]\n",
      ":KUBE-FORWARD - [0:0]\n",
      ":KUBE-KUBELET-CANARY - [0:0]\n",
      ":KUBE-NODEPORTS - [0:0]\n",
      ":KUBE-PROXY-CANARY - [0:0]\n",
      ":KUBE-SERVICES - [0:0]\n",
      ":cali-FORWARD - [0:0]\n",
      ":cali-INPUT - [0:0]\n",
      ":cali-OUTPUT - [0:0]\n",
      ":cali-cidr-block - [0:0]\n",
      ":cali-from-hep-forward - [0:0]\n",
      ":cali-from-host-endpoint - [0:0]\n",
      ":cali-from-wl-dispatch - [0:0]\n",
      ":cali-fw-cali190e67186ff - [0:0]\n",
      ":cali-fw-cali283d4d3adce - [0:0]\n",
      ":cali-fw-calid494481ed97 - [0:0]\n",
      ":cali-pi-_5Q_kTAczgfSis5zqfyh - [0:0]\n",
      ":cali-po-_5Q_kTAczgfSis5zqfyh - [0:0]\n",
      ":cali-pri-_PTRGc0U-L5Kz7V6ERW - [0:0]\n",
      ":cali-pri-_u2Tn2rSoAPffvE7JO6 - [0:0]\n",
      ":cali-pri-kns.default - [0:0]\n",
      ":cali-pri-kns.kube-system - [0:0]\n",
      ":cali-pri-ksa.default.default - [0:0]\n",
      ":cali-pro-_PTRGc0U-L5Kz7V6ERW - [0:0]\n",
      ":cali-pro-_u2Tn2rSoAPffvE7JO6 - [0:0]\n",
      ":cali-pro-kns.default - [0:0]\n",
      ":cali-pro-kns.kube-system - [0:0]\n",
      ":cali-pro-ksa.default.default - [0:0]\n",
      ":cali-to-hep-forward - [0:0]\n",
      ":cali-to-host-endpoint - [0:0]\n",
      ":cali-to-wl-dispatch - [0:0]\n",
      ":cali-tw-cali190e67186ff - [0:0]\n",
      ":cali-tw-cali283d4d3adce - [0:0]\n",
      ":cali-tw-calid494481ed97 - [0:0]\n",
      ":cali-wl-to-host - [0:0]\n",
      "-A INPUT -m comment --comment \"cali:Cz_u1IQiXIMmKD4c\" -j cali-INPUT\n",
      "-A INPUT -m comment --comment \"kubernetes health check service ports\" -j KUBE-NODEPORTS\n",
      "-A INPUT -m conntrack --ctstate NEW -m comment --comment \"kubernetes externally-visible service portals\" -j KUBE-EXTERNAL-SERVICES\n",
      "-A INPUT -j KUBE-FIREWALL\n",
      "-A FORWARD -m comment --comment \"cali:wUHhoiAYhphO9Mso\" -j cali-FORWARD\n",
      "-A FORWARD -m comment --comment \"kubernetes forwarding rules\" -j KUBE-FORWARD\n",
      "-A FORWARD -m conntrack --ctstate NEW -m comment --comment \"kubernetes service portals\" -j KUBE-SERVICES\n",
      "-A FORWARD -m conntrack --ctstate NEW -m comment --comment \"kubernetes externally-visible service portals\" -j KUBE-EXTERNAL-SERVICES\n",
      "-A FORWARD -j DOCKER-USER\n",
      "-A FORWARD -j DOCKER-ISOLATION-STAGE-1\n",
      "-A FORWARD -o docker0 -m conntrack --ctstate RELATED,ESTABLISHED -j ACCEPT\n",
      "-A FORWARD -o docker0 -j DOCKER\n",
      "-A FORWARD -i docker0 ! -o docker0 -j ACCEPT\n",
      "-A FORWARD -i docker0 -o docker0 -j ACCEPT\n",
      "-A FORWARD -m comment --comment \"cali:S93hcgKJrXEqnTfs\" -m comment --comment \"Policy explicitly accepted packet.\" -m mark --mark 0x10000/0x10000 -j ACCEPT\n",
      "-A FORWARD -m comment --comment \"cali:mp77cMpurHhyjLrM\" -j MARK --set-xmark 0x10000/0x10000\n",
      "-A OUTPUT -m comment --comment \"cali:tVnHkvAo15HuiPy0\" -j cali-OUTPUT\n",
      "-A OUTPUT -m conntrack --ctstate NEW -m comment --comment \"kubernetes service portals\" -j KUBE-SERVICES\n",
      "-A OUTPUT -j KUBE-FIREWALL\n",
      "-A DOCKER-ISOLATION-STAGE-1 -i docker0 ! -o docker0 -j DOCKER-ISOLATION-STAGE-2\n",
      "-A DOCKER-ISOLATION-STAGE-1 -j RETURN\n",
      "-A DOCKER-ISOLATION-STAGE-2 -o docker0 -j DROP\n",
      "-A DOCKER-ISOLATION-STAGE-2 -j RETURN\n",
      "-A DOCKER-USER -j RETURN\n",
      "-A KUBE-FIREWALL -m comment --comment \"kubernetes firewall for dropping marked packets\" -m mark --mark 0x8000/0x8000 -j DROP\n",
      "-A KUBE-FIREWALL ! -s 127.0.0.0/8 -d 127.0.0.0/8 -m comment --comment \"block incoming localnet connections\" -m conntrack ! --ctstate RELATED,ESTABLISHED,DNAT -j DROP\n",
      "-A KUBE-FORWARD -m conntrack --ctstate INVALID -j DROP\n",
      "-A KUBE-FORWARD -m comment --comment \"kubernetes forwarding rules\" -m mark --mark 0x4000/0x4000 -j ACCEPT\n",
      "-A KUBE-FORWARD -m comment --comment \"kubernetes forwarding conntrack pod source rule\" -m conntrack --ctstate RELATED,ESTABLISHED -j ACCEPT\n",
      "-A KUBE-FORWARD -m comment --comment \"kubernetes forwarding conntrack pod destination rule\" -m conntrack --ctstate RELATED,ESTABLISHED -j ACCEPT\n",
      "-A cali-FORWARD -m comment --comment \"cali:vjrMJCRpqwy5oRoX\" -j MARK --set-xmark 0x0/0xe0000\n",
      "-A cali-FORWARD -m comment --comment \"cali:A_sPAO0mcxbT9mOV\" -m mark --mark 0x0/0x10000 -j cali-from-hep-forward\n",
      "-A cali-FORWARD -i cali+ -m comment --comment \"cali:8ZoYfO5HKXWbB3pk\" -j cali-from-wl-dispatch\n",
      "-A cali-FORWARD -o cali+ -m comment --comment \"cali:jdEuaPBe14V2hutn\" -j cali-to-wl-dispatch\n",
      "-A cali-FORWARD -m comment --comment \"cali:12bc6HljsMKsmfr-\" -j cali-to-hep-forward\n",
      "-A cali-FORWARD -m comment --comment \"cali:NOSxoaGx8OIstr1z\" -j cali-cidr-block\n",
      "-A cali-INPUT -p ipencap -m comment --comment \"cali:PajejrV4aFdkZojI\" -m comment --comment \"Allow IPIP packets from Calico hosts\" -m set --match-set cali40all-hosts-net src -m addrtype --dst-type LOCAL -j ACCEPT\n",
      "-A cali-INPUT -p ipencap -m comment --comment \"cali:_wjq-Yrma8Ly1Svo\" -m comment --comment \"Drop IPIP packets from non-Calico hosts\" -j DROP\n",
      "-A cali-INPUT -i cali+ -m comment --comment \"cali:8TZGxLWh_Eiz66wc\" -g cali-wl-to-host\n",
      "-A cali-INPUT -m comment --comment \"cali:6McIeIDvPdL6PE1T\" -m mark --mark 0x10000/0x10000 -j ACCEPT\n",
      "-A cali-INPUT -m comment --comment \"cali:YGPbrUms7NId8xVa\" -j MARK --set-xmark 0x0/0xf0000\n",
      "-A cali-INPUT -m comment --comment \"cali:2gmY7Bg2i0i84Wk_\" -j cali-from-host-endpoint\n",
      "-A cali-INPUT -m comment --comment \"cali:q-Vz2ZT9iGE331LL\" -m comment --comment \"Host endpoint policy accepted packet.\" -m mark --mark 0x10000/0x10000 -j ACCEPT\n",
      "-A cali-OUTPUT -m comment --comment \"cali:Mq1_rAdXXH3YkrzW\" -m mark --mark 0x10000/0x10000 -j ACCEPT\n",
      "-A cali-OUTPUT -o cali+ -m comment --comment \"cali:69FkRTJDvD5Vu6Vl\" -j RETURN\n",
      "-A cali-OUTPUT -p ipencap -m comment --comment \"cali:AnEsmO6bDZbQntWW\" -m comment --comment \"Allow IPIP packets to other Calico hosts\" -m set --match-set cali40all-hosts-net dst -m addrtype --src-type LOCAL -j ACCEPT\n",
      "-A cali-OUTPUT -m comment --comment \"cali:9e9Uf3GU5tX--Lxy\" -j MARK --set-xmark 0x0/0xf0000\n",
      "-A cali-OUTPUT -m comment --comment \"cali:0f3LDz_VKuHFaA2K\" -m conntrack ! --ctstate DNAT -j cali-to-host-endpoint\n",
      "-A cali-OUTPUT -m comment --comment \"cali:OgU2f8BVEAZ_fwkq\" -m comment --comment \"Host endpoint policy accepted packet.\" -m mark --mark 0x10000/0x10000 -j ACCEPT\n",
      "-A cali-from-wl-dispatch -i cali190e67186ff -m comment --comment \"cali:cWVX2ppZDd0ipXMF\" -g cali-fw-cali190e67186ff\n",
      "-A cali-from-wl-dispatch -i cali283d4d3adce -m comment --comment \"cali:1yy06LiT2kq1OrA6\" -g cali-fw-cali283d4d3adce\n",
      "-A cali-from-wl-dispatch -i calid494481ed97 -m comment --comment \"cali:H6uAVIJVGh7cQPB0\" -g cali-fw-calid494481ed97\n",
      "-A cali-from-wl-dispatch -m comment --comment \"cali:Dd6IV0IVMQionS4s\" -m comment --comment \"Unknown interface\" -j DROP\n",
      "-A cali-fw-cali190e67186ff -m comment --comment \"cali:yn8VNXLdfGOwytV4\" -m conntrack --ctstate RELATED,ESTABLISHED -j ACCEPT\n",
      "-A cali-fw-cali190e67186ff -m comment --comment \"cali:Jwpq7VDAYi8yrWvg\" -m conntrack --ctstate INVALID -j DROP\n",
      "-A cali-fw-cali190e67186ff -m comment --comment \"cali:tWqHx-PgXvQ2nn03\" -j MARK --set-xmark 0x0/0x10000\n",
      "-A cali-fw-cali190e67186ff -p udp -m comment --comment \"cali:HbiDTNC0bako_UBO\" -m comment --comment \"Drop VXLAN encapped packets originating in workloads\" -m multiport --dports 4789 -j DROP\n",
      "-A cali-fw-cali190e67186ff -p ipencap -m comment --comment \"cali:2i_qgny9kXSIxOq7\" -m comment --comment \"Drop IPinIP encapped packets originating in workloads\" -j DROP\n",
      "-A cali-fw-cali190e67186ff -m comment --comment \"cali:Zx8QnZEdaMd_k0w1\" -j cali-pro-kns.kube-system\n",
      "-A cali-fw-cali190e67186ff -m comment --comment \"cali:SXAT2iVRvLDhwacm\" -m comment --comment \"Return if profile accepted\" -m mark --mark 0x10000/0x10000 -j RETURN\n",
      "-A cali-fw-cali190e67186ff -m comment --comment \"cali:TYabjaATBawsiTj4\" -j cali-pro-_u2Tn2rSoAPffvE7JO6\n",
      "-A cali-fw-cali190e67186ff -m comment --comment \"cali:QfcYa-4CNmvT41cT\" -m comment --comment \"Return if profile accepted\" -m mark --mark 0x10000/0x10000 -j RETURN\n",
      "-A cali-fw-cali190e67186ff -m comment --comment \"cali:AcPI85YHyvZj5EYd\" -m comment --comment \"Drop if no profiles matched\" -j DROP\n",
      "-A cali-fw-cali283d4d3adce -m comment --comment \"cali:nuBhb3f_kIPaPAZL\" -m conntrack --ctstate RELATED,ESTABLISHED -j ACCEPT\n",
      "-A cali-fw-cali283d4d3adce -m comment --comment \"cali:5_l09_HZtbiNW35V\" -m conntrack --ctstate INVALID -j DROP\n",
      "-A cali-fw-cali283d4d3adce -m comment --comment \"cali:ZhuPP7GU1dQwi2p9\" -j MARK --set-xmark 0x0/0x10000\n",
      "-A cali-fw-cali283d4d3adce -p udp -m comment --comment \"cali:D4CCCm9UhS2UdvW_\" -m comment --comment \"Drop VXLAN encapped packets originating in workloads\" -m multiport --dports 4789 -j DROP\n",
      "-A cali-fw-cali283d4d3adce -p ipencap -m comment --comment \"cali:OL_KDlQDfq2WHwN9\" -m comment --comment \"Drop IPinIP encapped packets originating in workloads\" -j DROP\n",
      "-A cali-fw-cali283d4d3adce -m comment --comment \"cali:ogUuo9icyh7ik-jP\" -j cali-pro-kns.kube-system\n",
      "-A cali-fw-cali283d4d3adce -m comment --comment \"cali:K_qpgJUlE6RX53zR\" -m comment --comment \"Return if profile accepted\" -m mark --mark 0x10000/0x10000 -j RETURN\n",
      "-A cali-fw-cali283d4d3adce -m comment --comment \"cali:knn176-x_r9n1L0L\" -j cali-pro-_PTRGc0U-L5Kz7V6ERW\n",
      "-A cali-fw-cali283d4d3adce -m comment --comment \"cali:A7aBQ-SBWHf1Lu49\" -m comment --comment \"Return if profile accepted\" -m mark --mark 0x10000/0x10000 -j RETURN\n",
      "-A cali-fw-cali283d4d3adce -m comment --comment \"cali:DQl9Xsj8mTsfV3Hy\" -m comment --comment \"Drop if no profiles matched\" -j DROP\n",
      "-A cali-fw-calid494481ed97 -m comment --comment \"cali:LY3LM0EKfK3eCHJg\" -m conntrack --ctstate RELATED,ESTABLISHED -j ACCEPT\n",
      "-A cali-fw-calid494481ed97 -m comment --comment \"cali:bXLSxjFoTIL_GMAo\" -m conntrack --ctstate INVALID -j DROP\n",
      "-A cali-fw-calid494481ed97 -m comment --comment \"cali:4-8XqaJ8IW4a8T9W\" -j MARK --set-xmark 0x0/0x10000\n",
      "-A cali-fw-calid494481ed97 -p udp -m comment --comment \"cali:r6yWXWyF2bx2uYO1\" -m comment --comment \"Drop VXLAN encapped packets originating in workloads\" -m multiport --dports 4789 -j DROP\n",
      "-A cali-fw-calid494481ed97 -p ipencap -m comment --comment \"cali:EehVCNwJGImIqXX0\" -m comment --comment \"Drop IPinIP encapped packets originating in workloads\" -j DROP\n",
      "-A cali-fw-calid494481ed97 -m comment --comment \"cali:YMV566nqnVYYf_O4\" -m comment --comment \"Start of policies\" -j MARK --set-xmark 0x0/0x20000\n",
      "-A cali-fw-calid494481ed97 -m comment --comment \"cali:kNnbCj2bMx6as9QT\" -m mark --mark 0x0/0x20000 -j cali-po-_5Q_kTAczgfSis5zqfyh\n",
      "-A cali-fw-calid494481ed97 -m comment --comment \"cali:pz7SxR9wzqpsv4Hf\" -m comment --comment \"Return if policy accepted\" -m mark --mark 0x10000/0x10000 -j RETURN\n",
      "-A cali-fw-calid494481ed97 -m comment --comment \"cali:qf6GnVD08DGgoZeg\" -m comment --comment \"Drop if no policies passed packet\" -m mark --mark 0x0/0x20000 -j DROP\n",
      "-A cali-fw-calid494481ed97 -m comment --comment \"cali:UYT9OU8jVP5sSp0X\" -j cali-pro-kns.default\n",
      "-A cali-fw-calid494481ed97 -m comment --comment \"cali:qQ88OokRz0M445AE\" -m comment --comment \"Return if profile accepted\" -m mark --mark 0x10000/0x10000 -j RETURN\n",
      "-A cali-fw-calid494481ed97 -m comment --comment \"cali:N6nLb8Qud2pKdsuh\" -j cali-pro-ksa.default.default\n",
      "-A cali-fw-calid494481ed97 -m comment --comment \"cali:wCeSp9NcUe7s1m3c\" -m comment --comment \"Return if profile accepted\" -m mark --mark 0x10000/0x10000 -j RETURN\n",
      "-A cali-fw-calid494481ed97 -m comment --comment \"cali:9qIX7x9vDvuOXgu0\" -m comment --comment \"Drop if no profiles matched\" -j DROP\n",
      "-A cali-pi-_5Q_kTAczgfSis5zqfyh -p tcp -m comment --comment \"cali:C6IJUuzS2__dfH96\" -m set --match-set cali40s:BRnEC_HKH4KdIFo38SUTZls src -m multiport --dports 80 -j MARK --set-xmark 0x10000/0x10000\n",
      "-A cali-pi-_5Q_kTAczgfSis5zqfyh -m comment --comment \"cali:fZ1BMBt3JmBQ3fou\" -m mark --mark 0x10000/0x10000 -j RETURN\n",
      "-A cali-pi-_5Q_kTAczgfSis5zqfyh -p tcp -m comment --comment \"cali:TXGtD8y6insCANal\" -m set --match-set cali40s:8e8v9b88qXpwDYA2DUkLaK6 src -m multiport --dports 80 -j MARK --set-xmark 0x10000/0x10000\n",
      "-A cali-pi-_5Q_kTAczgfSis5zqfyh -m comment --comment \"cali:d1Oer6hwp5wYM_P1\" -m mark --mark 0x10000/0x10000 -j RETURN\n",
      "-A cali-po-_5Q_kTAczgfSis5zqfyh -d 193.99.144.80/32 -p tcp -m comment --comment \"cali:wu-LnAAexVInpoqx\" -m multiport --dports 80 -j MARK --set-xmark 0x10000/0x10000\n",
      "-A cali-po-_5Q_kTAczgfSis5zqfyh -m comment --comment \"cali:oyzjqpgv5E51eP1P\" -m mark --mark 0x10000/0x10000 -j RETURN\n",
      "-A cali-po-_5Q_kTAczgfSis5zqfyh -p tcp -m comment --comment \"cali:rQk-ZZS_CC7fwUrY\" -m multiport --dports 53 -j MARK --set-xmark 0x10000/0x10000\n",
      "-A cali-po-_5Q_kTAczgfSis5zqfyh -m comment --comment \"cali:Gov_CKcJVtaVhY0S\" -m mark --mark 0x10000/0x10000 -j RETURN\n",
      "-A cali-po-_5Q_kTAczgfSis5zqfyh -p udp -m comment --comment \"cali:3KlpP5Txu3tNASxF\" -m multiport --dports 53 -j MARK --set-xmark 0x10000/0x10000\n",
      "-A cali-po-_5Q_kTAczgfSis5zqfyh -m comment --comment \"cali:U91GFSSSueqobxD4\" -m mark --mark 0x10000/0x10000 -j RETURN\n",
      "-A cali-pri-kns.default -m comment --comment \"cali:7Fnh7Pv3_98FtLW7\" -j MARK --set-xmark 0x10000/0x10000\n",
      "-A cali-pri-kns.default -m comment --comment \"cali:ZbV6bJXWSRefjK0u\" -m mark --mark 0x10000/0x10000 -j RETURN\n",
      "-A cali-pri-kns.kube-system -m comment --comment \"cali:zoH5gU6U55FKZxEo\" -j MARK --set-xmark 0x10000/0x10000\n",
      "-A cali-pri-kns.kube-system -m comment --comment \"cali:bcGRIJcyOS9dgBiB\" -m mark --mark 0x10000/0x10000 -j RETURN\n",
      "-A cali-pro-kns.default -m comment --comment \"cali:oLzzje5WExbgfib5\" -j MARK --set-xmark 0x10000/0x10000\n",
      "-A cali-pro-kns.default -m comment --comment \"cali:4goskqvxh5xcGw3s\" -m mark --mark 0x10000/0x10000 -j RETURN\n",
      "-A cali-pro-kns.kube-system -m comment --comment \"cali:-50oJuMfLVO3LkBk\" -j MARK --set-xmark 0x10000/0x10000\n",
      "-A cali-pro-kns.kube-system -m comment --comment \"cali:ztVPKv1UYejNzm1g\" -m mark --mark 0x10000/0x10000 -j RETURN\n",
      "-A cali-to-wl-dispatch -o cali190e67186ff -m comment --comment \"cali:p5R_Eh0-Yg3-DzqM\" -g cali-tw-cali190e67186ff\n",
      "-A cali-to-wl-dispatch -o cali283d4d3adce -m comment --comment \"cali:IpryVRTX4xkiVq2U\" -g cali-tw-cali283d4d3adce\n",
      "-A cali-to-wl-dispatch -o calid494481ed97 -m comment --comment \"cali:5WI1Di-DHdvhWKrY\" -g cali-tw-calid494481ed97\n",
      "-A cali-to-wl-dispatch -m comment --comment \"cali:lVrZsdUQ9POvOZhB\" -m comment --comment \"Unknown interface\" -j DROP\n",
      "-A cali-tw-cali190e67186ff -m comment --comment \"cali:L-lbR_BzdPH1akmK\" -m conntrack --ctstate RELATED,ESTABLISHED -j ACCEPT\n",
      "-A cali-tw-cali190e67186ff -m comment --comment \"cali:79Xox2PLWgz1GfzE\" -m conntrack --ctstate INVALID -j DROP\n",
      "-A cali-tw-cali190e67186ff -m comment --comment \"cali:mKMFrA8GMcnLfV6T\" -j MARK --set-xmark 0x0/0x10000\n",
      "-A cali-tw-cali190e67186ff -m comment --comment \"cali:-LGdUFPoY_SS6nBs\" -j cali-pri-kns.kube-system\n",
      "-A cali-tw-cali190e67186ff -m comment --comment \"cali:JKBYoYuaPg28eXqS\" -m comment --comment \"Return if profile accepted\" -m mark --mark 0x10000/0x10000 -j RETURN\n",
      "-A cali-tw-cali190e67186ff -m comment --comment \"cali:Vd2x_l9_Szqi4Wnu\" -j cali-pri-_u2Tn2rSoAPffvE7JO6\n",
      "-A cali-tw-cali190e67186ff -m comment --comment \"cali:2bJPQcpEQCSN-0oO\" -m comment --comment \"Return if profile accepted\" -m mark --mark 0x10000/0x10000 -j RETURN\n",
      "-A cali-tw-cali190e67186ff -m comment --comment \"cali:3SxHdmXodFWjPcAD\" -m comment --comment \"Drop if no profiles matched\" -j DROP\n",
      "-A cali-tw-cali283d4d3adce -m comment --comment \"cali:vGjLBmmY9ayjSrLm\" -m conntrack --ctstate RELATED,ESTABLISHED -j ACCEPT\n",
      "-A cali-tw-cali283d4d3adce -m comment --comment \"cali:W8s5Dv93OHBySPD2\" -m conntrack --ctstate INVALID -j DROP\n",
      "-A cali-tw-cali283d4d3adce -m comment --comment \"cali:OFkkLglKTlllwd3e\" -j MARK --set-xmark 0x0/0x10000\n",
      "-A cali-tw-cali283d4d3adce -m comment --comment \"cali:cFjw6DYv_2z7NJyA\" -j cali-pri-kns.kube-system\n",
      "-A cali-tw-cali283d4d3adce -m comment --comment \"cali:VPYaploSRHBwVcLe\" -m comment --comment \"Return if profile accepted\" -m mark --mark 0x10000/0x10000 -j RETURN\n",
      "-A cali-tw-cali283d4d3adce -m comment --comment \"cali:YhGsnLo4hZgUTPZy\" -j cali-pri-_PTRGc0U-L5Kz7V6ERW\n",
      "-A cali-tw-cali283d4d3adce -m comment --comment \"cali:cY9jcvt1yqGXpuJq\" -m comment --comment \"Return if profile accepted\" -m mark --mark 0x10000/0x10000 -j RETURN\n",
      "-A cali-tw-cali283d4d3adce -m comment --comment \"cali:DSXswkv0QnyhbSmp\" -m comment --comment \"Drop if no profiles matched\" -j DROP\n",
      "-A cali-tw-calid494481ed97 -m comment --comment \"cali:i-o9PpSSZpei1I6m\" -m conntrack --ctstate RELATED,ESTABLISHED -j ACCEPT\n",
      "-A cali-tw-calid494481ed97 -m comment --comment \"cali:bs_pgFUISGj9qsqs\" -m conntrack --ctstate INVALID -j DROP\n",
      "-A cali-tw-calid494481ed97 -m comment --comment \"cali:nRpqCcLXwOXFG8sE\" -j MARK --set-xmark 0x0/0x10000\n",
      "-A cali-tw-calid494481ed97 -m comment --comment \"cali:yLOhJNTfA2qgr-hS\" -m comment --comment \"Start of policies\" -j MARK --set-xmark 0x0/0x20000\n",
      "-A cali-tw-calid494481ed97 -m comment --comment \"cali:7R6sVmU11Emj2-nM\" -m mark --mark 0x0/0x20000 -j cali-pi-_5Q_kTAczgfSis5zqfyh\n",
      "-A cali-tw-calid494481ed97 -m comment --comment \"cali:rjUTKvPcbE7eLsXH\" -m comment --comment \"Return if policy accepted\" -m mark --mark 0x10000/0x10000 -j RETURN\n",
      "-A cali-tw-calid494481ed97 -m comment --comment \"cali:wx-hiGsi2MHZOxik\" -m comment --comment \"Drop if no policies passed packet\" -m mark --mark 0x0/0x20000 -j DROP\n",
      "-A cali-tw-calid494481ed97 -m comment --comment \"cali:e78N1DloXOJdpmgH\" -j cali-pri-kns.default\n",
      "-A cali-tw-calid494481ed97 -m comment --comment \"cali:wwNoqBiAh7kL0cC3\" -m comment --comment \"Return if profile accepted\" -m mark --mark 0x10000/0x10000 -j RETURN\n",
      "-A cali-tw-calid494481ed97 -m comment --comment \"cali:Cm2YA8TCkbvXIWQI\" -j cali-pri-ksa.default.default\n",
      "-A cali-tw-calid494481ed97 -m comment --comment \"cali:beWXZSD4gb7ZZo7h\" -m comment --comment \"Return if profile accepted\" -m mark --mark 0x10000/0x10000 -j RETURN\n",
      "-A cali-tw-calid494481ed97 -m comment --comment \"cali:fP6JDB5pTxekhoHe\" -m comment --comment \"Drop if no profiles matched\" -j DROP\n",
      "-A cali-wl-to-host -m comment --comment \"cali:Ee9Sbo10IpVujdIY\" -j cali-from-wl-dispatch\n",
      "-A cali-wl-to-host -m comment --comment \"cali:nSZbcOoG1xPONxb8\" -m comment --comment \"Configured DefaultEndpointToHostAction\" -j ACCEPT\n",
      "COMMIT\n",
      "# Completed on Wed Jan 19 15:59:42 2022\n",
      "# Generated by iptables-save v1.8.4 on Wed Jan 19 15:59:42 2022\n",
      "*nat\n",
      ":PREROUTING ACCEPT [14:1227]\n",
      ":INPUT ACCEPT [6:440]\n",
      ":OUTPUT ACCEPT [1272:76617]\n",
      ":POSTROUTING ACCEPT [1329:80638]\n",
      ":DOCKER - [0:0]\n",
      ":DOCKER_OUTPUT - [0:0]\n",
      ":DOCKER_POSTROUTING - [0:0]\n",
      ":KUBE-KUBELET-CANARY - [0:0]\n",
      ":KUBE-MARK-DROP - [0:0]\n",
      ":KUBE-MARK-MASQ - [0:0]\n",
      ":KUBE-NODEPORTS - [0:0]\n",
      ":KUBE-POSTROUTING - [0:0]\n",
      ":KUBE-PROXY-CANARY - [0:0]\n",
      ":KUBE-SEP-EISGZ7LXUEK3H2AA - [0:0]\n",
      ":KUBE-SEP-GRHDFAQR5COOLLBC - [0:0]\n",
      ":KUBE-SEP-MQRFABSM4QAAI454 - [0:0]\n",
      ":KUBE-SEP-VPILYQBSPPXYB66K - [0:0]\n",
      ":KUBE-SERVICES - [0:0]\n",
      ":KUBE-SVC-ERIFXISQEP7F7OF4 - [0:0]\n",
      ":KUBE-SVC-JD5MR3NA4I4DYORP - [0:0]\n",
      ":KUBE-SVC-NPX46M4PTMTKRN6Y - [0:0]\n",
      ":KUBE-SVC-TCOU7JCQXEZGVUNU - [0:0]\n",
      ":cali-OUTPUT - [0:0]\n",
      ":cali-POSTROUTING - [0:0]\n",
      ":cali-PREROUTING - [0:0]\n",
      ":cali-fip-dnat - [0:0]\n",
      ":cali-fip-snat - [0:0]\n",
      ":cali-nat-outgoing - [0:0]\n",
      "-A PREROUTING -m comment --comment \"cali:6gwbT8clXdHdC1b1\" -j cali-PREROUTING\n",
      "-A PREROUTING -m comment --comment \"kubernetes service portals\" -j KUBE-SERVICES\n",
      "-A PREROUTING -d 192.168.49.1/32 -j DOCKER_OUTPUT\n",
      "-A PREROUTING -m addrtype --dst-type LOCAL -j DOCKER\n",
      "-A OUTPUT -m comment --comment \"cali:tVnHkvAo15HuiPy0\" -j cali-OUTPUT\n",
      "-A OUTPUT -m comment --comment \"kubernetes service portals\" -j KUBE-SERVICES\n",
      "-A OUTPUT -d 192.168.49.1/32 -j DOCKER_OUTPUT\n",
      "-A OUTPUT ! -d 127.0.0.0/8 -m addrtype --dst-type LOCAL -j DOCKER\n",
      "-A POSTROUTING -m comment --comment \"cali:O3lYWMrLQYEMJtB5\" -j cali-POSTROUTING\n",
      "-A POSTROUTING -m comment --comment \"kubernetes postrouting rules\" -j KUBE-POSTROUTING\n",
      "-A POSTROUTING -s 172.17.0.0/16 ! -o docker0 -j MASQUERADE\n",
      "-A POSTROUTING -d 192.168.49.1/32 -j DOCKER_POSTROUTING\n",
      "-A DOCKER -i docker0 -j RETURN\n",
      "-A DOCKER_OUTPUT -d 192.168.49.1/32 -p tcp -m tcp --dport 53 -j DNAT --to-destination 127.0.0.11:34921\n",
      "-A DOCKER_OUTPUT -d 192.168.49.1/32 -p udp -m udp --dport 53 -j DNAT --to-destination 127.0.0.11:47314\n",
      "-A DOCKER_POSTROUTING -s 127.0.0.11/32 -p tcp -m tcp --sport 34921 -j SNAT --to-source 192.168.49.1:53\n",
      "-A DOCKER_POSTROUTING -s 127.0.0.11/32 -p udp -m udp --sport 47314 -j SNAT --to-source 192.168.49.1:53\n",
      "-A KUBE-MARK-DROP -j MARK --set-xmark 0x8000/0x8000\n",
      "-A KUBE-MARK-MASQ -j MARK --set-xmark 0x4000/0x4000\n",
      "-A KUBE-POSTROUTING -m mark ! --mark 0x4000/0x4000 -j RETURN\n",
      "-A KUBE-POSTROUTING -j MARK --set-xmark 0x4000/0x0\n",
      "-A KUBE-POSTROUTING -m comment --comment \"kubernetes service traffic requiring SNAT\" -j MASQUERADE --random-fully\n",
      "-A KUBE-SEP-EISGZ7LXUEK3H2AA -s 10.244.120.65/32 -m comment --comment \"kube-system/kube-dns:metrics\" -j KUBE-MARK-MASQ\n",
      "-A KUBE-SEP-EISGZ7LXUEK3H2AA -p tcp -m comment --comment \"kube-system/kube-dns:metrics\" -m tcp -j DNAT --to-destination 10.244.120.65:9153\n",
      "-A KUBE-SEP-GRHDFAQR5COOLLBC -s 10.244.120.65/32 -m comment --comment \"kube-system/kube-dns:dns\" -j KUBE-MARK-MASQ\n",
      "-A KUBE-SEP-GRHDFAQR5COOLLBC -p udp -m comment --comment \"kube-system/kube-dns:dns\" -m udp -j DNAT --to-destination 10.244.120.65:53\n",
      "-A KUBE-SEP-MQRFABSM4QAAI454 -s 10.244.120.65/32 -m comment --comment \"kube-system/kube-dns:dns-tcp\" -j KUBE-MARK-MASQ\n",
      "-A KUBE-SEP-MQRFABSM4QAAI454 -p tcp -m comment --comment \"kube-system/kube-dns:dns-tcp\" -m tcp -j DNAT --to-destination 10.244.120.65:53\n",
      "-A KUBE-SEP-VPILYQBSPPXYB66K -s 192.168.49.2/32 -m comment --comment \"default/kubernetes:https\" -j KUBE-MARK-MASQ\n",
      "-A KUBE-SEP-VPILYQBSPPXYB66K -p tcp -m comment --comment \"default/kubernetes:https\" -m tcp -j DNAT --to-destination 192.168.49.2:8443\n",
      "-A KUBE-SERVICES -d 10.96.0.10/32 -p tcp -m comment --comment \"kube-system/kube-dns:dns-tcp cluster IP\" -m tcp --dport 53 -j KUBE-SVC-ERIFXISQEP7F7OF4\n",
      "-A KUBE-SERVICES -d 10.96.0.10/32 -p tcp -m comment --comment \"kube-system/kube-dns:metrics cluster IP\" -m tcp --dport 9153 -j KUBE-SVC-JD5MR3NA4I4DYORP\n",
      "-A KUBE-SERVICES -d 10.96.0.1/32 -p tcp -m comment --comment \"default/kubernetes:https cluster IP\" -m tcp --dport 443 -j KUBE-SVC-NPX46M4PTMTKRN6Y\n",
      "-A KUBE-SERVICES -d 10.96.0.10/32 -p udp -m comment --comment \"kube-system/kube-dns:dns cluster IP\" -m udp --dport 53 -j KUBE-SVC-TCOU7JCQXEZGVUNU\n",
      "-A KUBE-SERVICES -m comment --comment \"kubernetes service nodeports; NOTE: this must be the last rule in this chain\" -m addrtype --dst-type LOCAL -j KUBE-NODEPORTS\n",
      "-A KUBE-SVC-ERIFXISQEP7F7OF4 ! -s 10.244.0.0/16 -d 10.96.0.10/32 -p tcp -m comment --comment \"kube-system/kube-dns:dns-tcp cluster IP\" -m tcp --dport 53 -j KUBE-MARK-MASQ\n",
      "-A KUBE-SVC-ERIFXISQEP7F7OF4 -m comment --comment \"kube-system/kube-dns:dns-tcp\" -j KUBE-SEP-MQRFABSM4QAAI454\n",
      "-A KUBE-SVC-JD5MR3NA4I4DYORP ! -s 10.244.0.0/16 -d 10.96.0.10/32 -p tcp -m comment --comment \"kube-system/kube-dns:metrics cluster IP\" -m tcp --dport 9153 -j KUBE-MARK-MASQ\n",
      "-A KUBE-SVC-JD5MR3NA4I4DYORP -m comment --comment \"kube-system/kube-dns:metrics\" -j KUBE-SEP-EISGZ7LXUEK3H2AA\n",
      "-A KUBE-SVC-NPX46M4PTMTKRN6Y ! -s 10.244.0.0/16 -d 10.96.0.1/32 -p tcp -m comment --comment \"default/kubernetes:https cluster IP\" -m tcp --dport 443 -j KUBE-MARK-MASQ\n",
      "-A KUBE-SVC-NPX46M4PTMTKRN6Y -m comment --comment \"default/kubernetes:https\" -j KUBE-SEP-VPILYQBSPPXYB66K\n",
      "-A KUBE-SVC-TCOU7JCQXEZGVUNU ! -s 10.244.0.0/16 -d 10.96.0.10/32 -p udp -m comment --comment \"kube-system/kube-dns:dns cluster IP\" -m udp --dport 53 -j KUBE-MARK-MASQ\n",
      "-A KUBE-SVC-TCOU7JCQXEZGVUNU -m comment --comment \"kube-system/kube-dns:dns\" -j KUBE-SEP-GRHDFAQR5COOLLBC\n",
      "-A cali-OUTPUT -m comment --comment \"cali:GBTAv2p5CwevEyJm\" -j cali-fip-dnat\n",
      "-A cali-POSTROUTING -m comment --comment \"cali:Z-c7XtVd2Bq7s_hA\" -j cali-fip-snat\n",
      "-A cali-POSTROUTING -m comment --comment \"cali:nYKhEzDlr11Jccal\" -j cali-nat-outgoing\n",
      "-A cali-POSTROUTING -o tunl0 -m comment --comment \"cali:SXWvdsbh4Mw7wOln\" -m addrtype ! --src-type LOCAL --limit-iface-out -m addrtype --src-type LOCAL -j MASQUERADE --random-fully\n",
      "-A cali-PREROUTING -m comment --comment \"cali:r6XmIziWUJsdOK6Z\" -j cali-fip-dnat\n",
      "-A cali-nat-outgoing -m comment --comment \"cali:flqWnvo8yq4ULQLa\" -m set --match-set cali40masq-ipam-pools src -m set ! --match-set cali40all-ipam-pools dst -j MASQUERADE --random-fully\n",
      "COMMIT\n",
      "# Completed on Wed Jan 19 15:59:42 2022\n"
     ]
    }
   ],
   "source": [
    "iptables-save"
   ]
  },
  {
   "cell_type": "code",
   "execution_count": 27,
   "metadata": {},
   "outputs": [
    {
     "name": "stdout",
     "output_type": "stream",
     "text": [
      "default via 192.168.49.1 dev eth0 \n",
      "10.85.0.0/16 dev cni0 proto kernel scope link src 10.85.0.1 linkdown \n",
      "blackhole 10.244.120.64/26 proto bird \n",
      "10.244.120.65 dev cali190e67186ff scope link \n",
      "10.244.120.66 dev cali283d4d3adce scope link \n",
      "10.244.120.67 dev calid494481ed97 scope link \n",
      "172.17.0.0/16 dev docker0 proto kernel scope link src 172.17.0.1 linkdown \n",
      "192.168.49.0/24 dev eth0 proto kernel scope link src 192.168.49.2 \n"
     ]
    }
   ],
   "source": [
    "ip route"
   ]
  },
  {
   "cell_type": "code",
   "execution_count": 28,
   "metadata": {},
   "outputs": [
    {
     "name": "stdout",
     "output_type": "stream",
     "text": [
      "{\n",
      "  \"kind\": \"Status\",\n",
      "  \"apiVersion\": \"v1\",\n",
      "  \"metadata\": {\n",
      "    \n",
      "  },\n",
      "  \"status\": \"Failure\",\n",
      "  \"message\": \"forbidden: User \\\"system:anonymous\\\" cannot get path \\\"/\\\"\",\n",
      "  \"reason\": \"Forbidden\",\n",
      "  \"details\": {\n",
      "    \n",
      "  },\n",
      "  \"code\": 403\n",
      "}"
     ]
    }
   ],
   "source": [
    "curl -m 5 -k  https://10.96.0.1:443"
   ]
  },
  {
   "cell_type": "code",
   "execution_count": null,
   "metadata": {},
   "outputs": [],
   "source": []
  }
 ],
 "metadata": {
  "kernelspec": {
   "display_name": "Bash",
   "language": "bash",
   "name": "bash"
  },
  "language_info": {
   "codemirror_mode": "shell",
   "file_extension": ".sh",
   "mimetype": "text/x-sh",
   "name": "bash"
  }
 },
 "nbformat": 4,
 "nbformat_minor": 4
}
