{
 "cells": [
  {
   "cell_type": "markdown",
   "id": "e77d247f",
   "metadata": {},
   "source": [
    "**This notebook covered by the following [license](License.ipynb)  This note must not be removed**"
   ]
  },
  {
   "cell_type": "markdown",
   "id": "4918bb26",
   "metadata": {},
   "source": [
    "# NGinx unprivileged\n",
    "\n",
    "We are using the [vendors original recipe](https://hub.docker.com/r/nginxinc/nginx-unprivileged), should be save ☠️\n",
    "\n"
   ]
  },
  {
   "cell_type": "code",
   "execution_count": 1,
   "id": "c0003111",
   "metadata": {},
   "outputs": [
    {
     "name": "stdout",
     "output_type": "stream",
     "text": [
      "deployment.apps/nginx-strict created\n"
     ]
    }
   ],
   "source": [
    "kubectl apply -f - <<EOF\n",
    "apiVersion: apps/v1\n",
    "kind: Deployment\n",
    "metadata:\n",
    "  name: nginx-strict\n",
    "  labels:\n",
    "    app: nginx-strict\n",
    "spec:\n",
    "  replicas: 3\n",
    "  selector:\n",
    "    matchLabels:\n",
    "      app: nginx-strict\n",
    "  template:\n",
    "    metadata:\n",
    "      labels:\n",
    "        app: nginx-strict\n",
    "    spec:\n",
    "      containers:\n",
    "      - name: nginx\n",
    "        image: nginxinc/nginx-unprivileged\n",
    "        ports:\n",
    "        - containerPort: 8080\n",
    "EOF"
   ]
  },
  {
   "cell_type": "code",
   "execution_count": 5,
   "id": "6d2525cd",
   "metadata": {},
   "outputs": [
    {
     "name": "stdout",
     "output_type": "stream",
     "text": [
      "NAME                            READY   STATUS    RESTARTS   AGE\n",
      "my-nginx-5b56ccd65f-4xxg2       1/1     Running   0          4h4m\n",
      "my-nginx-5b56ccd65f-mhqpf       1/1     Running   0          4h46m\n",
      "nginx-strict-5cdc48cf55-jmjhj   1/1     Running   0          20s\n",
      "nginx-strict-5cdc48cf55-rr4kc   1/1     Running   0          20s\n",
      "nginx-strict-5cdc48cf55-vz7ds   1/1     Running   0          20s\n"
     ]
    }
   ],
   "source": [
    "kubectl get pods"
   ]
  },
  {
   "cell_type": "code",
   "execution_count": 3,
   "id": "1fb507fa",
   "metadata": {},
   "outputs": [
    {
     "name": "stdout",
     "output_type": "stream",
     "text": [
      "service/nginx-strict created\n"
     ]
    }
   ],
   "source": [
    "kubectl apply -f - <<EOF\n",
    "apiVersion: v1\n",
    "kind: Service\n",
    "metadata:\n",
    "  name: nginx-strict\n",
    "  namespace: default\n",
    "spec:\n",
    "  ports:\n",
    "  - port: 80\n",
    "    protocol: TCP\n",
    "    targetPort: 8080\n",
    "  selector:\n",
    "    app: nginx-strict\n",
    "  sessionAffinity: None\n",
    "  type: LoadBalancer\n",
    "EOF"
   ]
  },
  {
   "cell_type": "code",
   "execution_count": 6,
   "id": "761358bc",
   "metadata": {},
   "outputs": [
    {
     "name": "stdout",
     "output_type": "stream",
     "text": [
      "NAME           TYPE           CLUSTER-IP       EXTERNAL-IP      PORT(S)        AGE\n",
      "kubernetes     ClusterIP      10.96.0.1        <none>           443/TCP        6h3m\n",
      "my-nginx       ClusterIP      10.109.82.109    <none>           80/TCP         4h47m\n",
      "nginx-strict   LoadBalancer   10.102.198.117   10.102.198.117   80:30664/TCP   64s\n"
     ]
    }
   ],
   "source": [
    "kubectl get svc"
   ]
  },
  {
   "cell_type": "code",
   "execution_count": 7,
   "id": "7358795a-0c4e-4486-965e-a8dfcf5bdc9d",
   "metadata": {},
   "outputs": [
    {
     "name": "stdout",
     "output_type": "stream",
     "text": [
      "NAME           TYPE           CLUSTER-IP       EXTERNAL-IP      PORT(S)        AGE\n",
      "nginx-strict   LoadBalancer   10.102.198.117   10.102.198.117   80:30664/TCP   84s\n"
     ]
    }
   ],
   "source": [
    "kubectl get svc nginx-strict  "
   ]
  },
  {
   "cell_type": "code",
   "execution_count": 8,
   "id": "11d968a9",
   "metadata": {},
   "outputs": [
    {
     "name": "stdout",
     "output_type": "stream",
     "text": [
      "<!DOCTYPE html>\n",
      "<html>\n",
      "<head>\n",
      "<title>Welcome to nginx!</title>\n",
      "<style>\n",
      "html { color-scheme: light dark; }\n",
      "body { width: 35em; margin: 0 auto;\n",
      "font-family: Tahoma, Verdana, Arial, sans-serif; }\n",
      "</style>\n",
      "</head>\n",
      "<body>\n",
      "<h1>Welcome to nginx!</h1>\n",
      "<p>If you see this page, the nginx web server is successfully installed and\n",
      "working. Further configuration is required.</p>\n",
      "\n",
      "<p>For online documentation and support please refer to\n",
      "<a href=\"http://nginx.org/\">nginx.org</a>.<br/>\n",
      "Commercial support is available at\n",
      "<a href=\"http://nginx.com/\">nginx.com</a>.</p>\n",
      "\n",
      "<p><em>Thank you for using nginx.</em></p>\n",
      "</body>\n",
      "</html>\n"
     ]
    }
   ],
   "source": [
    "curl 10.102.198.117"
   ]
  },
  {
   "cell_type": "code",
   "execution_count": null,
   "id": "aa19135a-a8a4-4f99-b62a-28d5a3436e7d",
   "metadata": {},
   "outputs": [],
   "source": [
    "kubectl get svc nginx-strict -o yaml"
   ]
  },
  {
   "cell_type": "code",
   "execution_count": 9,
   "id": "7792fb73",
   "metadata": {},
   "outputs": [
    {
     "name": "stdout",
     "output_type": "stream",
     "text": [
      "deployment.apps \"my-nginx\" deleted\n"
     ]
    }
   ],
   "source": [
    "kubectl delete deployment my-nginx"
   ]
  },
  {
   "cell_type": "code",
   "execution_count": 10,
   "id": "26a1b17c",
   "metadata": {},
   "outputs": [
    {
     "name": "stdout",
     "output_type": "stream",
     "text": [
      "service \"my-nginx\" deleted\n"
     ]
    }
   ],
   "source": [
    "kubectl delete service my-nginx"
   ]
  },
  {
   "cell_type": "code",
   "execution_count": 11,
   "id": "0f78974e",
   "metadata": {},
   "outputs": [
    {
     "name": "stdout",
     "output_type": "stream",
     "text": [
      "nginx-strict-5cdc48cf55-jmjhj"
     ]
    }
   ],
   "source": [
    "kubectl get pods -o jsonpath='{.items[0].metadata.name}' "
   ]
  },
  {
   "cell_type": "code",
   "execution_count": 12,
   "id": "b9be6e67",
   "metadata": {},
   "outputs": [
    {
     "name": "stdout",
     "output_type": "stream",
     "text": [
      "nginx-strict-5cdc48cf55-jmjhj\n"
     ]
    }
   ],
   "source": [
    "POD=$(kubectl get pods -o jsonpath='{.items[0].metadata.name}' | grep nginx-strict)\n",
    "echo $POD"
   ]
  },
  {
   "cell_type": "code",
   "execution_count": 13,
   "id": "db35b2df",
   "metadata": {},
   "outputs": [
    {
     "name": "stdout",
     "output_type": "stream",
     "text": [
      "  % Total    % Received % Xferd  Average Speed   Time    Time     Time  Current\n",
      "                                 Dload  Upload   Total   Spent    Left  Speed\n",
      "100   154  100   154    0     0    536      0 --:--:-- --:--:-- --:--:--   534\n",
      "100 38.3M  100 38.3M    0     0  29.0M      0  0:00:01  0:00:01 --:--:-- 65.1M\n"
     ]
    }
   ],
   "source": [
    "kubectl exec $POD --  curl -L -o /tmp/kubectl https://dl.k8s.io/release/v1.20.0/bin/linux/amd64/kubectl"
   ]
  },
  {
   "cell_type": "code",
   "execution_count": 15,
   "id": "6d036ec0",
   "metadata": {},
   "outputs": [
    {
     "name": "stdout",
     "output_type": "stream",
     "text": [
      "client_temp\n",
      "fastcgi_temp\n",
      "kubectl\n",
      "nginx.pid\n",
      "proxy_temp\n",
      "scgi_temp\n",
      "uwsgi_temp\n"
     ]
    }
   ],
   "source": [
    "kubectl exec $POD -- ls /tmp"
   ]
  },
  {
   "cell_type": "code",
   "execution_count": 16,
   "id": "3fb6dd6f",
   "metadata": {},
   "outputs": [],
   "source": [
    "kubectl exec $POD -- chmod +x /tmp/kubectl"
   ]
  },
  {
   "cell_type": "code",
   "execution_count": 17,
   "id": "e3509fc7",
   "metadata": {},
   "outputs": [
    {
     "name": "stdout",
     "output_type": "stream",
     "text": [
      "kubectl controls the Kubernetes cluster manager.\n",
      "\n",
      " Find more information at: https://kubernetes.io/docs/reference/kubectl/overview/\n",
      "\n",
      "Basic Commands (Beginner):\n",
      "  create        Create a resource from a file or from stdin.\n",
      "  expose        Take a replication controller, service, deployment or pod and expose it as a new Kubernetes Service\n",
      "  run           Run a particular image on the cluster\n",
      "  set           Set specific features on objects\n",
      "\n",
      "Basic Commands (Intermediate):\n",
      "  explain       Documentation of resources\n",
      "  get           Display one or many resources\n",
      "  edit          Edit a resource on the server\n",
      "  delete        Delete resources by filenames, stdin, resources and names, or by resources and label selector\n",
      "\n",
      "Deploy Commands:\n",
      "  rollout       Manage the rollout of a resource\n",
      "  scale         Set a new size for a Deployment, ReplicaSet or Replication Controller\n",
      "  autoscale     Auto-scale a Deployment, ReplicaSet, or ReplicationController\n",
      "\n",
      "Cluster Management Commands:\n",
      "  certificate   Modify certificate resources.\n",
      "  cluster-info  Display cluster info\n",
      "  top           Display Resource (CPU/Memory/Storage) usage.\n",
      "  cordon        Mark node as unschedulable\n",
      "  uncordon      Mark node as schedulable\n",
      "  drain         Drain node in preparation for maintenance\n",
      "  taint         Update the taints on one or more nodes\n",
      "\n",
      "Troubleshooting and Debugging Commands:\n",
      "  describe      Show details of a specific resource or group of resources\n",
      "  logs          Print the logs for a container in a pod\n",
      "  attach        Attach to a running container\n",
      "  exec          Execute a command in a container\n",
      "  port-forward  Forward one or more local ports to a pod\n",
      "  proxy         Run a proxy to the Kubernetes API server\n",
      "  cp            Copy files and directories to and from containers.\n",
      "  auth          Inspect authorization\n",
      "  debug         Create debugging sessions for troubleshooting workloads and nodes\n",
      "\n",
      "Advanced Commands:\n",
      "  diff          Diff live version against would-be applied version\n",
      "  apply         Apply a configuration to a resource by filename or stdin\n",
      "  patch         Update field(s) of a resource\n",
      "  replace       Replace a resource by filename or stdin\n",
      "  wait          Experimental: Wait for a specific condition on one or many resources.\n",
      "  kustomize     Build a kustomization target from a directory or a remote url.\n",
      "\n",
      "Settings Commands:\n",
      "  label         Update the labels on a resource\n",
      "  annotate      Update the annotations on a resource\n",
      "  completion    Output shell completion code for the specified shell (bash or zsh)\n",
      "\n",
      "Other Commands:\n",
      "  api-resources Print the supported API resources on the server\n",
      "  api-versions  Print the supported API versions on the server, in the form of \"group/version\"\n",
      "  config        Modify kubeconfig files\n",
      "  plugin        Provides utilities for interacting with plugins.\n",
      "  version       Print the client and server version information\n",
      "\n",
      "Usage:\n",
      "  kubectl [flags] [options]\n",
      "\n",
      "Use \"kubectl <command> --help\" for more information about a given command.\n",
      "Use \"kubectl options\" for a list of global command-line options (applies to all commands).\n"
     ]
    }
   ],
   "source": [
    "kubectl exec $POD -- /tmp/kubectl"
   ]
  },
  {
   "cell_type": "code",
   "execution_count": 18,
   "id": "be532896",
   "metadata": {},
   "outputs": [
    {
     "name": "stdout",
     "output_type": "stream",
     "text": [
      "Error from server (Forbidden): pods is forbidden: User \"system:serviceaccount:default:default\" cannot list resource \"pods\" in API group \"\" in the namespace \"default\"\n",
      "command terminated with exit code 1\n"
     ]
    },
    {
     "ename": "",
     "evalue": "1",
     "output_type": "error",
     "traceback": []
    }
   ],
   "source": [
    "kubectl exec $POD -- /tmp/kubectl get pods "
   ]
  },
  {
   "cell_type": "code",
   "execution_count": 19,
   "id": "1af8e962",
   "metadata": {},
   "outputs": [
    {
     "name": "stdout",
     "output_type": "stream",
     "text": [
      "Filesystem             1K-blocks      Used Available Use% Mounted on\n",
      "overlay                308587328 231971864  60870440  80% /\n",
      "tmpfs                      65536         0     65536   0% /dev\n",
      "tmpfs                   32632360         0  32632360   0% /sys/fs/cgroup\n",
      "/dev/mapper/system-var 308587328 231971864  60870440  80% /etc/hosts\n",
      "shm                        65536         0     65536   0% /dev/shm\n",
      "tmpfs                   65264724        12  65264712   1% /run/secrets/kubernetes.io/serviceaccount\n",
      "tmpfs                   32632360         0  32632360   0% /proc/acpi\n",
      "tmpfs                   32632360         0  32632360   0% /proc/scsi\n",
      "tmpfs                   32632360         0  32632360   0% /sys/firmware\n"
     ]
    }
   ],
   "source": [
    "kubectl exec $POD  -- df"
   ]
  },
  {
   "cell_type": "code",
   "execution_count": 20,
   "id": "cbd185b3",
   "metadata": {},
   "outputs": [
    {
     "name": "stdout",
     "output_type": "stream",
     "text": [
      "NAMESPACE              NAME                                 SECRETS   AGE\n",
      "default                default                              1         6h5m\n",
      "kube-node-lease        default                              1         6h5m\n",
      "kube-public            default                              1         6h5m\n",
      "kube-system            attachdetach-controller              1         6h5m\n",
      "kube-system            bootstrap-signer                     1         6h5m\n",
      "kube-system            certificate-controller               1         6h5m\n",
      "kube-system            clusterrole-aggregation-controller   1         6h5m\n",
      "kube-system            coredns                              1         6h5m\n",
      "kube-system            cronjob-controller                   1         6h5m\n",
      "kube-system            daemon-set-controller                1         6h5m\n",
      "kube-system            default                              1         6h5m\n",
      "kube-system            deployment-controller                1         6h5m\n",
      "kube-system            disruption-controller                1         6h5m\n",
      "kube-system            endpoint-controller                  1         6h5m\n",
      "kube-system            endpointslice-controller             1         6h5m\n",
      "kube-system            endpointslicemirroring-controller    1         6h5m\n",
      "kube-system            ephemeral-volume-controller          1         6h5m\n",
      "kube-system            expand-controller                    1         6h5m\n",
      "kube-system            generic-garbage-collector            1         6h5m\n",
      "kube-system            horizontal-pod-autoscaler            1         6h5m\n",
      "kube-system            job-controller                       1         6h5m\n",
      "kube-system            kube-proxy                           1         6h5m\n",
      "kube-system            namespace-controller                 1         6h5m\n",
      "kube-system            node-controller                      1         6h5m\n",
      "kube-system            persistent-volume-binder             1         6h5m\n",
      "kube-system            pod-garbage-collector                1         6h5m\n",
      "kube-system            pv-protection-controller             1         6h5m\n",
      "kube-system            pvc-protection-controller            1         6h5m\n",
      "kube-system            replicaset-controller                1         6h5m\n",
      "kube-system            replication-controller               1         6h5m\n",
      "kube-system            resourcequota-controller             1         6h5m\n",
      "kube-system            root-ca-cert-publisher               1         6h5m\n",
      "kube-system            service-account-controller           1         6h5m\n",
      "kube-system            service-controller                   1         6h5m\n",
      "kube-system            statefulset-controller               1         6h5m\n",
      "kube-system            storage-provisioner                  1         6h5m\n",
      "kube-system            token-cleaner                        1         6h5m\n",
      "kube-system            ttl-after-finished-controller        1         6h5m\n",
      "kube-system            ttl-controller                       1         6h5m\n",
      "kubernetes-dashboard   default                              1         154m\n",
      "kubernetes-dashboard   kubernetes-dashboard                 1         154m\n"
     ]
    }
   ],
   "source": [
    "kubectl get serviceaccounts -A"
   ]
  },
  {
   "cell_type": "markdown",
   "id": "4acd5a11",
   "metadata": {},
   "source": [
    "#  💀 💀 💀 💀 💀 💀 💀 💀 💀\n",
    "# 💀 💀 **Never Ever** 💀 💀 💀 \n",
    "#  💀 💀 💀 💀 💀 💀 💀 💀 💀\n"
   ]
  },
  {
   "cell_type": "code",
   "execution_count": 21,
   "id": "0b587bd1",
   "metadata": {},
   "outputs": [
    {
     "name": "stdout",
     "output_type": "stream",
     "text": [
      "clusterrolebinding.rbac.authorization.k8s.io/cluster-admin-binding created\n"
     ]
    }
   ],
   "source": [
    "kubectl create clusterrolebinding cluster-admin-binding --clusterrole cluster-admin --serviceaccount default:default"
   ]
  },
  {
   "cell_type": "code",
   "execution_count": 22,
   "id": "14299867",
   "metadata": {},
   "outputs": [
    {
     "name": "stdout",
     "output_type": "stream",
     "text": [
      "NAMESPACE              NAME                                         READY   STATUS    RESTARTS       AGE\n",
      "default                nginx-strict-5cdc48cf55-jmjhj                1/1     Running   0              4m4s\n",
      "default                nginx-strict-5cdc48cf55-rr4kc                1/1     Running   0              4m4s\n",
      "default                nginx-strict-5cdc48cf55-vz7ds                1/1     Running   0              4m4s\n",
      "kube-system            coredns-bcc9dbffc-nxcjt                      1/1     Running   0              143m\n",
      "kube-system            etcd-minikube                                1/1     Running   0              6h6m\n",
      "kube-system            kube-apiserver-minikube                      1/1     Running   0              6h6m\n",
      "kube-system            kube-controller-manager-minikube             1/1     Running   0              6h6m\n",
      "kube-system            kube-proxy-bffmk                             1/1     Running   0              6h5m\n",
      "kube-system            kube-scheduler-minikube                      1/1     Running   0              6h6m\n",
      "kube-system            storage-provisioner                          1/1     Running   1 (6h5m ago)   6h6m\n",
      "kubernetes-dashboard   dashboard-metrics-scraper-5594458c94-crv56   1/1     Running   0              155m\n",
      "kubernetes-dashboard   kubernetes-dashboard-654cf69797-g5q9d        1/1     Running   0              155m\n"
     ]
    }
   ],
   "source": [
    "kubectl exec $POD -- /tmp/kubectl get pods -A"
   ]
  },
  {
   "cell_type": "code",
   "execution_count": 23,
   "id": "0fa16a76",
   "metadata": {},
   "outputs": [
    {
     "name": "stdout",
     "output_type": "stream",
     "text": [
      "pod/malicious created\n"
     ]
    }
   ],
   "source": [
    "kubectl exec $POD -- /tmp/kubectl run malicious --image=nginx"
   ]
  },
  {
   "cell_type": "code",
   "execution_count": 24,
   "id": "89da4542",
   "metadata": {},
   "outputs": [
    {
     "name": "stdout",
     "output_type": "stream",
     "text": [
      "NAME                            READY   STATUS    RESTARTS   AGE\n",
      "malicious                       1/1     Running   0          4s\n",
      "nginx-strict-5cdc48cf55-jmjhj   1/1     Running   0          4m45s\n",
      "nginx-strict-5cdc48cf55-rr4kc   1/1     Running   0          4m45s\n",
      "nginx-strict-5cdc48cf55-vz7ds   1/1     Running   0          4m45s\n"
     ]
    }
   ],
   "source": [
    "kubectl get pod"
   ]
  },
  {
   "cell_type": "code",
   "execution_count": 25,
   "id": "19a2f31f",
   "metadata": {},
   "outputs": [
    {
     "name": "stdout",
     "output_type": "stream",
     "text": [
      "pod \"malicious\" deleted\n"
     ]
    }
   ],
   "source": [
    "kubectl exec $POD -- /tmp/kubectl delete pod malicious "
   ]
  },
  {
   "cell_type": "code",
   "execution_count": 26,
   "id": "fc2affdb",
   "metadata": {},
   "outputs": [
    {
     "name": "stdout",
     "output_type": "stream",
     "text": [
      "NAME                                                                   CREATED AT\n",
      "admin                                                                  2022-01-18T09:25:25Z\n",
      "cluster-admin                                                          2022-01-18T09:25:25Z\n",
      "edit                                                                   2022-01-18T09:25:25Z\n",
      "kubeadm:get-nodes                                                      2022-01-18T09:25:27Z\n",
      "kubernetes-dashboard                                                   2022-01-18T12:56:14Z\n",
      "system:aggregate-to-admin                                              2022-01-18T09:25:25Z\n",
      "system:aggregate-to-edit                                               2022-01-18T09:25:25Z\n",
      "system:aggregate-to-view                                               2022-01-18T09:25:25Z\n",
      "system:auth-delegator                                                  2022-01-18T09:25:25Z\n",
      "system:basic-user                                                      2022-01-18T09:25:25Z\n",
      "system:certificates.k8s.io:certificatesigningrequests:nodeclient       2022-01-18T09:25:25Z\n",
      "system:certificates.k8s.io:certificatesigningrequests:selfnodeclient   2022-01-18T09:25:25Z\n",
      "system:certificates.k8s.io:kube-apiserver-client-approver              2022-01-18T09:25:25Z\n",
      "system:certificates.k8s.io:kube-apiserver-client-kubelet-approver      2022-01-18T09:25:25Z\n",
      "system:certificates.k8s.io:kubelet-serving-approver                    2022-01-18T09:25:25Z\n",
      "system:certificates.k8s.io:legacy-unknown-approver                     2022-01-18T09:25:25Z\n",
      "system:controller:attachdetach-controller                              2022-01-18T09:25:25Z\n",
      "system:controller:certificate-controller                               2022-01-18T09:25:25Z\n",
      "system:controller:clusterrole-aggregation-controller                   2022-01-18T09:25:25Z\n",
      "system:controller:cronjob-controller                                   2022-01-18T09:25:25Z\n",
      "system:controller:daemon-set-controller                                2022-01-18T09:25:25Z\n",
      "system:controller:deployment-controller                                2022-01-18T09:25:25Z\n",
      "system:controller:disruption-controller                                2022-01-18T09:25:25Z\n",
      "system:controller:endpoint-controller                                  2022-01-18T09:25:25Z\n",
      "system:controller:endpointslice-controller                             2022-01-18T09:25:25Z\n",
      "system:controller:endpointslicemirroring-controller                    2022-01-18T09:25:25Z\n",
      "system:controller:ephemeral-volume-controller                          2022-01-18T09:25:25Z\n",
      "system:controller:expand-controller                                    2022-01-18T09:25:25Z\n",
      "system:controller:generic-garbage-collector                            2022-01-18T09:25:25Z\n",
      "system:controller:horizontal-pod-autoscaler                            2022-01-18T09:25:25Z\n",
      "system:controller:job-controller                                       2022-01-18T09:25:25Z\n",
      "system:controller:namespace-controller                                 2022-01-18T09:25:25Z\n",
      "system:controller:node-controller                                      2022-01-18T09:25:25Z\n",
      "system:controller:persistent-volume-binder                             2022-01-18T09:25:25Z\n",
      "system:controller:pod-garbage-collector                                2022-01-18T09:25:25Z\n",
      "system:controller:pv-protection-controller                             2022-01-18T09:25:25Z\n",
      "system:controller:pvc-protection-controller                            2022-01-18T09:25:25Z\n",
      "system:controller:replicaset-controller                                2022-01-18T09:25:25Z\n",
      "system:controller:replication-controller                               2022-01-18T09:25:25Z\n",
      "system:controller:resourcequota-controller                             2022-01-18T09:25:25Z\n",
      "system:controller:root-ca-cert-publisher                               2022-01-18T09:25:25Z\n",
      "system:controller:route-controller                                     2022-01-18T09:25:25Z\n",
      "system:controller:service-account-controller                           2022-01-18T09:25:25Z\n",
      "system:controller:service-controller                                   2022-01-18T09:25:25Z\n",
      "system:controller:statefulset-controller                               2022-01-18T09:25:25Z\n",
      "system:controller:ttl-after-finished-controller                        2022-01-18T09:25:25Z\n",
      "system:controller:ttl-controller                                       2022-01-18T09:25:25Z\n",
      "system:coredns                                                         2022-01-18T09:25:27Z\n",
      "system:discovery                                                       2022-01-18T09:25:25Z\n",
      "system:heapster                                                        2022-01-18T09:25:25Z\n",
      "system:kube-aggregator                                                 2022-01-18T09:25:25Z\n",
      "system:kube-controller-manager                                         2022-01-18T09:25:25Z\n",
      "system:kube-dns                                                        2022-01-18T09:25:25Z\n",
      "system:kube-scheduler                                                  2022-01-18T09:25:25Z\n",
      "system:kubelet-api-admin                                               2022-01-18T09:25:25Z\n",
      "system:monitoring                                                      2022-01-18T09:25:25Z\n",
      "system:node                                                            2022-01-18T09:25:25Z\n",
      "system:node-bootstrapper                                               2022-01-18T09:25:25Z\n",
      "system:node-problem-detector                                           2022-01-18T09:25:25Z\n",
      "system:node-proxier                                                    2022-01-18T09:25:25Z\n",
      "system:persistent-volume-provisioner                                   2022-01-18T09:25:25Z\n",
      "system:public-info-viewer                                              2022-01-18T09:25:25Z\n",
      "system:service-account-issuer-discovery                                2022-01-18T09:25:25Z\n",
      "system:volume-scheduler                                                2022-01-18T09:25:25Z\n",
      "view                                                                   2022-01-18T09:25:25Z\n"
     ]
    }
   ],
   "source": [
    "kubectl get clusterroles"
   ]
  },
  {
   "cell_type": "code",
   "execution_count": 27,
   "id": "83cab6a5",
   "metadata": {},
   "outputs": [
    {
     "name": "stdout",
     "output_type": "stream",
     "text": [
      "NAME                                                   ROLE                                                                               AGE\n",
      "cluster-admin                                          ClusterRole/cluster-admin                                                          6h8m\n",
      "cluster-admin-binding                                  ClusterRole/cluster-admin                                                          2m23s\n",
      "kubeadm:get-nodes                                      ClusterRole/kubeadm:get-nodes                                                      6h8m\n",
      "kubeadm:kubelet-bootstrap                              ClusterRole/system:node-bootstrapper                                               6h8m\n",
      "kubeadm:node-autoapprove-bootstrap                     ClusterRole/system:certificates.k8s.io:certificatesigningrequests:nodeclient       6h8m\n",
      "kubeadm:node-autoapprove-certificate-rotation          ClusterRole/system:certificates.k8s.io:certificatesigningrequests:selfnodeclient   6h8m\n",
      "kubeadm:node-proxier                                   ClusterRole/system:node-proxier                                                    6h8m\n",
      "kubernetes-dashboard                                   ClusterRole/cluster-admin                                                          157m\n",
      "minikube-rbac                                          ClusterRole/cluster-admin                                                          6h8m\n",
      "storage-provisioner                                    ClusterRole/system:persistent-volume-provisioner                                   6h8m\n",
      "system:basic-user                                      ClusterRole/system:basic-user                                                      6h8m\n",
      "system:controller:attachdetach-controller              ClusterRole/system:controller:attachdetach-controller                              6h8m\n",
      "system:controller:certificate-controller               ClusterRole/system:controller:certificate-controller                               6h8m\n",
      "system:controller:clusterrole-aggregation-controller   ClusterRole/system:controller:clusterrole-aggregation-controller                   6h8m\n",
      "system:controller:cronjob-controller                   ClusterRole/system:controller:cronjob-controller                                   6h8m\n",
      "system:controller:daemon-set-controller                ClusterRole/system:controller:daemon-set-controller                                6h8m\n",
      "system:controller:deployment-controller                ClusterRole/system:controller:deployment-controller                                6h8m\n",
      "system:controller:disruption-controller                ClusterRole/system:controller:disruption-controller                                6h8m\n",
      "system:controller:endpoint-controller                  ClusterRole/system:controller:endpoint-controller                                  6h8m\n",
      "system:controller:endpointslice-controller             ClusterRole/system:controller:endpointslice-controller                             6h8m\n",
      "system:controller:endpointslicemirroring-controller    ClusterRole/system:controller:endpointslicemirroring-controller                    6h8m\n",
      "system:controller:ephemeral-volume-controller          ClusterRole/system:controller:ephemeral-volume-controller                          6h8m\n",
      "system:controller:expand-controller                    ClusterRole/system:controller:expand-controller                                    6h8m\n",
      "system:controller:generic-garbage-collector            ClusterRole/system:controller:generic-garbage-collector                            6h8m\n",
      "system:controller:horizontal-pod-autoscaler            ClusterRole/system:controller:horizontal-pod-autoscaler                            6h8m\n",
      "system:controller:job-controller                       ClusterRole/system:controller:job-controller                                       6h8m\n",
      "system:controller:namespace-controller                 ClusterRole/system:controller:namespace-controller                                 6h8m\n",
      "system:controller:node-controller                      ClusterRole/system:controller:node-controller                                      6h8m\n",
      "system:controller:persistent-volume-binder             ClusterRole/system:controller:persistent-volume-binder                             6h8m\n",
      "system:controller:pod-garbage-collector                ClusterRole/system:controller:pod-garbage-collector                                6h8m\n",
      "system:controller:pv-protection-controller             ClusterRole/system:controller:pv-protection-controller                             6h8m\n",
      "system:controller:pvc-protection-controller            ClusterRole/system:controller:pvc-protection-controller                            6h8m\n",
      "system:controller:replicaset-controller                ClusterRole/system:controller:replicaset-controller                                6h8m\n",
      "system:controller:replication-controller               ClusterRole/system:controller:replication-controller                               6h8m\n",
      "system:controller:resourcequota-controller             ClusterRole/system:controller:resourcequota-controller                             6h8m\n",
      "system:controller:root-ca-cert-publisher               ClusterRole/system:controller:root-ca-cert-publisher                               6h8m\n",
      "system:controller:route-controller                     ClusterRole/system:controller:route-controller                                     6h8m\n",
      "system:controller:service-account-controller           ClusterRole/system:controller:service-account-controller                           6h8m\n",
      "system:controller:service-controller                   ClusterRole/system:controller:service-controller                                   6h8m\n",
      "system:controller:statefulset-controller               ClusterRole/system:controller:statefulset-controller                               6h8m\n",
      "system:controller:ttl-after-finished-controller        ClusterRole/system:controller:ttl-after-finished-controller                        6h8m\n",
      "system:controller:ttl-controller                       ClusterRole/system:controller:ttl-controller                                       6h8m\n",
      "system:coredns                                         ClusterRole/system:coredns                                                         6h8m\n",
      "system:discovery                                       ClusterRole/system:discovery                                                       6h8m\n",
      "system:kube-controller-manager                         ClusterRole/system:kube-controller-manager                                         6h8m\n",
      "system:kube-dns                                        ClusterRole/system:kube-dns                                                        6h8m\n",
      "system:kube-scheduler                                  ClusterRole/system:kube-scheduler                                                  6h8m\n",
      "system:monitoring                                      ClusterRole/system:monitoring                                                      6h8m\n",
      "system:node                                            ClusterRole/system:node                                                            6h8m\n",
      "system:node-proxier                                    ClusterRole/system:node-proxier                                                    6h8m\n",
      "system:public-info-viewer                              ClusterRole/system:public-info-viewer                                              6h8m\n",
      "system:service-account-issuer-discovery                ClusterRole/system:service-account-issuer-discovery                                6h8m\n",
      "system:volume-scheduler                                ClusterRole/system:volume-scheduler                                                6h8m\n"
     ]
    }
   ],
   "source": [
    "kubectl get clusterrolebindings"
   ]
  },
  {
   "cell_type": "code",
   "execution_count": 28,
   "id": "027654ad",
   "metadata": {},
   "outputs": [
    {
     "name": "stdout",
     "output_type": "stream",
     "text": [
      "apiVersion: rbac.authorization.k8s.io/v1\n",
      "kind: ClusterRoleBinding\n",
      "metadata:\n",
      "  creationTimestamp: \"2022-01-18T15:31:19Z\"\n",
      "  name: cluster-admin-binding\n",
      "  resourceVersion: \"16471\"\n",
      "  uid: 5ccdeeee-81af-41cc-b7bb-ad959931d65d\n",
      "roleRef:\n",
      "  apiGroup: rbac.authorization.k8s.io\n",
      "  kind: ClusterRole\n",
      "  name: cluster-admin\n",
      "subjects:\n",
      "- kind: ServiceAccount\n",
      "  name: default\n",
      "  namespace: default\n"
     ]
    }
   ],
   "source": [
    "kubectl get clusterrolebindings cluster-admin-binding  -o yaml"
   ]
  },
  {
   "cell_type": "code",
   "execution_count": 29,
   "id": "e4e15054",
   "metadata": {},
   "outputs": [
    {
     "name": "stdout",
     "output_type": "stream",
     "text": [
      "system:masters \u001b[01;31m\u001b[Kdefault\u001b[m\u001b[K system:bootstrappers:kubeadm:\u001b[01;31m\u001b[Kdefault\u001b[m\u001b[K-node-token system:bootstrappers:kubeadm:\u001b[01;31m\u001b[Kdefault\u001b[m\u001b[K-node-token system:bootstrappers:kubeadm:\u001b[01;31m\u001b[Kdefault\u001b[m\u001b[K-node-token system:nodes kube-proxy kubernetes-dashboard \u001b[01;31m\u001b[Kdefault\u001b[m\u001b[K storage-provisioner system:authenticated attachdetach-controller certificate-controller clusterrole-aggregation-controller cronjob-controller daemon-set-controller deployment-controller disruption-controller endpoint-controller endpointslice-controller endpointslicemirroring-controller ephemeral-volume-controller expand-controller generic-garbage-collector horizontal-pod-autoscaler job-controller namespace-controller node-controller persistent-volume-binder pod-garbage-collector pv-protection-controller pvc-protection-controller replicaset-controller replication-controller resourcequota-controller root-ca-cert-publisher route-controller service-account-controller service-controller statefulset-controller ttl-after-finished-controller ttl-controller coredns system:authenticated system:kube-controller-manager kube-dns system:kube-scheduler system:monitoring system:kube-proxy system:authenticated system:unauthenticated system:serviceaccounts system:kube-scheduler\n"
     ]
    }
   ],
   "source": [
    "kubectl get clusterrolebindings -o jsonpath='{.items[*].subjects[*].name}' | grep --color=always default"
   ]
  },
  {
   "cell_type": "code",
   "execution_count": 30,
   "id": "4d8ea12c",
   "metadata": {},
   "outputs": [
    {
     "name": "stdout",
     "output_type": "stream",
     "text": [
      "\u001b[01;31m\u001b[Kcluster-admin\u001b[m\u001b[K:\t\u001b[01;31m\u001b[Kcluster-admin\u001b[m\u001b[K --> :system:masters\n",
      "\u001b[01;31m\u001b[Kcluster-admin\u001b[m\u001b[K-binding:\t\u001b[01;31m\u001b[Kcluster-admin\u001b[m\u001b[K --> \u001b[01;31m\u001b[Kdefault\u001b[m\u001b[K:\u001b[01;31m\u001b[Kdefault\u001b[m\u001b[K\n",
      "kubeadm:get-nodes:\tkubeadm:get-nodes --> :system:bootstrappers:kubeadm:\u001b[01;31m\u001b[Kdefault\u001b[m\u001b[K-node-token\n",
      "kubeadm:kubelet-bootstrap:\tsystem:node-bootstrapper --> :system:bootstrappers:kubeadm:\u001b[01;31m\u001b[Kdefault\u001b[m\u001b[K-node-token\n",
      "kubeadm:node-autoapprove-bootstrap:\tsystem:certificates.k8s.io:certificatesigningrequests:nodeclient --> :system:bootstrappers:kubeadm:\u001b[01;31m\u001b[Kdefault\u001b[m\u001b[K-node-token\n",
      "kubeadm:node-autoapprove-certificate-rotation:\tsystem:certificates.k8s.io:certificatesigningrequests:selfnodeclient --> :system:nodes\n",
      "kubeadm:node-proxier:\tsystem:node-proxier --> kube-system:kube-proxy\n",
      "kubernetes-dashboard:\t\u001b[01;31m\u001b[Kcluster-admin\u001b[m\u001b[K --> kubernetes-dashboard:kubernetes-dashboard\n",
      "minikube-rbac:\t\u001b[01;31m\u001b[Kcluster-admin\u001b[m\u001b[K --> kube-system:\u001b[01;31m\u001b[Kdefault\u001b[m\u001b[K\n",
      "storage-provisioner:\tsystem:persistent-volume-provisioner --> kube-system:storage-provisioner\n",
      "system:basic-user:\tsystem:basic-user --> :system:authenticated\n",
      "system:controller:attachdetach-controller:\tsystem:controller:attachdetach-controller --> kube-system:attachdetach-controller\n",
      "system:controller:certificate-controller:\tsystem:controller:certificate-controller --> kube-system:certificate-controller\n",
      "system:controller:clusterrole-aggregation-controller:\tsystem:controller:clusterrole-aggregation-controller --> kube-system:clusterrole-aggregation-controller\n",
      "system:controller:cronjob-controller:\tsystem:controller:cronjob-controller --> kube-system:cronjob-controller\n",
      "system:controller:daemon-set-controller:\tsystem:controller:daemon-set-controller --> kube-system:daemon-set-controller\n",
      "system:controller:deployment-controller:\tsystem:controller:deployment-controller --> kube-system:deployment-controller\n",
      "system:controller:disruption-controller:\tsystem:controller:disruption-controller --> kube-system:disruption-controller\n",
      "system:controller:endpoint-controller:\tsystem:controller:endpoint-controller --> kube-system:endpoint-controller\n",
      "system:controller:endpointslice-controller:\tsystem:controller:endpointslice-controller --> kube-system:endpointslice-controller\n",
      "system:controller:endpointslicemirroring-controller:\tsystem:controller:endpointslicemirroring-controller --> kube-system:endpointslicemirroring-controller\n",
      "system:controller:ephemeral-volume-controller:\tsystem:controller:ephemeral-volume-controller --> kube-system:ephemeral-volume-controller\n",
      "system:controller:expand-controller:\tsystem:controller:expand-controller --> kube-system:expand-controller\n",
      "system:controller:generic-garbage-collector:\tsystem:controller:generic-garbage-collector --> kube-system:generic-garbage-collector\n",
      "system:controller:horizontal-pod-autoscaler:\tsystem:controller:horizontal-pod-autoscaler --> kube-system:horizontal-pod-autoscaler\n",
      "system:controller:job-controller:\tsystem:controller:job-controller --> kube-system:job-controller\n",
      "system:controller:namespace-controller:\tsystem:controller:namespace-controller --> kube-system:namespace-controller\n",
      "system:controller:node-controller:\tsystem:controller:node-controller --> kube-system:node-controller\n",
      "system:controller:persistent-volume-binder:\tsystem:controller:persistent-volume-binder --> kube-system:persistent-volume-binder\n",
      "system:controller:pod-garbage-collector:\tsystem:controller:pod-garbage-collector --> kube-system:pod-garbage-collector\n",
      "system:controller:pv-protection-controller:\tsystem:controller:pv-protection-controller --> kube-system:pv-protection-controller\n",
      "system:controller:pvc-protection-controller:\tsystem:controller:pvc-protection-controller --> kube-system:pvc-protection-controller\n",
      "system:controller:replicaset-controller:\tsystem:controller:replicaset-controller --> kube-system:replicaset-controller\n",
      "system:controller:replication-controller:\tsystem:controller:replication-controller --> kube-system:replication-controller\n",
      "system:controller:resourcequota-controller:\tsystem:controller:resourcequota-controller --> kube-system:resourcequota-controller\n",
      "system:controller:root-ca-cert-publisher:\tsystem:controller:root-ca-cert-publisher --> kube-system:root-ca-cert-publisher\n",
      "system:controller:route-controller:\tsystem:controller:route-controller --> kube-system:route-controller\n",
      "system:controller:service-account-controller:\tsystem:controller:service-account-controller --> kube-system:service-account-controller\n",
      "system:controller:service-controller:\tsystem:controller:service-controller --> kube-system:service-controller\n",
      "system:controller:statefulset-controller:\tsystem:controller:statefulset-controller --> kube-system:statefulset-controller\n",
      "system:controller:ttl-after-finished-controller:\tsystem:controller:ttl-after-finished-controller --> kube-system:ttl-after-finished-controller\n",
      "system:controller:ttl-controller:\tsystem:controller:ttl-controller --> kube-system:ttl-controller\n",
      "system:coredns:\tsystem:coredns --> kube-system:coredns\n",
      "system:discovery:\tsystem:discovery --> :system:authenticated\n",
      "system:kube-controller-manager:\tsystem:kube-controller-manager --> :system:kube-controller-manager\n",
      "system:kube-dns:\tsystem:kube-dns --> kube-system:kube-dns\n",
      "system:kube-scheduler:\tsystem:kube-scheduler --> :system:kube-scheduler\n",
      "system:monitoring:\tsystem:monitoring --> :system:monitoring\n",
      "system:node:\tsystem:node --> \n",
      "system:node-proxier:\tsystem:node-proxier --> :system:kube-proxy\n",
      "system:public-info-viewer:\tsystem:public-info-viewer --> :system:authenticated:system:unauthenticated\n",
      "system:service-account-issuer-discovery:\tsystem:service-account-issuer-discovery --> :system:serviceaccounts\n",
      "system:volume-scheduler:\tsystem:volume-scheduler --> :system:kube-scheduler\n"
     ]
    }
   ],
   "source": [
    "kubectl get clusterrolebindings -o jsonpath='{range .items[*]}{.metadata.name}{\":\\t\"}{.roleRef.name}{\" --> \"}{ range.subjects[*]}{.namespace}{\":\"}{.name}{end}{\"\\n\"}{end}' | grep --color=always -E '$|default|cluster-admin'"
   ]
  },
  {
   "cell_type": "code",
   "execution_count": 31,
   "id": "01873716",
   "metadata": {},
   "outputs": [
    {
     "name": "stdout",
     "output_type": "stream",
     "text": [
      "kube-public:kubeadm:bootstrap-signer-clusterinfo:\tkubeadm:bootstrap-signer-clusterinfo --> :system:anonymous\n",
      "kube-public:system:controller:bootstrap-signer:\tsystem:controller:bootstrap-signer --> kube-system:bootstrap-signer\n",
      "kube-system:kube-proxy:\tkube-proxy --> :system:bootstrappers:kubeadm:\u001b[01;31m\u001b[Kdefault\u001b[m\u001b[K-node-token\n",
      "kube-system:kubeadm:kubelet-config-1.22:\tkubeadm:kubelet-config-1.22 --> :system:nodes:system:bootstrappers:kubeadm:\u001b[01;31m\u001b[Kdefault\u001b[m\u001b[K-node-token\n",
      "kube-system:kubeadm:nodes-kubeadm-config:\tkubeadm:nodes-kubeadm-config --> :system:bootstrappers:kubeadm:\u001b[01;31m\u001b[Kdefault\u001b[m\u001b[K-node-token:system:nodes\n",
      "kube-system:system::extension-apiserver-authentication-reader:\textension-apiserver-authentication-reader --> :system:kube-controller-manager:system:kube-scheduler\n",
      "kube-system:system::leader-locking-kube-controller-manager:\tsystem::leader-locking-kube-controller-manager --> :system:kube-controller-managerkube-system:kube-controller-manager\n",
      "kube-system:system::leader-locking-kube-scheduler:\tsystem::leader-locking-kube-scheduler --> :system:kube-schedulerkube-system:kube-scheduler\n",
      "kube-system:system:controller:bootstrap-signer:\tsystem:controller:bootstrap-signer --> kube-system:bootstrap-signer\n",
      "kube-system:system:controller:cloud-provider:\tsystem:controller:cloud-provider --> kube-system:cloud-provider\n",
      "kube-system:system:controller:token-cleaner:\tsystem:controller:token-cleaner --> kube-system:token-cleaner\n",
      "kube-system:system:persistent-volume-provisioner:\tsystem:persistent-volume-provisioner --> kube-system:storage-provisioner\n",
      "kubernetes-dashboard:kubernetes-dashboard:\tkubernetes-dashboard --> kubernetes-dashboard:kubernetes-dashboard\n"
     ]
    }
   ],
   "source": [
    "kubectl get rolebindings -A -o jsonpath='{range .items[*]}{.metadata.namespace}{\":\"}{.metadata.name}{\":\\t\"}{.roleRef.name}{\" --> \"}{ range.subjects[*]}{.namespace}{\":\"}{.name}{end}{\"\\n\"}{end}' | grep --color=always -E '$|default|cluster-admin'"
   ]
  },
  {
   "cell_type": "markdown",
   "id": "d12bb105",
   "metadata": {
    "tags": []
   },
   "source": [
    "[removing the serviceaccount token from the container](ServiceAccountToken.ipynb)\n",
    "\n",
    "[Endless Discussion](https://github.com/kubernetes/kubernetes/issues/57601#issuecomment-353824159)"
   ]
  },
  {
   "cell_type": "markdown",
   "id": "903034b6-2648-448a-943c-25c1879b82fc",
   "metadata": {},
   "source": [
    "# Cleanup"
   ]
  },
  {
   "cell_type": "code",
   "execution_count": 34,
   "id": "af5df104",
   "metadata": {},
   "outputs": [
    {
     "name": "stdout",
     "output_type": "stream",
     "text": [
      "Error from server (NotFound): clusterrolebindings.rbac.authorization.k8s.io \"cluster-admin-binding\" not found\n"
     ]
    },
    {
     "ename": "",
     "evalue": "1",
     "output_type": "error",
     "traceback": []
    }
   ],
   "source": [
    "kubectl delete clusterrolebinding cluster-admin-binding"
   ]
  },
  {
   "cell_type": "code",
   "execution_count": null,
   "id": "22bc8dfb-04db-4892-9594-1c0d770bd89e",
   "metadata": {},
   "outputs": [],
   "source": []
  }
 ],
 "metadata": {
  "kernelspec": {
   "display_name": "Bash",
   "language": "bash",
   "name": "bash"
  },
  "language_info": {
   "codemirror_mode": "shell",
   "file_extension": ".sh",
   "mimetype": "text/x-sh",
   "name": "bash"
  }
 },
 "nbformat": 4,
 "nbformat_minor": 5
}
