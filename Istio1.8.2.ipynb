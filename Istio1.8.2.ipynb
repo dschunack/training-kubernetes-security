{
 "cells": [
  {
   "cell_type": "markdown",
   "metadata": {},
   "source": [
    "**This notebook covered by the following [license](License.ipynb)  This note must not be removed**"
   ]
  },
  {
   "cell_type": "markdown",
   "metadata": {},
   "source": [
    "<div>\n",
    "<img src=\"https://istio.io/img/logo.png\" width=20% />\n",
    "</div>\n",
    "     \n",
    "# Istio"
   ]
  },
  {
   "cell_type": "code",
   "execution_count": 4,
   "metadata": {},
   "outputs": [],
   "source": [
    "ISTIO_VERSION=1.12.2"
   ]
  },
  {
   "cell_type": "code",
   "execution_count": 2,
   "metadata": {},
   "outputs": [
    {
     "name": "stdout",
     "output_type": "stream",
     "text": [
      "  % Total    % Received % Xferd  Average Speed   Time    Time     Time  Current\n",
      "                                 Dload  Upload   Total   Spent    Left  Speed\n",
      "  0     0    0     0    0     0      0      0 --:--:-- --:--:-- --:--:--     0\n",
      "100  4549  100  4549    0     0   7531      0 --:--:-- --:--:-- --:--:--  7531\n",
      "\n",
      "Downloading istio-1.12.2 from https://github.com/istio/istio/releases/download/1.12.2/istio-1.12.2-linux-amd64.tar.gz ...\n",
      "\n",
      "Istio 1.12.2 Download Complete!\n",
      "\n",
      "Istio has been successfully downloaded into the istio-1.12.2 folder on your system.\n",
      "\n",
      "Next Steps:\n",
      "See https://istio.io/latest/docs/setup/install/ to add Istio to your Kubernetes cluster.\n",
      "\n",
      "To configure the istioctl client tool for your workstation,\n",
      "add the /minikube-host/notebooks/training-kubernetes-security/istio-1.12.2/bin directory to your environment path variable with:\n",
      "\t export PATH=\"$PATH:/minikube-host/notebooks/training-kubernetes-security/istio-1.12.2/bin\"\n",
      "\n",
      "Begin the Istio pre-installation check by running:\n",
      "\t istioctl x precheck \n",
      "\n",
      "Need more information? Visit https://istio.io/latest/docs/setup/install/ \n"
     ]
    }
   ],
   "source": [
    "curl -L https://git.io/getLatestIstio | sh -"
   ]
  },
  {
   "cell_type": "code",
   "execution_count": 5,
   "metadata": {},
   "outputs": [],
   "source": [
    "cd istio-$ISTIO_VERSION"
   ]
  },
  {
   "cell_type": "code",
   "execution_count": 6,
   "metadata": {},
   "outputs": [
    {
     "name": "stdout",
     "output_type": "stream",
     "text": [
      "/minikube-host/notebooks/training-kubernetes-security/istio-1.12.2\n"
     ]
    }
   ],
   "source": [
    "pwd"
   ]
  },
  {
   "cell_type": "code",
   "execution_count": 7,
   "metadata": {},
   "outputs": [],
   "source": [
    "export PATH=$PWD/bin:$PATH"
   ]
  },
  {
   "cell_type": "code",
   "execution_count": 8,
   "metadata": {},
   "outputs": [
    {
     "name": "stdout",
     "output_type": "stream",
     "text": [
      "no running Istio pods in \"istio-system\"\n",
      "1.12.2\n"
     ]
    }
   ],
   "source": [
    "istioctl version"
   ]
  },
  {
   "cell_type": "code",
   "execution_count": 9,
   "metadata": {},
   "outputs": [
    {
     "name": "stdout",
     "output_type": "stream",
     "text": [
      "NAME              STATUS   AGE\n",
      "default           Active   7m49s\n",
      "kube-node-lease   Active   7m51s\n",
      "kube-public       Active   7m51s\n",
      "kube-system       Active   7m51s\n"
     ]
    }
   ],
   "source": [
    "kubectl get namespaces"
   ]
  },
  {
   "cell_type": "code",
   "execution_count": 10,
   "metadata": {},
   "outputs": [
    {
     "name": "stdout",
     "output_type": "stream",
     "text": [
      "namespace/istio-system created\n"
     ]
    }
   ],
   "source": [
    "kubectl create namespace istio-system"
   ]
  },
  {
   "cell_type": "code",
   "execution_count": 11,
   "metadata": {},
   "outputs": [
    {
     "name": "stdout",
     "output_type": "stream",
     "text": [
      "\u001b[32m✔\u001b[0m Istio core installed                                                          \n",
      "\u001b[32m✔\u001b[0m Istiod installed                                                              \n",
      "\u001b[32m✔\u001b[0m Ingress gateways installed                                                    \n",
      "\u001b[32m✔\u001b[0m Egress gateways installed                                                     \n",
      "\u001b[32m✔\u001b[0m Installation complete                                                         Making this installation the default for injection and validation.\n",
      "\n",
      "Thank you for installing Istio 1.12.  Please take a few minutes to tell us about your install/upgrade experience!  https://forms.gle/FegQbc9UvePd4Z9z7\n"
     ]
    }
   ],
   "source": [
    "istioctl install --set profile=demo -y"
   ]
  },
  {
   "cell_type": "code",
   "execution_count": 14,
   "metadata": {},
   "outputs": [
    {
     "name": "stdout",
     "output_type": "stream",
     "text": [
      "NAME                                        READY   STATUS    RESTARTS   AGE\n",
      "pod/istio-egressgateway-c9cbbd99f-rzckb     1/1     Running   0          13m\n",
      "pod/istio-ingressgateway-7c8bc47b49-mq4d8   1/1     Running   0          13m\n",
      "pod/istiod-765596f7ff-m9f8l                 1/1     Running   0          13m\n",
      "\n",
      "NAME                           TYPE           CLUSTER-IP       EXTERNAL-IP     PORT(S)                                                                      AGE\n",
      "service/istio-egressgateway    ClusterIP      10.102.94.47     <none>          80/TCP,443/TCP                                                               13m\n",
      "service/istio-ingressgateway   LoadBalancer   10.109.214.73    10.109.214.73   15021:30128/TCP,80:30844/TCP,443:31783/TCP,31400:31611/TCP,15443:31020/TCP   13m\n",
      "service/istiod                 ClusterIP      10.102.206.115   <none>          15010/TCP,15012/TCP,443/TCP,15014/TCP                                        13m\n",
      "\n",
      "NAME                                   READY   UP-TO-DATE   AVAILABLE   AGE\n",
      "deployment.apps/istio-egressgateway    1/1     1            1           13m\n",
      "deployment.apps/istio-ingressgateway   1/1     1            1           13m\n",
      "deployment.apps/istiod                 1/1     1            1           13m\n",
      "\n",
      "NAME                                              DESIRED   CURRENT   READY   AGE\n",
      "replicaset.apps/istio-egressgateway-c9cbbd99f     1         1         1       13m\n",
      "replicaset.apps/istio-ingressgateway-7c8bc47b49   1         1         1       13m\n",
      "replicaset.apps/istiod-765596f7ff                 1         1         1       13m\n"
     ]
    }
   ],
   "source": [
    "kubectl get all -n istio-system"
   ]
  },
  {
   "cell_type": "code",
   "execution_count": null,
   "metadata": {},
   "outputs": [],
   "source": []
  }
 ],
 "metadata": {
  "kernelspec": {
   "display_name": "Bash",
   "language": "bash",
   "name": "bash"
  },
  "language_info": {
   "codemirror_mode": "shell",
   "file_extension": ".sh",
   "mimetype": "text/x-sh",
   "name": "bash"
  }
 },
 "nbformat": 4,
 "nbformat_minor": 4
}
