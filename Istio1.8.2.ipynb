{
 "cells": [
  {
   "cell_type": "markdown",
   "metadata": {},
   "source": [
    "**This notebook covered by the following [license](License.ipynb)  This note must not be removed**"
   ]
  },
  {
   "cell_type": "markdown",
   "metadata": {},
   "source": [
    "<div>\n",
    "<img src=\"https://istio.io/img/logo.png\" width=20% />\n",
    "</div>\n",
    "     \n",
    "# Istio"
   ]
  },
  {
   "cell_type": "code",
   "execution_count": 3,
   "metadata": {},
   "outputs": [],
   "source": [
    "ISTIO_VERSION=1.13.2"
   ]
  },
  {
   "cell_type": "code",
   "execution_count": 2,
   "metadata": {},
   "outputs": [
    {
     "name": "stdout",
     "output_type": "stream",
     "text": [
      "  % Total    % Received % Xferd  Average Speed   Time    Time     Time  Current\n",
      "                                 Dload  Upload   Total   Spent    Left  Speed\n",
      "  0     0    0     0    0     0      0      0 --:--:-- --:--:-- --:--:--     0\n",
      "100  4926  100  4926    0     0   9088      0 --:--:-- --:--:-- --:--:--  9088\n",
      "\n",
      "Downloading istio-1.13.2 from https://github.com/istio/istio/releases/download/1.13.2/istio-1.13.2-linux-amd64.tar.gz ...\n",
      "\n",
      "Istio 1.13.2 Download Complete!\n",
      "\n",
      "Istio has been successfully downloaded into the istio-1.13.2 folder on your system.\n",
      "\n",
      "Next Steps:\n",
      "See https://istio.io/latest/docs/setup/install/ to add Istio to your Kubernetes cluster.\n",
      "\n",
      "To configure the istioctl client tool for your workstation,\n",
      "add the /minikube-host/notebooks/training-kubernetes-security/istio-1.13.2/bin directory to your environment path variable with:\n",
      "\t export PATH=\"$PATH:/minikube-host/notebooks/training-kubernetes-security/istio-1.13.2/bin\"\n",
      "\n",
      "Begin the Istio pre-installation check by running:\n",
      "\t istioctl x precheck \n",
      "\n",
      "Need more information? Visit https://istio.io/latest/docs/setup/install/ \n"
     ]
    }
   ],
   "source": [
    "curl -L https://git.io/getLatestIstio | sh -"
   ]
  },
  {
   "cell_type": "code",
   "execution_count": 4,
   "metadata": {},
   "outputs": [],
   "source": [
    "cd istio-$ISTIO_VERSION"
   ]
  },
  {
   "cell_type": "code",
   "execution_count": 5,
   "metadata": {},
   "outputs": [
    {
     "name": "stdout",
     "output_type": "stream",
     "text": [
      "/minikube-host/notebooks/training-kubernetes-security/istio-1.13.2\n"
     ]
    }
   ],
   "source": [
    "pwd"
   ]
  },
  {
   "cell_type": "code",
   "execution_count": 6,
   "metadata": {},
   "outputs": [],
   "source": [
    "export PATH=$PWD/bin:$PATH"
   ]
  },
  {
   "cell_type": "code",
   "execution_count": 7,
   "metadata": {},
   "outputs": [
    {
     "name": "stdout",
     "output_type": "stream",
     "text": [
      "no running Istio pods in \"istio-system\"\n",
      "1.13.2\n"
     ]
    }
   ],
   "source": [
    "istioctl version"
   ]
  },
  {
   "cell_type": "code",
   "execution_count": 8,
   "metadata": {},
   "outputs": [
    {
     "name": "stdout",
     "output_type": "stream",
     "text": [
      "NAME              STATUS   AGE\n",
      "default           Active   3h44m\n",
      "ingress-nginx     Active   130m\n",
      "kube-node-lease   Active   3h44m\n",
      "kube-public       Active   3h44m\n",
      "kube-system       Active   3h44m\n"
     ]
    }
   ],
   "source": [
    "kubectl get namespaces"
   ]
  },
  {
   "cell_type": "code",
   "execution_count": 9,
   "metadata": {},
   "outputs": [
    {
     "name": "stdout",
     "output_type": "stream",
     "text": [
      "namespace/istio-system created\n"
     ]
    }
   ],
   "source": [
    "kubectl create namespace istio-system"
   ]
  },
  {
   "cell_type": "code",
   "execution_count": 10,
   "metadata": {},
   "outputs": [
    {
     "name": "stdout",
     "output_type": "stream",
     "text": [
      "\u001b[32m✔\u001b[0m Istio core installed                                                          \n",
      "\u001b[32m✔\u001b[0m Istiod installed                                                              \n",
      "\u001b[32m✔\u001b[0m Egress gateways installed                                                     \n",
      "\u001b[32m✔\u001b[0m Ingress gateways installed                                                    \n",
      "\u001b[32m✔\u001b[0m Installation complete                                                         Making this installation the default for injection and validation.\n",
      "\n",
      "Thank you for installing Istio 1.13.  Please take a few minutes to tell us about your install/upgrade experience!  https://forms.gle/pzWZpAvMVBecaQ9h9\n"
     ]
    }
   ],
   "source": [
    "istioctl install --set profile=demo -y"
   ]
  },
  {
   "cell_type": "code",
   "execution_count": 11,
   "metadata": {},
   "outputs": [
    {
     "name": "stdout",
     "output_type": "stream",
     "text": [
      "NAME                                        READY   STATUS    RESTARTS   AGE\n",
      "pod/istio-egressgateway-66fdd867f4-fqcsp    1/1     Running   0          23s\n",
      "pod/istio-ingressgateway-77968dbd74-nlkqf   1/1     Running   0          23s\n",
      "pod/istiod-699b647f8b-ktvqq                 1/1     Running   0          36s\n",
      "\n",
      "NAME                           TYPE           CLUSTER-IP      EXTERNAL-IP     PORT(S)                                                                      AGE\n",
      "service/istio-egressgateway    ClusterIP      10.106.93.246   <none>          80/TCP,443/TCP                                                               23s\n",
      "service/istio-ingressgateway   LoadBalancer   10.108.149.68   10.108.149.68   15021:30225/TCP,80:31121/TCP,443:31089/TCP,31400:32462/TCP,15443:32375/TCP   23s\n",
      "service/istiod                 ClusterIP      10.108.6.25     <none>          15010/TCP,15012/TCP,443/TCP,15014/TCP                                        36s\n",
      "\n",
      "NAME                                   READY   UP-TO-DATE   AVAILABLE   AGE\n",
      "deployment.apps/istio-egressgateway    1/1     1            1           24s\n",
      "deployment.apps/istio-ingressgateway   1/1     1            1           24s\n",
      "deployment.apps/istiod                 1/1     1            1           36s\n",
      "\n",
      "NAME                                              DESIRED   CURRENT   READY   AGE\n",
      "replicaset.apps/istio-egressgateway-66fdd867f4    1         1         1       24s\n",
      "replicaset.apps/istio-ingressgateway-77968dbd74   1         1         1       24s\n",
      "replicaset.apps/istiod-699b647f8b                 1         1         1       36s\n"
     ]
    }
   ],
   "source": [
    "kubectl get all -n istio-system"
   ]
  },
  {
   "cell_type": "code",
   "execution_count": null,
   "metadata": {},
   "outputs": [],
   "source": []
  }
 ],
 "metadata": {
  "kernelspec": {
   "display_name": "Bash",
   "language": "bash",
   "name": "bash"
  },
  "language_info": {
   "codemirror_mode": "shell",
   "file_extension": ".sh",
   "mimetype": "text/x-sh",
   "name": "bash"
  }
 },
 "nbformat": 4,
 "nbformat_minor": 4
}
